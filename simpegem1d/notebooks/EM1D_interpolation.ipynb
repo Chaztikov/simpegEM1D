{
 "metadata": {
  "name": ""
 },
 "nbformat": 3,
 "nbformat_minor": 0,
 "worksheets": [
  {
   "cells": [
    {
     "cell_type": "code",
     "collapsed": false,
     "input": [
      "from SimPEG import *\n",
      "from simpegem1d import EM1D, EM1DAnal, Kernels, RTEfun, DigFilter, BaseEM1D\n",
      "%pylab inline"
     ],
     "language": "python",
     "metadata": {},
     "outputs": [
      {
       "output_type": "stream",
       "stream": "stdout",
       "text": [
        "Populating the interactive namespace from numpy and matplotlib\n"
       ]
      }
     ],
     "prompt_number": 3
    },
    {
     "cell_type": "code",
     "collapsed": false,
     "input": [
      "TDsurvey = BaseEM1D.EM1DSurveyTD()\n",
      "TDsurvey.rxLoc = np.array([0., 0., 100.+30.])\n",
      "TDsurvey.txLoc = np.array([0., 0., 100.+80.])\n",
      "TDsurvey.fieldtype = 'secondary'\n",
      "TDsurvey.waveType = 'stepoff'\n",
      "TDsurvey.txType = 'VMD'\n",
      "TDsurvey.offset = 1e-5\n",
      "cs = 10.\n",
      "nearthick = np.logspace(-1, 1, 3)\n",
      "linthick = np.ones(10)*cs\n",
      "deepthick = np.logspace(1, 2, 3)\n",
      "hx = np.r_[nearthick, linthick, deepthick, deepthick[-1]]\n",
      "mesh1D = Mesh.TensorMesh([hx], [0.])\n",
      "depth = -mesh1D.gridN[:-1]\n",
      "LocSigZ = -mesh1D.gridCC\n",
      "nlay = depth.size\n",
      "topo = np.r_[0., 0., 100.]\n",
      "TDsurvey.depth = depth\n",
      "TDsurvey.topo = topo\n",
      "TDsurvey.LocSigZ = LocSigZ\n",
      "TDsurvey.time = np.logspace(-5, -2.5, 64)\n",
      "TDsurvey.setFrequency(TDsurvey.time)\n",
      "TDsurvey.Setup1Dsystem()\n",
      "sig_half = 1e-3\n",
      "sig_blk = 1e-2\n",
      "chi_half = 0.\n",
      "Logmodel = BaseEM1D.BaseEM1DModel(mesh1D)\n",
      "model = Model.ComboModel(mesh1D, [Logmodel])"
     ],
     "language": "python",
     "metadata": {},
     "outputs": [],
     "prompt_number": 4
    },
    {
     "cell_type": "code",
     "collapsed": false,
     "input": [
      "sig  = np.ones(nlay)*sig_half\n",
      "blk_ind = (-30>LocSigZ) & (-70<LocSigZ)\n",
      "sig[blk_ind] = sig_blk"
     ],
     "language": "python",
     "metadata": {},
     "outputs": [],
     "prompt_number": 5
    },
    {
     "cell_type": "code",
     "collapsed": false,
     "input": [
      "fig, ax = subplots(1,1, figsize=(5, 8))\n",
      "ax.plot(sig, LocSigZ,  'b.-')\n",
      "ax.grid(color='k', alpha=0.5, linestyle='dashed', linewidth=0.5)\n",
      "ax.set_xscale('log')\n",
      "ax.set_xlim(1e-5, 1e1)"
     ],
     "language": "python",
     "metadata": {},
     "outputs": [
      {
       "metadata": {},
       "output_type": "pyout",
       "prompt_number": 6,
       "text": [
        "(1e-05, 10.0)"
       ]
      },
      {
       "metadata": {},
       "output_type": "display_data",
       "png": "[encoded data removed]",
       "text": [
        "<matplotlib.figure.Figure at 0x397fad0>"
       ]
      }
     ],
     "prompt_number": 6
    },
    {
     "cell_type": "code",
     "collapsed": false,
     "input": [
      "WT0, WT1, YBASE = DigFilter.LoadWeights()\n",
      "options = {'WT0': WT0, 'WT1': WT1, 'YBASE': YBASE}\n",
      "prob = EM1D.EM1D(model, **options)\n",
      "if prob.ispaired:\n",
      "    prob.unpair()\n",
      "if TDsurvey.ispaired:\n",
      "    TDsurvey.unpair()\n",
      "prob.pair(TDsurvey)\n",
      "prob.CondType = 'Real'\n",
      "prob.chi = np.zeros(TDsurvey.nlay)"
     ],
     "language": "python",
     "metadata": {},
     "outputs": [],
     "prompt_number": 7
    },
    {
     "cell_type": "code",
     "collapsed": false,
     "input": [
      "TDsurvey.rxType = 'Bz'"
     ],
     "language": "python",
     "metadata": {},
     "outputs": [],
     "prompt_number": 8
    },
    {
     "cell_type": "code",
     "collapsed": false,
     "input": [
      "%%time\n",
      "m_test = np.log(sig)\n",
      "d_test1 = TDsurvey.dpred(m_test)"
     ],
     "language": "python",
     "metadata": {},
     "outputs": [
      {
       "output_type": "stream",
       "stream": "stdout",
       "text": [
        "CPU times: user 7.43 s, sys: 0 ns, total: 7.43 s\n",
        "Wall time: 7.43 s\n"
       ]
      }
     ],
     "prompt_number": 9
    },
    {
     "cell_type": "code",
     "collapsed": false,
     "input": [
      "%%time\n",
      "TDsurvey.switchInterp = True\n",
      "TDsurvey.setFrequency(TDsurvey.time)\n",
      "d_test2 = TDsurvey.dpred(m_test)"
     ],
     "language": "python",
     "metadata": {},
     "outputs": [
      {
       "output_type": "stream",
       "stream": "stdout",
       "text": [
        "CPU times: user 663 ms, sys: 0 ns, total: 663 ms\n",
        "Wall time: 662 ms\n"
       ]
      }
     ],
     "prompt_number": 10
    },
    {
     "cell_type": "code",
     "collapsed": false,
     "input": [
      "TDsurvey.rxType = 'dBzdt'"
     ],
     "language": "python",
     "metadata": {},
     "outputs": [],
     "prompt_number": 11
    },
    {
     "cell_type": "code",
     "collapsed": false,
     "input": [
      "%%time\n",
      "TDsurvey.switchInterp = False\n",
      "TDsurvey.setFrequency(TDsurvey.time)\n",
      "m_test = np.log(sig)\n",
      "dt_test1 = TDsurvey.dpred(m_test)"
     ],
     "language": "python",
     "metadata": {},
     "outputs": [
      {
       "output_type": "stream",
       "stream": "stdout",
       "text": [
        "CPU times: user 6.57 s, sys: 0 ns, total: 6.57 s\n",
        "Wall time: 6.57 s\n"
       ]
      }
     ],
     "prompt_number": 12
    },
    {
     "cell_type": "code",
     "collapsed": false,
     "input": [
      "%%time\n",
      "TDsurvey.switchInterp = True\n",
      "TDsurvey.setFrequency(TDsurvey.time)\n",
      "dt_test2 = TDsurvey.dpred(m_test)"
     ],
     "language": "python",
     "metadata": {},
     "outputs": [
      {
       "output_type": "stream",
       "stream": "stdout",
       "text": [
        "CPU times: user 666 ms, sys: 0 ns, total: 666 ms\n",
        "Wall time: 666 ms\n"
       ]
      }
     ],
     "prompt_number": 13
    },
    {
     "cell_type": "code",
     "collapsed": false,
     "input": [
      "fig, axes = subplots(1,2, figsize = (12,5))\n",
      "axes[0].plot(TDsurvey.time, d_test1, 'b.-')\n",
      "axes[0].plot(TDsurvey.time[::2], d_test2[::2], 'ro')\n",
      "axes[0].set_xscale('log');\n",
      "axes[0].set_yscale('log');\n",
      "axes[1].plot(TDsurvey.time, -dt_test1, 'b.-')\n",
      "axes[1].plot(TDsurvey.time[::2], -dt_test2[::2], 'ro')\n",
      "axes[1].set_xscale('log');\n",
      "axes[1].set_yscale('log');\n",
      "axes[0].legend(('811-Filter', '81-Interpolation'))\n",
      "axes[1].legend(('811-Filter', '81-Interpolation'))"
     ],
     "language": "python",
     "metadata": {},
     "outputs": [
      {
       "metadata": {},
       "output_type": "pyout",
       "prompt_number": 14,
       "text": [
        "<matplotlib.legend.Legend at 0x3f11d90>"
       ]
      },
      {
       "metadata": {},
       "output_type": "display_data",
       "png": "[encoded data removed]",
       "text": [
        "<matplotlib.figure.Figure at 0x3b54190>"
       ]
      }
     ],
     "prompt_number": 14
    },
    {
     "cell_type": "markdown",
     "metadata": {},
     "source": [
      "## Discussion\n",
      "### a. Compute frequency in logarthmic scale (81, from 1e-3 - 1e8 Hz), then interpolate back to filter frequencies\n",
      "### b. Put zero values for other filter frequencies beyond this range\n",
      "### c. Works well $\\sigma_{half}$ = $10^{-4}$ - $10^{2}$  S/m\n",
      "### d. A lot more efficient. Ten times faster than before. So inversion migth be durable\n",
      "### e. I can do same thing for spatial frequency, but not sure I need to do "
     ]
    }
   ],
   "metadata": {}
  }
 ]
}