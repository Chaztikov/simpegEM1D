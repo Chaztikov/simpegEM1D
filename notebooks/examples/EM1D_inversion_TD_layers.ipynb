{
 "cells": [
  {
   "cell_type": "code",
   "execution_count": 1,
   "metadata": {},
   "outputs": [
    {
     "name": "stdout",
     "output_type": "stream",
     "text": [
      "Populating the interactive namespace from numpy and matplotlib\n"
     ]
    }
   ],
   "source": [
    "from SimPEG import *\n",
    "from simpegEM1D import (\n",
    "    EM1D, EM1DSurveyTD, Utils1D, get_vertical_discretization_time, \n",
    "    set_mesh_1d, skytem_HM_2015\n",
    ")\n",
    "import numpy as np\n",
    "%pylab inline"
   ]
  },
  {
   "cell_type": "code",
   "execution_count": 2,
   "metadata": {
    "collapsed": true
   },
   "outputs": [],
   "source": [
    "from simpegEM1D import skytem_HM_2015\n",
    "wave = skytem_HM_2015()\n",
    "\n",
    "time = wave.time_gate_center[0::2]\n",
    "hz = get_vertical_discretization_time(time, facter_tmax=0.5, factor_tmin=10.)\n",
    "mesh1D = set_mesh_1d(hz)\n",
    "depth = -mesh1D.gridN[:-1]\n",
    "LocSigZ = -mesh1D.gridCC\n",
    "\n",
    "wave_type = \"stepoff\"\n",
    "if wave_type == \"stepoff\":\n",
    "    TDsurvey = EM1DSurveyTD(\n",
    "        rx_location = np.array([0., 0., 100.+30.]),\n",
    "        src_location = np.array([0., 0., 100.+30.]),\n",
    "        topo = np.r_[0., 0., 100.],\n",
    "        depth = depth,\n",
    "        rx_type = 'dBzdt',\n",
    "        wave_type = 'stepoff',\n",
    "        src_type = 'CircularLoop',\n",
    "        a = 13.,\n",
    "        I = 1.,\n",
    "        time = time,\n",
    "        base_frequency = 25.,\n",
    "        use_lowpass_filter=True,\n",
    "        high_cut_frequency=7e4        \n",
    "    )\n",
    "elif wave_type == \"skytem\":\n",
    "    time_input_currents = wave.current_times[-7:]\n",
    "    input_currents = wave.currents[-7:]\n",
    "\n",
    "    TDsurvey = EM1DSurveyTD(\n",
    "        rx_location = np.array([0., 0., 100.+30.]),\n",
    "        src_location = np.array([0., 0., 100.+30.]),\n",
    "        topo = np.r_[0., 0., 100.],\n",
    "        depth = depth,\n",
    "        rx_type = 'dBzdt',\n",
    "        wave_type = 'general',\n",
    "        src_type = 'CircularLoop',\n",
    "        a = 13.,\n",
    "        I = 1.,\n",
    "        time = time,\n",
    "        time_input_currents=time_input_currents,\n",
    "        input_currents=input_currents,\n",
    "        n_pulse = 2,\n",
    "        base_frequency = 25.,\n",
    "        use_lowpass_filter=True,\n",
    "        high_cut_frequency=1e4\n",
    "    )\n",
    "\n",
    "sig_half = 1e-1\n",
    "sig_blk = sig_half * 20.\n",
    "chi_half = 0.\n",
    "expmap = Maps.ExpMap(mesh1D)"
   ]
  },
  {
   "cell_type": "code",
   "execution_count": 3,
   "metadata": {
    "collapsed": true
   },
   "outputs": [],
   "source": [
    "sig  = np.ones(TDsurvey.n_layer)*sig_half\n",
    "blk_ind = (-30>LocSigZ) & (-70<LocSigZ)\n",
    "sig[blk_ind] = sig_blk\n",
    "m_true = np.log(sig)"
   ]
  },
  {
   "cell_type": "code",
   "execution_count": 4,
   "metadata": {},
   "outputs": [
    {
     "data": {
      "text/plain": [
       "[<matplotlib.lines.Line2D at 0x11d4731d0>]"
      ]
     },
     "execution_count": 4,
     "metadata": {},
     "output_type": "execute_result"
    },
    {
     "data": {
      "image/png": "[encoded data removed]",
      "text/plain": [
       "<matplotlib.figure.Figure at 0x11b41e0b8>"
      ]
     },
     "metadata": {},
     "output_type": "display_data"
    }
   ],
   "source": [
    "fig, ax = subplots(1,1, figsize=(5, 8))\n",
    "Utils1D.plotLayer(sig, LocSigZ, showlayers=True)"
   ]
  },
  {
   "cell_type": "code",
   "execution_count": 5,
   "metadata": {},
   "outputs": [
    {
     "name": "stdout",
     "output_type": "stream",
     "text": [
      "CPU times: user 38.1 ms, sys: 5.01 ms, total: 43.1 ms\n",
      "Wall time: 63 ms\n"
     ]
    }
   ],
   "source": [
    "%%time\n",
    "prob = EM1D(mesh1D, sigmaMap=expmap, verbose=False)\n",
    "if prob.ispaired:\n",
    "    prob.unpair()\n",
    "if TDsurvey.ispaired:\n",
    "    TDsurvey.unpair()\n",
    "prob.pair(TDsurvey)\n",
    "prob.chi = np.zeros(TDsurvey.n_layer)\n",
    "d_true = TDsurvey.dpred(m_true)"
   ]
  },
  {
   "cell_type": "code",
   "execution_count": 6,
   "metadata": {},
   "outputs": [
    {
     "data": {
      "text/plain": [
       "(69,)"
      ]
     },
     "execution_count": 6,
     "metadata": {},
     "output_type": "execute_result"
    }
   ],
   "source": [
    "TDsurvey.frequency.shape"
   ]
  },
  {
   "cell_type": "code",
   "execution_count": 7,
   "metadata": {},
   "outputs": [
    {
     "data": {
      "text/plain": [
       "array([-3.41329074e-06,  1.10497687e-06,  2.01636930e-06,  1.87004422e-06,\n",
       "        1.05501782e-06,  3.95813977e-07,  1.08626152e-07,  3.12188824e-08,\n",
       "        1.17395524e-08,  4.51909634e-09,  1.57112741e-09,  1.79620444e-10,\n",
       "       -4.16600427e-10, -4.34984394e-10, -2.54165893e-10])"
      ]
     },
     "execution_count": 7,
     "metadata": {},
     "output_type": "execute_result"
    }
   ],
   "source": [
    "prob.Jvec(m_true, m_true)"
   ]
  },
  {
   "cell_type": "code",
   "execution_count": 8,
   "metadata": {},
   "outputs": [
    {
     "data": {
      "image/png": "[encoded data removed]",
      "text/plain": [
       "<matplotlib.figure.Figure at 0x115c7db70>"
      ]
     },
     "metadata": {},
     "output_type": "display_data"
    }
   ],
   "source": [
    "fig, axes = subplots(1,1, figsize = (7,5))\n",
    "axes.plot(TDsurvey.time, -d_true, '.-')\n",
    "axes.set_xscale('log');\n",
    "axes.set_yscale('log');"
   ]
  },
  {
   "cell_type": "code",
   "execution_count": 9,
   "metadata": {},
   "outputs": [
    {
     "data": {
      "image/png": "[encoded data removed]",
      "text/plain": [
       "<matplotlib.figure.Figure at 0x1167bdc88>"
      ]
     },
     "metadata": {},
     "output_type": "display_data"
    }
   ],
   "source": [
    "fig, axes = subplots(1,1, figsize = (7,5))\n",
    "axes.plot(TDsurvey.time, -d_true, '.-')\n",
    "axes.set_xscale('log');\n",
    "axes.set_yscale('log');"
   ]
  },
  {
   "cell_type": "code",
   "execution_count": 10,
   "metadata": {
    "collapsed": true
   },
   "outputs": [],
   "source": [
    "np.random.seed(1)\n",
    "TDsurvey.dtrue = d_true\n",
    "std = 0.05\n",
    "noise = std*abs(TDsurvey.dtrue)*np.random.randn(*TDsurvey.dtrue.shape)\n",
    "floor = 0.\n",
    "std = 0.07\n",
    "TDsurvey.dobs = TDsurvey.dtrue+noise\n",
    "uncert = abs(TDsurvey.dobs)*std+floor"
   ]
  },
  {
   "cell_type": "code",
   "execution_count": 10,
   "metadata": {},
   "outputs": [
    {
     "data": {
      "image/png": "[encoded data removed]",
      "text/plain": [
       "<matplotlib.figure.Figure at 0x115ce9780>"
      ]
     },
     "metadata": {},
     "output_type": "display_data"
    }
   ],
   "source": [
    "fig, axes = subplots(1,1, figsize = (7,5))\n",
    "axes.plot(TDsurvey.time, -d_true, 'b.-')\n",
    "axes.plot(TDsurvey.time, -TDsurvey.dobs, 'r.-')\n",
    "axes.set_xscale('log');\n",
    "axes.set_yscale('log');"
   ]
  },
  {
   "cell_type": "code",
   "execution_count": 11,
   "metadata": {},
   "outputs": [
    {
     "name": "stdout",
     "output_type": "stream",
     "text": [
      "SimPEG.DataMisfit.l2_DataMisfit assigning default eps of 1e-5 * ||dobs||\n"
     ]
    }
   ],
   "source": [
    "dmisfit = DataMisfit.l2_DataMisfit(TDsurvey)\n",
    "uncert = (abs(TDsurvey.dobs)*std+floor)\n",
    "dmisfit.W = 1./ uncert"
   ]
  },
  {
   "cell_type": "code",
   "execution_count": 12,
   "metadata": {
    "collapsed": true
   },
   "outputs": [],
   "source": [
    "m0 = np.log(np.ones_like(sig)*sig_half)\n",
    "d_0 = TDsurvey.dpred(m0)\n",
    "delta = prob.get_threshold(uncert)"
   ]
  },
  {
   "cell_type": "code",
   "execution_count": 13,
   "metadata": {},
   "outputs": [
    {
     "name": "stderr",
     "output_type": "stream",
     "text": [
      "/Users/sgkang/Projects/simpeg/SimPEG/Directives.py:903: UserWarning: Without a Linear preconditioner, convergence may be slow. Consider adding `Directives.UpdatePreconditioner` to your directives list\n",
      "  \"Without a Linear preconditioner, convergence may be slow. \"\n"
     ]
    }
   ],
   "source": [
    "reg = Regularization.Sparse(\n",
    "    mesh1D,\n",
    "    mapping=Maps.IdentityMap(mesh1D),\n",
    "    alpha_s=1.,\n",
    "    alpha_x=1.\n",
    ")\n",
    "p = 0\n",
    "qx, qz = 2., 2.\n",
    "reg.norms = np.c_[p, qx, qz, 0.]\n",
    "IRLS = Directives.Update_IRLS(\n",
    "    maxIRLSiter=20, minGNiter=1, fix_Jmatrix=True, coolingRate=2, betaSearch=False,\n",
    "    chifact_start = 1.\n",
    ")\n",
    "opt = Optimization.ProjectedGNCG(maxIter = 25)\n",
    "invProb = InvProblem.BaseInvProblem(dmisfit, reg, opt)\n",
    "beta = Directives.BetaSchedule(coolingFactor=2., coolingRate=1)\n",
    "betaest = Directives.BetaEstimate_ByEig(beta0_ratio=1e0)\n",
    "target = Directives.TargetMisfit()\n",
    "update_sense = Directives.UpdateSensitivityWeights(threshold=delta)\n",
    "inv = Inversion.BaseInversion(invProb, directiveList=[IRLS, betaest])\n",
    "# inv = Inversion.BaseInversion(invProb, directiveList=[beta, betaest, target])\n",
    "prob.counter = opt.counter = Utils.Counter()\n",
    "opt.LSshorten = 0.5\n",
    "opt.remember('xc')"
   ]
  },
  {
   "cell_type": "code",
   "execution_count": 14,
   "metadata": {
    "scrolled": false
   },
   "outputs": [
    {
     "name": "stdout",
     "output_type": "stream",
     "text": [
      "SimPEG.InvProblem will set Regularization.mref to m0.\n",
      "\n",
      "    SimPEG.InvProblem is setting bfgsH0 to the inverse of the eval2Deriv.\n",
      "    ***Done using same Solver and solverOpts as the problem***\n",
      "model has any nan: 0\n",
      "=============================== Projected GNCG ===============================\n",
      "  #     beta     phi_d     phi_m       f      |proj(x-g)-x|  LS    Comment   \n",
      "-----------------------------------------------------------------------------\n",
      "x0 has any nan: 0\n",
      "   0  2.68e+01  5.42e+02  0.00e+00  5.42e+02    2.19e+02      0              \n",
      "   1  2.68e+01  3.66e+02  1.66e+00  4.10e+02    4.17e+01      0              \n",
      "   2  1.34e+01  2.97e+02  3.29e+00  3.41e+02    6.67e+01      0   Skip BFGS  \n",
      "   3  1.34e+01  1.28e+02  9.37e+00  2.54e+02    4.88e+01      0              \n",
      "   4  6.71e+00  6.02e+01  1.22e+01  1.42e+02    5.31e+01      0              \n",
      "   5  6.71e+00  1.83e+01  1.52e+01  1.21e+02    1.71e+01      0              \n",
      "   6  3.36e+00  1.49e+01  1.51e+01  6.56e+01    2.06e+01      0              \n",
      "   7  3.36e+00  8.34e+00  1.62e+01  6.29e+01    4.22e+00      0              \n",
      "   8  1.68e+00  8.29e+00  1.62e+01  3.55e+01    1.25e+01      0   Skip BFGS  \n",
      "Reached starting chifact with l2-norm regularization: Start IRLS steps...\n",
      "eps_p: 3.378056493037006 eps_q: 3.378056493037006\n",
      ">> Fix Jmatrix\n",
      "Eps_p: 2.8150470775308385\n",
      "Eps_q: 2.8150470775308385\n",
      "delta phim:    inf\n",
      "   9  1.68e+00  6.38e+00  1.95e+01  3.90e+01    3.37e+00      0              \n",
      ">> Fix Jmatrix\n",
      "Eps_p: 2.3458725646090324\n",
      "Eps_q: 2.3458725646090324\n",
      "delta phim: 6.413e-01\n",
      "  10  2.61e+00  6.75e+00  1.91e+01  5.67e+01    9.10e+00      0              \n",
      ">> Fix Jmatrix\n",
      "Eps_p: 1.9548938038408603\n",
      "Eps_q: 1.9548938038408603\n",
      "delta phim: 8.958e-02\n",
      "  11  2.61e+00  8.15e+00  1.83e+01  5.59e+01    5.25e+00      0              \n",
      ">> Fix Jmatrix\n",
      "Eps_p: 1.6290781698673837\n",
      "Eps_q: 1.6290781698673837\n",
      "delta phim: 3.642e-02\n",
      "  12  2.61e+00  8.11e+00  1.76e+01  5.40e+01    3.72e+00      0              \n",
      ">> Fix Jmatrix\n",
      "Eps_p: 1.3575651415561532\n",
      "Eps_q: 1.3575651415561532\n",
      "delta phim: 1.098e-01\n",
      "  13  1.81e+00  8.46e+00  1.67e+01  3.86e+01    7.60e+00      0              \n",
      ">> Fix Jmatrix\n",
      "Eps_p: 1.1313042846301278\n",
      "Eps_q: 1.1313042846301278\n",
      "delta phim: 3.956e-02\n",
      "  14  1.81e+00  7.89e+00  1.61e+01  3.70e+01    3.82e+00      0              \n",
      ">> Fix Jmatrix\n",
      "Eps_p: 0.9427535705251066\n",
      "Eps_q: 0.9427535705251066\n",
      "delta phim: 5.403e-02\n",
      "  15  1.81e+00  7.73e+00  1.53e+01  3.55e+01    5.28e+00      0              \n",
      ">> Fix Jmatrix\n",
      "Eps_p: 0.7856279754375888\n",
      "Eps_q: 0.7856279754375888\n",
      "delta phim: 5.536e-02\n",
      "  16  1.81e+00  7.70e+00  1.46e+01  3.41e+01    4.09e+00      0              \n",
      ">> Fix Jmatrix\n",
      "Eps_p: 0.654689979531324\n",
      "Eps_q: 0.654689979531324\n",
      "delta phim: 4.495e-02\n",
      "  17  1.81e+00  7.55e+00  1.39e+01  3.28e+01    4.21e+00      0              \n",
      ">> Fix Jmatrix\n",
      "Eps_p: 0.5455749829427701\n",
      "Eps_q: 0.5455749829427701\n",
      "delta phim: 4.434e-02\n",
      "  18  1.81e+00  7.51e+00  1.33e+01  3.16e+01    4.27e+00      0   Skip BFGS  \n",
      ">> Fix Jmatrix\n",
      "Eps_p: 0.45464581911897506\n",
      "Eps_q: 0.45464581911897506\n",
      "delta phim: 3.467e-02\n",
      "  19  1.81e+00  7.52e+00  1.28e+01  3.07e+01    4.60e+00      0   Skip BFGS  \n",
      ">> Fix Jmatrix\n",
      "Eps_p: 0.37887151593247925\n",
      "Eps_q: 0.37887151593247925\n",
      "delta phim: 2.529e-02\n",
      "  20  1.81e+00  7.55e+00  1.24e+01  2.99e+01    4.89e+00      0   Skip BFGS  \n",
      ">> Fix Jmatrix\n",
      "Eps_p: 0.31572626327706604\n",
      "Eps_q: 0.31572626327706604\n",
      "delta phim: 1.992e-02\n",
      "  21  1.81e+00  7.58e+00  1.19e+01  2.92e+01    5.04e+00      0   Skip BFGS  \n",
      ">> Fix Jmatrix\n",
      "Eps_p: 0.26310521939755505\n",
      "Eps_q: 0.26310521939755505\n",
      "delta phim: 1.528e-02\n",
      "  22  1.81e+00  7.60e+00  1.15e+01  2.84e+01    5.02e+00      0              \n",
      ">> Fix Jmatrix\n",
      "Eps_p: 0.21925434949796255\n",
      "Eps_q: 0.21925434949796255\n",
      "delta phim: 7.214e-03\n",
      "Minimum decrease in regularization. End of IRLS\n",
      "------------------------- STOP! -------------------------\n",
      "1 : |fc-fOld| = 0.0000e+00 <= tolF*(1+|f0|) = 5.4256e+01\n",
      "1 : |xc-x_last| = 3.9892e-02 <= tolX*(1+|x0|) = 1.1037e+00\n",
      "0 : |proj(x-g)-x|    = 5.0161e+00 <= tolG          = 1.0000e-01\n",
      "0 : |proj(x-g)-x|    = 5.0161e+00 <= 1e3*eps       = 1.0000e-02\n",
      "0 : maxIter   =      25    <= iter          =     23\n",
      "------------------------- DONE! -------------------------\n",
      "CPU times: user 8.38 s, sys: 985 ms, total: 9.36 s\n",
      "Wall time: 7.77 s\n"
     ]
    }
   ],
   "source": [
    "%%time\n",
    "mopt = inv.run(m0)"
   ]
  },
  {
   "cell_type": "code",
   "execution_count": 15,
   "metadata": {},
   "outputs": [
    {
     "name": "stdout",
     "output_type": "stream",
     "text": [
      "Counters:\n",
      "  ProjectedGNCG.activeSet                 :       23\n",
      "  ProjectedGNCG.doEndIteration            :       23\n",
      "  ProjectedGNCG.doStartIteration          :       23\n",
      "  ProjectedGNCG.projection                :       95\n",
      "  ProjectedGNCG.scaleSearchDirection      :       23\n",
      "\n",
      "Times:                                        mean      sum\n",
      "  EM1D.Jtvec_approx                       : 4.56e-04, 6.34e-02,  139x\n",
      "  EM1D.Jvec_approx                        : 4.54e-04, 6.31e-02,  139x\n",
      "  ProjectedGNCG.findSearchDirection       : 3.05e-02, 7.01e-01,   23x\n",
      "  ProjectedGNCG.minimize                  : 7.68e+00, 7.68e+00,    1x\n",
      "  ProjectedGNCG.modifySearchDirection     : 1.06e-01, 2.43e+00,   23x\n"
     ]
    }
   ],
   "source": [
    "opt.counter.summary()\n",
    "xc = opt.recall('xc')"
   ]
  },
  {
   "cell_type": "code",
   "execution_count": 16,
   "metadata": {},
   "outputs": [
    {
     "data": {
      "text/plain": [
       "[<matplotlib.lines.Line2D at 0x116479390>]"
      ]
     },
     "execution_count": 16,
     "metadata": {},
     "output_type": "execute_result"
    },
    {
     "data": {
      "image/png": "[encoded data removed]",
      "text/plain": [
       "<matplotlib.figure.Figure at 0x116415ef0>"
      ]
     },
     "metadata": {},
     "output_type": "display_data"
    }
   ],
   "source": [
    "fig, ax = subplots(1,1, figsize=(5, 8))\n",
    "Utils1D.plotLayer(sig, LocSigZ)\n",
    "Utils1D.plotLayer(expmap*mopt, LocSigZ, showlayers=False, **{'color':'r'})\n",
    "Utils1D.plotLayer(expmap*invProb.l2model, LocSigZ, showlayers=False, **{'color':'b', 'lw':1.})"
   ]
  },
  {
   "cell_type": "code",
   "execution_count": 17,
   "metadata": {},
   "outputs": [
    {
     "data": {
      "image/png": "[encoded data removed]",
      "text/plain": [
       "<matplotlib.figure.Figure at 0x115d05e10>"
      ]
     },
     "metadata": {},
     "output_type": "display_data"
    }
   ],
   "source": [
    "fig, axes = subplots(1,1, figsize = (7,5))\n",
    "axes.plot(TDsurvey.time, -invProb.dpred, 'b-')\n",
    "axes.plot(TDsurvey.time, -TDsurvey.dobs, 'bx')\n",
    "axes.set_xscale('log');\n",
    "axes.set_yscale('log');"
   ]
  }
 ],
 "metadata": {
  "kernelspec": {
   "display_name": "Python 3",
   "language": "python",
   "name": "python3"
  },
  "language_info": {
   "codemirror_mode": {
    "name": "ipython",
    "version": 3
   },
   "file_extension": ".py",
   "mimetype": "text/x-python",
   "name": "python",
   "nbconvert_exporter": "python",
   "pygments_lexer": "ipython3",
   "version": "3.6.3"
  }
 },
 "nbformat": 4,
 "nbformat_minor": 1
}
