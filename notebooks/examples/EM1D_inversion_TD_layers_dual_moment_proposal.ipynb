{
 "cells": [
  {
   "cell_type": "code",
   "execution_count": 1,
   "metadata": {},
   "outputs": [
    {
     "name": "stdout",
     "output_type": "stream",
     "text": [
      "Populating the interactive namespace from numpy and matplotlib\n"
     ]
    }
   ],
   "source": [
    "from SimPEG import *\n",
    "from simpegEM1D import EM1D, EM1DSurveyTD, Utils1D, get_vertical_discretization_time, set_mesh_1d, piecewise_pulse\n",
    "import numpy as np\n",
    "%pylab inline"
   ]
  },
  {
   "cell_type": "code",
   "execution_count": 2,
   "metadata": {},
   "outputs": [],
   "source": [
    "from simpegEM1D import skytem_HM_2015, skytem_LM_2015\n",
    "wave_HM = skytem_HM_2015()\n",
    "wave_LM = skytem_LM_2015()\n",
    "time_HM = wave_HM.time_gate_center\n",
    "time_LM = wave_LM.time_gate_center\n",
    "def get_problem_survey(hz):\n",
    "    mesh1D = set_mesh_1d(hz)\n",
    "    depth = -mesh1D.gridN[:-1]\n",
    "    LocSigZ = -mesh1D.gridCC\n",
    "    expmap = Maps.ExpMap(mesh1D)    \n",
    "    \n",
    "    time_input_currents_HM = wave_HM.current_times[-7:]\n",
    "    input_currents_HM = wave_HM.currents[-7:]\n",
    "    time_input_currents_LM = wave_LM.current_times[-13:]\n",
    "    input_currents_LM = wave_LM.currents[-13:]\n",
    "\n",
    "    TDsurvey = EM1DSurveyTD(\n",
    "        rx_location = np.array([0., 0., 100.+30.]),\n",
    "        src_location = np.array([0., 0., 100.+30.]),\n",
    "        topo = np.r_[0., 0., 100.],\n",
    "        depth = depth,\n",
    "        rx_type = 'dBzdt',\n",
    "        wave_type = 'general',\n",
    "        src_type = 'CircularLoop',\n",
    "        a = 13.,\n",
    "        I = 1.,\n",
    "        time = time_HM,\n",
    "        time_input_currents=time_input_currents_HM,\n",
    "        input_currents=input_currents_HM,\n",
    "        n_pulse = 2,\n",
    "        base_frequency = 25.,\n",
    "        use_lowpass_filter=True,\n",
    "        high_cut_frequency=210*1e3,\n",
    "        moment_type='dual',\n",
    "        time_dual_moment = time_HM,    \n",
    "        time_input_currents_dual_moment=time_input_currents_LM,\n",
    "        input_currents_dual_moment=input_currents_LM,\n",
    "        base_frequency_dual_moment=210,    \n",
    "    )\n",
    "    \n",
    "    prob = EM1D(mesh1D, sigmaMap=expmap, verbose=False)\n",
    "    if prob.ispaired:\n",
    "        prob.unpair()\n",
    "    if TDsurvey.ispaired:\n",
    "        TDsurvey.unpair()\n",
    "    prob.pair(TDsurvey)\n",
    "    prob.chi = np.zeros(TDsurvey.n_layer)\n",
    "    return TDsurvey, prob"
   ]
  },
  {
   "cell_type": "code",
   "execution_count": 3,
   "metadata": {},
   "outputs": [],
   "source": [
    "hz = np.r_[100, 30, 180, 1000.]\n",
    "sig = np.r_[1./50, 1./5, 1./30, 1./1.]\n",
    "mesh1D = set_mesh_1d(hz)\n",
    "depth = -mesh1D.gridN[:-1]\n",
    "LocSigZ = -mesh1D.gridCC"
   ]
  },
  {
   "cell_type": "code",
   "execution_count": 4,
   "metadata": {},
   "outputs": [],
   "source": [
    "TDsurvey, prob = get_problem_survey(hz)\n",
    "sig_half = 1./50.\n",
    "chi_half = 0.\n",
    "m_true = np.log(sig)\n",
    "std = 0.05\n",
    "dtrue = TDsurvey.dpred(m_true)\n",
    "np.random.seed(1)\n",
    "noise = std*abs(dtrue)*np.random.randn(*dtrue.shape)\n",
    "dobs = dtrue+noise"
   ]
  },
  {
   "cell_type": "code",
   "execution_count": 5,
   "metadata": {},
   "outputs": [],
   "source": [
    "import matplotlib\n",
    "matplotlib.rcParams['font.size'] = 14"
   ]
  },
  {
   "cell_type": "code",
   "execution_count": 6,
   "metadata": {},
   "outputs": [
    {
     "data": {
      "text/plain": [
       "(-600, 0)"
      ]
     },
     "execution_count": 6,
     "metadata": {},
     "output_type": "execute_result"
    },
    {
     "data": {
      "image/png": "[encoded data removed]",
      "text/plain": [
       "<Figure size 288x360 with 1 Axes>"
      ]
     },
     "metadata": {
      "needs_background": "light"
     },
     "output_type": "display_data"
    }
   ],
   "source": [
    "fig, ax = subplots(1,1, figsize=(4, 5))\n",
    "Utils1D.plotLayer(1./sig, mesh1D, showlayers=False, ax=ax)\n",
    "ax.set_xlabel(\"Resistivity ($\\Omega$m)\")\n",
    "plt.tight_layout()\n",
    "fig.savefig('resistivity', dpi=200)\n",
    "ax.set_xlim(0.5, 100)\n",
    "ax.set_ylim(-600, 0)"
   ]
  },
  {
   "cell_type": "code",
   "execution_count": 7,
   "metadata": {},
   "outputs": [
    {
     "data": {
      "image/png": "[encoded data removed]",
      "text/plain": [
       "<Figure size 432x288 with 1 Axes>"
      ]
     },
     "metadata": {
      "needs_background": "light"
     },
     "output_type": "display_data"
    }
   ],
   "source": [
    "fig, axes = subplots(1,1, figsize = (6,4))\n",
    "axes.plot(TDsurvey.time, -dobs[:TDsurvey.n_time], '-', lw=2)\n",
    "axes.plot(TDsurvey.time_dual_moment, -dobs[TDsurvey.n_time:], '-', lw=2)\n",
    "axes.set_xscale('log');\n",
    "axes.set_yscale('log');\n",
    "plt.legend((\"HM\", \"LM\"))\n",
    "plt.xlabel(\"Time (s)\")\n",
    "plt.ylabel(\"SkyTEM data (V/A-m$^2$)\")\n",
    "plt.tight_layout()\n",
    "fig.savefig('skytem_data', dpi=200)"
   ]
  },
  {
   "cell_type": "code",
   "execution_count": 8,
   "metadata": {},
   "outputs": [],
   "source": [
    "# std = 0.05\n",
    "# prob.getJ(m_true)\n",
    "# prob.depth_of_investigation_christiansen_2012(std, thres_hold=0.8)"
   ]
  },
  {
   "cell_type": "code",
   "execution_count": 9,
   "metadata": {},
   "outputs": [],
   "source": [
    "IRLS = Directives.Update_IRLS(\n",
    "        maxIRLSiter=40, minGNiter=1, fix_Jmatrix=True, coolingRate=1, coolingFactor=2, betaSearch=False,\n",
    "        chifact_start = 1.\n",
    "    )"
   ]
  },
  {
   "cell_type": "code",
   "execution_count": 10,
   "metadata": {},
   "outputs": [],
   "source": [
    "def run_inversion(m0, dobs, std, floor, is_sparse=True):\n",
    "    hz = get_vertical_discretization_time(\n",
    "        np.unique(np.r_[time_HM, time_LM]), facter_tmax=0.5, factor_tmin=10., n_layer=30\n",
    "    )    \n",
    "    mesh1D = set_mesh_1d(hz)\n",
    "    TDsurvey, prob = get_problem_survey(hz)\n",
    "    TDsurvey.dobs = dobs.copy()\n",
    "    uncert = abs(TDsurvey.dobs)*std+floor\n",
    "    dmisfit = DataMisfit.l2_DataMisfit(TDsurvey)\n",
    "    dmisfit.W = 1./ uncert\n",
    "    \n",
    "    \n",
    "    if is_sparse:\n",
    "        reg = Regularization.Sparse(\n",
    "            mesh1D,\n",
    "            mapping=Maps.IdentityMap(mesh1D),\n",
    "            alpha_s=1.,\n",
    "            alpha_x=1.,\n",
    "        )\n",
    "        p = 0\n",
    "        qx, qz = 1., 1.\n",
    "        reg.norms = np.c_[p, qx, qz, 0.]\n",
    "        IRLS = Directives.Update_IRLS(\n",
    "            maxIRLSiter=40, minGNiter=1, fix_Jmatrix=True, coolingRate=1, coolingFactor=5, betaSearch=False,\n",
    "            chifact_start = 1.,\n",
    "            f_min_change = 1e-3\n",
    "        )        \n",
    "    else:\n",
    "        reg = Regularization.Tikhonov(\n",
    "            mesh1D,\n",
    "            mapping=Maps.IdentityMap(mesh1D),\n",
    "            alpha_s=1.,\n",
    "            alpha_x=0.05,\n",
    "        )        \n",
    "    opt = Optimization.ProjectedGNCG(maxIter = 40)\n",
    "    invProb = InvProblem.BaseInvProblem(dmisfit, reg, opt)\n",
    "    beta = Directives.BetaSchedule(coolingFactor=2., coolingRate=1)\n",
    "    betaest = Directives.BetaEstimate_ByEig(beta0_ratio=10**1.5)\n",
    "    target = Directives.TargetMisfit()\n",
    "    save = Directives.SaveOutputEveryIteration()\n",
    "    if is_sparse:\n",
    "        directiveList=[IRLS, betaest]\n",
    "    else:\n",
    "        directiveList=[beta, betaest, target]\n",
    "    \n",
    "    inv = Inversion.BaseInversion(invProb, directiveList=directiveList)\n",
    "    prob.counter = opt.counter = Utils.Counter()\n",
    "    opt.LSshorten = 0.5\n",
    "    opt.remember('xc')\n",
    "    mopt = inv.run(m0)\n",
    "    return mopt, invProb"
   ]
  },
  {
   "cell_type": "code",
   "execution_count": 11,
   "metadata": {
    "scrolled": false
   },
   "outputs": [
    {
     "name": "stdout",
     "output_type": "stream",
     "text": [
      "SimPEG.DataMisfit.l2_DataMisfit assigning default std of 5%\n",
      "SimPEG.DataMisfit.l2_DataMisfit assigning default eps of 1e-5 * ||dobs||\n",
      "SimPEG.InvProblem will set Regularization.mref to m0.\n",
      "\n",
      "    SimPEG.InvProblem is setting bfgsH0 to the inverse of the eval2Deriv.\n",
      "    ***Done using same Solver and solverOpts as the problem***\n",
      "model has any nan: 0\n",
      "=============================== Projected GNCG ===============================\n",
      "  #     beta     phi_d     phi_m       f      |proj(x-g)-x|  LS    Comment   \n",
      "-----------------------------------------------------------------------------\n",
      "x0 has any nan: 0\n",
      "   0  8.07e+01  5.09e+02  0.00e+00  5.09e+02    1.66e+02      0              \n",
      "   1  4.03e+01  4.88e+02  1.23e-01  4.93e+02    8.56e+01      0              \n",
      "   2  2.02e+01  4.67e+02  4.87e-01  4.77e+02    8.70e+01      0   Skip BFGS  \n",
      "   3  1.01e+01  4.28e+02  1.85e+00  4.46e+02    9.27e+01      0              \n",
      "   4  5.04e+00  3.51e+02  6.80e+00  3.85e+02    1.03e+02      0              \n",
      "   5  2.52e+00  2.15e+02  2.23e+01  2.71e+02    1.13e+02      0              \n",
      "   6  1.26e+00  7.14e+01  5.08e+01  1.35e+02    7.61e+01      0              \n",
      "------------------------- STOP! -------------------------\n",
      "1 : |fc-fOld| = 0.0000e+00 <= tolF*(1+|f0|) = 5.0964e+01\n",
      "1 : |xc-x_last| = 7.8362e-01 <= tolX*(1+|x0|) = 2.2427e+00\n",
      "0 : |proj(x-g)-x|    = 7.6127e+01 <= tolG          = 1.0000e-01\n",
      "0 : |proj(x-g)-x|    = 7.6127e+01 <= 1e3*eps       = 1.0000e-02\n",
      "0 : maxIter   =      40    <= iter          =      7\n",
      "------------------------- DONE! -------------------------\n",
      "CPU times: user 5.91 s, sys: 156 ms, total: 6.07 s\n",
      "Wall time: 5.26 s\n"
     ]
    }
   ],
   "source": [
    "%%time\n",
    "m0 = np.log(np.ones(30)*1./50)\n",
    "mopt, invProb = run_inversion(m0, dobs, 0.1, 0., is_sparse=False)"
   ]
  },
  {
   "cell_type": "code",
   "execution_count": 12,
   "metadata": {},
   "outputs": [
    {
     "name": "stdout",
     "output_type": "stream",
     "text": [
      "SimPEG.DataMisfit.l2_DataMisfit assigning default std of 5%\n",
      "SimPEG.DataMisfit.l2_DataMisfit assigning default eps of 1e-5 * ||dobs||\n",
      "SimPEG.InvProblem will set Regularization.mref to m0.\n",
      "\n",
      "    SimPEG.InvProblem is setting bfgsH0 to the inverse of the eval2Deriv.\n",
      "    ***Done using same Solver and solverOpts as the problem***\n",
      "model has any nan: 0\n",
      "=============================== Projected GNCG ===============================\n",
      "  #     beta     phi_d     phi_m       f      |proj(x-g)-x|  LS    Comment   \n",
      "-----------------------------------------------------------------------------\n",
      "x0 has any nan: 0\n",
      "   0  2.13e+02  1.26e+03  0.00e+00  1.26e+03    1.65e+03      0              \n",
      "   1  1.06e+02  5.15e+02  1.25e+00  6.48e+02    2.97e+02      0              \n",
      "   2  5.32e+01  3.94e+02  2.14e+00  5.07e+02    2.33e+02      0   Skip BFGS  \n",
      "   3  2.66e+01  2.90e+02  3.62e+00  3.86e+02    1.54e+02      0   Skip BFGS  \n",
      "   4  1.33e+01  2.20e+02  5.60e+00  2.94e+02    1.08e+02      0   Skip BFGS  \n",
      "   5  6.64e+00  1.62e+02  8.73e+00  2.20e+02    8.20e+01      0   Skip BFGS  \n",
      "   6  3.32e+00  1.09e+02  1.42e+01  1.56e+02    6.34e+01      0   Skip BFGS  \n",
      "   7  1.66e+00  6.67e+01  2.22e+01  1.04e+02    4.19e+01      0   Skip BFGS  \n",
      "   8  8.30e-01  4.22e+01  3.13e+01  6.82e+01    2.16e+01      0   Skip BFGS  \n",
      "------------------------- STOP! -------------------------\n",
      "1 : |fc-fOld| = 0.0000e+00 <= tolF*(1+|f0|) = 1.2633e+02\n",
      "1 : |xc-x_last| = 5.6748e-01 <= tolX*(1+|x0|) = 1.9629e+00\n",
      "0 : |proj(x-g)-x|    = 2.1598e+01 <= tolG          = 1.0000e-01\n",
      "0 : |proj(x-g)-x|    = 2.1598e+01 <= 1e3*eps       = 1.0000e-02\n",
      "0 : maxIter   =      40    <= iter          =      9\n",
      "------------------------- DONE! -------------------------\n"
     ]
    }
   ],
   "source": [
    "m0_1 = np.log(np.ones(30)*1./30)\n",
    "mopt_1, invProb_1 = run_inversion(m0_1, dobs, 0.1, 0., is_sparse=False)"
   ]
  },
  {
   "cell_type": "code",
   "execution_count": 13,
   "metadata": {},
   "outputs": [],
   "source": [
    "def compute_doi_index_oldenburg_and_li_1999(m1, m2, m1r, m2r):\n",
    "    r = abs((m1-m2) / (m1r-m2r))\n",
    "    r[r>0.99] = 1.\n",
    "    return r"
   ]
  },
  {
   "cell_type": "code",
   "execution_count": 14,
   "metadata": {},
   "outputs": [],
   "source": [
    "# fig, ax = subplots(1,1, figsize=(4, 5))\n",
    "# Utils1D.plotLayer(1./sig, mesh1D, showlayers=False, ax=ax)\n",
    "# Utils1D.plotLayer(1./(expmap*invProb.l2model), mesh1D, showlayers=False, **{'color':'r', 'lw':3})\n",
    "# ax.set_xlabel(\"Resistivity ($\\Omega$m)\")\n",
    "# ax.set_xlim(0.5, 300)\n",
    "# plt.tight_layout()\n",
    "# fig.savefig('resistivity_l2', dpi=200)"
   ]
  },
  {
   "cell_type": "code",
   "execution_count": 15,
   "metadata": {},
   "outputs": [],
   "source": [
    "mesh1D_inv = invProb.dmisfit.prob.mesh"
   ]
  },
  {
   "cell_type": "code",
   "execution_count": 18,
   "metadata": {},
   "outputs": [],
   "source": [
    "# fig, ax = subplots(1,1, figsize=(4, 5))\n",
    "# Utils1D.plotLayer(1./sig, mesh1D, showlayers=False, ax=ax)\n",
    "# Utils1D.plotLayer(1./(np.log(mopt)), mesh1D_inv, showlayers=False, **{'color':'r', 'lw':3})\n",
    "# ax.set_xlabel(\"Resistivity ($\\Omega$m)\")\n",
    "# ax.set_xlim(0.5, 300)\n",
    "# ax.set_ylim(-600, 0)\n",
    "# plt.tight_layout()\n",
    "# fig.savefig('resistivity_l2', dpi=200)\n"
   ]
  },
  {
   "cell_type": "code",
   "execution_count": 26,
   "metadata": {},
   "outputs": [
    {
     "data": {
      "image/png": "[encoded data removed]",
      "text/plain": [
       "<Figure size 288x360 with 1 Axes>"
      ]
     },
     "metadata": {
      "needs_background": "light"
     },
     "output_type": "display_data"
    }
   ],
   "source": [
    "fig, ax = subplots(1,1, figsize=(4, 5))\n",
    "Utils1D.plotLayer(1./(np.exp(mopt_1)), mesh1D_inv, showlayers=False, **{'color':'b', 'lw':3})\n",
    "Utils1D.plotLayer(1./(np.exp(mopt)), mesh1D_inv, showlayers=False, **{'color':'r', 'lw':3})\n",
    "Utils1D.plotLayer(1./sig, mesh1D, showlayers=False, ax=ax)\n",
    "ax.set_xlabel(\"Resistivity ($\\Omega$m)\")\n",
    "ax.set_xlim(0.5, 300)\n",
    "ax.set_ylim(-600, 0)\n",
    "plt.tight_layout()\n",
    "ax.legend((\"$m_{ref}$=30 $\\Omega$m\", \"$m_{ref}$=50 $\\Omega$m\"), bbox_to_anchor=(1,1))\n",
    "\n",
    "fig.savefig('resistivity_l2_compare', dpi=200)\n"
   ]
  },
  {
   "cell_type": "code",
   "execution_count": 23,
   "metadata": {
    "scrolled": false
   },
   "outputs": [
    {
     "name": "stdout",
     "output_type": "stream",
     "text": [
      "SimPEG.DataMisfit.l2_DataMisfit assigning default std of 5%\n",
      "SimPEG.DataMisfit.l2_DataMisfit assigning default eps of 1e-5 * ||dobs||\n",
      "SimPEG.InvProblem will set Regularization.mref to m0.\n",
      "\n",
      "    SimPEG.InvProblem is setting bfgsH0 to the inverse of the eval2Deriv.\n",
      "    ***Done using same Solver and solverOpts as the problem***\n"
     ]
    },
    {
     "name": "stderr",
     "output_type": "stream",
     "text": [
      "/Users/sgkang/Projects/simpeg/SimPEG/Directives.py:935: UserWarning: Without a Linear preconditioner, convergence may be slow. Consider adding `Directives.UpdatePreconditioner` to your directives list\n",
      "  \"Without a Linear preconditioner, convergence may be slow. \"\n"
     ]
    },
    {
     "name": "stdout",
     "output_type": "stream",
     "text": [
      "model has any nan: 0\n",
      "=============================== Projected GNCG ===============================\n",
      "  #     beta     phi_d     phi_m       f      |proj(x-g)-x|  LS    Comment   \n",
      "-----------------------------------------------------------------------------\n",
      "x0 has any nan: 0\n",
      "   0  5.18e+01  5.09e+02  0.00e+00  5.09e+02    1.66e+02      0              \n",
      "   1  1.04e+01  4.78e+02  2.75e-01  4.81e+02    1.34e+02      0              \n",
      "   2  2.07e+00  3.73e+02  5.34e+00  3.84e+02    1.47e+02      0   Skip BFGS  \n",
      "   3  4.14e-01  8.46e+01  5.55e+01  1.08e+02    1.00e+02      0              \n",
      "   4  8.28e-02  3.45e+01  9.60e+01  4.25e+01    1.05e+02      0              \n",
      "Reached starting chifact with l2-norm regularization: Start IRLS steps...\n",
      "eps_p: 1.9904416499072104 eps_q: 1.9904416499072104\n",
      ">> Fix Jmatrix\n",
      "delta phim:    inf\n",
      "   5  1.66e-02  1.99e+01  1.35e+02  2.22e+01    5.66e+01      0              \n",
      ">> Fix Jmatrix\n",
      "delta phim: 6.784e-01\n",
      "   6  3.18e-02  1.63e+01  1.68e+02  2.17e+01    1.33e+01      0   Skip BFGS  \n",
      ">> Fix Jmatrix\n",
      "delta phim: 3.399e-01\n",
      "   7  6.07e-02  1.65e+01  1.50e+02  2.56e+01    7.69e+00      0              \n",
      ">> Fix Jmatrix\n",
      "delta phim: 6.461e-02\n",
      "   8  1.13e-01  1.74e+01  1.26e+02  3.16e+01    1.69e+01      0              \n",
      ">> Fix Jmatrix\n",
      "delta phim: 4.704e-03\n",
      "   9  2.07e-01  1.81e+01  1.07e+02  4.03e+01    1.66e+01      0              \n",
      ">> Fix Jmatrix\n",
      "delta phim: 2.393e-03\n",
      "  10  3.75e-01  1.85e+01  1.01e+02  5.62e+01    1.76e+01      0              \n",
      ">> Fix Jmatrix\n",
      "delta phim: 3.502e-02\n",
      "  11  6.68e-01  1.92e+01  9.34e+01  8.16e+01    2.34e+01      0              \n",
      ">> Fix Jmatrix\n",
      "delta phim: 1.220e-02\n",
      "  12  1.15e+00  2.07e+01  8.74e+01  1.21e+02    3.55e+01      0              \n",
      ">> Fix Jmatrix\n",
      "delta phim: 1.167e-02\n",
      "  13  1.89e+00  2.36e+01  8.09e+01  1.76e+02    5.07e+01      0              \n",
      ">> Fix Jmatrix\n",
      "delta phim: 7.246e-03\n",
      "  14  1.89e+00  2.90e+01  7.44e+01  1.69e+02    2.47e+01      0              \n",
      ">> Fix Jmatrix\n",
      "delta phim: 4.653e-03\n",
      "  15  1.89e+00  2.84e+01  7.14e+01  1.63e+02    2.39e+01      0              \n",
      ">> Fix Jmatrix\n",
      "delta phim: 2.620e-02\n",
      "  16  1.89e+00  2.79e+01  6.96e+01  1.59e+02    2.21e+01      0              \n",
      ">> Fix Jmatrix\n",
      "delta phim: 1.541e-02\n",
      "  17  1.89e+00  2.79e+01  6.79e+01  1.56e+02    2.38e+01      0              \n",
      ">> Fix Jmatrix\n",
      "delta phim: 8.867e-03\n",
      "  18  1.89e+00  2.79e+01  6.67e+01  1.54e+02    2.65e+01      0   Skip BFGS  \n",
      ">> Fix Jmatrix\n",
      "delta phim: 1.470e-02\n",
      "  19  1.89e+00  2.78e+01  6.59e+01  1.52e+02    3.30e+01      0              \n",
      ">> Fix Jmatrix\n",
      "delta phim: 1.351e-02\n",
      "  20  1.89e+00  2.79e+01  6.50e+01  1.51e+02    3.68e+01      0              \n",
      ">> Fix Jmatrix\n",
      "delta phim: 1.194e-02\n",
      "  21  1.89e+00  2.77e+01  6.46e+01  1.49e+02    3.98e+01      0              \n",
      ">> Fix Jmatrix\n",
      "delta phim: 2.265e-03\n",
      "  22  1.89e+00  2.77e+01  6.41e+01  1.49e+02    4.78e+01      0   Skip BFGS  \n",
      ">> Fix Jmatrix\n",
      "delta phim: 1.066e-02\n",
      "  23  1.89e+00  2.76e+01  6.37e+01  1.48e+02    5.41e+01      0              \n",
      ">> Fix Jmatrix\n",
      "delta phim: 2.683e-02\n",
      "  24  1.89e+00  2.74e+01  6.32e+01  1.47e+02    6.29e+01      0              \n",
      ">> Fix Jmatrix\n",
      "delta phim: 4.590e-03\n",
      "  25  1.89e+00  2.74e+01  6.29e+01  1.46e+02    6.29e+01      0              \n",
      ">> Fix Jmatrix\n",
      "delta phim: 2.323e-02\n",
      "  26  1.89e+00  2.72e+01  6.25e+01  1.45e+02    5.97e+01      0              \n",
      ">> Fix Jmatrix\n",
      "delta phim: 3.604e-02\n",
      "  27  1.89e+00  2.72e+01  6.23e+01  1.45e+02    7.20e+01      0   Skip BFGS  \n",
      ">> Fix Jmatrix\n",
      "delta phim: 1.799e-02\n",
      "  28  1.89e+00  2.71e+01  6.21e+01  1.44e+02    8.67e+01      0   Skip BFGS  \n",
      ">> Fix Jmatrix\n",
      "delta phim: 1.656e-02\n",
      "  29  1.89e+00  2.71e+01  6.20e+01  1.44e+02    1.08e+02      0              \n",
      ">> Fix Jmatrix\n",
      "delta phim: 3.293e-02\n",
      "  30  2.97e+00  2.62e+01  6.23e+01  2.11e+02    2.10e+02      0              \n",
      ">> Fix Jmatrix\n",
      "delta phim: 4.849e-02\n",
      "  31  2.97e+00  3.05e+01  6.07e+01  2.11e+02    2.50e+02      0              \n",
      ">> Fix Jmatrix\n",
      "delta phim: 2.065e-02\n",
      "  32  2.97e+00  3.03e+01  6.06e+01  2.10e+02    2.93e+02      0              \n",
      ">> Fix Jmatrix\n",
      "delta phim: 4.119e-02\n",
      "  33  2.97e+00  3.03e+01  6.06e+01  2.10e+02    3.27e+02      0              \n",
      ">> Fix Jmatrix\n",
      "delta phim: 8.057e-02\n",
      "  34  2.97e+00  3.02e+01  6.06e+01  2.10e+02    3.71e+02      0   Skip BFGS  \n",
      ">> Fix Jmatrix\n",
      "delta phim: 7.905e-02\n",
      "  35  2.97e+00  3.02e+01  6.06e+01  2.10e+02    4.04e+02      0              \n",
      ">> Fix Jmatrix\n",
      "delta phim: 7.867e-02\n",
      "  36  2.97e+00  3.02e+01  6.05e+01  2.10e+02    4.38e+02      0              \n",
      ">> Fix Jmatrix\n",
      "delta phim: 7.119e-02\n",
      "  37  2.97e+00  3.03e+01  6.05e+01  2.10e+02    4.73e+02      0              \n",
      ">> Fix Jmatrix\n",
      "delta phim: 7.899e-02\n",
      "  38  2.97e+00  3.07e+01  6.03e+01  2.10e+02    5.19e+02      0   Skip BFGS  \n",
      ">> Fix Jmatrix\n",
      "delta phim: 1.108e-01\n",
      "  39  2.97e+00  3.08e+01  6.02e+01  2.09e+02    5.56e+02      0              \n",
      ">> Fix Jmatrix\n",
      "delta phim: 7.830e-02\n",
      "  40  2.97e+00  3.09e+01  6.01e+01  2.09e+02    5.87e+02      0   Skip BFGS  \n",
      "------------------------- STOP! -------------------------\n",
      "1 : |fc-fOld| = 2.3018e-01 <= tolF*(1+|f0|) = 5.0964e+01\n",
      "1 : |xc-x_last| = 1.2988e-03 <= tolX*(1+|x0|) = 2.2427e+00\n",
      "0 : |proj(x-g)-x|    = 5.8697e+02 <= tolG          = 1.0000e-01\n",
      "0 : |proj(x-g)-x|    = 5.8697e+02 <= 1e3*eps       = 1.0000e-02\n",
      "1 : maxIter   =      40    <= iter          =     40\n",
      "------------------------- DONE! -------------------------\n"
     ]
    }
   ],
   "source": [
    "m0 = np.log(np.ones(30)*1./50)\n",
    "mopt_sparse, invProb_sparse = run_inversion(m0, dobs, 0.1, 0., is_sparse=True)"
   ]
  },
  {
   "cell_type": "code",
   "execution_count": 24,
   "metadata": {},
   "outputs": [
    {
     "name": "stdout",
     "output_type": "stream",
     "text": [
      "SimPEG.DataMisfit.l2_DataMisfit assigning default std of 5%\n",
      "SimPEG.DataMisfit.l2_DataMisfit assigning default eps of 1e-5 * ||dobs||\n",
      "SimPEG.InvProblem will set Regularization.mref to m0.\n",
      "\n",
      "    SimPEG.InvProblem is setting bfgsH0 to the inverse of the eval2Deriv.\n",
      "    ***Done using same Solver and solverOpts as the problem***\n",
      "model has any nan: 0\n",
      "=============================== Projected GNCG ===============================\n",
      "  #     beta     phi_d     phi_m       f      |proj(x-g)-x|  LS    Comment   \n",
      "-----------------------------------------------------------------------------\n",
      "x0 has any nan: 0\n",
      "   0  1.36e+02  1.26e+03  0.00e+00  1.26e+03    1.65e+03      0              \n",
      "   1  2.73e+01  4.39e+02  1.83e+00  4.89e+02    4.39e+02      0              \n",
      "   2  5.46e+00  2.27e+02  5.62e+00  2.57e+02    1.81e+02      0   Skip BFGS  \n",
      "   3  1.09e+00  1.07e+02  1.59e+01  1.25e+02    9.05e+01      0   Skip BFGS  \n",
      "   4  2.18e-01  4.34e+01  4.00e+01  5.21e+01    3.24e+01      0   Skip BFGS  \n",
      "Reached starting chifact with l2-norm regularization: Start IRLS steps...\n",
      "eps_p: 1.3103215093095293 eps_q: 1.3103215093095293\n",
      ">> Fix Jmatrix\n",
      "delta phim:    inf\n",
      "   5  4.37e-02  2.52e+01  1.15e+02  3.02e+01    6.54e+01      0              \n",
      ">> Fix Jmatrix\n",
      "delta phim: 2.501e-02\n",
      "   6  7.98e-02  1.81e+01  1.60e+02  3.09e+01    2.20e+01      0   Skip BFGS  \n",
      ">> Fix Jmatrix\n",
      "delta phim: 5.273e-01\n",
      "   7  1.37e-01  2.09e+01  1.24e+02  3.79e+01    2.04e+01      0              \n",
      ">> Fix Jmatrix\n",
      "delta phim: 2.124e-02\n",
      "   8  2.24e-01  2.37e+01  1.02e+02  4.66e+01    1.64e+01      0              \n",
      ">> Fix Jmatrix\n",
      "delta phim: 5.433e-02\n",
      "   9  2.24e-01  2.75e+01  8.54e+01  4.67e+01    1.31e+01      0              \n",
      ">> Fix Jmatrix\n",
      "delta phim: 1.511e-02\n",
      "  10  2.24e-01  2.76e+01  8.51e+01  4.66e+01    7.33e+00      0              \n",
      ">> Fix Jmatrix\n",
      "delta phim: 1.147e-01\n",
      "  11  2.24e-01  2.84e+01  8.01e+01  4.64e+01    5.66e+00      0              \n",
      ">> Fix Jmatrix\n",
      "delta phim: 9.102e-02\n",
      "  12  2.24e-01  2.90e+01  7.60e+01  4.61e+01    6.92e+00      0              \n",
      ">> Fix Jmatrix\n",
      "delta phim: 7.960e-02\n",
      "  13  2.24e-01  2.95e+01  7.19e+01  4.56e+01    6.73e+00      0              \n",
      ">> Fix Jmatrix\n",
      "delta phim: 6.208e-02\n",
      "  14  2.24e-01  3.01e+01  6.76e+01  4.52e+01    5.26e+00      0              \n",
      ">> Fix Jmatrix\n",
      "delta phim: 5.170e-02\n",
      "  15  2.24e-01  3.06e+01  6.37e+01  4.48e+01    6.07e+00      0              \n",
      ">> Fix Jmatrix\n",
      "delta phim: 4.215e-02\n",
      "  16  2.24e-01  3.08e+01  6.02e+01  4.43e+01    5.89e+00      0              \n",
      ">> Fix Jmatrix\n",
      "delta phim: 3.084e-02\n",
      "  17  2.24e-01  3.10e+01  5.81e+01  4.40e+01    4.05e+00      0              \n",
      ">> Fix Jmatrix\n",
      "delta phim: 2.956e-02\n",
      "  18  2.24e-01  3.14e+01  5.50e+01  4.37e+01    4.44e+00      0   Skip BFGS  \n",
      ">> Fix Jmatrix\n",
      "delta phim: 2.643e-02\n",
      "  19  2.24e-01  3.17e+01  5.27e+01  4.35e+01    4.43e+00      0              \n",
      ">> Fix Jmatrix\n",
      "delta phim: 2.650e-02\n",
      "  20  2.24e-01  3.20e+01  4.99e+01  4.31e+01    5.76e+00      0              \n",
      ">> Fix Jmatrix\n",
      "delta phim: 1.798e-02\n",
      "  21  2.24e-01  3.21e+01  4.81e+01  4.29e+01    6.47e+00      0   Skip BFGS  \n",
      ">> Fix Jmatrix\n",
      "delta phim: 2.721e-02\n",
      "  22  2.24e-01  3.23e+01  4.64e+01  4.27e+01    6.68e+00      0              \n",
      ">> Fix Jmatrix\n",
      "delta phim: 1.807e-02\n",
      "  23  2.24e-01  3.25e+01  4.43e+01  4.24e+01    6.49e+00      0              \n",
      ">> Fix Jmatrix\n",
      "delta phim: 1.291e-02\n",
      "  24  2.24e-01  3.26e+01  4.27e+01  4.22e+01    6.56e+00      0   Skip BFGS  \n",
      ">> Fix Jmatrix\n",
      "delta phim: 1.665e-02\n",
      "  25  2.24e-01  3.28e+01  4.13e+01  4.21e+01    6.87e+00      0              \n",
      ">> Fix Jmatrix\n",
      "delta phim: 1.324e-02\n",
      "  26  2.24e-01  3.30e+01  4.03e+01  4.20e+01    8.74e+00      0   Skip BFGS  \n",
      ">> Fix Jmatrix\n",
      "delta phim: 1.711e-02\n",
      "  27  1.85e-01  3.31e+01  3.94e+01  4.04e+01    7.14e+00      0              \n",
      ">> Fix Jmatrix\n",
      "delta phim: 1.195e-02\n",
      "  28  1.85e-01  3.26e+01  3.95e+01  4.00e+01    6.43e+00      0              \n",
      ">> Fix Jmatrix\n",
      "delta phim: 3.972e-02\n",
      "  29  1.85e-01  3.24e+01  3.91e+01  3.97e+01    5.88e+00      0   Skip BFGS  \n",
      ">> Fix Jmatrix\n",
      "delta phim: 7.750e-03\n",
      "  30  1.85e-01  3.24e+01  3.87e+01  3.95e+01    7.27e+00      0   Skip BFGS  \n",
      ">> Fix Jmatrix\n",
      "delta phim: 5.711e-03\n",
      "  31  1.85e-01  3.23e+01  3.83e+01  3.94e+01    7.95e+00      0              \n",
      ">> Fix Jmatrix\n",
      "delta phim: 2.205e-02\n",
      "  32  1.85e-01  3.21e+01  3.80e+01  3.92e+01    1.15e+01      0              \n",
      ">> Fix Jmatrix\n",
      "delta phim: 1.058e-02\n",
      "  33  1.85e-01  3.18e+01  3.82e+01  3.89e+01    1.94e+01      0              \n",
      ">> Fix Jmatrix\n",
      "delta phim: 2.256e-02\n",
      "  34  1.85e-01  3.15e+01  3.85e+01  3.86e+01    2.45e+01      0              \n",
      ">> Fix Jmatrix\n",
      "delta phim: 3.195e-02\n",
      "  35  1.85e-01  3.10e+01  3.92e+01  3.82e+01    3.41e+01      0              \n",
      ">> Fix Jmatrix\n",
      "delta phim: 4.642e-02\n",
      "  36  1.85e-01  3.05e+01  3.97e+01  3.78e+01    3.67e+01      0              \n",
      ">> Fix Jmatrix\n",
      "delta phim: 4.742e-02\n",
      "  37  1.85e-01  2.97e+01  4.10e+01  3.73e+01    3.79e+01      0   Skip BFGS  \n",
      ">> Fix Jmatrix\n",
      "delta phim: 6.731e-02\n",
      "  38  1.85e-01  2.89e+01  4.26e+01  3.68e+01    3.81e+01      0   Skip BFGS  \n",
      ">> Fix Jmatrix\n",
      "delta phim: 6.240e-02\n",
      "  39  1.85e-01  2.77e+01  4.51e+01  3.61e+01    3.70e+01      0   Skip BFGS  \n",
      ">> Fix Jmatrix\n",
      "delta phim: 4.923e-02\n",
      "  40  2.89e-01  2.69e+01  4.66e+01  4.04e+01    4.57e+01      0              \n",
      "------------------------- STOP! -------------------------\n",
      "1 : |fc-fOld| = 4.3221e+00 <= tolF*(1+|f0|) = 1.2633e+02\n",
      "1 : |xc-x_last| = 6.0154e-02 <= tolX*(1+|x0|) = 1.9629e+00\n",
      "0 : |proj(x-g)-x|    = 4.5698e+01 <= tolG          = 1.0000e-01\n",
      "0 : |proj(x-g)-x|    = 4.5698e+01 <= 1e3*eps       = 1.0000e-02\n",
      "1 : maxIter   =      40    <= iter          =     40\n",
      "------------------------- DONE! -------------------------\n"
     ]
    }
   ],
   "source": [
    "m0_1 = np.log(np.ones(30)*1./30)\n",
    "mopt_sparse_1, invProb_sparse_1 = run_inversion(m0_1, dobs, 0.1, 0., is_sparse=True)"
   ]
  },
  {
   "cell_type": "code",
   "execution_count": 28,
   "metadata": {},
   "outputs": [],
   "source": [
    "# fig, ax = subplots(1,1, figsize=(4, 5))\n",
    "# Utils1D.plotLayer(1./sig, mesh1D, showlayers=False, ax=ax)\n",
    "# Utils1D.plotLayer(1./(expmap*mopt_sparse), mesh1D_inv, showlayers=False, **{'color':'r', 'lw':3})\n",
    "# ax.set_xlabel(\"Resistivity ($\\Omega$m)\")\n",
    "# ax.set_xlim(0.5, 300)\n",
    "# ax.set_ylim(-600, 0)\n",
    "# plt.tight_layout()\n",
    "# fig.savefig('resistivity_l0', dpi=200)\n"
   ]
  },
  {
   "cell_type": "code",
   "execution_count": 30,
   "metadata": {},
   "outputs": [
    {
     "data": {
      "image/png": "[encoded data removed]",
      "text/plain": [
       "<Figure size 288x360 with 1 Axes>"
      ]
     },
     "metadata": {
      "needs_background": "light"
     },
     "output_type": "display_data"
    }
   ],
   "source": [
    "fig, ax = subplots(1,1, figsize=(4, 5))\n",
    "Utils1D.plotLayer(1./sig, mesh1D, showlayers=False, ax=ax)\n",
    "Utils1D.plotLayer(1./(np.exp(mopt_sparse_1)), mesh1D_inv, showlayers=False, **{'color':'r', 'lw':3})\n",
    "ax.set_xlabel(\"Resistivity ($\\Omega$m)\")\n",
    "ax.set_xlim(0.5, 300)\n",
    "ax.set_ylim(-600, 0)\n",
    "plt.tight_layout()\n",
    "fig.savefig('resistivity_l0', dpi=200)\n"
   ]
  },
  {
   "cell_type": "code",
   "execution_count": 32,
   "metadata": {},
   "outputs": [
    {
     "data": {
      "image/png": "[encoded data removed]",
      "text/plain": [
       "<Figure size 288x360 with 1 Axes>"
      ]
     },
     "metadata": {
      "needs_background": "light"
     },
     "output_type": "display_data"
    }
   ],
   "source": [
    "fig, ax = subplots(1,1, figsize=(4, 5))\n",
    "Utils1D.plotLayer(1./(np.exp(mopt_sparse_1)), mesh1D_inv, showlayers=False, **{'color':'b', 'lw':3})\n",
    "Utils1D.plotLayer(1./(np.exp(mopt_sparse)), mesh1D_inv, showlayers=False, **{'color':'r', 'lw':3})\n",
    "# ax.legend((\"$m_{ref}$=30 $\\Omega$m\", \"$m_{ref}$=50 $\\Omega$m\"), bbox_to_anchor=(1,1))\n",
    "Utils1D.plotLayer(1./sig, mesh1D, showlayers=False, ax=ax)\n",
    "ax.set_xlabel(\"Resistivity ($\\Omega$m)\")\n",
    "ax.set_xlim(0.5, 300)\n",
    "ax.set_ylim(-600, 0)\n",
    "plt.tight_layout()\n",
    "fig.savefig('resistivity_l0_compare', dpi=200)\n"
   ]
  },
  {
   "cell_type": "code",
   "execution_count": 35,
   "metadata": {},
   "outputs": [
    {
     "data": {
      "image/png": "[encoded data removed]",
      "text/plain": [
       "<Figure size 288x360 with 1 Axes>"
      ]
     },
     "metadata": {
      "needs_background": "light"
     },
     "output_type": "display_data"
    }
   ],
   "source": [
    "fig, ax = subplots(1,1, figsize=(4, 5))\n",
    "doi = compute_doi_index_oldenburg_and_li_1999(mopt, mopt_1, m0, m0_1)\n",
    "Utils1D.plotLayer(doi, mesh1D_inv, showlayers=False, xscale='linear', ax=ax)\n",
    "# Utils1D.plotLayer(doi_sparse, mesh1D_inv, showlayers=False, xscale='linear', **{'linestyle':'--', 'color':'k'})\n",
    "ax.set_xticks(np.arange(20)*0.1, minor=True)\n",
    "ax.set_xlabel(\"DOI index\")\n",
    "# ax.legend((\"L2\", \"L0\"))\n",
    "ax.set_ylim(-600, 0)\n",
    "plt.tight_layout()\n",
    "fig.savefig('doi_index', dpi=200)"
   ]
  },
  {
   "cell_type": "code",
   "execution_count": 732,
   "metadata": {},
   "outputs": [
    {
     "data": {
      "image/png": "[encoded data removed]",
      "text/plain": [
       "<Figure size 432x288 with 1 Axes>"
      ]
     },
     "metadata": {},
     "output_type": "display_data"
    }
   ],
   "source": [
    "majorLocator = MultipleLocator(20)\n",
    "majorFormatter = FormatStrFormatter('%d')\n",
    "minorLocator = MultipleLocator(5)\n",
    "ax.xaxis.set_major_locator(majorLocator)\n",
    "ax.xaxis.set_major_formatter(majorFormatter)\n",
    "# for the minor ticks, use no labels; default NullFormatter\n",
    "ax.xaxis.set_minor_locator(minorLocator)"
   ]
  },
  {
   "cell_type": "code",
   "execution_count": 719,
   "metadata": {},
   "outputs": [
    {
     "data": {
      "text/plain": [
       "[<matplotlib.lines.Line2D at 0x118dfb160>]"
      ]
     },
     "execution_count": 719,
     "metadata": {},
     "output_type": "execute_result"
    },
    {
     "data": {
      "image/png": "[encoded data removed]",
      "text/plain": [
       "<Figure size 432x288 with 1 Axes>"
      ]
     },
     "metadata": {},
     "output_type": "display_data"
    }
   ],
   "source": [
    "doi_sparse = compute_doi_index_oldenburg_and_li_1999(mopt_sparse, mopt_sparse_1, m0, m0_1)\n"
   ]
  },
  {
   "cell_type": "code",
   "execution_count": 711,
   "metadata": {},
   "outputs": [
    {
     "data": {
      "text/plain": [
       "array([ 0.05995581,  0.06270161,  0.06043333,  0.03152822, -0.06894506,\n",
       "       -0.19037729, -0.26253323, -0.28956682, -0.28484674, -0.27410856,\n",
       "       -0.26178366,  1.05977935,  0.98591186, -0.34108015, -0.35094573,\n",
       "        2.02869894,  0.98994558,  0.98033542,  0.54059936,  0.55051647,\n",
       "        0.56730828,  0.58770533,  0.69061336,  0.98243134,  1.        ,\n",
       "        1.        ,  0.98822796,  0.98290827,  1.03937674,  1.18322866])"
      ]
     },
     "execution_count": 711,
     "metadata": {},
     "output_type": "execute_result"
    }
   ],
   "source": [
    "doi_sparse"
   ]
  },
  {
   "cell_type": "code",
   "execution_count": 312,
   "metadata": {},
   "outputs": [
    {
     "data": {
      "image/png": "[encoded data removed]",
      "text/plain": [
       "<Figure size 504x360 with 1 Axes>"
      ]
     },
     "metadata": {},
     "output_type": "display_data"
    }
   ],
   "source": [
    "fig, axes = subplots(1,1, figsize = (7,5))\n",
    "axes.plot(TDsurvey.time, -invProb.dpred[:TDsurvey.n_time], 'x')\n",
    "axes.plot(TDsurvey.time_dual_moment, -invProb.dpred[TDsurvey.n_time:], 'x')\n",
    "axes.plot(TDsurvey.time, -dobs[:TDsurvey.n_time])\n",
    "axes.plot(TDsurvey.time_dual_moment, -dobs[TDsurvey.n_time:])\n",
    "\n",
    "axes.set_xscale('log');\n",
    "axes.set_yscale('log');"
   ]
  }
 ],
 "metadata": {
  "kernelspec": {
   "display_name": "Python 3",
   "language": "python",
   "name": "python3"
  },
  "language_info": {
   "codemirror_mode": {
    "name": "ipython",
    "version": 3
   },
   "file_extension": ".py",
   "mimetype": "text/x-python",
   "name": "python",
   "nbconvert_exporter": "python",
   "pygments_lexer": "ipython3",
   "version": "3.7.2"
  }
 },
 "nbformat": 4,
 "nbformat_minor": 1
}
