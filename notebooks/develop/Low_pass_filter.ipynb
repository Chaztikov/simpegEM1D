{
 "cells": [
  {
   "cell_type": "code",
   "execution_count": 1,
   "metadata": {},
   "outputs": [
    {
     "name": "stdout",
     "output_type": "stream",
     "text": [
      "Populating the interactive namespace from numpy and matplotlib\n"
     ]
    }
   ],
   "source": [
    "import numpy as np\n",
    "from scipy.interpolate import interp1d\n",
    "from simpegEM1D import EM1DAnalytics\n",
    "%pylab inline"
   ]
  },
  {
   "cell_type": "code",
   "execution_count": 78,
   "metadata": {},
   "outputs": [],
   "source": [
    "from simpegEM1D import transFiltImpulse, transFilt, setFrequency, HzanalCirc\n",
    "from scipy.constants import mu_0\n",
    "from scipy.interpolate import interp1d\n",
    "from scipy.signal import butter, freqz\n",
    "\n",
    "def butterworth_type_filter(frequency, highcut_frequency, order=2):\n",
    "    \"\"\"\n",
    "    Butterworth low pass filter\n",
    "\n",
    "    Parameters\n",
    "    ----------\n",
    "\n",
    "    highcut_frequency: float\n",
    "        high-cut frequency for the low pass filter\n",
    "    fs: float\n",
    "        sampling rate, 1./ dt, (default = 1MHz)\n",
    "    period:\n",
    "        period of the signal (e.g. 25Hz base frequency, 0.04s)\n",
    "    order: int\n",
    "        The order of the butterworth filter\n",
    "\n",
    "    Returns\n",
    "    -------\n",
    "\n",
    "    frequency, h: ndarray, ndarray\n",
    "        Filter values (`h`) at frequencies (`frequency`) are provided.\n",
    "    \"\"\"\n",
    "\n",
    "    # Nyquist frequency\n",
    "    h = 1./(1+1j*(frequency/highcut_frequency))**order\n",
    "    return h\n",
    "\n",
    "def butter_lowpass(highcut_frequency, fs=1e7, period=0.04, order=1):\n",
    "    \"\"\"\n",
    "    Butterworth low pass filter\n",
    "    \n",
    "    Parameters\n",
    "    ----------\n",
    "    \n",
    "    highcut_frequency: float\n",
    "        high-cut frequency for the low pass filter\n",
    "    fs: float\n",
    "        sampling rate, 1./ dt, (default = 1MHz) \n",
    "    period: \n",
    "        period of the signal (e.g. 25Hz base frequency, 0.04s)\n",
    "    order: int\n",
    "        The order of the butterworth filter\n",
    "    \n",
    "    Returns\n",
    "    -------\n",
    "    \n",
    "    frequency, h: ndarray, ndarray\n",
    "        Filter values (`h`) at frequencies (`frequency`) are provided.\n",
    "    \"\"\"\n",
    "    # Nyquist frequency\n",
    "    nyq = 0.5 * fs\n",
    "    n_samples = period * fs    \n",
    "    high = highcut_frequency / nyq\n",
    "    b, a = butter(order, high, btype='low')\n",
    "    w, h = freqz(b, a, worN=int(n_samples))\n",
    "    frequency = (fs * 0.5 / np.pi) * w\n",
    "    \n",
    "    return frequency, h\n",
    "\n",
    "def dBzdtAnalCircTCole(a, t, sigma, highcut_frequency=None):\n",
    "\n",
    "    wt, tbase, omega_int = setFrequency(t)\n",
    "    hz = HzanalCirc(sigma, omega_int/2/np.pi, 1., a, 'secondary')\n",
    "    # Treatment for inaccuracy in analytic solutions\n",
    "    ind = omega_int < 0.2\n",
    "    hz[ind] = 0.\n",
    "    if highcut_frequency is not None:\n",
    "#         frequency, values = butter_lowpass(highcut_frequency)\n",
    "#         lowpass_func = interp1d(frequency*2*pi, values, fill_value='extrapolate')\n",
    "#         lowpass_filter = lowpass_func(omega_int)\n",
    "        lowpass_filter = butterworth_type_filter(omega_int/(2*np.pi), highcut_frequency, order=2)\n",
    "        lowpass_filter *= butterworth_type_filter(omega_int/(2*np.pi), 300*1e3, order=1)\n",
    "        hz *= lowpass_filter*lowpass_filter\n",
    "        \n",
    "    dhzdtTD = -transFiltImpulse(hz, wt, tbase, omega_int, t)\n",
    "    lowpass_resp = -transFiltImpulse(lowpass_filter, wt, tbase, omega_int, t)    \n",
    "\n",
    "    return dhzdtTD*mu_0, lowpass_resp"
   ]
  },
  {
   "cell_type": "code",
   "execution_count": 79,
   "metadata": {},
   "outputs": [],
   "source": [
    "freq, h = butter_lowpass(2e5)"
   ]
  },
  {
   "cell_type": "code",
   "execution_count": 80,
   "metadata": {},
   "outputs": [
    {
     "data": {
      "text/plain": [
       "[<matplotlib.lines.Line2D at 0x1b4f5ee48>]"
      ]
     },
     "execution_count": 80,
     "metadata": {},
     "output_type": "execute_result"
    },
    {
     "data": {
      "image/png": "[encoded data removed]",
      "text/plain": [
       "<matplotlib.figure.Figure at 0x1b50ed828>"
      ]
     },
     "metadata": {},
     "output_type": "display_data"
    }
   ],
   "source": [
    "plt.semilogx(freq, h.real)\n",
    "plt.semilogx(freq, h.imag)"
   ]
  },
  {
   "cell_type": "code",
   "execution_count": 99,
   "metadata": {},
   "outputs": [],
   "source": [
    "time = np.logspace(-5, -2, 61)"
   ]
  },
  {
   "cell_type": "code",
   "execution_count": 100,
   "metadata": {},
   "outputs": [],
   "source": [
    "sigma = 1e-2"
   ]
  },
  {
   "cell_type": "code",
   "execution_count": 101,
   "metadata": {},
   "outputs": [],
   "source": [
    "out_temp, filter_temp = dBzdtAnalCircTCole(13., time, sigma, highcut_frequency=210*1e3)"
   ]
  },
  {
   "cell_type": "code",
   "execution_count": 102,
   "metadata": {},
   "outputs": [
    {
     "data": {
      "text/plain": [
       "[<matplotlib.lines.Line2D at 0x1b99b9ac8>]"
      ]
     },
     "execution_count": 102,
     "metadata": {},
     "output_type": "execute_result"
    },
    {
     "data": {
      "image/png": "[encoded data removed]",
      "text/plain": [
       "<matplotlib.figure.Figure at 0x1b9a226d8>"
      ]
     },
     "metadata": {},
     "output_type": "display_data"
    }
   ],
   "source": [
    "plt.semilogx(time, -filter_temp, 'k')"
   ]
  },
  {
   "cell_type": "code",
   "execution_count": 103,
   "metadata": {},
   "outputs": [],
   "source": [
    "sigma = 1e-3\n",
    "out_lowpass_10k,_ = dBzdtAnalCircTCole(13., time, sigma, highcut_frequency=1e4)\n",
    "out_lowpass_70k,_ = dBzdtAnalCircTCole(13., time, sigma, highcut_frequency=7e4)\n",
    "out_lowpass_100k,_ = dBzdtAnalCircTCole(13., time, sigma, highcut_frequency=1e5)\n",
    "out_lowpass_210k,_ = dBzdtAnalCircTCole(13., time, sigma, highcut_frequency=210*1e3)\n",
    "# out, _ = dBzdtAnalCircTCole(13., time, sigma, highcut_frequency=None)"
   ]
  },
  {
   "cell_type": "code",
   "execution_count": 104,
   "metadata": {},
   "outputs": [
    {
     "data": {
      "text/plain": [
       "[<matplotlib.lines.Line2D at 0x1b9174e10>]"
      ]
     },
     "execution_count": 104,
     "metadata": {},
     "output_type": "execute_result"
    },
    {
     "data": {
      "image/png": "[encoded data removed]",
      "text/plain": [
       "<matplotlib.figure.Figure at 0x1b28d9978>"
      ]
     },
     "metadata": {},
     "output_type": "display_data"
    }
   ],
   "source": [
    "# plt.loglog(time, -out, 'k-', lw=4)\n",
    "plt.loglog(time, -out_lowpass_10k, 'b')\n",
    "plt.loglog(time, -out_lowpass_70k, 'g')\n",
    "plt.loglog(time, -out_lowpass_100k, 'r.')\n",
    "plt.loglog(time, -out_lowpass_210k, 'k')"
   ]
  },
  {
   "cell_type": "code",
   "execution_count": null,
   "metadata": {},
   "outputs": [],
   "source": []
  }
 ],
 "metadata": {
  "kernelspec": {
   "display_name": "Python 3",
   "language": "python",
   "name": "python3"
  },
  "language_info": {
   "codemirror_mode": {
    "name": "ipython",
    "version": 3
   },
   "file_extension": ".py",
   "mimetype": "text/x-python",
   "name": "python",
   "nbconvert_exporter": "python",
   "pygments_lexer": "ipython3",
   "version": "3.6.4"
  }
 },
 "nbformat": 4,
 "nbformat_minor": 2
}
