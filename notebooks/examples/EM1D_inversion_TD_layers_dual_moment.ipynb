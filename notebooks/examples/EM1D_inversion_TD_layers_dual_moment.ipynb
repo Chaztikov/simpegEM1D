{
 "cells": [
  {
   "cell_type": "code",
   "execution_count": 1,
   "metadata": {},
   "outputs": [
    {
     "name": "stdout",
     "output_type": "stream",
     "text": [
      "Populating the interactive namespace from numpy and matplotlib\n"
     ]
    }
   ],
   "source": [
    "from SimPEG import *\n",
    "from simpegEM1D import EM1D, EM1DSurveyTD, Utils1D, get_vertical_discretization_time, set_mesh_1d, piecewise_pulse\n",
    "import numpy as np\n",
    "%pylab inline"
   ]
  },
  {
   "cell_type": "code",
   "execution_count": 2,
   "metadata": {},
   "outputs": [],
   "source": [
    "from simpegEM1D import skytem_HM_2015, skytem_LM_2015\n",
    "wave_HM = skytem_HM_2015()\n",
    "wave_LM = skytem_LM_2015()\n",
    "time_HM = wave_HM.time_gate_center[0::2]\n",
    "time_LM = wave_LM.time_gate_center[0::2]\n",
    "\n",
    "hz = get_vertical_discretization_time(\n",
    "    np.unique(np.r_[time_HM, time_LM]), facter_tmax=0.5, factor_tmin=10.\n",
    ")\n",
    "mesh1D = set_mesh_1d(hz)\n",
    "depth = -mesh1D.gridN[:-1]\n",
    "LocSigZ = -mesh1D.gridCC\n",
    "\n",
    "time_input_currents_HM = wave_HM.current_times[-7:]\n",
    "input_currents_HM = wave_HM.currents[-7:]\n",
    "time_input_currents_LM = wave_LM.current_times[-13:]\n",
    "input_currents_LM = wave_LM.currents[-13:]\n",
    "\n",
    "TDsurvey = EM1DSurveyTD(\n",
    "    rx_location = np.array([0., 0., 100.+30.]),\n",
    "    src_location = np.array([0., 0., 100.+30.]),\n",
    "    topo = np.r_[0., 0., 100.],\n",
    "    depth = depth,\n",
    "    rx_type = 'dBzdt',\n",
    "    wave_type = 'general',\n",
    "    src_type = 'CircularLoop',\n",
    "    a = 13.,\n",
    "    I = 1.,\n",
    "    time = time_HM,\n",
    "    time_input_currents=time_input_currents_HM,\n",
    "    input_currents=input_currents_HM,\n",
    "    n_pulse = 2,\n",
    "    base_frequency = 25.,\n",
    "    use_lowpass_filter=True,\n",
    "    high_cut_frequency=7e4,\n",
    "    moment_type='dual',\n",
    "    time_dual_moment = time_HM,    \n",
    "    time_input_currents_dual_moment=time_input_currents_LM,\n",
    "    input_currents_dual_moment=input_currents_LM,\n",
    "    base_frequency_dual_moment=210,    \n",
    ")\n",
    "sig_half = 1./20.\n",
    "chi_half = 0.\n",
    "expmap = Maps.ExpMap(mesh1D)"
   ]
  },
  {
   "cell_type": "code",
   "execution_count": 3,
   "metadata": {},
   "outputs": [],
   "source": [
    "sig  = np.ones(TDsurvey.n_layer)*sig_half\n",
    "blk_ind = -10<LocSigZ\n",
    "sig[blk_ind] = 1./20.\n",
    "blk_ind = (-10>LocSigZ) & (-30<LocSigZ)\n",
    "sig[blk_ind] = 1./100\n",
    "blk_ind = (-100>LocSigZ) & (-150<LocSigZ)\n",
    "sig[blk_ind] = 1./10.\n",
    "m_true = np.log(sig)"
   ]
  },
  {
   "cell_type": "code",
   "execution_count": 4,
   "metadata": {},
   "outputs": [
    {
     "data": {
      "text/plain": [
       "[<matplotlib.lines.Line2D at 0x119c167f0>]"
      ]
     },
     "execution_count": 4,
     "metadata": {},
     "output_type": "execute_result"
    },
    {
     "data": {
      "image/png": "[encoded data removed]",
      "text/plain": [
       "<matplotlib.figure.Figure at 0x119bba908>"
      ]
     },
     "metadata": {},
     "output_type": "display_data"
    }
   ],
   "source": [
    "fig, ax = subplots(1,1, figsize=(5, 8))\n",
    "Utils1D.plotLayer(1./sig, LocSigZ, showlayers=True)"
   ]
  },
  {
   "cell_type": "code",
   "execution_count": 5,
   "metadata": {},
   "outputs": [],
   "source": [
    "e = np.empty(100, dtype=float)"
   ]
  },
  {
   "cell_type": "code",
   "execution_count": 6,
   "metadata": {},
   "outputs": [
    {
     "data": {
      "text/plain": [
       "0.9513080761002755"
      ]
     },
     "execution_count": 6,
     "metadata": {},
     "output_type": "execute_result"
    }
   ],
   "source": [
    "e[2]"
   ]
  },
  {
   "cell_type": "code",
   "execution_count": 7,
   "metadata": {},
   "outputs": [
    {
     "data": {
      "text/plain": [
       "0.004761904761904762"
      ]
     },
     "execution_count": 7,
     "metadata": {},
     "output_type": "execute_result"
    }
   ],
   "source": [
    "TDsurvey.period_dual_moment"
   ]
  },
  {
   "cell_type": "code",
   "execution_count": 8,
   "metadata": {},
   "outputs": [
    {
     "data": {
      "text/plain": [
       "0.04"
      ]
     },
     "execution_count": 8,
     "metadata": {},
     "output_type": "execute_result"
    }
   ],
   "source": [
    "TDsurvey.period"
   ]
  },
  {
   "cell_type": "code",
   "execution_count": 34,
   "metadata": {},
   "outputs": [
    {
     "name": "stdout",
     "output_type": "stream",
     "text": [
      "CPU times: user 1.57 s, sys: 10.2 ms, total: 1.59 s\n",
      "Wall time: 1.68 s\n"
     ]
    }
   ],
   "source": [
    "%%time\n",
    "prob = EM1D(mesh1D, sigmaMap=expmap, verbose=False, filter_type = 'key_101')\n",
    "if prob.ispaired:\n",
    "    prob.unpair()\n",
    "if TDsurvey.ispaired:\n",
    "    TDsurvey.unpair()\n",
    "prob.pair(TDsurvey)\n",
    "prob.chi = np.zeros(TDsurvey.n_layer)\n",
    "# d_true = TDsurvey.dpred(m_true)\n",
    "J = prob.getJ_sigma(m_true)"
   ]
  },
  {
   "cell_type": "code",
   "execution_count": 23,
   "metadata": {},
   "outputs": [
    {
     "data": {
      "image/png": "[encoded data removed]",
      "text/plain": [
       "<matplotlib.figure.Figure at 0x11bf27320>"
      ]
     },
     "metadata": {},
     "output_type": "display_data"
    }
   ],
   "source": [
    "fig, axes = subplots(1,1, figsize = (7,5))\n",
    "axes.plot(TDsurvey.time, -d_true[:TDsurvey.n_time], '.-')\n",
    "axes.plot(TDsurvey.time_dual_moment, -d_true[TDsurvey.n_time:], '.-')\n",
    "axes.set_xscale('log');\n",
    "axes.set_yscale('log');"
   ]
  },
  {
   "cell_type": "code",
   "execution_count": 24,
   "metadata": {},
   "outputs": [],
   "source": [
    "np.random.seed(1)\n",
    "TDsurvey.dtrue = d_true\n",
    "std = 0.05\n",
    "noise = std*abs(TDsurvey.dtrue)*np.random.randn(*TDsurvey.dtrue.shape)\n",
    "floor = 0.\n",
    "std = 0.07\n",
    "TDsurvey.dobs = TDsurvey.dtrue+noise\n",
    "uncert = abs(TDsurvey.dobs)*std+floor"
   ]
  },
  {
   "cell_type": "code",
   "execution_count": 25,
   "metadata": {},
   "outputs": [
    {
     "data": {
      "image/png": "[encoded data removed]",
      "text/plain": [
       "<matplotlib.figure.Figure at 0x11c45c908>"
      ]
     },
     "metadata": {},
     "output_type": "display_data"
    }
   ],
   "source": [
    "fig, axes = subplots(1,1, figsize = (7,5))\n",
    "axes.plot(TDsurvey.time, -d_true[:TDsurvey.n_time], '.-')\n",
    "axes.plot(TDsurvey.time_dual_moment, -d_true[TDsurvey.n_time:], '.-')\n",
    "axes.plot(TDsurvey.time, -TDsurvey.dobs[:TDsurvey.n_time], 'x')\n",
    "axes.plot(TDsurvey.time_dual_moment, -TDsurvey.dobs[TDsurvey.n_time:], 'x')\n",
    "\n",
    "axes.set_xscale('log');\n",
    "axes.set_yscale('log');"
   ]
  },
  {
   "cell_type": "code",
   "execution_count": 26,
   "metadata": {},
   "outputs": [],
   "source": []
  },
  {
   "cell_type": "code",
   "execution_count": 27,
   "metadata": {},
   "outputs": [
    {
     "name": "stdout",
     "output_type": "stream",
     "text": [
      "SimPEG.DataMisfit.l2_DataMisfit assigning default eps of 1e-5 * ||dobs||\n"
     ]
    }
   ],
   "source": [
    "dmisfit = DataMisfit.l2_DataMisfit(TDsurvey)\n",
    "uncert = (abs(TDsurvey.dobs)*std+floor)\n",
    "dmisfit.W = 1./ uncert"
   ]
  },
  {
   "cell_type": "code",
   "execution_count": 28,
   "metadata": {},
   "outputs": [],
   "source": [
    "m0 = np.log(np.ones_like(sig)*sig_half)\n",
    "d_0 = TDsurvey.dpred(m0)\n",
    "delta = prob.get_threshold(uncert)"
   ]
  },
  {
   "cell_type": "code",
   "execution_count": 29,
   "metadata": {},
   "outputs": [
    {
     "name": "stderr",
     "output_type": "stream",
     "text": [
      "/Users/sgkang/Projects/simpeg/SimPEG/Directives.py:896: UserWarning: Without a Linear preconditioner, convergence may be slow. Consider adding `Directives.UpdatePreconditioner` to your directives list\n",
      "  \"Without a Linear preconditioner, convergence may be slow. \"\n"
     ]
    }
   ],
   "source": [
    "reg = Regularization.Sparse(\n",
    "    mesh1D,\n",
    "    mapping=Maps.IdentityMap(mesh1D),\n",
    "    alpha_s=1.,\n",
    "    alpha_x=1.\n",
    ")\n",
    "p = 0\n",
    "qx, qz = 2., 2.\n",
    "reg.norms = np.c_[p, qx, qz, 0.]\n",
    "IRLS = Directives.Update_IRLS(\n",
    "    maxIRLSiter=20, minGNiter=1, fix_Jmatrix=True, coolingRate=2, betaSearch=False,\n",
    "    chifact_start = 1.\n",
    ")\n",
    "opt = Optimization.ProjectedGNCG(maxIter = 25)\n",
    "invProb = InvProblem.BaseInvProblem(dmisfit, reg, opt)\n",
    "beta = Directives.BetaSchedule(coolingFactor=2., coolingRate=1)\n",
    "betaest = Directives.BetaEstimate_ByEig(beta0_ratio=1e0)\n",
    "target = Directives.TargetMisfit()\n",
    "update_sense = Directives.UpdateSensitivityWeights(threshold=delta)\n",
    "inv = Inversion.BaseInversion(invProb, directiveList=[IRLS, betaest])\n",
    "# inv = Inversion.BaseInversion(invProb, directiveList=[beta, betaest, target])\n",
    "prob.counter = opt.counter = Utils.Counter()\n",
    "opt.LSshorten = 0.5\n",
    "opt.remember('xc')"
   ]
  },
  {
   "cell_type": "code",
   "execution_count": 19,
   "metadata": {
    "scrolled": false
   },
   "outputs": [
    {
     "name": "stdout",
     "output_type": "stream",
     "text": [
      "SimPEG.InvProblem will set Regularization.mref to m0.\n",
      "\n",
      "    SimPEG.InvProblem is setting bfgsH0 to the inverse of the eval2Deriv.\n",
      "    ***Done using same Solver and solverOpts as the problem***\n",
      "model has any nan: 0\n",
      "=============================== Projected GNCG ===============================\n",
      "  #     beta     phi_d     phi_m       f      |proj(x-g)-x|  LS    Comment   \n",
      "-----------------------------------------------------------------------------\n",
      "x0 has any nan: 0\n",
      "   0  1.61e+02  6.30e+02  0.00e+00  6.30e+02    1.16e+03      0              \n",
      "   1  1.61e+02  9.04e+01  4.62e-01  1.65e+02    1.25e+02      0              \n",
      "   2  8.04e+01  6.40e+01  5.36e-01  1.07e+02    9.74e+01      0   Skip BFGS  \n",
      "   3  8.04e+01  3.32e+01  7.95e-01  9.71e+01    6.91e+00      0              \n",
      "   4  4.02e+01  3.34e+01  7.92e-01  6.52e+01    5.35e+01      0              \n",
      "   5  4.02e+01  1.98e+01  1.02e+00  6.09e+01    4.97e+00      0              \n",
      "   6  2.01e+01  1.96e+01  1.03e+00  4.02e+01    3.07e+01      0              \n",
      "Reached starting chifact with l2-norm regularization: Start IRLS steps...\n",
      "eps_p: 0.5983246286005062 eps_q: 0.5983246286005062\n",
      ">> Fix Jmatrix\n",
      "Eps_p: 0.4986038571670885\n",
      "Eps_q: 0.4986038571670885\n",
      "delta phim:    inf\n",
      "   7  2.01e+01  1.40e+01  1.53e+00  4.48e+01    1.53e+01      0              \n",
      ">> Fix Jmatrix\n",
      "Eps_p: 0.4155032143059071\n",
      "Eps_q: 0.4155032143059071\n",
      "delta phim: 1.416e+00\n",
      "   8  2.01e+01  1.44e+01  1.58e+00  4.62e+01    9.00e+00      0              \n",
      ">> Fix Jmatrix\n",
      "Eps_p: 0.3462526785882559\n",
      "Eps_q: 0.3462526785882559\n",
      "delta phim: 1.456e-01\n",
      "   9  2.01e+01  1.46e+01  1.57e+00  4.62e+01    6.88e+00      0   Skip BFGS  \n",
      ">> Fix Jmatrix\n",
      "Eps_p: 0.28854389882354664\n",
      "Eps_q: 0.28854389882354664\n",
      "delta phim: 1.409e-01\n",
      "  10  2.01e+01  1.46e+01  1.53e+00  4.54e+01    6.37e+00      0   Skip BFGS  \n",
      ">> Fix Jmatrix\n",
      "Eps_p: 0.2404532490196222\n",
      "Eps_q: 0.2404532490196222\n",
      "delta phim: 1.177e-01\n",
      "  11  2.01e+01  1.44e+01  1.47e+00  4.40e+01    6.59e+00      0              \n",
      ">> Fix Jmatrix\n",
      "Eps_p: 0.20037770751635184\n",
      "Eps_q: 0.20037770751635184\n",
      "delta phim: 9.256e-02\n",
      "  12  2.01e+01  1.38e+01  1.40e+00  4.21e+01    6.90e+00      0              \n",
      ">> Fix Jmatrix\n",
      "Eps_p: 0.1669814229302932\n",
      "Eps_q: 0.1669814229302932\n",
      "delta phim: 7.112e-02\n",
      "  13  3.16e+01  1.31e+01  1.35e+00  5.57e+01    2.29e+01      0              \n",
      ">> Fix Jmatrix\n",
      "Eps_p: 0.13915118577524432\n",
      "Eps_q: 0.13915118577524432\n",
      "delta phim: 5.932e-02\n",
      "  14  3.16e+01  1.49e+01  1.22e+00  5.34e+01    1.19e+01      0              \n",
      ">> Fix Jmatrix\n",
      "Eps_p: 0.11595932147937027\n",
      "Eps_q: 0.11595932147937027\n",
      "delta phim: 2.598e-02\n",
      "  15  3.16e+01  1.54e+01  1.11e+00  5.03e+01    1.04e+01      0   Skip BFGS  \n",
      ">> Fix Jmatrix\n",
      "Eps_p: 0.09663276789947522\n",
      "Eps_q: 0.09663276789947522\n",
      "delta phim: 3.482e-02\n",
      "  16  3.16e+01  1.51e+01  1.02e+00  4.74e+01    9.85e+00      0              \n",
      ">> Fix Jmatrix\n",
      "Eps_p: 0.08052730658289603\n",
      "Eps_q: 0.08052730658289603\n",
      "delta phim: 2.674e-02\n",
      "  17  3.16e+01  1.48e+01  9.39e-01  4.45e+01    1.17e+01      0              \n",
      ">> Fix Jmatrix\n",
      "Eps_p: 0.06710608881908003\n",
      "Eps_q: 0.06710608881908003\n",
      "delta phim: 2.290e-02\n",
      "  18  3.16e+01  1.46e+01  8.75e-01  4.22e+01    1.50e+01      0   Skip BFGS  \n",
      ">> Fix Jmatrix\n",
      "Eps_p: 0.055921740682566695\n",
      "Eps_q: 0.055921740682566695\n",
      "delta phim: 2.212e-02\n",
      "  19  3.16e+01  1.45e+01  8.17e-01  4.03e+01    1.74e+01      0   Skip BFGS  \n",
      ">> Fix Jmatrix\n",
      "Eps_p: 0.04660145056880558\n",
      "Eps_q: 0.04660145056880558\n",
      "delta phim: 1.728e-02\n",
      "  20  3.16e+01  1.44e+01  7.61e-01  3.84e+01    2.14e+01      0              \n",
      ">> Fix Jmatrix\n",
      "Eps_p: 0.03883454214067132\n",
      "Eps_q: 0.03883454214067132\n",
      "delta phim: 1.692e-02\n",
      "  21  3.16e+01  1.44e+01  7.07e-01  3.67e+01    2.45e+01      0              \n",
      ">> Fix Jmatrix\n",
      "Eps_p: 0.03236211845055944\n",
      "Eps_q: 0.03236211845055944\n",
      "delta phim: 1.218e-02\n",
      "  22  3.16e+01  1.43e+01  6.59e-01  3.51e+01    2.21e+01      0              \n",
      ">> Fix Jmatrix\n",
      "Eps_p: 0.026968432042132867\n",
      "Eps_q: 0.026968432042132867\n",
      "delta phim: 8.472e-03\n",
      "Minimum decrease in regularization. End of IRLS\n",
      "------------------------- STOP! -------------------------\n",
      "1 : |fc-fOld| = 0.0000e+00 <= tolF*(1+|f0|) = 6.3133e+01\n",
      "1 : |xc-x_last| = 1.9035e-02 <= tolX*(1+|x0|) = 1.4058e+00\n",
      "0 : |proj(x-g)-x|    = 2.2087e+01 <= tolG          = 1.0000e-01\n",
      "0 : |proj(x-g)-x|    = 2.2087e+01 <= 1e3*eps       = 1.0000e-02\n",
      "0 : maxIter   =      25    <= iter          =     23\n",
      "------------------------- DONE! -------------------------\n",
      "CPU times: user 24.4 s, sys: 275 ms, total: 24.7 s\n",
      "Wall time: 29.1 s\n"
     ]
    }
   ],
   "source": [
    "%%time\n",
    "mopt = inv.run(m0)"
   ]
  },
  {
   "cell_type": "code",
   "execution_count": 20,
   "metadata": {},
   "outputs": [
    {
     "data": {
      "text/plain": [
       "(508.019400965098,\n",
       " array([ True,  True,  True,  True,  True,  True,  True,  True,  True,\n",
       "         True,  True,  True,  True,  True,  True,  True,  True,  True,\n",
       "         True]))"
      ]
     },
     "execution_count": 20,
     "metadata": {},
     "output_type": "execute_result"
    }
   ],
   "source": [
    "prob.depth_of_investigation(uncert)"
   ]
  },
  {
   "cell_type": "code",
   "execution_count": 21,
   "metadata": {},
   "outputs": [
    {
     "name": "stdout",
     "output_type": "stream",
     "text": [
      "Counters:\n",
      "  ProjectedGNCG.activeSet                 :       23\n",
      "  ProjectedGNCG.doEndIteration            :       23\n",
      "  ProjectedGNCG.doStartIteration          :       23\n",
      "  ProjectedGNCG.projection                :       95\n",
      "  ProjectedGNCG.scaleSearchDirection      :       23\n",
      "\n",
      "Times:                                        mean      sum\n",
      "  EM1D.Jtvec_approx                       : 4.30e-04, 4.51e-02,  105x\n",
      "  EM1D.Jvec_approx                        : 5.21e-04, 5.48e-02,  105x\n",
      "  ProjectedGNCG.findSearchDirection       : 2.55e-02, 5.85e-01,   23x\n",
      "  ProjectedGNCG.minimize                  : 2.88e+01, 2.88e+01,    1x\n",
      "  ProjectedGNCG.modifySearchDirection     : 3.49e-01, 8.02e+00,   23x\n"
     ]
    }
   ],
   "source": [
    "opt.counter.summary()\n",
    "xc = opt.recall('xc')"
   ]
  },
  {
   "cell_type": "code",
   "execution_count": 22,
   "metadata": {},
   "outputs": [
    {
     "data": {
      "text/plain": [
       "[<matplotlib.lines.Line2D at 0x112eeba58>]"
      ]
     },
     "execution_count": 22,
     "metadata": {},
     "output_type": "execute_result"
    },
    {
     "data": {
      "image/png": "[encoded data removed]",
      "text/plain": [
       "<matplotlib.figure.Figure at 0x113465dd8>"
      ]
     },
     "metadata": {},
     "output_type": "display_data"
    }
   ],
   "source": [
    "fig, ax = subplots(1,1, figsize=(5, 8))\n",
    "Utils1D.plotLayer(1./sig, LocSigZ)\n",
    "Utils1D.plotLayer(1./(expmap*mopt), LocSigZ, showlayers=False, **{'color':'r'})\n",
    "Utils1D.plotLayer(1./(expmap*invProb.l2model), LocSigZ, showlayers=False, **{'color':'b', 'lw':1.})"
   ]
  },
  {
   "cell_type": "code",
   "execution_count": 23,
   "metadata": {},
   "outputs": [],
   "source": [
    "# fig, ax = subplots(1,1, figsize=(5, 8))\n",
    "# Utils1D.plotLayer(sig, LocSigZ)\n",
    "# Utils1D.plotLayer(expmap*invProb.l2model, LocSigZ, showlayers=True, **{'color':'r'})"
   ]
  },
  {
   "cell_type": "code",
   "execution_count": 24,
   "metadata": {},
   "outputs": [
    {
     "data": {
      "image/png": "[encoded data removed]",
      "text/plain": [
       "<matplotlib.figure.Figure at 0x112e78898>"
      ]
     },
     "metadata": {},
     "output_type": "display_data"
    }
   ],
   "source": [
    "fig, axes = subplots(1,1, figsize = (7,5))\n",
    "axes.plot(TDsurvey.time, -invProb.dpred[:TDsurvey.n_time], '.-')\n",
    "axes.plot(TDsurvey.time_dual_moment, -invProb.dpred[TDsurvey.n_time:], '.-')\n",
    "axes.plot(TDsurvey.time, -TDsurvey.dobs[:TDsurvey.n_time], 'x')\n",
    "axes.plot(TDsurvey.time_dual_moment, -TDsurvey.dobs[TDsurvey.n_time:], 'x')\n",
    "\n",
    "axes.set_xscale('log');\n",
    "axes.set_yscale('log');"
   ]
  }
 ],
 "metadata": {
  "kernelspec": {
   "display_name": "Python 3",
   "language": "python",
   "name": "python3"
  },
  "language_info": {
   "codemirror_mode": {
    "name": "ipython",
    "version": 3
   },
   "file_extension": ".py",
   "mimetype": "text/x-python",
   "name": "python",
   "nbconvert_exporter": "python",
   "pygments_lexer": "ipython3",
   "version": "3.6.4"
  }
 },
 "nbformat": 4,
 "nbformat_minor": 1
}
