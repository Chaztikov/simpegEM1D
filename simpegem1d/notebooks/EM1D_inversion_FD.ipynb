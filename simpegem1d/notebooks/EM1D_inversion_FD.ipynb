{
 "cells": [
  {
   "cell_type": "code",
   "execution_count": 1,
   "metadata": {},
   "outputs": [],
   "source": [
    "from SimPEG import *\n",
    "from simpegem1d import *\n",
    "from scipy.constants import mu_0\n",
    "import numpy as np\n",
    "\n",
    "sig_half = 1e-1\n",
    "sig_blk = 1e0\n",
    "\n",
    "# frequency = np.array([382, 1822, 7970, 35920, 130100], dtype=float)\n",
    "frequency = np.logspace(np.log10(382), np.log10(130100), 5)\n",
    "hz = get_vertical_discretization_frequency(frequency, sigma_background=sig_half)\n",
    "mesh1D = set_mesh_1d(hz)\n",
    "depth = -mesh1D.gridN[:-1]\n",
    "LocSigZ = -mesh1D.gridCC\n",
    "\n",
    "FDsurvey = EM1DSurveyFD(\n",
    "    rx_location = np.array([0., 0., 100.+30.]),\n",
    "    src_location = np.array([0., 0., 100.+30.]),\n",
    "    field_type = 'secondary',\n",
    "    rx_type = 'Hz',\n",
    "    src_type = 'VMD',\n",
    "    offset = np.ones(frequency.size)*7.86,\n",
    "    topo = np.r_[0., 0., 100.],\n",
    "    depth = depth,\n",
    "    frequency = frequency\n",
    ")\n",
    "\n",
    "chi_half = 0.\n",
    "wires = Maps.Wires(('sigma', mesh1D.nC),('h', 1))\n",
    "expmap = Maps.ExpMap(mesh1D)\n",
    "# expmap_h = Maps.ExpMap(nP=1)\n",
    "sigmaMap = expmap * wires.sigma\n",
    "# hMap = expmap_h*wires.h\n",
    "sig  = np.ones(FDsurvey.n_layer)*sig_half\n",
    "blk_ind = (-20>LocSigZ) & (-40<LocSigZ)\n",
    "sig[blk_ind] = sig_blk\n",
    "m_true = np.r_[np.log(sig), FDsurvey.h]\n",
    "m_true_dh = np.r_[np.log(sig), FDsurvey.h + 5.]\n",
    "dh = 0.01\n",
    "m_dx_p = np.r_[np.log(sig), FDsurvey.h+dh/2]\n",
    "m_dx_n = np.r_[np.log(sig), FDsurvey.h-dh/2]"
   ]
  },
  {
   "cell_type": "code",
   "execution_count": 2,
   "metadata": {},
   "outputs": [],
   "source": [
    "prob = EM1D(\n",
    "    mesh1D, sigmaMap=sigmaMap, hMap=wires.h, filter_type='key_101',\n",
    "    jacSwitch=True,\n",
    "    chi= np.zeros(FDsurvey.n_layer)\n",
    ")\n",
    "if prob.ispaired:\n",
    "    prob.unpair()\n",
    "if FDsurvey.ispaired:\n",
    "    FDsurvey.unpair()\n",
    "prob.pair(FDsurvey)     \n",
    "d_true = FDsurvey.dpred(m_true)\n",
    "d_p = FDsurvey.dpred(m_dx_p)\n",
    "d_n = FDsurvey.dpred(m_dx_n)\n",
    "d_dh = FDsurvey.dpred(m_true_dh)"
   ]
  },
  {
   "cell_type": "code",
   "execution_count": 3,
   "metadata": {},
   "outputs": [
    {
     "data": {
      "text/plain": [
       "[<matplotlib.lines.Line2D at 0x11d1a8d30>]"
      ]
     },
     "execution_count": 3,
     "metadata": {},
     "output_type": "execute_result"
    },
    {
     "data": {
      "image/png": "[encoded data removed]",
      "text/plain": [
       "<matplotlib.figure.Figure at 0x1104fea58>"
      ]
     },
     "metadata": {},
     "output_type": "display_data"
    }
   ],
   "source": [
    "J_h_diff = (d_p-d_n) / (dh)\n",
    "plt.plot(J_h_diff, 'k')\n",
    "plt.plot(prob.getJ_height(m_true), 'bx')"
   ]
  },
  {
   "cell_type": "code",
   "execution_count": 5,
   "metadata": {},
   "outputs": [
    {
     "data": {
      "image/png": "[encoded data removed]",
      "text/plain": [
       "<matplotlib.figure.Figure at 0x11d2e5a20>"
      ]
     },
     "metadata": {},
     "output_type": "display_data"
    }
   ],
   "source": [
    "fig, axes = plt.subplots(1,1, figsize = (7,5))\n",
    "axes.plot(FDsurvey.frequency, -d_true[0:FDsurvey.n_frequency], 'k.-')\n",
    "axes.plot(FDsurvey.frequency, -d_true[FDsurvey.n_frequency:], 'b.-')\n",
    "axes.plot(FDsurvey.frequency, -d_dh[0:FDsurvey.n_frequency], 'kx')\n",
    "axes.plot(FDsurvey.frequency, -d_dh[FDsurvey.n_frequency:], 'bx')\n",
    "axes.set_xscale('log')"
   ]
  },
  {
   "cell_type": "code",
   "execution_count": 6,
   "metadata": {},
   "outputs": [],
   "source": [
    "# prob.get_threshold(uncert)"
   ]
  },
  {
   "cell_type": "code",
   "execution_count": 7,
   "metadata": {},
   "outputs": [],
   "source": [
    "from SimPEG import Regularization"
   ]
  },
  {
   "cell_type": "code",
   "execution_count": 13,
   "metadata": {
    "scrolled": false
   },
   "outputs": [
    {
     "name": "stdout",
     "output_type": "stream",
     "text": [
      "SimPEG.DataMisfit.l2_DataMisfit assigning default eps of 1e-5 * ||dobs||\n",
      "SimPEG.InvProblem will set Regularization.mref to m0.\n",
      "SimPEG.InvProblem will set Regularization.mref to m0.\n",
      "\n",
      "    SimPEG.InvProblem is setting bfgsH0 to the inverse of the eval2Deriv.\n",
      "    ***Done using same Solver and solverOpts as the problem***\n",
      "model has any nan: 0\n",
      "=============================== Projected GNCG ===============================\n",
      "  #     beta     phi_d     phi_m       f      |proj(x-g)-x|  LS    Comment   \n",
      "-----------------------------------------------------------------------------\n",
      "x0 has any nan: 0\n",
      "   0  2.89e+00  1.49e+02  0.00e+00  1.49e+02    6.71e+01      0              \n"
     ]
    },
    {
     "name": "stderr",
     "output_type": "stream",
     "text": [
      "/Users/sgkang/Projects/simpeg/SimPEG/Directives.py:896: UserWarning: Without a Linear preconditioner, convergence may be slow. Consider adding `Directives.UpdatePreconditioner` to your directives list\n",
      "  \"Without a Linear preconditioner, convergence may be slow. \"\n"
     ]
    },
    {
     "name": "stdout",
     "output_type": "stream",
     "text": [
      "   1  2.89e+00  4.45e+01  5.12e+00  5.92e+01    2.46e+01      0              \n",
      "   2  1.44e+00  1.60e+01  8.68e+00  2.86e+01    2.70e+01      0              \n",
      "   3  1.44e+00  1.37e+01  6.64e+00  2.33e+01    1.51e+01      0              \n",
      "   4  7.22e-01  7.59e+00  7.20e+00  1.28e+01    1.58e+01      0   Skip BFGS  \n",
      "Reached starting chifact with l2-norm regularization: Start IRLS steps...\n",
      "eps_p: 4.113079766180274 eps_q: 4.113079766180274\n",
      "eps_p: 4.113079766180274 eps_q: 4.113079766180274\n",
      ">> Fix Jmatrix\n",
      "Eps_p: 3.427566471816895\n",
      "Eps_q: 3.427566471816895\n",
      "Eps_p: 3.427566471816895\n",
      "Eps_q: 3.427566471816895\n",
      "delta phim:    inf\n",
      "   5  7.22e-01  1.79e+00  1.02e+01  9.18e+00    8.26e+00      0   Skip BFGS  \n",
      ">> Fix Jmatrix\n",
      "Eps_p: 2.856305393180746\n",
      "Eps_q: 2.856305393180746\n",
      "Eps_p: 2.856305393180746\n",
      "Eps_q: 2.856305393180746\n",
      "delta phim: 6.390e-01\n",
      "   6  1.96e+00  1.46e+00  1.09e+01  2.29e+01    8.32e+00      0   Skip BFGS  \n",
      ">> Fix Jmatrix\n",
      "Eps_p: 2.3802544943172883\n",
      "Eps_q: 2.3802544943172883\n",
      "Eps_p: 2.3802544943172883\n",
      "Eps_q: 2.3802544943172883\n",
      "delta phim: 3.544e-02\n",
      "   7  3.50e+00  3.19e+00  9.38e+00  3.60e+01    8.11e+00      0              \n",
      ">> Fix Jmatrix\n",
      "Eps_p: 1.9835454119310736\n",
      "Eps_q: 1.9835454119310736\n",
      "Eps_p: 1.9835454119310736\n",
      "Eps_q: 1.9835454119310736\n",
      "delta phim: 1.067e-01\n",
      "   8  5.92e+00  3.61e+00  8.91e+00  5.63e+01    1.46e+01      0              \n",
      ">> Fix Jmatrix\n",
      "Eps_p: 1.6529545099425613\n",
      "Eps_q: 1.6529545099425613\n",
      "Eps_p: 1.6529545099425613\n",
      "Eps_q: 1.6529545099425613\n",
      "delta phim: 2.711e-02\n",
      "   9  3.92e+00  6.06e+00  8.22e+00  3.83e+01    4.13e+00      0              \n",
      ">> Fix Jmatrix\n",
      "Eps_p: 1.3774620916188012\n",
      "Eps_q: 1.3774620916188012\n",
      "Eps_p: 1.3774620916188012\n",
      "Eps_q: 1.3774620916188012\n",
      "delta phim: 4.645e-02\n",
      "  10  2.38e+00  7.02e+00  7.94e+00  2.59e+01    5.32e+00      0   Skip BFGS  \n",
      ">> Fix Jmatrix\n",
      "Eps_p: 1.147885076349001\n",
      "Eps_q: 1.147885076349001\n",
      "Eps_p: 1.147885076349001\n",
      "Eps_q: 1.147885076349001\n",
      "delta phim: 1.456e-02\n",
      "  11  1.49e+00  6.67e+00  8.04e+00  1.86e+01    8.06e+00      2              \n",
      ">> Fix Jmatrix\n",
      "Eps_p: 0.9565708969575009\n",
      "Eps_q: 0.9565708969575009\n",
      "Eps_p: 0.9565708969575009\n",
      "Eps_q: 0.9565708969575009\n",
      "delta phim: 7.315e-02\n",
      "  12  9.69e-01  6.22e+00  8.00e+00  1.40e+01    9.58e+00      2              \n",
      ">> Fix Jmatrix\n",
      "Eps_p: 0.7971424141312508\n",
      "Eps_q: 0.7971424141312508\n",
      "Eps_p: 0.7971424141312508\n",
      "Eps_q: 0.7971424141312508\n",
      "delta phim: 7.449e-02\n",
      "  13  6.42e-01  6.05e+00  7.78e+00  1.10e+01    1.07e+01      3              \n",
      ">> Fix Jmatrix\n",
      "Eps_p: 0.6642853451093756\n",
      "Eps_q: 0.6642853451093756\n",
      "Eps_p: 0.6642853451093756\n",
      "Eps_q: 0.6642853451093756\n",
      "delta phim: 6.369e-02\n",
      "  14  4.42e-01  5.71e+00  7.43e+00  8.99e+00    1.11e+01      2              \n",
      ">> Fix Jmatrix\n",
      "Eps_p: 0.5535711209244797\n",
      "Eps_q: 0.5535711209244797\n",
      "Eps_p: 0.5535711209244797\n",
      "Eps_q: 0.5535711209244797\n",
      "delta phim: 6.855e-02\n",
      "  15  4.42e-01  5.43e+00  7.06e+00  8.55e+00    1.05e+01      2              \n",
      ">> Fix Jmatrix\n",
      "Eps_p: 0.4613092674370664\n",
      "Eps_q: 0.4613092674370664\n",
      "Eps_p: 0.4613092674370664\n",
      "Eps_q: 0.4613092674370664\n",
      "delta phim: 6.804e-02\n",
      "  16  4.42e-01  5.28e+00  6.66e+00  8.23e+00    1.03e+01      3   Skip BFGS  \n",
      ">> Fix Jmatrix\n",
      "Eps_p: 0.3844243895308887\n",
      "Eps_q: 0.3844243895308887\n",
      "Eps_p: 0.3844243895308887\n",
      "Eps_q: 0.3844243895308887\n",
      "delta phim: 5.889e-02\n",
      "  17  4.42e-01  5.01e+00  6.26e+00  7.78e+00    9.44e+00      2   Skip BFGS  \n",
      ">> Fix Jmatrix\n",
      "Eps_p: 0.3203536579424073\n",
      "Eps_q: 0.3203536579424073\n",
      "Eps_p: 0.3203536579424073\n",
      "Eps_q: 0.3203536579424073\n",
      "delta phim: 6.582e-02\n",
      "  18  6.96e-01  4.34e+00  5.98e+00  8.51e+00    6.46e+00      1   Skip BFGS  \n",
      ">> Fix Jmatrix\n",
      "Eps_p: 0.2669613816186727\n",
      "Eps_q: 0.2669613816186727\n",
      "Eps_p: 0.2669613816186727\n",
      "Eps_q: 0.2669613816186727\n",
      "delta phim: 8.414e-02\n",
      "  19  1.26e+00  3.08e+00  6.14e+00  1.08e+01    3.66e+00      0   Skip BFGS  \n",
      "------------------------------------------------------------------\n",
      "0 :    ft     = 1.0834e+01 <= alp*descent     = 1.0822e+01\n",
      "1 : maxIterLS =       5    <= iterLS          =      5\n",
      "------------------------- End Linesearch -------------------------\n",
      "The linesearch got broken. Boo.\n"
     ]
    }
   ],
   "source": [
    "FDsurvey.dtrue = d_true\n",
    "std = 0.07\n",
    "floor = 0.\n",
    "np.random.seed(1)\n",
    "uncert = std*abs(FDsurvey.dtrue)+floor\n",
    "noise = std*FDsurvey.dtrue*np.random.randn(FDsurvey.dtrue.size)\n",
    "FDsurvey.dobs = FDsurvey.dtrue+noise\n",
    "dmisfit = DataMisfit.l2_DataMisfit(FDsurvey)\n",
    "dmisfit.W = 1./(abs(FDsurvey.dobs)*std+floor)\n",
    "m0 = np.r_[np.log(np.ones_like(sig)*sig_half), 35.]\n",
    "reg_sigma = Regularization.Sparse(\n",
    "    mesh1D, mapping=wires.sigma\n",
    ")\n",
    "p=0.\n",
    "qx, qz = 1., 1.\n",
    "reg_sigma.norms = np.c_[p, qx, qz, 0.]\n",
    "IRLS = Directives.Update_IRLS(\n",
    "    maxIRLSiter=20, minGNiter=1, fix_Jmatrix=True, coolingRate=2, \n",
    "    betaSearch=False,\n",
    "    chifact_start = 1.\n",
    ")\n",
    "mesh_h = Mesh.TensorMesh([1])\n",
    "reg_h = Regularization.Sparse(\n",
    "    mesh_h, mapping=wires.h, \n",
    "    alpha_s = 1.\n",
    ")\n",
    "reg = reg_sigma + reg_h\n",
    "opt = Optimization.ProjectedGNCG(maxIter = 40)\n",
    "opt.maxIterLS = 5\n",
    "invProb = InvProblem.BaseInvProblem(dmisfit, reg, opt)\n",
    "beta = Directives.BetaSchedule(coolingFactor=2, coolingRate=2)\n",
    "betaest = Directives.BetaEstimate_ByEig(beta0_ratio=1.)\n",
    "target = Directives.TargetMisfit()\n",
    "update_sense = Directives.UpdateSensitivityWeights()\n",
    "# inv = Inversion.BaseInversion(invProb, directiveList=[beta,betaest,target,update_sense])\n",
    "inv = Inversion.BaseInversion(invProb, directiveList=[IRLS,betaest,update_sense])\n",
    "# inv = Inversion.BaseInversion(invProb, directiveList=[IRLS])\n",
    "\n",
    "prob.counter = opt.counter = Utils.Counter()\n",
    "opt.LSshorten = 0.5\n",
    "opt.remember('xc')\n",
    "mopt = inv.run(m0)"
   ]
  },
  {
   "cell_type": "code",
   "execution_count": 14,
   "metadata": {},
   "outputs": [
    {
     "name": "stdout",
     "output_type": "stream",
     "text": [
      "[35.]\n",
      "[31.18867094]\n",
      "30.0\n"
     ]
    }
   ],
   "source": [
    "print (wires.h*m0)\n",
    "print (wires.h*mopt)\n",
    "print (FDsurvey.h)"
   ]
  },
  {
   "cell_type": "code",
   "execution_count": 15,
   "metadata": {},
   "outputs": [
    {
     "name": "stdout",
     "output_type": "stream",
     "text": [
      "Populating the interactive namespace from numpy and matplotlib\n"
     ]
    },
    {
     "name": "stderr",
     "output_type": "stream",
     "text": [
      "/Users/sgkang/anaconda2/envs/simpeg/lib/python3.6/site-packages/IPython/core/magics/pylab.py:160: UserWarning: pylab import has clobbered these variables: ['std', 'inv', 'beta', 'floor', 'axes']\n",
      "`%matplotlib` prevents importing * from pylab and numpy\n",
      "  \"\\n`%matplotlib` prevents importing * from pylab and numpy\"\n"
     ]
    },
    {
     "data": {
      "text/plain": [
       "[<matplotlib.lines.Line2D at 0x11d78a278>]"
      ]
     },
     "execution_count": 15,
     "metadata": {},
     "output_type": "execute_result"
    },
    {
     "data": {
      "image/png": "[encoded data removed]",
      "text/plain": [
       "<matplotlib.figure.Figure at 0x11d6a4dd8>"
      ]
     },
     "metadata": {},
     "output_type": "display_data"
    }
   ],
   "source": [
    "%pylab inline\n",
    "fig, ax = subplots(1,1, figsize=(5, 8))\n",
    "Utils1D.plotLayer(sig, LocSigZ, showlayers=False)\n",
    "Utils1D.plotLayer(sigmaMap*mopt, LocSigZ, showlayers=True, **{'color':'r'})\n",
    "# Utils1D.plotLayer(sigmaMap*invProb.l2model, LocSigZ, showlayers=True,**{'color':'g'})"
   ]
  },
  {
   "cell_type": "code",
   "execution_count": 11,
   "metadata": {
    "scrolled": false
   },
   "outputs": [],
   "source": [
    "# !python run_em1d.py"
   ]
  },
  {
   "cell_type": "code",
   "execution_count": 12,
   "metadata": {},
   "outputs": [
    {
     "data": {
      "image/png": "[encoded data removed]",
      "text/plain": [
       "<matplotlib.figure.Figure at 0x11d4044a8>"
      ]
     },
     "metadata": {},
     "output_type": "display_data"
    }
   ],
   "source": [
    "fig, axes = subplots(1,1, figsize = (7,5))\n",
    "axes.plot(FDsurvey.frequency, -d_true[0:FDsurvey.n_frequency], 'k.-')\n",
    "axes.plot(FDsurvey.frequency, -d_true[FDsurvey.n_frequency:], 'b.-')\n",
    "axes.plot(FDsurvey.frequency, -FDsurvey.dobs[0:FDsurvey.n_frequency], 'ko')\n",
    "axes.plot(FDsurvey.frequency, -FDsurvey.dobs[FDsurvey.n_frequency:], 'bo')\n",
    "# axes.plot(FDsurvey.frequency, uncert[0:FDsurvey.n_frequency], 'k*')\n",
    "# axes.plot(FDsurvey.frequency, uncert[FDsurvey.n_frequency:], 'r*')\n",
    "axes.set_xscale('log')"
   ]
  },
  {
   "cell_type": "code",
   "execution_count": null,
   "metadata": {},
   "outputs": [],
   "source": []
  }
 ],
 "metadata": {
  "kernelspec": {
   "display_name": "Python 3",
   "language": "python",
   "name": "python3"
  },
  "language_info": {
   "codemirror_mode": {
    "name": "ipython",
    "version": 3
   },
   "file_extension": ".py",
   "mimetype": "text/x-python",
   "name": "python",
   "nbconvert_exporter": "python",
   "pygments_lexer": "ipython3",
   "version": "3.6.4"
  }
 },
 "nbformat": 4,
 "nbformat_minor": 1
}
