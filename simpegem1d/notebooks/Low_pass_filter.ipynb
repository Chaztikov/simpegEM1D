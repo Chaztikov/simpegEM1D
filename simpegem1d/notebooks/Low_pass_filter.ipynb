{
 "cells": [
  {
   "cell_type": "code",
   "execution_count": 1,
   "metadata": {},
   "outputs": [
    {
     "ename": "IndentationError",
     "evalue": "expected an indented block (Survey.py, line 294)",
     "output_type": "error",
     "traceback": [
      "Traceback \u001b[0;36m(most recent call last)\u001b[0m:\n",
      "  File \u001b[1;32m\"/Users/sgkang/anaconda2/envs/simpeg/lib/python3.6/site-packages/IPython/core/interactiveshell.py\"\u001b[0m, line \u001b[1;32m2910\u001b[0m, in \u001b[1;35mrun_code\u001b[0m\n    exec(code_obj, self.user_global_ns, self.user_ns)\n",
      "  File \u001b[1;32m\"<ipython-input-1-c0ef61fb71c6>\"\u001b[0m, line \u001b[1;32m3\u001b[0m, in \u001b[1;35m<module>\u001b[0m\n    from simpegem1d import EM1DAnalytics\n",
      "  File \u001b[1;32m\"/Users/sgkang/Projects/simpegEM1D/simpegem1d/__init__.py\"\u001b[0m, line \u001b[1;32m1\u001b[0m, in \u001b[1;35m<module>\u001b[0m\n    from .EM1D import EM1D\n",
      "\u001b[0;36m  File \u001b[0;32m\"/Users/sgkang/Projects/simpegEM1D/simpegem1d/EM1D.py\"\u001b[0;36m, line \u001b[0;32m3\u001b[0;36m, in \u001b[0;35m<module>\u001b[0;36m\u001b[0m\n\u001b[0;31m    from .Survey import BaseEM1DSurvey\u001b[0m\n",
      "\u001b[0;36m  File \u001b[0;32m\"/Users/sgkang/Projects/simpegEM1D/simpegem1d/Survey.py\"\u001b[0;36m, line \u001b[0;32m294\u001b[0m\n\u001b[0;31m    self.frequency = frequency\u001b[0m\n\u001b[0m       ^\u001b[0m\n\u001b[0;31mIndentationError\u001b[0m\u001b[0;31m:\u001b[0m expected an indented block\n"
     ]
    }
   ],
   "source": [
    "import numpy as np\n",
    "from scipy.interpolate import interp1d\n",
    "from simpegem1d import EM1DAnalytics\n",
    "%pylab inline"
   ]
  },
  {
   "cell_type": "code",
   "execution_count": null,
   "metadata": {},
   "outputs": [],
   "source": [
    "type(np.nan)"
   ]
  },
  {
   "cell_type": "code",
   "execution_count": 517,
   "metadata": {},
   "outputs": [
    {
     "data": {
      "text/plain": [
       "[<matplotlib.lines.Line2D at 0x123f01438>]"
      ]
     },
     "execution_count": 517,
     "metadata": {},
     "output_type": "execute_result"
    },
    {
     "data": {
      "image/png": "[encoded data removed]",
      "text/plain": [
       "<matplotlib.figure.Figure at 0x1224e3eb8>"
      ]
     },
     "metadata": {},
     "output_type": "display_data"
    }
   ],
   "source": [
    "plt.semilogx(frequency, abs(h), 'k-')"
   ]
  },
  {
   "cell_type": "code",
   "execution_count": 561,
   "metadata": {},
   "outputs": [],
   "source": [
    "from simpegem1d import transFiltImpulse, transFilt, setFrequency, HzanalCirc\n",
    "from scipy.constants import mu_0\n",
    "from scipy.interpolate import interp1d\n",
    "from scipy.signal import butter, freqz\n",
    "\n",
    "def butter_lowpass(highcut_frequency, fs=1e6, period=0.04, order=1):\n",
    "    \"\"\"\n",
    "    Butterworth low pass filter\n",
    "    \n",
    "    Parameters\n",
    "    ----------\n",
    "    \n",
    "    highcut_frequency: float\n",
    "        high-cut frequency for the low pass filter\n",
    "    fs: float\n",
    "        sampling rate, 1./ dt, (default = 1MHz) \n",
    "    period: \n",
    "        period of the signal (e.g. 25Hz base frequency, 0.04s)\n",
    "    order: int\n",
    "        The order of the butterworth filter\n",
    "    \n",
    "    Returns\n",
    "    -------\n",
    "    \n",
    "    frequency, h: ndarray, ndarray\n",
    "        Filter values (`h`) at frequencies (`frequency`) are provided.\n",
    "    \"\"\"\n",
    "    # Nyquist frequency\n",
    "    nyq = 0.5 * fs\n",
    "    n_samples = period * fs    \n",
    "    high = highcut_frequency / nyq\n",
    "    b, a = butter(order, high, btype='low')\n",
    "    w, h = freqz(b, a, worN=int(n_samples))\n",
    "    frequency = (fs * 0.5 / np.pi) * w\n",
    "    \n",
    "    return frequency, h\n",
    "\n",
    "def dBzdtAnalCircTCole(a, t, sigma, highcut_frequency=None):\n",
    "\n",
    "    wt, tbase, omega_int = setFrequency(t)\n",
    "    hz = HzanalCirc(sigma, omega_int/2/np.pi, 1., a, 'secondary')\n",
    "    # Treatment for inaccuracy in analytic solutions\n",
    "    ind = omega_int < 0.2\n",
    "    hz[ind] = 0.\n",
    "    if highcut_frequency is not None:\n",
    "        frequency, values = butter_lowpass(highcut_frequency)\n",
    "        lowpass_func = interp1d(frequency*2*pi, values, fill_value='extrapolate')\n",
    "        lowpass_filter = lowpass_func(omega_int)\n",
    "        hz *= lowpass_filter\n",
    "        \n",
    "    dhzdtTD = -transFiltImpulse(hz, wt, tbase, omega_int, t)\n",
    "\n",
    "    return dhzdtTD*mu_0"
   ]
  },
  {
   "cell_type": "code",
   "execution_count": 569,
   "metadata": {},
   "outputs": [],
   "source": [
    "butter??"
   ]
  },
  {
   "cell_type": "code",
   "execution_count": 559,
   "metadata": {},
   "outputs": [],
   "source": [
    "time = np.logspace(-5, -2, 61)"
   ]
  },
  {
   "cell_type": "code",
   "execution_count": 562,
   "metadata": {},
   "outputs": [],
   "source": [
    "sigma = 1e-3\n",
    "out_lowpass_10k = dBzdtAnalCircTCole(13., time, sigma, highcut_frequency=1e4)\n",
    "out_lowpass_70k = dBzdtAnalCircTCole(13., time, sigma, highcut_frequency=7e4)\n",
    "out_lowpass_100k = dBzdtAnalCircTCole(13., time, sigma, highcut_frequency=1e5)\n",
    "out_lowpass_210k = dBzdtAnalCircTCole(13., time, sigma, highcut_frequency=210*1e3)\n",
    "out = dBzdtAnalCircTCole(13., time, sigma, highcut_frequency=None)"
   ]
  },
  {
   "cell_type": "code",
   "execution_count": 563,
   "metadata": {},
   "outputs": [
    {
     "data": {
      "text/plain": [
       "[<matplotlib.lines.Line2D at 0x12a0c24a8>]"
      ]
     },
     "execution_count": 563,
     "metadata": {},
     "output_type": "execute_result"
    },
    {
     "data": {
      "image/png": "[encoded data removed]",
      "text/plain": [
       "<matplotlib.figure.Figure at 0x12a0bb6d8>"
      ]
     },
     "metadata": {},
     "output_type": "display_data"
    }
   ],
   "source": [
    "plt.loglog(time, -out, 'k-', lw=4)\n",
    "plt.loglog(time, -out_lowpass_10k, 'b')\n",
    "plt.loglog(time, -out_lowpass_70k, 'g')\n",
    "plt.loglog(time, -out_lowpass_100k, 'r.')\n",
    "plt.loglog(time, -out_lowpass_210k, 'yx')"
   ]
  },
  {
   "cell_type": "code",
   "execution_count": 539,
   "metadata": {},
   "outputs": [],
   "source": [
    "def v_step(time):\n",
    "    return EM1DAnalytics.dBzdtAnalCircTCole(\n",
    "    10., time, 1e-2\n",
    "    )"
   ]
  },
  {
   "cell_type": "code",
   "execution_count": 540,
   "metadata": {},
   "outputs": [],
   "source": [
    "from scipy.integrate import fixed_quad, quadrature\n",
    "t0 = 1e-3"
   ]
  },
  {
   "cell_type": "code",
   "execution_count": 541,
   "metadata": {},
   "outputs": [],
   "source": [
    "time = np.logspace(-4, -2, 21)"
   ]
  },
  {
   "cell_type": "code",
   "execution_count": 542,
   "metadata": {},
   "outputs": [],
   "source": [
    "from simpegem1d import skytem_HM_2015\n",
    "wave = skytem_HM_2015()"
   ]
  },
  {
   "cell_type": "code",
   "execution_count": 543,
   "metadata": {},
   "outputs": [
    {
     "data": {
      "text/plain": [
       "[<matplotlib.lines.Line2D at 0x127297828>]"
      ]
     },
     "execution_count": 543,
     "metadata": {},
     "output_type": "execute_result"
    },
    {
     "data": {
      "image/png": "[encoded data removed]",
      "text/plain": [
       "<matplotlib.figure.Figure at 0x12538dc88>"
      ]
     },
     "metadata": {},
     "output_type": "display_data"
    }
   ],
   "source": [
    "plt.plot(wave.current_times[-7:], wave.currents[-7:], 'k.-')"
   ]
  },
  {
   "cell_type": "code",
   "execution_count": 544,
   "metadata": {},
   "outputs": [
    {
     "data": {
      "text/plain": [
       "0.196368"
      ]
     },
     "execution_count": 544,
     "metadata": {},
     "output_type": "execute_result"
    }
   ],
   "source": [
    "wave.current_times[-7:].max() * 1e3"
   ]
  },
  {
   "cell_type": "code",
   "execution_count": 545,
   "metadata": {},
   "outputs": [],
   "source": [
    "t0s = np.diff(wave.currents[-7:]) / np.diff(wave.current_times[-7:])\n",
    "Tp = wave.current_times[-7:].max()-wave.current_times[-7:].min()"
   ]
  },
  {
   "cell_type": "code",
   "execution_count": 546,
   "metadata": {},
   "outputs": [
    {
     "data": {
      "text/plain": [
       "[<matplotlib.lines.Line2D at 0x129f35080>]"
      ]
     },
     "execution_count": 546,
     "metadata": {},
     "output_type": "execute_result"
    },
    {
     "data": {
      "image/png": "[encoded data removed]",
      "text/plain": [
       "<matplotlib.figure.Figure at 0x124d8edd8>"
      ]
     },
     "metadata": {},
     "output_type": "display_data"
    }
   ],
   "source": [
    "plt.plot(wave.current_times[-7:][1:], t0s, 'kx-')"
   ]
  },
  {
   "cell_type": "code",
   "execution_count": 547,
   "metadata": {},
   "outputs": [],
   "source": [
    "from scipy.integrate import fixed_quad\n",
    "step_func = v_step_exp\n",
    "# T = 1./25.\n",
    "t_off = np.logspace(-5, -2, 31)\n",
    "t_currents = np.r_[0., 0.002, 0.004]\n",
    "T = t_currents.max()\n",
    "currents = np.r_[0., 1., 0.]\n",
    "\n",
    "def piecewise_ramp(step_func, t_off, t_currents, currents, n=20, eps=1e-10):\n",
    "    \"\"\"\n",
    "    Computes response from piecewise linear current waveform with a single pulse.\n",
    "    This basically evaluates the convolution between dI/dt and step-off response.\n",
    "    \n",
    "    step_func: function handle to evaluate step-off response\n",
    "    t_off: time channels when the current is off\n",
    "    currents: input source currents\n",
    "    n: Gaussian quadrature order\n",
    "    \"\"\"\n",
    "    dt = np.diff(t_currents)\n",
    "    dI = np.diff(currents)\n",
    "    dIdt = dI/dt\n",
    "    nt = t_currents.size\n",
    "    response = np.zeros(t_off.size, dtype=float)\n",
    "    pulse_time = t_currents.max()\n",
    "    \n",
    "    for i in range(1, nt):\n",
    "        t_lag = pulse_time - t_currents[i]\n",
    "        time = t_lag + t_off\n",
    "        t0 = dt[i-1]\n",
    "        const = -dIdt[i-1]\n",
    "        if abs(const) > eps:\n",
    "            response += np.array([fixed_quad(step_func, t, t+t0, n=20)[0] for t in time]) * const        \n",
    "    return response\n",
    "\n",
    "def double_pulse(step_func, t_off, t_currents, currents, T, n=20):\n",
    "    \"\"\"\n",
    "    Computes response from double pulses (negative then positive)\n",
    "    T: Period (e.g. 25 Hz base frequency, 0.04 s period)    \n",
    "    \"\"\"\n",
    "    response_double = (\n",
    "        piecewise_ramp(step_func, t_off, t_currents, currents, n=n)\n",
    "        -piecewise_ramp(step_func, t_off+T/2., t_currents, currents, n=n) * 0.5\n",
    "    )\n",
    "    return response_double"
   ]
  },
  {
   "cell_type": "code",
   "execution_count": 548,
   "metadata": {},
   "outputs": [
    {
     "data": {
      "text/plain": [
       "[<matplotlib.lines.Line2D at 0x129e8ff28>]"
      ]
     },
     "execution_count": 548,
     "metadata": {},
     "output_type": "execute_result"
    },
    {
     "data": {
      "image/png": "[encoded data removed]",
      "text/plain": [
       "<matplotlib.figure.Figure at 0x129ef4fd0>"
      ]
     },
     "metadata": {},
     "output_type": "display_data"
    }
   ],
   "source": [
    "# single pulse\n",
    "response_single = piecewise_ramp(v_step_exp, t_off, t_currents, currents)\n",
    "response_single_true = v_ramp_off_exp(t_off, 2e-3)-v_ramp_off_exp(t_off+0.002, 2e-3)\n",
    "# double pulse\n",
    "response_double = double_pulse(v_step_exp, t_off, t_currents, currents, T)\n",
    "\n",
    "response_double_true = (\n",
    "    v_ramp_off_exp(t_off, 2e-3)-v_ramp_off_exp(t_off+0.002, 2e-3)+\n",
    "    -(v_ramp_off_exp(t_off+T/2., 2e-3)-v_ramp_off_exp(t_off+0.002+T/2, 2e-3)) * 0.5\n",
    ")\n",
    "plt.loglog(t_off, response_double, 'k')\n",
    "plt.loglog(t_off, response_double_true, 'r.')\n",
    "\n",
    "plt.loglog(t_off, response_single, 'k')\n",
    "plt.loglog(t_off, response_single_true, 'r.')"
   ]
  },
  {
   "cell_type": "code",
   "execution_count": 549,
   "metadata": {},
   "outputs": [
    {
     "name": "stdout",
     "output_type": "stream",
     "text": [
      "CPU times: user 1.6 ms, sys: 22 µs, total: 1.62 ms\n",
      "Wall time: 1.61 ms\n"
     ]
    }
   ],
   "source": [
    "%%time\n",
    "response_single = piecewise_ramp(v_step_l, t_off, t_currents, currents)"
   ]
  },
  {
   "cell_type": "code",
   "execution_count": 550,
   "metadata": {},
   "outputs": [
    {
     "data": {
      "text/plain": [
       "[<matplotlib.lines.Line2D at 0x1284d3780>]"
      ]
     },
     "execution_count": 550,
     "metadata": {},
     "output_type": "execute_result"
    },
    {
     "data": {
      "image/png": "[encoded data removed]",
      "text/plain": [
       "<matplotlib.figure.Figure at 0x1284c0128>"
      ]
     },
     "metadata": {},
     "output_type": "display_data"
    }
   ],
   "source": [
    "# single pulse\n",
    "response_single = piecewise_ramp(v_step_l, t_off, t_currents, currents)\n",
    "response_single_true = v_ramp_off_l(t_off, 2e-3)-v_ramp_off_l(t_off+0.002, 2e-3)\n",
    "# double pulse\n",
    "response_double = double_pulse(v_step_l, t_off, t_currents, currents, T)\n",
    "response_double_true = (\n",
    "    v_ramp_off_l(t_off, 2e-3)-v_ramp_off_l(t_off+0.002, 2e-3)+\n",
    "    -(v_ramp_off_l(t_off+T/2., 2e-3)-v_ramp_off_l(t_off+0.002+T/2, 2e-3)) * 0.5\n",
    ")\n",
    "plt.loglog(t_off, response_double, 'k')\n",
    "plt.loglog(t_off, response_double_true, 'r.')\n",
    "\n",
    "plt.loglog(t_off, response_single, 'k')\n",
    "plt.loglog(t_off, response_single_true, 'r.')"
   ]
  },
  {
   "cell_type": "code",
   "execution_count": 551,
   "metadata": {},
   "outputs": [
    {
     "name": "stdout",
     "output_type": "stream",
     "text": [
      "CPU times: user 323 ms, sys: 3.09 ms, total: 326 ms\n",
      "Wall time: 330 ms\n"
     ]
    }
   ],
   "source": [
    "%%time\n",
    "response_single_true = piecewise_ramp(v_step, t_off, t_currents, currents, n=5)\n"
   ]
  },
  {
   "cell_type": "code",
   "execution_count": 552,
   "metadata": {},
   "outputs": [
    {
     "name": "stdout",
     "output_type": "stream",
     "text": [
      "CPU times: user 358 ms, sys: 4.72 ms, total: 363 ms\n",
      "Wall time: 399 ms\n"
     ]
    }
   ],
   "source": [
    "%%time\n",
    "response_single_true = piecewise_ramp(v_step, t_off, t_currents, currents, n=20)\n"
   ]
  },
  {
   "cell_type": "code",
   "execution_count": 553,
   "metadata": {},
   "outputs": [
    {
     "data": {
      "text/plain": [
       "[<matplotlib.lines.Line2D at 0x12a00acc0>]"
      ]
     },
     "execution_count": 553,
     "metadata": {},
     "output_type": "execute_result"
    },
    {
     "data": {
      "image/png": "[encoded data removed]",
      "text/plain": [
       "<matplotlib.figure.Figure at 0x12936c4a8>"
      ]
     },
     "metadata": {},
     "output_type": "display_data"
    }
   ],
   "source": [
    "# single pulse\n",
    "response_single = piecewise_ramp(v_step, t_off, t_currents, currents, n=20)\n",
    "\n",
    "plt.loglog(t_off, -response_single, 'k')\n",
    "plt.loglog(t_off, -response_single_true, 'r.')"
   ]
  }
 ],
 "metadata": {
  "kernelspec": {
   "display_name": "Python 3",
   "language": "python",
   "name": "python3"
  },
  "language_info": {
   "codemirror_mode": {
    "name": "ipython",
    "version": 3
   },
   "file_extension": ".py",
   "mimetype": "text/x-python",
   "name": "python",
   "nbconvert_exporter": "python",
   "pygments_lexer": "ipython3",
   "version": "3.6.4"
  }
 },
 "nbformat": 4,
 "nbformat_minor": 2
}
