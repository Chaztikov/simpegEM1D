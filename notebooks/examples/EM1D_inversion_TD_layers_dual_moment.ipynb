{
 "cells": [
  {
   "cell_type": "code",
   "execution_count": 18,
   "metadata": {},
   "outputs": [
    {
     "name": "stdout",
     "output_type": "stream",
     "text": [
      "Populating the interactive namespace from numpy and matplotlib\n"
     ]
    },
    {
     "name": "stderr",
     "output_type": "stream",
     "text": [
      "/Users/sgkang/anaconda3/lib/python3.6/site-packages/IPython/core/magics/pylab.py:160: UserWarning: pylab import has clobbered these variables: ['e', 'axes']\n",
      "`%matplotlib` prevents importing * from pylab and numpy\n",
      "  \"\\n`%matplotlib` prevents importing * from pylab and numpy\"\n"
     ]
    }
   ],
   "source": [
    "from SimPEG import *\n",
    "from simpegEM1D import EM1D, EM1DSurveyTD, Utils1D, get_vertical_discretization_time, set_mesh_1d, piecewise_pulse\n",
    "import numpy as np\n",
    "%pylab inline"
   ]
  },
  {
   "cell_type": "code",
   "execution_count": 19,
   "metadata": {},
   "outputs": [],
   "source": [
    "from simpegEM1D import skytem_HM_2015, skytem_LM_2015\n",
    "wave_HM = skytem_HM_2015()\n",
    "wave_LM = skytem_LM_2015()\n",
    "time_HM = wave_HM.time_gate_center[0::2]\n",
    "time_LM = wave_LM.time_gate_center[0::2]\n",
    "\n",
    "hz = get_vertical_discretization_time(\n",
    "    np.unique(np.r_[time_HM, time_LM]), facter_tmax=0.5, factor_tmin=10.\n",
    ")\n",
    "mesh1D = set_mesh_1d(hz)\n",
    "depth = -mesh1D.gridN[:-1]\n",
    "LocSigZ = -mesh1D.gridCC\n",
    "\n",
    "time_input_currents_HM = wave_HM.current_times[-7:]\n",
    "input_currents_HM = wave_HM.currents[-7:]\n",
    "time_input_currents_LM = wave_LM.current_times[-13:]\n",
    "input_currents_LM = wave_LM.currents[-13:]\n",
    "\n",
    "TDsurvey = EM1DSurveyTD(\n",
    "    rx_location = np.array([0., 0., 100.+30.]),\n",
    "    src_location = np.array([0., 0., 100.+30.]),\n",
    "    topo = np.r_[0., 0., 100.],\n",
    "    depth = depth,\n",
    "    rx_type = 'dBzdt',\n",
    "    wave_type = 'general',\n",
    "    src_type = 'CircularLoop',\n",
    "    a = 13.,\n",
    "    I = 1.,\n",
    "    time = time_HM,\n",
    "    time_input_currents=time_input_currents_HM,\n",
    "    input_currents=input_currents_HM,\n",
    "    n_pulse = 2,\n",
    "    base_frequency = 25.,\n",
    "    use_lowpass_filter=True,\n",
    "    high_cut_frequency=210*1e3,\n",
    "    moment_type='dual',\n",
    "    time_dual_moment = time_HM,    \n",
    "    time_input_currents_dual_moment=time_input_currents_LM,\n",
    "    input_currents_dual_moment=input_currents_LM,\n",
    "    base_frequency_dual_moment=210,    \n",
    ")\n",
    "sig_half = 1./20.\n",
    "chi_half = 0.\n",
    "expmap = Maps.ExpMap(mesh1D)"
   ]
  },
  {
   "cell_type": "code",
   "execution_count": 20,
   "metadata": {},
   "outputs": [
    {
     "data": {
      "text/plain": [
       "[<matplotlib.lines.Line2D at 0x1a17f37240>]"
      ]
     },
     "execution_count": 20,
     "metadata": {},
     "output_type": "execute_result"
    },
    {
     "data": {
      "image/png": "[encoded data removed]",
      "text/plain": [
       "<Figure size 432x288 with 1 Axes>"
      ]
     },
     "metadata": {
      "needs_background": "light"
     },
     "output_type": "display_data"
    }
   ],
   "source": [
    "plt.plot(time_input_currents_HM, input_currents_HM, '.-')"
   ]
  },
  {
   "cell_type": "code",
   "execution_count": 21,
   "metadata": {},
   "outputs": [
    {
     "data": {
      "text/plain": [
       "[<matplotlib.lines.Line2D at 0x1a17f88390>]"
      ]
     },
     "execution_count": 21,
     "metadata": {},
     "output_type": "execute_result"
    },
    {
     "data": {
      "image/png": "[encoded data removed]",
      "text/plain": [
       "<Figure size 432x288 with 1 Axes>"
      ]
     },
     "metadata": {
      "needs_background": "light"
     },
     "output_type": "display_data"
    }
   ],
   "source": [
    "plt.plot(time_input_currents_LM, input_currents_LM, '.-')"
   ]
  },
  {
   "cell_type": "code",
   "execution_count": 22,
   "metadata": {},
   "outputs": [],
   "source": [
    "sig  = np.ones(TDsurvey.n_layer)*sig_half\n",
    "blk_ind = -10<LocSigZ\n",
    "sig[blk_ind] = 1./20.\n",
    "blk_ind = (-10>LocSigZ) & (-30<LocSigZ)\n",
    "sig[blk_ind] = 1./100\n",
    "blk_ind = (-100>LocSigZ) & (-150<LocSigZ)\n",
    "sig[blk_ind] = 1./10.\n",
    "m_true = np.log(sig)"
   ]
  },
  {
   "cell_type": "code",
   "execution_count": 23,
   "metadata": {},
   "outputs": [
    {
     "data": {
      "text/plain": [
       "Text(0.5,0,'Resistivity ($\\\\Omega$m)')"
      ]
     },
     "execution_count": 23,
     "metadata": {},
     "output_type": "execute_result"
    },
    {
     "data": {
      "image/png": "[encoded data removed]",
      "text/plain": [
       "<Figure size 360x576 with 1 Axes>"
      ]
     },
     "metadata": {
      "needs_background": "light"
     },
     "output_type": "display_data"
    }
   ],
   "source": [
    "fig, ax = subplots(1,1, figsize=(5, 8))\n",
    "Utils1D.plotLayer(1./sig, mesh1D, showlayers=False)\n",
    "ax.set_xlabel(\"Resistivity ($\\Omega$m)\")"
   ]
  },
  {
   "cell_type": "code",
   "execution_count": 24,
   "metadata": {},
   "outputs": [],
   "source": [
    "e = np.empty(100, dtype=float)"
   ]
  },
  {
   "cell_type": "code",
   "execution_count": 25,
   "metadata": {},
   "outputs": [
    {
     "data": {
      "text/plain": [
       "0.9513080761002755"
      ]
     },
     "execution_count": 25,
     "metadata": {},
     "output_type": "execute_result"
    }
   ],
   "source": [
    "e[2]"
   ]
  },
  {
   "cell_type": "code",
   "execution_count": 26,
   "metadata": {},
   "outputs": [
    {
     "data": {
      "text/plain": [
       "0.004761904761904762"
      ]
     },
     "execution_count": 26,
     "metadata": {},
     "output_type": "execute_result"
    }
   ],
   "source": [
    "TDsurvey.period_dual_moment"
   ]
  },
  {
   "cell_type": "code",
   "execution_count": 27,
   "metadata": {},
   "outputs": [
    {
     "data": {
      "text/plain": [
       "0.04"
      ]
     },
     "execution_count": 27,
     "metadata": {},
     "output_type": "execute_result"
    }
   ],
   "source": [
    "TDsurvey.period"
   ]
  },
  {
   "cell_type": "code",
   "execution_count": 28,
   "metadata": {},
   "outputs": [
    {
     "name": "stdout",
     "output_type": "stream",
     "text": [
      "CPU times: user 19.8 ms, sys: 4.28 ms, total: 24.1 ms\n",
      "Wall time: 27.4 ms\n"
     ]
    }
   ],
   "source": [
    "%%time\n",
    "prob = EM1D(mesh1D, sigmaMap=expmap, verbose=False)\n",
    "if prob.ispaired:\n",
    "    prob.unpair()\n",
    "if TDsurvey.ispaired:\n",
    "    TDsurvey.unpair()\n",
    "prob.pair(TDsurvey)\n",
    "prob.chi = np.zeros(TDsurvey.n_layer)\n",
    "d_true = TDsurvey.dpred(m_true)\n",
    "# J = prob.getJ_sigma(m_true)"
   ]
  },
  {
   "cell_type": "code",
   "execution_count": 29,
   "metadata": {},
   "outputs": [
    {
     "data": {
      "text/plain": [
       "(30,)"
      ]
     },
     "execution_count": 29,
     "metadata": {},
     "output_type": "execute_result"
    }
   ],
   "source": [
    "d_true.shape"
   ]
  },
  {
   "cell_type": "code",
   "execution_count": 30,
   "metadata": {},
   "outputs": [
    {
     "data": {
      "text/plain": [
       "Text(0,0.5,'Voltage (V/A)')"
      ]
     },
     "execution_count": 30,
     "metadata": {},
     "output_type": "execute_result"
    },
    {
     "data": {
      "image/png": "[encoded data removed]",
      "text/plain": [
       "<Figure size 504x360 with 1 Axes>"
      ]
     },
     "metadata": {
      "needs_background": "light"
     },
     "output_type": "display_data"
    }
   ],
   "source": [
    "fig, axes = subplots(1,1, figsize = (7,5))\n",
    "axes.plot(TDsurvey.time, -d_true[:TDsurvey.n_time], '.-')\n",
    "axes.plot(TDsurvey.time_dual_moment, -d_true[TDsurvey.n_time:], '.-')\n",
    "axes.set_xscale('log');\n",
    "axes.set_yscale('log');\n",
    "plt.legend((\"HM\", \"LM\"))\n",
    "axes.set_xlabel(\"Time (ms)\")\n",
    "axes.set_ylabel(\"Voltage (V/A)\")"
   ]
  },
  {
   "cell_type": "code",
   "execution_count": 31,
   "metadata": {},
   "outputs": [
    {
     "name": "stdout",
     "output_type": "stream",
     "text": [
      "SimPEG.DataMisfit.l2_DataMisfit assigning default eps of 1e-5 * ||dobs||\n"
     ]
    }
   ],
   "source": [
    "np.random.seed(1)\n",
    "TDsurvey.dtrue = d_true\n",
    "std = 0.05\n",
    "noise = std*abs(TDsurvey.dtrue)*np.random.randn(*TDsurvey.dtrue.shape)\n",
    "floor = 0.\n",
    "std = 0.07\n",
    "TDsurvey.dobs = TDsurvey.dtrue+noise\n",
    "uncert = abs(TDsurvey.dobs)*std+floor\n",
    "dmisfit = DataMisfit.l2_DataMisfit(TDsurvey)\n",
    "uncert = (abs(TDsurvey.dobs)*std+floor)\n",
    "dmisfit.W = 1./ uncert\n",
    "m0 = np.log(np.ones_like(sig)*sig_half)\n",
    "d_0 = TDsurvey.dpred(m0)"
   ]
  },
  {
   "cell_type": "code",
   "execution_count": 32,
   "metadata": {},
   "outputs": [
    {
     "name": "stderr",
     "output_type": "stream",
     "text": [
      "/Users/sgkang/Projects/simpeg/SimPEG/Directives.py:886: UserWarning: Without a Linear preconditioner, convergence may be slow. Consider adding `Directives.UpdatePreconditioner` to your directives list\n",
      "  \"Without a Linear preconditioner, convergence may be slow. \"\n"
     ]
    }
   ],
   "source": [
    "reg = Regularization.Sparse(\n",
    "    mesh1D,\n",
    "    mapping=Maps.IdentityMap(mesh1D),\n",
    "    alpha_s=1.,\n",
    "    alpha_x=1.,\n",
    "    cell_weights=mesh1D.vol,\n",
    ")\n",
    "p = 0\n",
    "qx, qz = 1., 1.\n",
    "reg.norms = np.c_[p, qx, qz, 0.]\n",
    "IRLS = Directives.Update_IRLS(\n",
    "    maxIRLSiter=20, minGNiter=1, fix_Jmatrix=False, coolingRate=2, betaSearch=False,\n",
    "    chifact_start = 1.\n",
    ")\n",
    "opt = Optimization.ProjectedGNCG(maxIter = 25)\n",
    "invProb = InvProblem.BaseInvProblem(dmisfit, reg, opt)\n",
    "beta = Directives.BetaSchedule(coolingFactor=2., coolingRate=1)\n",
    "betaest = Directives.BetaEstimate_ByEig(beta0_ratio=1e0)\n",
    "target = Directives.TargetMisfit()\n",
    "# update_sense = Directives.UpdateSensitivityWeights(threshold=delta)\n",
    "inv = Inversion.BaseInversion(invProb, directiveList=[IRLS, betaest])\n",
    "# inv = Inversion.BaseInversion(invProb, directiveList=[beta, betaest, target])\n",
    "prob.counter = opt.counter = Utils.Counter()\n",
    "opt.LSshorten = 0.5\n",
    "opt.remember('xc')"
   ]
  },
  {
   "cell_type": "code",
   "execution_count": 33,
   "metadata": {
    "scrolled": false
   },
   "outputs": [
    {
     "name": "stdout",
     "output_type": "stream",
     "text": [
      "SimPEG.InvProblem will set Regularization.mref to m0.\n",
      "\n",
      "    SimPEG.InvProblem is setting bfgsH0 to the inverse of the eval2Deriv.\n",
      "    ***Done using same Solver and solverOpts as the problem***\n",
      "model has any nan: 0\n",
      "=============================== Projected GNCG ===============================\n",
      "  #     beta     phi_d     phi_m       f      |proj(x-g)-x|  LS    Comment   \n",
      "-----------------------------------------------------------------------------\n",
      "x0 has any nan: 0\n",
      "   0  4.40e+00  6.35e+02  0.00e+00  6.35e+02    1.17e+03      0              \n",
      "   1  4.40e+00  6.40e+01  6.31e+00  9.17e+01    1.55e+02      0              \n",
      "   2  2.20e+00  3.03e+01  9.05e+00  5.02e+01    3.85e+01      0   Skip BFGS  \n",
      "   3  2.20e+00  1.88e+01  1.27e+01  4.66e+01    2.86e+00      0   Skip BFGS  \n",
      "   4  1.10e+00  1.86e+01  1.27e+01  3.26e+01    2.53e+01      0   Skip BFGS  \n",
      "Reached starting chifact with l2-norm regularization: Start IRLS steps...\n",
      "eps_p: 0.7044740934641749 eps_q: 0.7044740934641749\n",
      "Eps_p: 0.5870617445534791\n",
      "Eps_q: 0.5870617445534791\n",
      "delta phim:    inf\n",
      "   5  1.10e+00  1.28e+01  2.33e+01  3.84e+01    1.79e+01      0              \n",
      "Eps_p: 0.48921812046123264\n",
      "Eps_q: 0.48921812046123264\n",
      "delta phim: 9.637e-01\n",
      "   6  1.10e+00  1.47e+01  2.30e+01  4.01e+01    8.20e+00      0              \n",
      "Eps_p: 0.4076817670510272\n",
      "Eps_q: 0.4076817670510272\n",
      "delta phim: 1.619e-01\n",
      "   7  1.10e+00  1.58e+01  2.31e+01  4.12e+01    6.22e+00      0   Skip BFGS  \n",
      "Eps_p: 0.339734805875856\n",
      "Eps_q: 0.339734805875856\n",
      "delta phim: 1.665e-01\n",
      "   8  1.10e+00  1.64e+01  2.30e+01  4.18e+01    6.07e+00      0   Skip BFGS  \n",
      "Eps_p: 0.28311233822988\n",
      "Eps_q: 0.28311233822988\n",
      "delta phim: 1.470e-01\n",
      "   9  9.00e-01  1.69e+01  2.27e+01  3.73e+01    7.61e+00      0              \n",
      "Eps_p: 0.23592694852490004\n",
      "Eps_q: 0.23592694852490004\n",
      "delta phim: 1.235e-01\n",
      "  10  9.00e-01  1.53e+01  2.33e+01  3.62e+01    5.97e+00      0              \n",
      "Eps_p: 0.19660579043741672\n",
      "Eps_q: 0.19660579043741672\n",
      "delta phim: 1.241e-01\n",
      "  11  9.00e-01  1.49e+01  2.26e+01  3.52e+01    5.83e+00      0              \n",
      "Eps_p: 0.16383815869784726\n",
      "Eps_q: 0.16383815869784726\n",
      "delta phim: 8.309e-02\n",
      "  12  9.00e-01  1.45e+01  2.16e+01  3.39e+01    6.08e+00      0   Skip BFGS  \n",
      "Eps_p: 0.13653179891487272\n",
      "Eps_q: 0.13653179891487272\n",
      "delta phim: 6.511e-02\n",
      "  13  9.00e-01  1.40e+01  2.03e+01  3.23e+01    6.63e+00      0              \n",
      "Eps_p: 0.11377649909572726\n",
      "Eps_q: 0.11377649909572726\n",
      "delta phim: 5.095e-02\n",
      "  14  9.00e-01  1.35e+01  1.89e+01  3.05e+01    7.61e+00      0              \n",
      "Eps_p: 0.09481374924643939\n",
      "Eps_q: 0.09481374924643939\n",
      "delta phim: 3.665e-02\n",
      "  15  1.43e+00  1.27e+01  1.78e+01  3.82e+01    2.34e+01      0              \n",
      "Eps_p: 0.07901145770536616\n",
      "Eps_q: 0.07901145770536616\n",
      "delta phim: 2.620e-02\n",
      "  16  1.43e+00  1.45e+01  1.60e+01  3.73e+01    1.45e+01      0              \n",
      "Eps_p: 0.06584288142113848\n",
      "Eps_q: 0.06584288142113848\n",
      "delta phim: 1.470e-02\n",
      "  17  1.43e+00  1.48e+01  1.45e+01  3.56e+01    1.23e+01      0   Skip BFGS  \n",
      "Eps_p: 0.054869067850948736\n",
      "Eps_q: 0.054869067850948736\n",
      "delta phim: 1.312e-02\n",
      "  18  1.43e+00  1.47e+01  1.35e+01  3.40e+01    9.17e+00      0              \n",
      "Eps_p: 0.04572422320912395\n",
      "Eps_q: 0.04572422320912395\n",
      "delta phim: 1.162e-02\n",
      "  19  1.43e+00  1.44e+01  1.27e+01  3.26e+01    1.06e+01      0              \n",
      "Eps_p: 0.03810351934093663\n",
      "Eps_q: 0.03810351934093663\n",
      "delta phim: 1.281e-02\n",
      "  20  1.43e+00  1.43e+01  1.21e+01  3.15e+01    1.03e+01      0              \n",
      "Eps_p: 0.03175293278411386\n",
      "Eps_q: 0.03175293278411386\n",
      "delta phim: 5.181e-03\n",
      "Minimum decrease in regularization. End of IRLS\n",
      "------------------------- STOP! -------------------------\n",
      "1 : |fc-fOld| = 0.0000e+00 <= tolF*(1+|f0|) = 6.3560e+01\n",
      "1 : |xc-x_last| = 2.1990e-02 <= tolX*(1+|x0|) = 1.4058e+00\n",
      "0 : |proj(x-g)-x|    = 1.0326e+01 <= tolG          = 1.0000e-01\n",
      "0 : |proj(x-g)-x|    = 1.0326e+01 <= 1e3*eps       = 1.0000e-02\n",
      "0 : maxIter   =      25    <= iter          =     21\n",
      "------------------------- DONE! -------------------------\n",
      "CPU times: user 6.99 s, sys: 178 ms, total: 7.17 s\n",
      "Wall time: 7.44 s\n"
     ]
    }
   ],
   "source": [
    "%%time\n",
    "mopt = inv.run(m0)"
   ]
  },
  {
   "cell_type": "code",
   "execution_count": 34,
   "metadata": {},
   "outputs": [
    {
     "name": "stdout",
     "output_type": "stream",
     "text": [
      "Counters:\n",
      "  ProjectedGNCG.activeSet                 :       21\n",
      "  ProjectedGNCG.doEndIteration            :       21\n",
      "  ProjectedGNCG.doStartIteration          :       21\n",
      "  ProjectedGNCG.projection                :       87\n",
      "  ProjectedGNCG.scaleSearchDirection      :       21\n",
      "\n",
      "Times:                                        mean      sum\n",
      "  EM1D.Jtvec_approx                       : 5.33e-04, 6.77e-02,  127x\n",
      "  EM1D.Jvec_approx                        : 1.91e-03, 2.43e-01,  127x\n",
      "  ProjectedGNCG.findSearchDirection       : 4.66e-02, 9.79e-01,   21x\n",
      "  ProjectedGNCG.minimize                  : 7.15e+00, 7.15e+00,    1x\n",
      "  ProjectedGNCG.modifySearchDirection     : 8.33e-02, 1.75e+00,   21x\n"
     ]
    }
   ],
   "source": [
    "opt.counter.summary()\n",
    "xc = opt.recall('xc')"
   ]
  },
  {
   "cell_type": "code",
   "execution_count": 35,
   "metadata": {},
   "outputs": [
    {
     "data": {
      "text/plain": [
       "(-300, 0)"
      ]
     },
     "execution_count": 35,
     "metadata": {},
     "output_type": "execute_result"
    },
    {
     "data": {
      "image/png": "[encoded data removed]",
      "text/plain": [
       "<Figure size 360x360 with 1 Axes>"
      ]
     },
     "metadata": {
      "needs_background": "light"
     },
     "output_type": "display_data"
    }
   ],
   "source": [
    "fig, axs = subplots(1,1, figsize=(5, 5))\n",
    "Utils1D.plotLayer(1./sig, mesh1D, ax=axs)\n",
    "axs.set_ylim(-300, 0)"
   ]
  },
  {
   "cell_type": "code",
   "execution_count": 36,
   "metadata": {},
   "outputs": [
    {
     "data": {
      "text/plain": [
       "Text(0.5,1,'Sparse')"
      ]
     },
     "execution_count": 36,
     "metadata": {},
     "output_type": "execute_result"
    },
    {
     "data": {
      "image/png": "[encoded data removed]",
      "text/plain": [
       "<Figure size 720x576 with 2 Axes>"
      ]
     },
     "metadata": {
      "needs_background": "light"
     },
     "output_type": "display_data"
    }
   ],
   "source": [
    "fig, axs = subplots(1,2, figsize=(10, 8))\n",
    "Utils1D.plotLayer(1./sig, mesh1D, ax=axs[0])\n",
    "Utils1D.plotLayer(1./sig, mesh1D, ax=axs[1])\n",
    "Utils1D.plotLayer(1./(expmap*invProb.l2model), mesh1D, showlayers=False, **{'color':'r'}, ax=axs[0])\n",
    "Utils1D.plotLayer(1./(expmap*mopt), mesh1D, showlayers=False, **{'color':'r'}, ax=axs[1])\n",
    "axs[1].set_ylabel(\"\")\n",
    "axs[0].set_title(\"Smooth\", fontsize = 16)\n",
    "axs[1].set_title(\"Sparse\", fontsize = 16)"
   ]
  },
  {
   "cell_type": "code",
   "execution_count": 37,
   "metadata": {},
   "outputs": [
    {
     "data": {
      "text/plain": [
       "Text(0,0.5,'Voltage (V/A)')"
      ]
     },
     "execution_count": 37,
     "metadata": {},
     "output_type": "execute_result"
    },
    {
     "data": {
      "image/png": "[encoded data removed]",
      "text/plain": [
       "<Figure size 504x360 with 1 Axes>"
      ]
     },
     "metadata": {
      "needs_background": "light"
     },
     "output_type": "display_data"
    }
   ],
   "source": [
    "fig, axes = subplots(1,1, figsize = (7,5))\n",
    "axes.plot(TDsurvey.time*1e3, -invProb.dpred[:TDsurvey.n_time], '.-')\n",
    "axes.plot(TDsurvey.time_dual_moment*1e3, -invProb.dpred[TDsurvey.n_time:], '.-')\n",
    "axes.plot(TDsurvey.time*1e3, -TDsurvey.dobs[:TDsurvey.n_time], 'x')\n",
    "axes.plot(TDsurvey.time_dual_moment*1e3, -TDsurvey.dobs[TDsurvey.n_time:], 'x')\n",
    "axes.set_xscale('log')\n",
    "axes.set_yscale('log')\n",
    "axes.set_xlabel(\"Time (ms)\")\n",
    "axes.set_ylabel(\"Voltage (V/A)\")"
   ]
  },
  {
   "cell_type": "code",
   "execution_count": null,
   "metadata": {},
   "outputs": [],
   "source": []
  },
  {
   "cell_type": "code",
   "execution_count": null,
   "metadata": {},
   "outputs": [],
   "source": []
  }
 ],
 "metadata": {
  "kernelspec": {
   "display_name": "Python 3",
   "language": "python",
   "name": "python3"
  },
  "language_info": {
   "codemirror_mode": {
    "name": "ipython",
    "version": 3
   },
   "file_extension": ".py",
   "mimetype": "text/x-python",
   "name": "python",
   "nbconvert_exporter": "python",
   "pygments_lexer": "ipython3",
   "version": "3.7.1"
  }
 },
 "nbformat": 4,
 "nbformat_minor": 1
}
