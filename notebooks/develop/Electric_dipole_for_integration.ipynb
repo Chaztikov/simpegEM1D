{
 "cells": [
  {
   "cell_type": "code",
   "execution_count": 1,
   "metadata": {},
   "outputs": [
    {
     "name": "stdout",
     "output_type": "stream",
     "text": [
      "Populating the interactive namespace from numpy and matplotlib\n"
     ]
    }
   ],
   "source": [
    "from SimPEG import Utils\n",
    "import numpy as np\n",
    "%pylab inline"
   ]
  },
  {
   "cell_type": "code",
   "execution_count": 2,
   "metadata": {},
   "outputs": [],
   "source": [
    "from simpegEMIP import SeogiUtils"
   ]
  },
  {
   "cell_type": "code",
   "execution_count": 3,
   "metadata": {},
   "outputs": [],
   "source": [
    "xy = SeogiUtils.View.Circle2D(np.r_[0., 0.], 13, 7)\n",
    "x_obs, y_obs = 0, 0."
   ]
  },
  {
   "cell_type": "code",
   "execution_count": 4,
   "metadata": {},
   "outputs": [
    {
     "data": {
      "text/plain": [
       "[<matplotlib.lines.Line2D at 0x11929f400>]"
      ]
     },
     "execution_count": 4,
     "metadata": {},
     "output_type": "execute_result"
    },
    {
     "data": {
      "image/png": "[encoded data removed]",
      "text/plain": [
       "<matplotlib.figure.Figure at 0x11929f438>"
      ]
     },
     "metadata": {},
     "output_type": "display_data"
    }
   ],
   "source": [
    "plt.plot(xy[:,0], xy[:,1], 'k.-')\n",
    "plt.plot(x_obs, y_obs, 'ro')"
   ]
  },
  {
   "cell_type": "code",
   "execution_count": 5,
   "metadata": {},
   "outputs": [],
   "source": [
    "xy_obs = [x_obs, y_obs]\n",
    "\n",
    "def rotate_origin_only(xy, radians):\n",
    "    \"\"\"Only rotate a point around the origin (0, 0).\"\"\"\n",
    "    xx = xy[:,0] * np.cos(radians) + xy[:,1] * np.sin(radians)\n",
    "    yy = -xy[:,0] * np.sin(radians) + xy[:,1] * np.cos(radians)\n",
    "    return np.c_[xx, yy]\n",
    "\n",
    "def rotate_to_x_axis(xy, observation_point):\n",
    "    \"\"\"\n",
    "    Moves each of two sequential points to origin (0,0)\n",
    "    then rotate to x-axis\n",
    "    \"\"\"\n",
    "    n_pts = xy.shape[0]\n",
    "    dxy = np.empty((n_pts-1, 2), dtype=float, order='F')    \n",
    "    dxy_obs = np.empty((n_pts-1, 2), dtype=float, order='F')        \n",
    "    angle = np.empty(n_pts-1, dtype=float)        \n",
    "    dxy = np.diff(xy, axis=0)\n",
    "    print (dxy)    \n",
    "    dxy_obs = observation_point.repeat(n_pts-1).reshape((2,n_pts-1)).T\n",
    "    angle = np.arctan2(dxy[:,1], dxy[:,0])\n",
    "    # this is for self-check\n",
    "    xy_rot = rotate_origin_only(dxy, angle)\n",
    "    xy_obs_rot = rotate_origin_only(dxy_obs, angle)    \n",
    "    \n",
    "    # For computation of Hx, Hy angle is required\n",
    "    # Hx: hx cos theta + hy sin theta\n",
    "    # Hy: hx sin theta - hy cos theta   \n",
    "    # Hz: hz\n",
    "    return xy_rot, xy_obs_rot, angle"
   ]
  },
  {
   "cell_type": "code",
   "execution_count": 6,
   "metadata": {},
   "outputs": [
    {
     "name": "stdout",
     "output_type": "stream",
     "text": [
      "[[ 6.50000000e+00  1.12583302e+01]\n",
      " [ 1.30000000e+01 -7.10542736e-15]\n",
      " [ 6.50000000e+00 -1.12583302e+01]\n",
      " [-6.50000000e+00 -1.12583302e+01]\n",
      " [-1.30000000e+01  1.77635684e-15]\n",
      " [-6.50000000e+00  1.12583302e+01]]\n"
     ]
    }
   ],
   "source": [
    "xy_rot, xy_obs_rot, angle = rotate_to_x_axis(np.flipud(xy), np.r_[x_obs, y_obs])"
   ]
  },
  {
   "cell_type": "code",
   "execution_count": 7,
   "metadata": {},
   "outputs": [
    {
     "data": {
      "text/plain": [
       "array([ 6.00000000e+01, -3.13162307e-14, -6.00000000e+01, -1.20000000e+02,\n",
       "        1.80000000e+02,  1.20000000e+02])"
      ]
     },
     "execution_count": 7,
     "metadata": {},
     "output_type": "execute_result"
    }
   ],
   "source": [
    "np.rad2deg(angle)"
   ]
  },
  {
   "cell_type": "code",
   "execution_count": 8,
   "metadata": {},
   "outputs": [
    {
     "data": {
      "text/plain": [
       "(-20, 20)"
      ]
     },
     "execution_count": 8,
     "metadata": {},
     "output_type": "execute_result"
    },
    {
     "data": {
      "image/png": "[encoded data removed]",
      "text/plain": [
       "<matplotlib.figure.Figure at 0x11b32bb00>"
      ]
     },
     "metadata": {},
     "output_type": "display_data"
    }
   ],
   "source": [
    "i=5\n",
    "# plt.plot(dx, dy, 'k.')\n",
    "# plt.plot(dx[i], dy[i], 'ro', ms=10)\n",
    "# plt.plot(np.r_[0, x_rot[i]], np.r_[0, y_rot[i]], 'b->')\n",
    "\n",
    "plt.plot(np.flipud(xy)[i,0], np.flipud(xy)[i,1], 'ro')\n",
    "plt.plot(xy[:,0], xy[:,1], 'k.')\n",
    "# plt.plot(xy_rot[:,0], xy_rot[:,1], 'ko')\n",
    "# plt.plot(xy_obs_rot[:,0], xy_obs_rot[:,1], 'bx', ms=10)\n",
    "plt.xlim(-20, 20)\n",
    "plt.ylim(-20, 20)"
   ]
  }
 ],
 "metadata": {
  "kernelspec": {
   "display_name": "Python 3",
   "language": "python",
   "name": "python3"
  },
  "language_info": {
   "codemirror_mode": {
    "name": "ipython",
    "version": 3
   },
   "file_extension": ".py",
   "mimetype": "text/x-python",
   "name": "python",
   "nbconvert_exporter": "python",
   "pygments_lexer": "ipython3",
   "version": "3.6.4"
  }
 },
 "nbformat": 4,
 "nbformat_minor": 2
}
