{
 "cells": [
  {
   "cell_type": "code",
   "execution_count": 12,
   "metadata": {},
   "outputs": [
    {
     "name": "stdout",
     "output_type": "stream",
     "text": [
      "Populating the interactive namespace from numpy and matplotlib\n"
     ]
    },
    {
     "name": "stderr",
     "output_type": "stream",
     "text": [
      "/Users/sgkang/anaconda2/envs/simpeg/lib/python3.6/site-packages/IPython/core/magics/pylab.py:160: UserWarning: pylab import has clobbered these variables: ['pi', 'matmul']\n",
      "`%matplotlib` prevents importing * from pylab and numpy\n",
      "  \"\\n`%matplotlib` prevents importing * from pylab and numpy\"\n"
     ]
    }
   ],
   "source": [
    "from SimPEG import Mesh\n",
    "from simpegem1d import *\n",
    "import numpy as np\n",
    "%pylab inline"
   ]
  },
  {
   "cell_type": "markdown",
   "metadata": {},
   "source": [
    "# Set up for EM1D program"
   ]
  },
  {
   "cell_type": "markdown",
   "metadata": {},
   "source": [
    "## Step1: Generate mesh"
   ]
  },
  {
   "cell_type": "code",
   "execution_count": 13,
   "metadata": {},
   "outputs": [],
   "source": [
    "nearthick = np.logspace(-1, 1, 5)\n",
    "deepthick = np.logspace(1, 2, 10)\n",
    "hx = np.r_[nearthick, deepthick]\n",
    "mesh1D = Mesh.TensorMesh([hx], [0.])\n",
    "depth = -mesh1D.gridN[:-1]\n",
    "LocSigZ = -mesh1D.gridCC\n",
    "nlay = depth.size\n",
    "topo = np.r_[0., 0., 100.]"
   ]
  },
  {
   "cell_type": "markdown",
   "metadata": {},
   "source": [
    "## Step2: Set survey parameters"
   ]
  },
  {
   "cell_type": "code",
   "execution_count": 14,
   "metadata": {},
   "outputs": [],
   "source": [
    "FDsurvey = BaseEM1D.EM1DSurveyFD()\n",
    "FDsurvey.rxLoc = np.array([0., 0., 100.+1e-5])\n",
    "FDsurvey.srcLoc = np.array([0., 0., 100.+1e-5])\n",
    "FDsurvey.fieldtype = 'secondary'\n",
    "FDsurvey.rxType = 'Hz'\n",
    "FDsurvey.srcType = 'VMD'\n",
    "# Switch txType if you want circular loop (do not use offset)\n",
    "# FDsurvey.a = 10.\n",
    "# FDsurvey.txType = 'CircularLoop'\n",
    "FDsurvey.offset = 8.\n",
    "FDsurvey.depth = depth\n",
    "FDsurvey.topo = topo\n",
    "FDsurvey.LocSigZ = LocSigZ\n",
    "FDsurvey.frequency = np.logspace(-2, 8, 61)\n",
    "FDsurvey.Nfreq = FDsurvey.frequency.size\n",
    "FDsurvey.Setup1Dsystem()\n",
    "FDsurvey.SetOffset()"
   ]
  },
  {
   "cell_type": "markdown",
   "metadata": {},
   "source": [
    "## Step3: Set mappings (Exponential and Cole-Cole maps)"
   ]
  },
  {
   "cell_type": "markdown",
   "metadata": {},
   "source": [
    "### Exponential map"
   ]
  },
  {
   "cell_type": "markdown",
   "metadata": {},
   "source": [
    "### $$ m = log(\\sigma) $$"
   ]
  },
  {
   "cell_type": "markdown",
   "metadata": {},
   "source": [
    "### $$ M_{exp}(m) = e^{m}$$"
   ]
  },
  {
   "cell_type": "markdown",
   "metadata": {},
   "source": [
    "### Cole-Cole map"
   ]
  },
  {
   "cell_type": "markdown",
   "metadata": {},
   "source": [
    "$$ m(\\sigma_{\\infty}, \\eta, \\tau, c; \\omega) = \\sigma_{\\infty} - \\sigma_{\\infty}\\eta \\frac{1}{1+(1-\\eta)(\\imath\\omega\\tau)^c}$$"
   ]
  },
  {
   "cell_type": "code",
   "execution_count": 15,
   "metadata": {},
   "outputs": [],
   "source": [
    "sig_half = 1e0\n",
    "chi_half = 0.\n",
    "options = {'Frequency': FDsurvey.frequency, 'tau': np.ones(nlay)*1e-1, 'eta':np.ones(nlay)*0.5, 'c':np.ones(nlay)*0.88}\n",
    "Expmap = BaseEM1D.BaseEM1DMap(mesh1D)\n",
    "Colemap = BaseEM1D.BaseColeColeMap(mesh1D, **options)*Expmap"
   ]
  },
  {
   "cell_type": "code",
   "execution_count": 16,
   "metadata": {},
   "outputs": [],
   "source": [
    "m_1D = np.log(np.ones(nlay)*sig_half)"
   ]
  },
  {
   "cell_type": "code",
   "execution_count": 17,
   "metadata": {},
   "outputs": [
    {
     "name": "stdout",
     "output_type": "stream",
     "text": [
      ">> Use Key 101 filter for Hankel Tranform\n",
      "CPU times: user 80.8 ms, sys: 5.23 ms, total: 86 ms\n",
      "Wall time: 84.1 ms\n"
     ]
    }
   ],
   "source": [
    "%%time\n",
    "WT0, WT1, YBASE = DigFilter.LoadWeights()\n",
    "options = {'WT0': WT0, 'WT1': WT1, 'YBASE': YBASE}\n",
    "prob = EM1D(mesh1D, sigmaMap=Expmap, **options)\n",
    "\n",
    "if prob.ispaired:\n",
    "    prob.unpair()\n",
    "if FDsurvey.ispaired:\n",
    "    FDsurvey.unpair()\n",
    "prob.pair(FDsurvey)\n",
    "prob.CondType = 'Real'\n",
    "prob.chi = np.zeros(FDsurvey.nlay)\n",
    "Hz = prob.fields(m_1D)"
   ]
  },
  {
   "cell_type": "code",
   "execution_count": 18,
   "metadata": {},
   "outputs": [
    {
     "name": "stdout",
     "output_type": "stream",
     "text": [
      ">> Use Key 101 filter for Hankel Tranform\n",
      "CPU times: user 88.4 ms, sys: 2.64 ms, total: 91 ms\n",
      "Wall time: 91.5 ms\n"
     ]
    }
   ],
   "source": [
    "%%time\n",
    "options = {'WT0': WT0, 'WT1': WT1, 'YBASE': YBASE}\n",
    "probcole = EM1D(mesh1D, sigmaMap = Colemap, **options)\n",
    "if probcole.ispaired:\n",
    "    probcole.unpair()\n",
    "if FDsurvey.ispaired:\n",
    "    FDsurvey.unpair()\n",
    "probcole.pair(FDsurvey)\n",
    "probcole.chi = np.zeros(FDsurvey.nlay)\n",
    "probcole.CondType = 'Complex'\n",
    "HzCole = probcole.fields(m_1D)\n",
    "Hzanal = EM1DAnal.Hzanal(sig_half, FDsurvey.frequency, FDsurvey.offset, 'secondary')"
   ]
  },
  {
   "cell_type": "code",
   "execution_count": 19,
   "metadata": {},
   "outputs": [
    {
     "data": {
      "text/plain": [
       "Text(10000,1e-08,'$\\\\tau$ = 0.1')"
      ]
     },
     "execution_count": 19,
     "metadata": {},
     "output_type": "execute_result"
    },
    {
     "data": {
      "image/png": "[encoded data removed]",
      "text/plain": [
       "<matplotlib.figure.Figure at 0x11e9f3f28>"
      ]
     },
     "metadata": {},
     "output_type": "display_data"
    }
   ],
   "source": [
    "fig, ax = plt.subplots(1,1, figsize = (8, 5))\n",
    "ax.loglog(FDsurvey.frequency, abs(Hz.real), 'b')\n",
    "ax.loglog(FDsurvey.frequency, abs(Hz.imag), 'r')\n",
    "ax.loglog(FDsurvey.frequency, abs(HzCole.real), 'b*')\n",
    "ax.loglog(FDsurvey.frequency, abs(HzCole.real), 'b--')\n",
    "ax.loglog(FDsurvey.frequency, abs(HzCole.imag), 'r*')\n",
    "legend(('Real $H_{z FHT}$', 'Real $H_{z anal}$', 'Imag $H_{z FHT}$', 'Imag $H_{z anal}$'))\n",
    "ax.text(1e4, 1e-8, \"$\\\\tau$ = 0.1\", fontsize = 18)"
   ]
  },
  {
   "cell_type": "code",
   "execution_count": null,
   "metadata": {},
   "outputs": [],
   "source": []
  }
 ],
 "metadata": {
  "kernelspec": {
   "display_name": "Python 3",
   "language": "python",
   "name": "python3"
  },
  "language_info": {
   "codemirror_mode": {
    "name": "ipython",
    "version": 3
   },
   "file_extension": ".py",
   "mimetype": "text/x-python",
   "name": "python",
   "nbconvert_exporter": "python",
   "pygments_lexer": "ipython3",
   "version": "3.6.4"
  }
 },
 "nbformat": 4,
 "nbformat_minor": 1
}
