{
 "cells": [
  {
   "cell_type": "code",
   "execution_count": 41,
   "metadata": {},
   "outputs": [
    {
     "name": "stdout",
     "output_type": "stream",
     "text": [
      "Populating the interactive namespace from numpy and matplotlib\n"
     ]
    }
   ],
   "source": [
    "from SimPEG import Mesh, Maps\n",
    "import numpy as np\n",
    "from matplotlib.colors import LogNorm\n",
    "from simpegem1d import (\n",
    "    GlobalEM1DProblemTD, GlobalEM1DSurveyTD, \n",
    "    get_vertical_discretization_time, run_simulation_TD\n",
    ")\n",
    "%pylab inline"
   ]
  },
  {
   "cell_type": "markdown",
   "metadata": {},
   "source": [
    "# Seting up a 2D mesh and model"
   ]
  },
  {
   "cell_type": "code",
   "execution_count": 42,
   "metadata": {},
   "outputs": [],
   "source": [
    "from simpegem1d import skytem_HM_2015\n",
    "wave = skytem_HM_2015()"
   ]
  },
  {
   "cell_type": "code",
   "execution_count": 43,
   "metadata": {},
   "outputs": [],
   "source": [
    "time = np.logspace(-6, -3, 21)\n",
    "hz = get_vertical_discretization_time(time, facter_tmax=0.5, factor_tmin=10.)\n",
    "time_input_currents = wave.current_times[-7:]\n",
    "input_currents = wave.currents[-7:]\n"
   ]
  },
  {
   "cell_type": "code",
   "execution_count": 44,
   "metadata": {},
   "outputs": [],
   "source": [
    "from scipy.spatial import Delaunay\n",
    "def PolygonInd(mesh, pts):\n",
    "    hull = Delaunay(pts)\n",
    "    inds = hull.find_simplex(mesh.gridCC)>=0\n",
    "    return inds"
   ]
  },
  {
   "cell_type": "code",
   "execution_count": 45,
   "metadata": {},
   "outputs": [],
   "source": [
    "n_sounding = 20\n",
    "dx = 20.\n",
    "hx = np.ones(n_sounding) * dx\n",
    "mesh = Mesh.TensorMesh([hx, hz], x0='00')\n",
    "inds =  mesh.gridCC[:,1]<25\n",
    "inds_1 =  mesh.gridCC[:,1]<50\n",
    "sigma = np.ones(mesh.nC) * 1./100.\n",
    "sigma[inds_1] = 1./10.\n",
    "sigma[inds] = 1./50.\n",
    "x0 = np.r_[0., 75.]\n",
    "x1 = np.r_[400., 75.]\n",
    "x2 = np.r_[400., 90.]\n",
    "x3 = np.r_[0., 125.]\n",
    "pts = np.vstack((x0, x1, x2, x3, x0))\n",
    "# poly_inds = PolygonInd(mesh, pts)\n",
    "# sigma[poly_inds] = 0.1"
   ]
  },
  {
   "cell_type": "code",
   "execution_count": 46,
   "metadata": {},
   "outputs": [
    {
     "data": {
      "image/png": "[encoded data removed]",
      "text/plain": [
       "<matplotlib.figure.Figure at 0x1115ed588>"
      ]
     },
     "metadata": {},
     "output_type": "display_data"
    }
   ],
   "source": [
    "cb = plt.colorbar(\n",
    "    mesh.plotImage(sigma, grid=True, pcolorOpts={\"norm\":LogNorm()})[0],\n",
    "    fraction=0.025, pad=0.04    \n",
    ")\n",
    "\n",
    "plt.ylim(mesh.vectorNy.max(), mesh.vectorNy.min())\n",
    "plt.gca().set_aspect('equal')"
   ]
  },
  {
   "cell_type": "code",
   "execution_count": 47,
   "metadata": {},
   "outputs": [],
   "source": [
    "x = mesh.vectorCCx\n",
    "y = np.zeros_like(x)\n",
    "z = np.ones_like(x) * 30.\n",
    "rx_locations = np.c_[x, y, z]\n",
    "src_locations = np.c_[x, y, z]\n",
    "topo = np.c_[x, y, z-30.].astype(float)"
   ]
  },
  {
   "cell_type": "code",
   "execution_count": 48,
   "metadata": {},
   "outputs": [],
   "source": [
    "mapping = Maps.ExpMap(mesh)"
   ]
  },
  {
   "cell_type": "code",
   "execution_count": 49,
   "metadata": {},
   "outputs": [
    {
     "name": "stdout",
     "output_type": "stream",
     "text": [
      "CPU times: user 1.09 s, sys: 9.52 ms, total: 1.1 s\n",
      "Wall time: 1.13 s\n"
     ]
    }
   ],
   "source": [
    "%%time\n",
    "field_type = 'secondary'\n",
    "rx_type = 'dBzdt'\n",
    "src_type = 'CircularLoop'\n",
    "offset = np.r_[8.]\n",
    "a = 13.\n",
    "n_pulse = 1\n",
    "base_frequency = 20.\n",
    "jacSwitch = True\n",
    "wave_type = 'stepoff'\n",
    "i=0\n",
    "sigma_i = np.ones(19) * 1e-2\n",
    "args = rx_locations[i,:], src_locations[i,:], topo[i,:], hz, time, field_type, rx_type, src_type, wave_type, offset, a, time_input_currents, input_currents, n_pulse, base_frequency, sigma_i, jacSwitch\n",
    "resp_sim = run_simulation_TD(args)"
   ]
  },
  {
   "cell_type": "code",
   "execution_count": 50,
   "metadata": {},
   "outputs": [
    {
     "name": "stdout",
     "output_type": "stream",
     "text": [
      ">> Use multiprocessing for parallelization\n",
      ">> n_cpu: 2\n"
     ]
    }
   ],
   "source": [
    "survey = GlobalEM1DSurveyTD(\n",
    "    rx_locations = rx_locations,\n",
    "    src_locations = src_locations,    \n",
    "    topo = topo,\n",
    "    time = time,\n",
    "    src_type = \"VMD\",\n",
    "    rx_type = \"dBzdt\",    \n",
    "    field_type = 'secondary',\n",
    "    wave_type = 'stepoff',    \n",
    "    offset = np.r_[8.],    \n",
    "    a = 13.,\n",
    "    input_currents=input_currents,\n",
    "    time_input_currents=time_input_currents,\n",
    "    n_pulse = 1,\n",
    "    base_frequency = 20.,\n",
    ")\n",
    "prob = GlobalEM1DProblemTD(mesh, sigmaMap=mapping, hz=hz, parallel=True, n_cpu=2)\n",
    "prob.pair(survey)"
   ]
  },
  {
   "cell_type": "code",
   "execution_count": 37,
   "metadata": {},
   "outputs": [],
   "source": [
    "m = np.log(sigma)"
   ]
  },
  {
   "cell_type": "code",
   "execution_count": 38,
   "metadata": {
    "scrolled": false
   },
   "outputs": [],
   "source": [
    "pred = survey.dpred(m)"
   ]
  },
  {
   "cell_type": "code",
   "execution_count": 39,
   "metadata": {},
   "outputs": [
    {
     "name": "stdout",
     "output_type": "stream",
     "text": [
      "CPU times: user 23.6 ms, sys: 27.9 ms, total: 51.5 ms\n",
      "Wall time: 17 s\n"
     ]
    },
    {
     "data": {
      "text/plain": [
       "array([ 4.43283364e-15,  2.88185652e-15,  2.83344128e-16, -2.33025580e-15,\n",
       "       -3.36705078e-15, -2.47805070e-15, -1.12486865e-15, -3.83714206e-16,\n",
       "       -1.19773169e-16, -3.60645704e-17, -1.04182462e-17, -2.87157832e-18,\n",
       "       -7.52818340e-19, -1.87482195e-19, -4.44052171e-20, -1.00266417e-20,\n",
       "       -2.16351023e-21, -4.47757133e-22, -1.10473834e-22,  4.43283364e-15,\n",
       "        2.88185652e-15,  2.83344128e-16, -2.33025580e-15, -3.36705078e-15,\n",
       "       -2.47805070e-15, -1.12486865e-15, -3.83714206e-16, -1.19773169e-16,\n",
       "       -3.60645704e-17, -1.04182462e-17, -2.87157832e-18, -7.52818340e-19,\n",
       "       -1.87482195e-19, -4.44052171e-20, -1.00266417e-20, -2.16351023e-21,\n",
       "       -4.47757133e-22, -1.10473834e-22,  4.43283364e-15,  2.88185652e-15,\n",
       "        2.83344128e-16, -2.33025580e-15, -3.36705078e-15, -2.47805070e-15,\n",
       "       -1.12486865e-15, -3.83714206e-16, -1.19773169e-16, -3.60645704e-17,\n",
       "       -1.04182462e-17, -2.87157832e-18, -7.52818340e-19, -1.87482195e-19,\n",
       "       -4.44052171e-20, -1.00266417e-20, -2.16351023e-21, -4.47757133e-22,\n",
       "       -1.10473834e-22,  4.43283364e-15,  2.88185652e-15,  2.83344128e-16,\n",
       "       -2.33025580e-15, -3.36705078e-15, -2.47805070e-15, -1.12486865e-15,\n",
       "       -3.83714206e-16, -1.19773169e-16, -3.60645704e-17, -1.04182462e-17,\n",
       "       -2.87157832e-18, -7.52818340e-19, -1.87482195e-19, -4.44052171e-20,\n",
       "       -1.00266417e-20, -2.16351023e-21, -4.47757133e-22, -1.10473834e-22,\n",
       "        4.43283364e-15,  2.88185652e-15,  2.83344128e-16, -2.33025580e-15,\n",
       "       -3.36705078e-15, -2.47805070e-15, -1.12486865e-15, -3.83714206e-16,\n",
       "       -1.19773169e-16, -3.60645704e-17, -1.04182462e-17, -2.87157832e-18,\n",
       "       -7.52818340e-19, -1.87482195e-19, -4.44052171e-20, -1.00266417e-20,\n",
       "       -2.16351023e-21, -4.47757133e-22, -1.10473834e-22,  4.43283364e-15,\n",
       "        2.88185652e-15,  2.83344128e-16, -2.33025580e-15, -3.36705078e-15,\n",
       "       -2.47805070e-15, -1.12486865e-15, -3.83714206e-16, -1.19773169e-16,\n",
       "       -3.60645704e-17, -1.04182462e-17, -2.87157832e-18, -7.52818340e-19,\n",
       "       -1.87482195e-19, -4.44052171e-20, -1.00266417e-20, -2.16351023e-21,\n",
       "       -4.47757133e-22, -1.10473834e-22,  4.43283364e-15,  2.88185652e-15,\n",
       "        2.83344128e-16, -2.33025580e-15, -3.36705078e-15, -2.47805070e-15,\n",
       "       -1.12486865e-15, -3.83714206e-16, -1.19773169e-16, -3.60645704e-17,\n",
       "       -1.04182462e-17, -2.87157832e-18, -7.52818340e-19, -1.87482195e-19,\n",
       "       -4.44052171e-20, -1.00266417e-20, -2.16351023e-21, -4.47757133e-22,\n",
       "       -1.10473834e-22,  4.43283364e-15,  2.88185652e-15,  2.83344128e-16,\n",
       "       -2.33025580e-15, -3.36705078e-15, -2.47805070e-15, -1.12486865e-15,\n",
       "       -3.83714206e-16, -1.19773169e-16, -3.60645704e-17, -1.04182462e-17,\n",
       "       -2.87157832e-18, -7.52818340e-19, -1.87482195e-19, -4.44052171e-20,\n",
       "       -1.00266417e-20, -2.16351023e-21, -4.47757133e-22, -1.10473834e-22,\n",
       "        4.43283364e-15,  2.88185652e-15,  2.83344128e-16, -2.33025580e-15,\n",
       "       -3.36705078e-15, -2.47805070e-15, -1.12486865e-15, -3.83714206e-16,\n",
       "       -1.19773169e-16, -3.60645704e-17, -1.04182462e-17, -2.87157832e-18,\n",
       "       -7.52818340e-19, -1.87482195e-19, -4.44052171e-20, -1.00266417e-20,\n",
       "       -2.16351023e-21, -4.47757133e-22, -1.10473834e-22,  4.43761796e-15,\n",
       "        2.88729514e-15,  2.90311005e-16, -2.32041322e-15, -3.35265293e-15,\n",
       "       -2.45754355e-15, -1.09748384e-15, -3.49947668e-16, -8.21338814e-17,\n",
       "       -4.32597431e-17, -3.60713205e-18, -4.29302252e-19, -6.82869728e-20,\n",
       "       -1.27045271e-20, -2.51244425e-21, -5.05154972e-22, -1.01132454e-22,\n",
       "       -1.98454175e-23, -4.28812309e-24,  1.33875835e-15, -2.32577095e-15,\n",
       "       -3.22278992e-15, -1.61920491e-15, -5.10889102e-16, -1.55054882e-16,\n",
       "       -4.87655964e-17, -1.54163569e-17, -4.79134648e-18, -1.44242640e-18,\n",
       "       -4.16742446e-19, -1.14880175e-19, -3.01113445e-20, -7.50080785e-21,\n",
       "       -1.77832086e-21, -4.02170458e-22, -8.69327858e-23, -1.77830098e-23,\n",
       "       -3.75415702e-24,  1.33875835e-15, -2.32577095e-15, -3.22278992e-15,\n",
       "       -1.61920491e-15, -5.10889102e-16, -1.55054882e-16, -4.87655964e-17,\n",
       "       -1.54163569e-17, -4.79134648e-18, -1.44242640e-18, -4.16742446e-19,\n",
       "       -1.14880175e-19, -3.01113445e-20, -7.50080785e-21, -1.77832086e-21,\n",
       "       -4.02170458e-22, -8.69327858e-23, -1.77830098e-23, -3.75415702e-24,\n",
       "        1.33875650e-15, -2.32577294e-15, -3.22279219e-15, -1.61920777e-15,\n",
       "       -5.10893086e-16, -1.55060828e-16, -4.87746232e-17, -1.54296927e-17,\n",
       "       -4.81000011e-18, -1.46691772e-18, -4.47375518e-19, -1.53549914e-19,\n",
       "       -7.57505728e-21, -4.04579608e-21, -2.01527155e-21, -9.33439049e-22,\n",
       "       -4.00680631e-22, -1.58764617e-22, -8.50825688e-23,  4.29866328e-15,\n",
       "        3.91360349e-15,  2.74280991e-15,  8.03745657e-16, -1.31510913e-15,\n",
       "       -2.54727334e-15, -2.29420959e-15, -1.25035086e-15, -4.66698347e-16,\n",
       "       -1.44124642e-16, -4.16776580e-17, -1.14872666e-17, -3.01062079e-18,\n",
       "       -7.49956846e-19, -1.77667757e-19, -4.00983202e-20, -8.65179791e-21,\n",
       "       -1.79137067e-21, -4.41589957e-22,  4.29866328e-15,  3.91360349e-15,\n",
       "        2.74280991e-15,  8.03745657e-16, -1.31510913e-15, -2.54727334e-15,\n",
       "       -2.29420959e-15, -1.25035086e-15, -4.66698347e-16, -1.44124642e-16,\n",
       "       -4.16776580e-17, -1.14872666e-17, -3.01062079e-18, -7.49956846e-19,\n",
       "       -1.77667757e-19, -4.00983202e-20, -8.65179791e-21, -1.79137067e-21,\n",
       "       -4.41589957e-22,  4.29866328e-15,  3.91360349e-15,  2.74280991e-15,\n",
       "        8.03745657e-16, -1.31510913e-15, -2.54727334e-15, -2.29420959e-15,\n",
       "       -1.25035086e-15, -4.66698347e-16, -1.44124642e-16, -4.16776580e-17,\n",
       "       -1.14872666e-17, -3.01062079e-18, -7.49956846e-19, -1.77667757e-19,\n",
       "       -4.00983202e-20, -8.65179791e-21, -1.79137067e-21, -4.41589957e-22,\n",
       "        4.29866328e-15,  3.91360349e-15,  2.74280991e-15,  8.03745657e-16,\n",
       "       -1.31510913e-15, -2.54727334e-15, -2.29420959e-15, -1.25035086e-15,\n",
       "       -4.66698347e-16, -1.44124642e-16, -4.16776580e-17, -1.14872666e-17,\n",
       "       -3.01062079e-18, -7.49956846e-19, -1.77667757e-19, -4.00983202e-20,\n",
       "       -8.65179791e-21, -1.79137067e-21, -4.41589957e-22,  4.29866328e-15,\n",
       "        3.91360349e-15,  2.74280991e-15,  8.03745657e-16, -1.31510913e-15,\n",
       "       -2.54727334e-15, -2.29420959e-15, -1.25035086e-15, -4.66698347e-16,\n",
       "       -1.44124642e-16, -4.16776580e-17, -1.14872666e-17, -3.01062079e-18,\n",
       "       -7.49956846e-19, -1.77667757e-19, -4.00983202e-20, -8.65179791e-21,\n",
       "       -1.79137067e-21, -4.41589957e-22,  4.29866328e-15,  3.91360349e-15,\n",
       "        2.74280991e-15,  8.03745657e-16, -1.31510913e-15, -2.54727334e-15,\n",
       "       -2.29420959e-15, -1.25035086e-15, -4.66698347e-16, -1.44124642e-16,\n",
       "       -4.16776580e-17, -1.14872666e-17, -3.01062079e-18, -7.49956846e-19,\n",
       "       -1.77667757e-19, -4.00983202e-20, -8.65179791e-21, -1.79137067e-21,\n",
       "       -4.41589957e-22,  4.29866328e-15,  3.91360349e-15,  2.74280991e-15,\n",
       "        8.03745657e-16, -1.31510913e-15, -2.54727334e-15, -2.29420959e-15,\n",
       "       -1.25035086e-15, -4.66698347e-16, -1.44124642e-16, -4.16776580e-17,\n",
       "       -1.14872666e-17, -3.01062079e-18, -7.49956846e-19, -1.77667757e-19,\n",
       "       -4.00983202e-20, -8.65179791e-21, -1.79137067e-21, -4.41589957e-22])"
      ]
     },
     "execution_count": 39,
     "metadata": {},
     "output_type": "execute_result"
    }
   ],
   "source": [
    "%%time \n",
    "prob.Jtvec(m, pred)"
   ]
  },
  {
   "cell_type": "code",
   "execution_count": 71,
   "metadata": {},
   "outputs": [],
   "source": [
    "from simpegem1d import EM1DSurveyTD, EM1D\n",
    "mesh_1d = Mesh.TensorMesh([mesh.hy], x0=[0.])\n",
    "depth = -mesh_1d.gridN[:-1]\n",
    "m_1d = np.log(prob.Sigma[0,:])\n",
    "FDsurvey = EM1DSurveyTD(\n",
    "    rx_location = np.array([0., 0., 30.]),\n",
    "    src_location = np.array([0., 0., 30.]),\n",
    "    topo= np.array([0., 0., 0.]),\n",
    "    time = time,\n",
    "    depth=depth,\n",
    "    src_type = \"VMD\",\n",
    "    rx_type = \"dBzdt\",    \n",
    "    field_type = 'secondary',\n",
    "    wave_type = 'stepoff',    \n",
    "    offset = np.r_[8.],    \n",
    "    a = 13.,\n",
    "    input_currents=input_currents,\n",
    "    time_input_currents=time_input_currents,\n",
    "    n_pulse = 1,\n",
    "    base_frequency = 20.\n",
    ")\n",
    "prob_1d = EM1D(\n",
    "    mesh_1d, sigmaMap=Maps.ExpMap(mesh_1d), jacSwitch=False,\n",
    "    chi=np.zeros(FDsurvey.n_layer)\n",
    ")\n",
    "if prob_1d.ispaired:\n",
    "    prob_1d.unpair()\n",
    "if FDsurvey.ispaired:\n",
    "    FDsurvey.unpair()\n",
    "prob_1d.pair(FDsurvey)\n",
    "resp = FDsurvey.dpred(m_1d)"
   ]
  },
  {
   "cell_type": "code",
   "execution_count": 72,
   "metadata": {},
   "outputs": [
    {
     "data": {
      "text/plain": [
       "(420,)"
      ]
     },
     "execution_count": 72,
     "metadata": {},
     "output_type": "execute_result"
    }
   ],
   "source": [
    "pred.shape"
   ]
  },
  {
   "cell_type": "code",
   "execution_count": 73,
   "metadata": {},
   "outputs": [],
   "source": [
    "PRED = pred.reshape(( prob.n_sounding, survey.n_time))"
   ]
  },
  {
   "cell_type": "code",
   "execution_count": 75,
   "metadata": {},
   "outputs": [
    {
     "data": {
      "text/plain": [
       "[<matplotlib.lines.Line2D at 0x118597860>]"
      ]
     },
     "execution_count": 75,
     "metadata": {},
     "output_type": "execute_result"
    },
    {
     "data": {
      "image/png": "[encoded data removed]",
      "text/plain": [
       "<matplotlib.figure.Figure at 0x117c95710>"
      ]
     },
     "metadata": {},
     "output_type": "display_data"
    }
   ],
   "source": [
    "plt.loglog(time, -PRED[0,:])\n",
    "plt.loglog(time, -resp, 'k.')\n",
    "# plt.loglog(time, -resp_sim, 'rx')"
   ]
  },
  {
   "cell_type": "code",
   "execution_count": null,
   "metadata": {},
   "outputs": [],
   "source": []
  }
 ],
 "metadata": {
  "kernelspec": {
   "display_name": "Python 3",
   "language": "python",
   "name": "python3"
  },
  "language_info": {
   "codemirror_mode": {
    "name": "ipython",
    "version": 3
   },
   "file_extension": ".py",
   "mimetype": "text/x-python",
   "name": "python",
   "nbconvert_exporter": "python",
   "pygments_lexer": "ipython3",
   "version": "3.6.4"
  }
 },
 "nbformat": 4,
 "nbformat_minor": 2
}
