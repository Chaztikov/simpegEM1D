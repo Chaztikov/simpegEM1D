{
 "metadata": {
  "name": "",
  "signature": "sha256:c8818dd7829a2b371b86df7c7d7ebe40c6ba923cb6ec86aee7d74b634ad22c70"
 },
 "nbformat": 3,
 "nbformat_minor": 0,
 "worksheets": [
  {
   "cells": [
    {
     "cell_type": "code",
     "collapsed": false,
     "input": [
      "from SimPEG import Mesh\n",
      "from simpegem1d import *\n",
      "%pylab inline"
     ],
     "language": "python",
     "metadata": {},
     "outputs": [
      {
       "output_type": "stream",
       "stream": "stdout",
       "text": [
        "Populating the interactive namespace from numpy and matplotlib\n"
       ]
      },
      {
       "output_type": "stream",
       "stream": "stderr",
       "text": [
        "Vendor:  Continuum Analytics, Inc.\n",
        "Package: mkl\n",
        "Message: trial mode expires in 27 days\n"
       ]
      }
     ],
     "prompt_number": 1
    },
    {
     "cell_type": "heading",
     "level": 1,
     "metadata": {},
     "source": [
      "Set up for EM1D program"
     ]
    },
    {
     "cell_type": "heading",
     "level": 2,
     "metadata": {},
     "source": [
      "Step1: Generate mesh"
     ]
    },
    {
     "cell_type": "code",
     "collapsed": false,
     "input": [
      "nearthick = np.logspace(-1, 1, 5)\n",
      "deepthick = np.logspace(1, 2, 10)\n",
      "hx = np.r_[nearthick, deepthick]\n",
      "mesh1D = Mesh.TensorMesh([hx], [0.])\n",
      "depth = -mesh1D.gridN[:-1]\n",
      "LocSigZ = -mesh1D.gridCC\n",
      "nlay = depth.size\n",
      "topo = np.r_[0., 0., 100.]"
     ],
     "language": "python",
     "metadata": {},
     "outputs": [],
     "prompt_number": 2
    },
    {
     "cell_type": "heading",
     "level": 2,
     "metadata": {},
     "source": [
      "Step2: Set survey parameters"
     ]
    },
    {
     "cell_type": "code",
     "collapsed": false,
     "input": [
      "FDsurvey = BaseEM1D.EM1DSurveyFD()\n",
      "FDsurvey.rxLoc = np.array([0., 0., 100.+1e-5])\n",
      "FDsurvey.srcLoc = np.array([0., 0., 100.+1e-5])\n",
      "FDsurvey.fieldtype = 'secondary'\n",
      "FDsurvey.rxType = 'Hz'\n",
      "FDsurvey.srcType = 'VMD'\n",
      "# Switch txType if you want circular loop (do not use offset)\n",
      "# FDsurvey.a = 10.\n",
      "# FDsurvey.txType = 'CircularLoop'\n",
      "FDsurvey.offset = 8.\n",
      "FDsurvey.depth = depth\n",
      "FDsurvey.topo = topo\n",
      "FDsurvey.LocSigZ = LocSigZ\n",
      "FDsurvey.frequency = np.logspace(-2, 8, 61)\n",
      "FDsurvey.Nfreq = FDsurvey.frequency.size\n",
      "FDsurvey.Setup1Dsystem()\n",
      "FDsurvey.SetOffset()"
     ],
     "language": "python",
     "metadata": {},
     "outputs": [],
     "prompt_number": 3
    },
    {
     "cell_type": "heading",
     "level": 2,
     "metadata": {},
     "source": [
      "Step3: Set mappings (Exponential and Cole-Cole maps)"
     ]
    },
    {
     "cell_type": "heading",
     "level": 3,
     "metadata": {},
     "source": [
      "Exponential map"
     ]
    },
    {
     "cell_type": "heading",
     "level": 3,
     "metadata": {},
     "source": [
      "$$ m = log(\\sigma) $$"
     ]
    },
    {
     "cell_type": "heading",
     "level": 3,
     "metadata": {},
     "source": [
      "$$ M_{exp}(m) = e^{m}$$"
     ]
    },
    {
     "cell_type": "heading",
     "level": 3,
     "metadata": {},
     "source": [
      "Cole-Cole map"
     ]
    },
    {
     "cell_type": "markdown",
     "metadata": {},
     "source": [
      "$$ m(\\sigma_{\\infty}, \\eta, \\tau, c; \\omega) = \\sigma_{\\infty} - \\sigma_{\\infty}\\eta \\frac{1}{1+(1-\\eta)(\\imath\\omega\\tau)^c}$$"
     ]
    },
    {
     "cell_type": "code",
     "collapsed": false,
     "input": [
      "sig_half = 1e0\n",
      "chi_half = 0.\n",
      "options = {'Frequency': FDsurvey.frequency, 'tau': np.ones(nlay)*0.002, 'eta':np.ones(nlay)*0.5, 'c':np.ones(nlay)*1.}\n",
      "Expmap = BaseEM1D.BaseEM1DMap(mesh1D)\n",
      "Colemap = BaseEM1D.BaseColeColeMap(mesh1D, **options)*Expmap"
     ],
     "language": "python",
     "metadata": {},
     "outputs": [],
     "prompt_number": 11
    },
    {
     "cell_type": "code",
     "collapsed": false,
     "input": [
      "m_1D = np.log(np.ones(nlay)*sig_half)"
     ],
     "language": "python",
     "metadata": {},
     "outputs": [],
     "prompt_number": 12
    },
    {
     "cell_type": "code",
     "collapsed": false,
     "input": [
      "%%time\n",
      "WT0, WT1, YBASE = DigFilter.LoadWeights()\n",
      "options = {'WT0': WT0, 'WT1': WT1, 'YBASE': YBASE}\n",
      "prob = EM1D.EM1D(mesh1D, mapping=Expmap, **options)\n",
      "\n",
      "if prob.ispaired:\n",
      "    prob.unpair()\n",
      "if FDsurvey.ispaired:\n",
      "    FDsurvey.unpair()\n",
      "prob.pair(FDsurvey)\n",
      "prob.CondType = 'Real'\n",
      "prob.chi = np.zeros(FDsurvey.nlay)\n",
      "Hz = prob.fields(m_1D)"
     ],
     "language": "python",
     "metadata": {},
     "outputs": [
      {
       "output_type": "stream",
       "stream": "stdout",
       "text": [
        "CPU times: user 223 ms, sys: 9.95 ms, total: 232 ms\n",
        "Wall time: 263 ms\n"
       ]
      }
     ],
     "prompt_number": 13
    },
    {
     "cell_type": "code",
     "collapsed": false,
     "input": [
      "%%time\n",
      "options = {'WT0': WT0, 'WT1': WT1, 'YBASE': YBASE}\n",
      "probcole = EM1D.EM1D(mesh1D, mapping = Colemap, **options)\n",
      "if probcole.ispaired:\n",
      "    probcole.unpair()\n",
      "if FDsurvey.ispaired:\n",
      "    FDsurvey.unpair()\n",
      "probcole.pair(FDsurvey)\n",
      "probcole.chi = np.zeros(FDsurvey.nlay)\n",
      "probcole.CondType = 'Complex'\n",
      "HzCole = probcole.fields(m_1D)\n",
      "Hzanal = EM1DAnal.Hzanal(sig_half, FDsurvey.frequency, FDsurvey.offset, 'secondary')"
     ],
     "language": "python",
     "metadata": {},
     "outputs": [
      {
       "output_type": "stream",
       "stream": "stdout",
       "text": [
        "CPU times: user 183 ms, sys: 1.66 ms, total: 185 ms\n",
        "Wall time: 228 ms\n"
       ]
      }
     ],
     "prompt_number": 14
    },
    {
     "cell_type": "code",
     "collapsed": false,
     "input": [
      "fig, ax = plt.subplots(1,1, figsize = (8, 5))\n",
      "ax.loglog(FDsurvey.frequency, abs(Hz.real), 'b')\n",
      "ax.loglog(FDsurvey.frequency, abs(Hz.imag), 'r')\n",
      "ax.loglog(FDsurvey.frequency, abs(HzCole.real), 'b*')\n",
      "ax.loglog(FDsurvey.frequency, abs(HzCole.real), 'b--')\n",
      "ax.loglog(FDsurvey.frequency, abs(HzCole.imag), 'r*')\n",
      "legend(('Real $H_{z FHT}$', 'Real $H_{z anal}$', 'Imag $H_{z FHT}$', 'Imag $H_{z anal}$'))\n",
      "ax.text(1e4, 1e-8, \"$\\\\tau$ = 0.1\", fontsize = 18)"
     ],
     "language": "python",
     "metadata": {},
     "outputs": [
      {
       "metadata": {},
       "output_type": "pyout",
       "prompt_number": 15,
       "text": [
        "<matplotlib.text.Text at 0x10e71f890>"
       ]
      },
      {
       "metadata": {},
       "output_type": "display_data",
       "png": "[encoded data removed]",
       "text": [
        "<matplotlib.figure.Figure at 0x10e39b1d0>"
       ]
      }
     ],
     "prompt_number": 15
    },
    {
     "cell_type": "code",
     "collapsed": false,
     "input": [],
     "language": "python",
     "metadata": {},
     "outputs": []
    }
   ],
   "metadata": {}
  }
 ]
}