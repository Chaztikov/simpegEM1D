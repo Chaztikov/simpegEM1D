{
 "cells": [
  {
   "cell_type": "code",
   "execution_count": 1,
   "metadata": {},
   "outputs": [
    {
     "name": "stdout",
     "output_type": "stream",
     "text": [
      "Populating the interactive namespace from numpy and matplotlib\n"
     ]
    }
   ],
   "source": [
    "from SimPEG import *\n",
    "from simpegEM1D import EM1D, EM1DSurveyTD, Utils1D, get_vertical_discretization_time, set_mesh_1d, piecewise_pulse\n",
    "import numpy as np\n",
    "%pylab inline"
   ]
  },
  {
   "cell_type": "code",
   "execution_count": 2,
   "metadata": {},
   "outputs": [],
   "source": [
    "from simpegEM1D import skytem_HM_2015, skytem_LM_2015\n",
    "wave_HM = skytem_HM_2015()\n",
    "wave_LM = skytem_LM_2015()\n",
    "time_HM = wave_HM.time_gate_center[0::2]\n",
    "time_LM = wave_LM.time_gate_center[0::2]\n",
    "\n",
    "hz = get_vertical_discretization_time(\n",
    "    np.unique(np.r_[time_HM, time_LM]), facter_tmax=0.5, factor_tmin=10.,\n",
    "    n_layer=39\n",
    ")\n",
    "mesh1D = set_mesh_1d(hz)\n",
    "depth = -mesh1D.gridN[:-1]\n",
    "LocSigZ = -mesh1D.gridCC\n",
    "\n",
    "time_input_currents_HM = wave_HM.current_times[-7:]\n",
    "input_currents_HM = wave_HM.currents[-7:]\n",
    "time_input_currents_LM = wave_LM.current_times[-13:]\n",
    "input_currents_LM = wave_LM.currents[-13:]\n",
    "\n",
    "TDsurvey = EM1DSurveyTD(\n",
    "    rx_location = np.array([0., 0., 100.+30.]),\n",
    "    src_location = np.array([0., 0., 100.+30.]),\n",
    "    topo = np.r_[0., 0., 100.],\n",
    "    depth = depth,\n",
    "    rx_type = 'dBzdt',\n",
    "    wave_type = 'general',\n",
    "    src_type = 'CircularLoop',\n",
    "    a = 13.,\n",
    "    I = 1.,\n",
    "    time = time_HM,\n",
    "    time_input_currents=time_input_currents_HM,\n",
    "    input_currents=input_currents_HM,\n",
    "    n_pulse = 2,\n",
    "    base_frequency = 25.,\n",
    "    use_lowpass_filter=True,\n",
    "    high_cut_frequency=210*1e3,\n",
    "    moment_type='dual',\n",
    "    time_dual_moment = time_HM,    \n",
    "    time_input_currents_dual_moment=time_input_currents_LM,\n",
    "    input_currents_dual_moment=input_currents_LM,\n",
    "    base_frequency_dual_moment=210,    \n",
    ")\n",
    "sig_half = 1./20.\n",
    "chi_half = 0.\n",
    "expmap = Maps.ExpMap(mesh1D)"
   ]
  },
  {
   "cell_type": "code",
   "execution_count": 3,
   "metadata": {},
   "outputs": [],
   "source": [
    "get_vertical_discretization_time?"
   ]
  },
  {
   "cell_type": "code",
   "execution_count": 4,
   "metadata": {},
   "outputs": [
    {
     "data": {
      "text/plain": [
       "array([ 4.03208103,  4.28395639,  4.55156585,  4.8358923 ,  5.13798   ,\n",
       "        5.45893846,  5.79994651,  6.16225659,  6.54719939,  6.95618873,\n",
       "        7.39072675,  7.85240942,  8.34293241,  8.8640973 ,  9.41781823,\n",
       "       10.0061289 , 10.63119007, 11.29529746, 12.00089019, 12.75055977,\n",
       "       13.54705958, 14.39331501, 15.29243417, 16.24771936, 17.26267915,\n",
       "       18.34104127, 19.48676634, 20.70406236, 21.99740023, 23.3715301 ,\n",
       "       24.8314989 , 26.38266877, 28.03073686, 29.78175619, 31.6421579 ,\n",
       "       33.61877487, 35.71886681, 37.95014694, 40.32081031])"
      ]
     },
     "execution_count": 4,
     "metadata": {},
     "output_type": "execute_result"
    }
   ],
   "source": [
    "hz"
   ]
  },
  {
   "cell_type": "code",
   "execution_count": 5,
   "metadata": {},
   "outputs": [
    {
     "data": {
      "text/plain": [
       "[<matplotlib.lines.Line2D at 0x1a1ebf0390>]"
      ]
     },
     "execution_count": 5,
     "metadata": {},
     "output_type": "execute_result"
    },
    {
     "data": {
      "image/png": "[encoded data removed]",
      "text/plain": [
       "<Figure size 432x288 with 1 Axes>"
      ]
     },
     "metadata": {
      "needs_background": "light"
     },
     "output_type": "display_data"
    }
   ],
   "source": [
    "plt.plot(time_input_currents_HM, input_currents_HM, '.-')"
   ]
  },
  {
   "cell_type": "code",
   "execution_count": 6,
   "metadata": {},
   "outputs": [
    {
     "data": {
      "text/plain": [
       "[<matplotlib.lines.Line2D at 0x1a1ec7b4a8>]"
      ]
     },
     "execution_count": 6,
     "metadata": {},
     "output_type": "execute_result"
    },
    {
     "data": {
      "image/png": "[encoded data removed]",
      "text/plain": [
       "<Figure size 432x288 with 1 Axes>"
      ]
     },
     "metadata": {
      "needs_background": "light"
     },
     "output_type": "display_data"
    }
   ],
   "source": [
    "plt.plot(time_input_currents_LM, input_currents_LM, '.-')"
   ]
  },
  {
   "cell_type": "code",
   "execution_count": 7,
   "metadata": {},
   "outputs": [],
   "source": [
    "sig  = np.ones(TDsurvey.n_layer)*sig_half\n",
    "blk_ind = -10<LocSigZ\n",
    "sig[blk_ind] = 1./20.\n",
    "blk_ind = (-10>LocSigZ) & (-30<LocSigZ)\n",
    "sig[blk_ind] = 1./100\n",
    "blk_ind = (-100>LocSigZ) & (-150<LocSigZ)\n",
    "sig[blk_ind] = 1./10.\n",
    "m_true = np.log(sig)"
   ]
  },
  {
   "cell_type": "code",
   "execution_count": 8,
   "metadata": {},
   "outputs": [
    {
     "data": {
      "text/plain": [
       "Text(0.5, 0, 'Resistivity ($\\\\Omega$m)')"
      ]
     },
     "execution_count": 8,
     "metadata": {},
     "output_type": "execute_result"
    },
    {
     "data": {
      "image/png": "[encoded data removed]",
      "text/plain": [
       "<Figure size 360x576 with 1 Axes>"
      ]
     },
     "metadata": {
      "needs_background": "light"
     },
     "output_type": "display_data"
    }
   ],
   "source": [
    "fig, ax = subplots(1,1, figsize=(5, 8))\n",
    "Utils1D.plotLayer(1./sig, mesh1D, showlayers=False)\n",
    "ax.set_xlabel(\"Resistivity ($\\Omega$m)\")"
   ]
  },
  {
   "cell_type": "code",
   "execution_count": 9,
   "metadata": {},
   "outputs": [],
   "source": [
    "e = np.empty(100, dtype=float)"
   ]
  },
  {
   "cell_type": "code",
   "execution_count": 10,
   "metadata": {},
   "outputs": [
    {
     "data": {
      "text/plain": [
       "0.0"
      ]
     },
     "execution_count": 10,
     "metadata": {},
     "output_type": "execute_result"
    }
   ],
   "source": [
    "e[2]"
   ]
  },
  {
   "cell_type": "code",
   "execution_count": 11,
   "metadata": {},
   "outputs": [
    {
     "data": {
      "text/plain": [
       "0.004761904761904762"
      ]
     },
     "execution_count": 11,
     "metadata": {},
     "output_type": "execute_result"
    }
   ],
   "source": [
    "TDsurvey.period_dual_moment"
   ]
  },
  {
   "cell_type": "code",
   "execution_count": 12,
   "metadata": {},
   "outputs": [
    {
     "data": {
      "text/plain": [
       "0.04"
      ]
     },
     "execution_count": 12,
     "metadata": {},
     "output_type": "execute_result"
    }
   ],
   "source": [
    "TDsurvey.period"
   ]
  },
  {
   "cell_type": "code",
   "execution_count": 13,
   "metadata": {},
   "outputs": [],
   "source": [
    "prob = EM1D(mesh1D, sigmaMap=expmap, verbose=False)\n",
    "if prob.ispaired:\n",
    "    prob.unpair()\n",
    "if TDsurvey.ispaired:\n",
    "    TDsurvey.unpair()\n",
    "prob.pair(TDsurvey)\n",
    "prob.chi = np.zeros(TDsurvey.n_layer)\n",
    "d_true = TDsurvey.dpred(m_true)\n",
    "# J = prob.getJ_sigma(m_true)"
   ]
  },
  {
   "cell_type": "code",
   "execution_count": 14,
   "metadata": {},
   "outputs": [
    {
     "data": {
      "text/plain": [
       "Text(0, 0.5, 'Voltage (V/A)')"
      ]
     },
     "execution_count": 14,
     "metadata": {},
     "output_type": "execute_result"
    },
    {
     "data": {
      "image/png": "[encoded data removed]",
      "text/plain": [
       "<Figure size 504x360 with 1 Axes>"
      ]
     },
     "metadata": {
      "needs_background": "light"
     },
     "output_type": "display_data"
    }
   ],
   "source": [
    "fig, axes = subplots(1,1, figsize = (7,5))\n",
    "axes.plot(TDsurvey.time, -d_true[:TDsurvey.n_time], '.-')\n",
    "axes.plot(TDsurvey.time_dual_moment, -d_true[TDsurvey.n_time:], '.-')\n",
    "axes.set_xscale('log');\n",
    "axes.set_yscale('log');\n",
    "plt.legend((\"HM\", \"LM\"))\n",
    "axes.set_xlabel(\"Time (ms)\")\n",
    "axes.set_ylabel(\"Voltage (V/A)\")"
   ]
  },
  {
   "cell_type": "code",
   "execution_count": 15,
   "metadata": {},
   "outputs": [
    {
     "data": {
      "text/plain": [
       "20.0"
      ]
     },
     "execution_count": 15,
     "metadata": {},
     "output_type": "execute_result"
    }
   ],
   "source": [
    "1./sig_half"
   ]
  },
  {
   "cell_type": "code",
   "execution_count": 16,
   "metadata": {},
   "outputs": [
    {
     "name": "stdout",
     "output_type": "stream",
     "text": [
      "SimPEG.DataMisfit.l2_DataMisfit assigning default std of 5%\n",
      "SimPEG.DataMisfit.l2_DataMisfit assigning default eps of 1e-5 * ||dobs||\n",
      "SimPEG.InvProblem will set Regularization.mref to m0.\n",
      "\n",
      "    SimPEG.InvProblem is setting bfgsH0 to the inverse of the eval2Deriv.\n",
      "    ***Done using same Solver and solverOpts as the problem***\n"
     ]
    },
    {
     "name": "stderr",
     "output_type": "stream",
     "text": [
      "/Users/sgkang/Projects/simpeg/SimPEG/Directives.py:935: UserWarning: Without a Linear preconditioner, convergence may be slow. Consider adding `Directives.UpdatePreconditioner` to your directives list\n",
      "  \"Without a Linear preconditioner, convergence may be slow. \"\n"
     ]
    },
    {
     "name": "stdout",
     "output_type": "stream",
     "text": [
      "model has any nan: 0\n",
      "=============================== Projected GNCG ===============================\n",
      "  #     beta     phi_d     phi_m       f      |proj(x-g)-x|  LS    Comment   \n",
      "-----------------------------------------------------------------------------\n",
      "x0 has any nan: 0\n",
      "   0  7.52e+00  1.22e+03  0.00e+00  1.22e+03    1.99e+03      0              \n",
      "   1  7.52e+00  1.15e+02  6.99e+00  1.67e+02    2.49e+02      0              \n",
      "   2  3.76e+00  4.80e+01  9.86e+00  8.51e+01    4.99e+01      0   Skip BFGS  \n",
      "Reached starting chifact with l2-norm regularization: Start IRLS steps...\n",
      "eps_p: 0.6288730128367308 eps_q: 0.6288730128367308\n",
      ">> Fix Jmatrix\n",
      "delta phim:    inf\n",
      "   3  3.76e+00  2.97e+01  1.85e+01  9.92e+01    3.32e+01      0   Skip BFGS  \n",
      ">> Fix Jmatrix\n",
      "delta phim: 1.495e+00\n",
      "   4  2.20e+00  3.58e+01  1.78e+01  7.49e+01    2.52e+01      0              \n",
      ">> Fix Jmatrix\n",
      "delta phim: 1.063e-01\n",
      "   5  1.38e+00  2.96e+01  2.06e+01  5.80e+01    2.77e+01      0              \n",
      ">> Fix Jmatrix\n",
      "delta phim: 1.870e-01\n",
      "   6  9.69e-01  2.30e+01  2.12e+01  4.35e+01    2.30e+01      0              \n",
      ">> Fix Jmatrix\n",
      "delta phim: 1.034e-01\n",
      "   7  7.58e-01  1.84e+01  2.16e+01  3.48e+01    1.28e+01      0   Skip BFGS  \n",
      ">> Fix Jmatrix\n",
      "delta phim: 5.805e-02\n",
      "   8  7.58e-01  1.64e+01  2.18e+01  3.30e+01    6.27e+00      0   Skip BFGS  \n",
      ">> Fix Jmatrix\n",
      "delta phim: 3.769e-02\n",
      "   9  7.58e-01  1.58e+01  2.06e+01  3.15e+01    4.25e+00      0   Skip BFGS  \n",
      ">> Fix Jmatrix\n",
      "delta phim: 3.037e-02\n",
      "  10  7.58e-01  1.55e+01  1.92e+01  3.00e+01    3.70e+00      0   Skip BFGS  \n",
      ">> Fix Jmatrix\n",
      "delta phim: 2.207e-02\n",
      "  11  7.58e-01  1.53e+01  1.78e+01  2.88e+01    3.09e+00      0   Skip BFGS  \n",
      ">> Fix Jmatrix\n",
      "delta phim: 1.648e-02\n",
      "  12  7.58e-01  1.51e+01  1.64e+01  2.76e+01    2.77e+00      0   Skip BFGS  \n",
      ">> Fix Jmatrix\n",
      "delta phim: 1.257e-02\n",
      "  13  7.58e-01  1.50e+01  1.50e+01  2.64e+01    3.01e+00      0              \n",
      ">> Fix Jmatrix\n",
      "delta phim: 6.799e-03\n",
      "Minimum decrease in regularization.End of IRLS\n",
      "------------------------- STOP! -------------------------\n",
      "1 : |fc-fOld| = 0.0000e+00 <= tolF*(1+|f0|) = 1.2194e+02\n",
      "1 : |xc-x_last| = 6.1902e-02 <= tolX*(1+|x0|) = 1.9708e+00\n",
      "0 : |proj(x-g)-x|    = 3.0074e+00 <= tolG          = 1.0000e-01\n",
      "0 : |proj(x-g)-x|    = 3.0074e+00 <= 1e3*eps       = 1.0000e-02\n",
      "0 : maxIter   =      50    <= iter          =     14\n",
      "------------------------- DONE! -------------------------\n"
     ]
    }
   ],
   "source": [
    "np.random.seed(1)\n",
    "TDsurvey.dtrue = d_true\n",
    "std = 0.05\n",
    "noise = std*abs(TDsurvey.dtrue)*np.random.randn(*TDsurvey.dtrue.shape)\n",
    "floor = 0.\n",
    "std = 0.05\n",
    "TDsurvey.dobs = TDsurvey.dtrue+noise\n",
    "uncert = abs(TDsurvey.dobs)*std+floor\n",
    "dmisfit = DataMisfit.l2_DataMisfit(TDsurvey)\n",
    "uncert = (abs(TDsurvey.dobs)*std+floor)\n",
    "dmisfit.W = 1./ uncert\n",
    "m0 = np.log(np.ones_like(sig)*1./20)\n",
    "d_0 = TDsurvey.dpred(m0)\n",
    "\n",
    "reg = Regularization.Sparse(\n",
    "    mesh1D,\n",
    "    mapping=Maps.IdentityMap(mesh1D),\n",
    "    alpha_s=1.,\n",
    "    alpha_x=1.,\n",
    ")\n",
    "p = 0\n",
    "qx, qz = 2, 2\n",
    "reg.norms = np.c_[p, qx, qz, 0.]\n",
    "IRLS = Directives.Update_IRLS(\n",
    "    maxIRLSiter=20, minGNiter=1, fix_Jmatrix=True, coolingRate=2, \n",
    "    betaSearch=False,\n",
    "    chifact_start = 2.\n",
    ")\n",
    "opt = Optimization.ProjectedGNCG(maxIter = 50)\n",
    "invProb = InvProblem.BaseInvProblem(dmisfit, reg, opt)\n",
    "beta = Directives.BetaSchedule(coolingFactor=2., coolingRate=1)\n",
    "betaest = Directives.BetaEstimate_ByEig(beta0_ratio=1e0)\n",
    "target = Directives.TargetMisfit()\n",
    "# update_sense = Directives.UpdateSensitivityWeights(threshold=delta)\n",
    "inv = Inversion.BaseInversion(invProb, directiveList=[IRLS, betaest])\n",
    "# inv = Inversion.BaseInversion(invProb, directiveList=[beta, betaest, target])\n",
    "prob.counter = opt.counter = Utils.Counter()\n",
    "opt.LSshorten = 0.5\n",
    "opt.remember('xc')\n",
    "mopt = inv.run(m0)"
   ]
  },
  {
   "cell_type": "code",
   "execution_count": 17,
   "metadata": {},
   "outputs": [
    {
     "name": "stdout",
     "output_type": "stream",
     "text": [
      "Counters:\n",
      "  ProjectedGNCG.activeSet                 :       14\n",
      "  ProjectedGNCG.doEndIteration            :       14\n",
      "  ProjectedGNCG.doStartIteration          :       14\n",
      "  ProjectedGNCG.projection                :       59\n",
      "  ProjectedGNCG.scaleSearchDirection      :       14\n",
      "\n",
      "Times:                                        mean      sum\n",
      "  EM1D.Jtvec_approx                       : 5.32e-04, 4.52e-02,   85x\n",
      "  EM1D.Jvec_approx                        : 8.05e-03, 6.84e-01,   85x\n",
      "  ProjectedGNCG.findSearchDirection       : 4.31e-02, 6.04e-01,   14x\n",
      "  ProjectedGNCG.minimize                  : 5.70e+00, 5.70e+00,    1x\n",
      "  ProjectedGNCG.modifySearchDirection     : 1.41e-01, 1.97e+00,   14x\n"
     ]
    }
   ],
   "source": [
    "opt.counter.summary()\n",
    "xc = opt.recall('xc')"
   ]
  },
  {
   "cell_type": "code",
   "execution_count": 18,
   "metadata": {},
   "outputs": [
    {
     "data": {
      "text/plain": [
       "(-300, 0)"
      ]
     },
     "execution_count": 18,
     "metadata": {},
     "output_type": "execute_result"
    },
    {
     "data": {
      "image/png": "[encoded data removed]",
      "text/plain": [
       "<Figure size 360x360 with 1 Axes>"
      ]
     },
     "metadata": {
      "needs_background": "light"
     },
     "output_type": "display_data"
    }
   ],
   "source": [
    "fig, axs = subplots(1,1, figsize=(5, 5))\n",
    "Utils1D.plotLayer(1./sig, mesh1D, ax=axs)\n",
    "axs.set_ylim(-300, 0)"
   ]
  },
  {
   "cell_type": "code",
   "execution_count": 19,
   "metadata": {},
   "outputs": [
    {
     "data": {
      "text/plain": [
       "(array([ 3.,  1., 29.,  0.,  1.,  1.,  0.,  1.,  1.,  2.]),\n",
       " array([ 6.96301655, 12.28187303, 17.60072951, 22.91958599, 28.23844246,\n",
       "        33.55729894, 38.87615542, 44.1950119 , 49.51386838, 54.83272485,\n",
       "        60.15158133]),\n",
       " <a list of 10 Patch objects>)"
      ]
     },
     "execution_count": 19,
     "metadata": {},
     "output_type": "execute_result"
    },
    {
     "data": {
      "image/png": "[encoded data removed]",
      "text/plain": [
       "<Figure size 432x288 with 1 Axes>"
      ]
     },
     "metadata": {
      "needs_background": "light"
     },
     "output_type": "display_data"
    }
   ],
   "source": [
    "plt.hist(1./np.exp(mopt))"
   ]
  },
  {
   "cell_type": "code",
   "execution_count": 20,
   "metadata": {},
   "outputs": [
    {
     "data": {
      "text/plain": [
       "Text(0.5, 1.0, 'Sparse')"
      ]
     },
     "execution_count": 20,
     "metadata": {},
     "output_type": "execute_result"
    },
    {
     "data": {
      "image/png": "[encoded data removed]",
      "text/plain": [
       "<Figure size 720x576 with 2 Axes>"
      ]
     },
     "metadata": {
      "needs_background": "light"
     },
     "output_type": "display_data"
    }
   ],
   "source": [
    "fig, axs = subplots(1,2, figsize=(10, 8))\n",
    "Utils1D.plotLayer(1./sig, mesh1D, ax=axs[0])\n",
    "Utils1D.plotLayer(1./sig, mesh1D, ax=axs[1])\n",
    "Utils1D.plotLayer(1./(expmap*invProb.l2model), mesh1D, showlayers=False, **{'color':'r'}, ax=axs[0])\n",
    "Utils1D.plotLayer(1./(expmap*mopt), mesh1D, showlayers=False, **{'color':'r'}, ax=axs[1])\n",
    "axs[1].set_ylabel(\"\")\n",
    "axs[0].set_title(\"Smooth\", fontsize = 16)\n",
    "axs[1].set_title(\"Sparse\", fontsize = 16)"
   ]
  },
  {
   "cell_type": "code",
   "execution_count": 21,
   "metadata": {},
   "outputs": [
    {
     "data": {
      "text/plain": [
       "Text(0, 0.5, 'Voltage (V/A)')"
      ]
     },
     "execution_count": 21,
     "metadata": {},
     "output_type": "execute_result"
    },
    {
     "data": {
      "image/png": "[encoded data removed]",
      "text/plain": [
       "<Figure size 504x360 with 1 Axes>"
      ]
     },
     "metadata": {
      "needs_background": "light"
     },
     "output_type": "display_data"
    }
   ],
   "source": [
    "fig, axes = subplots(1,1, figsize = (7,5))\n",
    "axes.plot(TDsurvey.time*1e3, -invProb.dpred[:TDsurvey.n_time], '.-')\n",
    "axes.plot(TDsurvey.time_dual_moment*1e3, -invProb.dpred[TDsurvey.n_time:], '.-')\n",
    "axes.plot(TDsurvey.time*1e3, -TDsurvey.dobs[:TDsurvey.n_time], 'x')\n",
    "axes.plot(TDsurvey.time_dual_moment*1e3, -TDsurvey.dobs[TDsurvey.n_time:], 'x')\n",
    "axes.set_xscale('log')\n",
    "axes.set_yscale('log')\n",
    "axes.set_xlabel(\"Time (ms)\")\n",
    "axes.set_ylabel(\"Voltage (V/A)\")"
   ]
  }
 ],
 "metadata": {
  "kernelspec": {
   "display_name": "Python 3",
   "language": "python",
   "name": "python3"
  },
  "language_info": {
   "codemirror_mode": {
    "name": "ipython",
    "version": 3
   },
   "file_extension": ".py",
   "mimetype": "text/x-python",
   "name": "python",
   "nbconvert_exporter": "python",
   "pygments_lexer": "ipython3",
   "version": "3.7.3"
  }
 },
 "nbformat": 4,
 "nbformat_minor": 1
}
