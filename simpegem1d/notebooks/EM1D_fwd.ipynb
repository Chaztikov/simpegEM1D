{
 "metadata": {
  "name": ""
 },
 "nbformat": 3,
 "nbformat_minor": 0,
 "worksheets": [
  {
   "cells": [
    {
     "cell_type": "code",
     "collapsed": false,
     "input": [
      "from SimPEG import *\n",
      "from simpegem1d import EM1D, EM1DAnal, Kernels, RTEfun, DigFilter, BaseEM1D\n",
      "%pylab inline"
     ],
     "language": "python",
     "metadata": {},
     "outputs": [
      {
       "output_type": "stream",
       "stream": "stdout",
       "text": [
        "Populating the interactive namespace from numpy and matplotlib\n"
       ]
      }
     ],
     "prompt_number": 1
    },
    {
     "cell_type": "markdown",
     "metadata": {},
     "source": [
      "## Set up for EM1D program"
     ]
    },
    {
     "cell_type": "markdown",
     "metadata": {},
     "source": [
      "### Step1: Generate mesh"
     ]
    },
    {
     "cell_type": "code",
     "collapsed": false,
     "input": [
      "np.cumsum(np.ones(3))"
     ],
     "language": "python",
     "metadata": {},
     "outputs": [
      {
       "metadata": {},
       "output_type": "pyout",
       "prompt_number": 2,
       "text": [
        "array([ 1.,  2.,  3.])"
       ]
      }
     ],
     "prompt_number": 2
    },
    {
     "cell_type": "markdown",
     "metadata": {},
     "source": [
      "### Step2: Initiate general survey"
     ]
    },
    {
     "cell_type": "code",
     "collapsed": false,
     "input": [
      "survey = BaseEM1D.BaseEM1DSurvey\n",
      "survey.rxLoc = np.array([0., 0., 150.])\n",
      "survey.txLoc = np.array([0., 0., 150.])\n",
      "survey.Nsd = 1.\n",
      "survey.rxType = 'VMD'\n",
      "survey.offset = 0.\n",
      "nearthick = np.logspace(-1, 1, 5)\n",
      "deepthick = np.logspace(1, 2, 10)\n",
      "hx = np.r_[nearthick, deepthick]\n",
      "Ldepth = np.cumsum(hx)\n",
      "\n",
      "mesh1D = Mesh.TensorMesh([hx], [0.])\n",
      "fig, ax = subplots(1,1, figsize=(12, 3))\n",
      "ax.plot(mesh1D.gridN, np.ones(mesh1D.nN), 'o--')\n",
      "ax.plot(mesh1D.gridCC, np.ones(mesh1D.nC), 'r*')\n",
      "ax.grid(color='b', alpha=0.5, linestyle='dashed', linewidth=0.5)"
     ],
     "language": "python",
     "metadata": {},
     "outputs": [
      {
       "metadata": {},
       "output_type": "display_data",
       "png": "[encoded data removed]",
       "text": [
        "<matplotlib.figure.Figure at 0x35b0750>"
       ]
      }
     ],
     "prompt_number": 3
    },
    {
     "cell_type": "code",
     "collapsed": false,
     "input": [
      "Ldepth = -mesh1D.gridN\n",
      "nlay = Ldepth.size\n",
      "topo = np.r_[0., 0., 100.]\n",
      "survey.Ldepth = Ldepth\n",
      "survey.topo = topo\n",
      "locx = topo[0]*np.ones(nlay)\n",
      "locy = topo[1]*np.ones(nlay)\n",
      "locz = np.r_[(Ldepth[:-1]+Ldepth[1:])*0.5+topo[2], -1e4]\n",
      "loc = np.c_[Utils.mkvc(locx), Utils.mkvc(locy), Utils.mkvc(locz)]\n",
      "survey.loc = loc"
     ],
     "language": "python",
     "metadata": {},
     "outputs": [],
     "prompt_number": 4
    },
    {
     "cell_type": "markdown",
     "metadata": {},
     "source": [
      "### Step3: Frequecy or Time domain EM survey"
     ]
    },
    {
     "cell_type": "code",
     "collapsed": false,
     "input": [
      "FDsurvey = BaseEM1D.EM1DSurveyFD()\n",
      "FDsurvey.frequency = np.logspace(0, 3, 10)\n",
      "FDsurvey.Nfreq = FDsurvey.frequency.size\n",
      "FDsurvey.Setup1Dsystem()\n",
      "sig_half = 1e-3\n",
      "sig = np.ones(nlay)*sig_half"
     ],
     "language": "python",
     "metadata": {},
     "outputs": [],
     "prompt_number": 23
    },
    {
     "cell_type": "code",
     "collapsed": false,
     "input": [
      "# logmodel = Model.LogModel(mesh1D)\n",
      "Logmodel = BaseEM1D.BaseEM1DModel(mesh1D)\n",
      "options = {'Frequency': FDsurvey.frequency, 'tau': np.ones(nlay)*1e-3, 'eta':np.ones(nlay)*0.2, 'c':np.ones(nlay)}\n",
      "Colemodel = BaseEM1D.BaseColeColeModel(mesh1D, **options)"
     ],
     "language": "python",
     "metadata": {},
     "outputs": [],
     "prompt_number": 24
    },
    {
     "cell_type": "code",
     "collapsed": false,
     "input": [
      "model = Model.ComboModel(mesh1D, [Logmodel])\n",
      "model.transform(np.log(sig))"
     ],
     "language": "python",
     "metadata": {},
     "outputs": [
      {
       "metadata": {},
       "output_type": "pyout",
       "prompt_number": 25,
       "text": [
        "array([ 0.001,  0.001,  0.001,  0.001,  0.001,  0.001,  0.001,  0.001,\n",
        "        0.001,  0.001,  0.001,  0.001,  0.001,  0.001,  0.001,  0.001])"
       ]
      }
     ],
     "prompt_number": 25
    },
    {
     "cell_type": "code",
     "collapsed": false,
     "input": [
      "# TDsurvey = BaseEM1D.EM1DSurveyTD()\n",
      "# TDsurvey.Nch = 10\n",
      "# TDsurvey.time = np.logspace(-5, 4, TDsurvey.Nch)\n",
      "# TDsurvey.setFrequency()"
     ],
     "language": "python",
     "metadata": {},
     "outputs": [],
     "prompt_number": 14
    },
    {
     "cell_type": "markdown",
     "metadata": {},
     "source": [
      "## Why is that?"
     ]
    },
    {
     "cell_type": "code",
     "collapsed": false,
     "input": [
      "class ParentSurvey(Survey.BaseSurvey):\n",
      "    \"\"\"Parent Magnetics Survey\"\"\"\n",
      "\n",
      "    rxLoc = None #: receiver locations\n",
      "    rxType = None #: receiver type\n",
      "\n",
      "    def __init__(self, **kwargs):\n",
      "        Survey.BaseSurvey.__init__(self, **kwargs)\n",
      "\n",
      "class ChildSurvey(ParentSurvey):\n",
      "    \"\"\"Parent Magnetics Survey\"\"\"\n",
      "    def __init__(self, **kwargs):\n",
      "        ParentSurvey.__init__(self, **kwargs)        \n",
      "        \n",
      "    def myMethod(self):\n",
      "        print self.rxLoc"
     ],
     "language": "python",
     "metadata": {},
     "outputs": [],
     "prompt_number": 2
    },
    {
     "cell_type": "code",
     "collapsed": false,
     "input": [
      "# P1 = ParentSurvey\n",
      "P2 = ParentSurvey()\n",
      "# P1.rxLoc = 1.\n",
      "P2.rxLoc = 1.\n",
      "ParentSurvey.rxLoc = 1.\n",
      "trial = ChildSurvey()\n",
      "trial.myMethod()"
     ],
     "language": "python",
     "metadata": {},
     "outputs": [
      {
       "output_type": "stream",
       "stream": "stdout",
       "text": [
        "1.0\n"
       ]
      }
     ],
     "prompt_number": 3
    },
    {
     "cell_type": "code",
     "collapsed": false,
     "input": [],
     "language": "python",
     "metadata": {},
     "outputs": []
    }
   ],
   "metadata": {}
  }
 ]
}