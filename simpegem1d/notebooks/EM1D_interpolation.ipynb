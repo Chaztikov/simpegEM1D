{
 "cells": [
  {
   "cell_type": "code",
   "execution_count": 1,
   "metadata": {},
   "outputs": [
    {
     "name": "stdout",
     "output_type": "stream",
     "text": [
      "Populating the interactive namespace from numpy and matplotlib\n"
     ]
    }
   ],
   "source": [
    "from SimPEG import Mesh\n",
    "from simpegem1d import *\n",
    "%pylab inline"
   ]
  },
  {
   "cell_type": "markdown",
   "metadata": {},
   "source": [
    "# Make it bit more efficient: Do not compute all 811 frequency components, but "
   ]
  },
  {
   "cell_type": "code",
   "execution_count": 13,
   "metadata": {},
   "outputs": [
    {
     "name": "stdout",
     "output_type": "stream",
     "text": [
      "1e-05\n"
     ]
    }
   ],
   "source": [
    "TDsurvey = BaseEM1D.EM1DSurveyTD()\n",
    "TDsurvey.rxLoc = np.array([0., 0., 100.+30.])\n",
    "TDsurvey.srcLoc = np.array([0., 0., 100.+80.])\n",
    "TDsurvey.fieldtype = 'secondary'\n",
    "TDsurvey.waveType = 'stepoff'\n",
    "TDsurvey.srcType = 'VMD'\n",
    "TDsurvey.offset = 1e-5\n",
    "print TDsurvey.offset\n",
    "cs = 10.\n",
    "nearthick = np.logspace(-1, 1, 3)\n",
    "linthick = np.ones(10)*cs\n",
    "deepthick = np.logspace(1, 2, 3)\n",
    "hx = np.r_[nearthick, linthick, deepthick, deepthick[-1]]\n",
    "mesh1D = Mesh.TensorMesh([hx], [0.])\n",
    "depth = -mesh1D.gridN[:-1]\n",
    "LocSigZ = -mesh1D.gridCC\n",
    "nlay = depth.size\n",
    "topo = np.r_[0., 0., 100.]\n",
    "TDsurvey.depth = depth\n",
    "TDsurvey.topo = topo\n",
    "TDsurvey.LocSigZ = LocSigZ\n",
    "TDsurvey.time = np.logspace(-5, -2.5, 64)\n",
    "TDsurvey.setFrequency(TDsurvey.time)\n",
    "TDsurvey.Setup1Dsystem()\n",
    "sig_half = 1e-3\n",
    "sig_blk = 1e-2\n",
    "chi_half = 0.\n",
    "Expmap = BaseEM1D.BaseEM1DMap(mesh1D)"
   ]
  },
  {
   "cell_type": "code",
   "execution_count": 14,
   "metadata": {},
   "outputs": [],
   "source": [
    "sig  = np.ones(nlay)*sig_half\n",
    "blk_ind = (-30>LocSigZ) & (-70<LocSigZ)\n",
    "sig[blk_ind] = sig_blk"
   ]
  },
  {
   "cell_type": "code",
   "execution_count": 15,
   "metadata": {},
   "outputs": [
    {
     "data": {
      "text/plain": [
       "[<matplotlib.lines.Line2D at 0x11acf7c50>]"
      ]
     },
     "execution_count": 15,
     "metadata": {},
     "output_type": "execute_result"
    },
    {
     "data": {
      "image/png": "[encoded data removed]",
      "text/plain": [
       "<matplotlib.figure.Figure at 0x11ac59b10>"
      ]
     },
     "metadata": {},
     "output_type": "display_data"
    }
   ],
   "source": [
    "Utils1D.plotLayer(sig, LocSigZ)"
   ]
  },
  {
   "cell_type": "code",
   "execution_count": 16,
   "metadata": {},
   "outputs": [],
   "source": [
    "WT0, WT1, YBASE = DigFilter.LoadWeights()\n",
    "options = {'WT0': WT0, 'WT1': WT1, 'YBASE': YBASE}\n",
    "prob = EM1D.EM1D(mesh1D, sigmaMap = Expmap, **options)\n",
    "if prob.ispaired:\n",
    "    prob.unpair()\n",
    "if TDsurvey.ispaired:\n",
    "    TDsurvey.unpair()\n",
    "prob.pair(TDsurvey)\n",
    "prob.CondType = 'Real'\n",
    "prob.chi = np.zeros(TDsurvey.nlay)"
   ]
  },
  {
   "cell_type": "code",
   "execution_count": 17,
   "metadata": {},
   "outputs": [],
   "source": [
    "TDsurvey.rxType = 'Bz'"
   ]
  },
  {
   "cell_type": "code",
   "execution_count": 18,
   "metadata": {},
   "outputs": [
    {
     "name": "stdout",
     "output_type": "stream",
     "text": [
      "CPU times: user 9.06 s, sys: 51.4 ms, total: 9.11 s\n",
      "Wall time: 9.25 s\n"
     ]
    }
   ],
   "source": [
    "%%time\n",
    "m_test = np.log(sig)\n",
    "d_test1 = TDsurvey.dpred(m_test)"
   ]
  },
  {
   "cell_type": "code",
   "execution_count": 19,
   "metadata": {},
   "outputs": [
    {
     "name": "stdout",
     "output_type": "stream",
     "text": [
      "CPU times: user 976 ms, sys: 13.3 ms, total: 989 ms\n",
      "Wall time: 1.08 s\n"
     ]
    }
   ],
   "source": [
    "%%time\n",
    "TDsurvey.switchInterp = True\n",
    "TDsurvey.setFrequency(TDsurvey.time)\n",
    "d_test2 = TDsurvey.dpred(m_test)"
   ]
  },
  {
   "cell_type": "code",
   "execution_count": 20,
   "metadata": {},
   "outputs": [],
   "source": [
    "TDsurvey.rxType = 'dBzdt'"
   ]
  },
  {
   "cell_type": "code",
   "execution_count": 21,
   "metadata": {},
   "outputs": [
    {
     "name": "stdout",
     "output_type": "stream",
     "text": [
      "CPU times: user 10.2 s, sys: 97 ms, total: 10.3 s\n",
      "Wall time: 11.3 s\n"
     ]
    }
   ],
   "source": [
    "%%time\n",
    "TDsurvey.switchInterp = False\n",
    "TDsurvey.setFrequency(TDsurvey.time)\n",
    "m_test = np.log(sig)\n",
    "dt_test1 = TDsurvey.dpred(m_test)"
   ]
  },
  {
   "cell_type": "code",
   "execution_count": 22,
   "metadata": {},
   "outputs": [
    {
     "name": "stdout",
     "output_type": "stream",
     "text": [
      "CPU times: user 1.08 s, sys: 14.5 ms, total: 1.1 s\n",
      "Wall time: 1.15 s\n"
     ]
    }
   ],
   "source": [
    "%%time\n",
    "TDsurvey.switchInterp = True\n",
    "TDsurvey.setFrequency(TDsurvey.time)\n",
    "dt_test2 = TDsurvey.dpred(m_test)"
   ]
  },
  {
   "cell_type": "code",
   "execution_count": 23,
   "metadata": {},
   "outputs": [
    {
     "data": {
      "text/plain": [
       "<matplotlib.legend.Legend at 0x11af09d10>"
      ]
     },
     "execution_count": 23,
     "metadata": {},
     "output_type": "execute_result"
    },
    {
     "data": {
      "image/png": "[encoded data removed]",
      "text/plain": [
       "<matplotlib.figure.Figure at 0x11ada8a50>"
      ]
     },
     "metadata": {},
     "output_type": "display_data"
    }
   ],
   "source": [
    "fig, axes = subplots(1,2, figsize = (12,5))\n",
    "axes[0].plot(TDsurvey.time, d_test1, 'b.-')\n",
    "axes[0].plot(TDsurvey.time[::2], d_test2[::2], 'ro')\n",
    "axes[0].set_xscale('log');\n",
    "axes[0].set_yscale('log');\n",
    "axes[1].plot(TDsurvey.time, -dt_test1, 'b.-')\n",
    "axes[1].plot(TDsurvey.time[::2], -dt_test2[::2], 'ro')\n",
    "axes[1].set_xscale('log');\n",
    "axes[1].set_yscale('log');\n",
    "axes[0].legend(('811-Filter', '81-Interpolation'))\n",
    "axes[1].legend(('811-Filter', '81-Interpolation'))"
   ]
  },
  {
   "cell_type": "markdown",
   "metadata": {},
   "source": [
    "## Discussion\n",
    "### a. Compute frequency in logarthmic scale (81, from 1e-3 - 1e8 Hz), then interpolate back to filter frequencies\n",
    "### b. Put zero values for other filter frequencies beyond this range\n",
    "### c. Works well $\\sigma_{half}$ = $10^{-4}$ - $10^{2}$  S/m\n",
    "### d. A lot more efficient. Ten times faster than before. So inversion migth be durable\n",
    "### e. I can do same thing for spatial frequency, but not sure I need to do "
   ]
  }
 ],
 "metadata": {
  "kernelspec": {
   "display_name": "Python [default]",
   "language": "python",
   "name": "python2"
  },
  "language_info": {
   "codemirror_mode": {
    "name": "ipython",
    "version": 2
   },
   "file_extension": ".py",
   "mimetype": "text/x-python",
   "name": "python",
   "nbconvert_exporter": "python",
   "pygments_lexer": "ipython2",
   "version": "2.7.14"
  }
 },
 "nbformat": 4,
 "nbformat_minor": 1
}
