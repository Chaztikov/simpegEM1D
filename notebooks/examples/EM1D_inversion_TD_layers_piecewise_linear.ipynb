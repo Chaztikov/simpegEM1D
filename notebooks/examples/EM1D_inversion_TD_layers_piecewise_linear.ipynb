{
 "cells": [
  {
   "cell_type": "code",
   "execution_count": 9,
   "metadata": {},
   "outputs": [
    {
     "name": "stdout",
     "output_type": "stream",
     "text": [
      ">> Use Key 101 (2009) filter for Hankel Transform\n",
      ">> Compute response\n",
      "SimPEG.DataMisfit.l2_DataMisfit assigning default eps of 1e-5 * ||dobs||\n",
      "SimPEG.InvProblem will set Regularization.mref to m0.\n",
      "\n",
      "    SimPEG.InvProblem is setting bfgsH0 to the inverse of the eval2Deriv.\n",
      "    ***Done using same Solver and solverOpts as the problem***\n",
      ">> Compute response\n",
      ">> Compute J sigma\n",
      "model has any nan: 0\n",
      "============================ Inexact Gauss Newton ============================\n",
      "  #     beta     phi_d     phi_m       f      |proj(x-g)-x|  LS    Comment   \n",
      "-----------------------------------------------------------------------------\n",
      "x0 has any nan: 0\n",
      "   0  1.55e+00  2.84e+02  0.00e+00  2.84e+02    3.79e+01      0              \n",
      ">> Compute response\n",
      ">> Compute response\n",
      ">> Compute J sigma\n",
      "   1  7.73e-01  9.25e+01  8.61e+00  9.92e+01    3.74e+01      1              \n",
      ">> Compute response\n",
      ">> Compute response\n",
      ">> Compute J sigma\n",
      "   2  3.87e-01  3.01e+01  1.56e+01  3.62e+01    2.91e+01      1              \n",
      ">> Compute response\n",
      ">> Compute response\n",
      ">> Compute J sigma\n",
      "   3  1.93e-01  1.40e+01  1.85e+01  1.76e+01    2.91e+01      1              \n",
      "------------------------- STOP! -------------------------\n",
      "1 : |fc-fOld| = 1.8563e+01 <= tolF*(1+|f0|) = 2.8550e+01\n",
      "1 : |xc-x_last| = 1.2752e+00 <= tolX*(1+|x0|) = 2.1073e+00\n",
      "0 : |proj(x-g)-x|    = 2.9067e+01 <= tolG          = 1.0000e-01\n",
      "0 : |proj(x-g)-x|    = 2.9067e+01 <= 1e3*eps       = 1.0000e-02\n",
      "1 : maxIter   =       3    <= iter          =      3\n",
      "------------------------- DONE! -------------------------\n"
     ]
    },
    {
     "data": {
      "text/plain": [
       "array([-3.2456278 , -3.04218769, -2.76494185, -2.53276791, -2.43257014,\n",
       "       -2.39881902, -2.36439263, -2.50379431, -2.9245659 , -3.47561076,\n",
       "       -3.95574707, -4.26389668, -4.3947426 , -4.39935487, -4.35439024,\n",
       "       -4.32932513, -4.3540888 , -4.41121382, -4.45548236])"
      ]
     },
     "execution_count": 9,
     "metadata": {},
     "output_type": "execute_result"
    }
   ],
   "source": [
    "# %%writefile em1dtd_inv_test.py\n",
    "from SimPEG import *\n",
    "from simpegEM1D import (\n",
    "    EM1D, EM1DSurveyTD, Utils1D, get_vertical_discretization_time, \n",
    "    set_mesh_1d, EM1DAnalytics\n",
    ")\n",
    "import numpy as np\n",
    "from simpegEM1D import skytem_HM_2015\n",
    "wave = skytem_HM_2015()\n",
    "time = np.logspace(-6, -2, 21)\n",
    "hz = get_vertical_discretization_time(time, facter_tmax=0.5, factor_tmin=10.)\n",
    "mesh1D = set_mesh_1d(hz)\n",
    "depth = -mesh1D.gridN[:-1]\n",
    "LocSigZ = -mesh1D.gridCC\n",
    "\n",
    "# time_input_currents = np.r_[0., 5.5*1e-4, 5.5*1e-4+1e-5]\n",
    "# input_currents = np.r_[0., 1., 0.]\n",
    "time_input_currents = wave.current_times[-7:]\n",
    "input_currents = wave.currents[-7:]\n",
    "\n",
    "TDsurvey = EM1DSurveyTD(\n",
    "    rx_location = np.array([0., 0., 100.+30.]),\n",
    "    src_location = np.array([0., 0., 100.+30.]),\n",
    "    topo = np.r_[0., 0., 100.],\n",
    "    depth = depth,\n",
    "    rx_type = 'dBzdt',\n",
    "    wave_type = 'general',\n",
    "    src_type = 'CircularLoop',\n",
    "    a = 13.,\n",
    "    time = time,\n",
    "    time_input_currents=time_input_currents,\n",
    "    input_currents=input_currents,\n",
    "    n_pulse = 2,\n",
    "    base_frequency = 25.            \n",
    ")\n",
    "\n",
    "# TDsurvey = EM1DSurveyTD(\n",
    "#     rx_location = np.array([0., 0., 100.+30.]),\n",
    "#     src_location = np.array([0., 0., 100.+30.]),\n",
    "#     topo = np.r_[0., 0., 100.],\n",
    "#     depth = depth,\n",
    "#     rx_type = 'dBzdt',\n",
    "#     wave_type = 'stepoff',\n",
    "#     src_type = 'CircularLoop',\n",
    "#     a = 13.,\n",
    "#     I = 1.,\n",
    "#     time = time\n",
    "# )\n",
    "\n",
    "sig_half = 1e-2\n",
    "sig_blk = 1e-1\n",
    "chi_half = 0.\n",
    "expmap = Maps.ExpMap(mesh1D)\n",
    "sig  = np.ones(TDsurvey.n_layer)*sig_half\n",
    "blk_ind = (0>LocSigZ) & (-30<LocSigZ)\n",
    "sig[blk_ind] = sig_blk\n",
    "m_true = np.log(sig)\n",
    "prob = EM1D(mesh1D, sigmaMap=expmap, verbose=True)\n",
    "if prob.ispaired:\n",
    "    prob.unpair()\n",
    "if TDsurvey.ispaired:\n",
    "    TDsurvey.unpair()\n",
    "prob.pair(TDsurvey)\n",
    "prob.chi = np.zeros(TDsurvey.n_layer)\n",
    "d_true = TDsurvey.dpred(m_true)\n",
    "TDsurvey.dtrue = d_true\n",
    "std = 0.1\n",
    "noise = std*abs(TDsurvey.dtrue)*np.random.randn(*TDsurvey.dtrue.shape)\n",
    "floor = 0.\n",
    "std = 0.15\n",
    "TDsurvey.dobs = TDsurvey.dtrue+noise\n",
    "uncert = abs(TDsurvey.dobs)*std+floor\n",
    "\n",
    "dmisfit = DataMisfit.l2_DataMisfit(TDsurvey)\n",
    "dmisfit.W = 1./(abs(TDsurvey.dobs)*std+floor)\n",
    "m0 = np.log(np.ones_like(sig)*sig_half)\n",
    "reg = Regularization.Simple(\n",
    "    mesh1D\n",
    ")\n",
    "opt = Optimization.InexactGaussNewton(maxIter = 3)\n",
    "opt.maxIterLS = 5\n",
    "invProb = InvProblem.BaseInvProblem(dmisfit, reg, opt)\n",
    "beta = Directives.BetaSchedule(coolingFactor=2., coolingRate=1)\n",
    "betaest = Directives.BetaEstimate_ByEig(beta0_ratio=1e0)\n",
    "target = Directives.TargetMisfit()\n",
    "inv = Inversion.BaseInversion(invProb, directiveList=[beta, betaest, target])\n",
    "prob.counter = opt.counter = Utils.Counter()\n",
    "opt.LSshorten = 0.5\n",
    "opt.remember('xc')\n",
    "inv.run(m0)"
   ]
  },
  {
   "cell_type": "code",
   "execution_count": 10,
   "metadata": {
    "scrolled": false
   },
   "outputs": [],
   "source": [
    "# !python em1dtd_inv_test.py"
   ]
  },
  {
   "cell_type": "code",
   "execution_count": 11,
   "metadata": {},
   "outputs": [],
   "source": [
    "from simpegEM1D.Waveforms import piecewise_pulse\n",
    "def step_func(time):\n",
    "    return EM1DAnalytics.dBzdtAnalCircT(\n",
    "    TDsurvey.a, time, sig_half\n",
    "    )\n",
    "from scipy.interpolate import interp1d\n",
    "\n",
    "response_analytic = piecewise_pulse(\n",
    "    step_func, time, \n",
    "    TDsurvey.time_input_currents, TDsurvey.input_currents,\n",
    "    TDsurvey.period, n_pulse=1\n",
    ")\n",
    "\n",
    "response_analytic_double = piecewise_pulse(\n",
    "    step_func, time, \n",
    "    TDsurvey.time_input_currents, TDsurvey.input_currents,\n",
    "    TDsurvey.period, n_pulse=2\n",
    ")"
   ]
  },
  {
   "cell_type": "code",
   "execution_count": 12,
   "metadata": {},
   "outputs": [],
   "source": [
    "import properties"
   ]
  },
  {
   "cell_type": "code",
   "execution_count": 15,
   "metadata": {},
   "outputs": [],
   "source": [
    "from empymod.utils import check_time\n",
    "import matplotlib.pyplot as plt"
   ]
  },
  {
   "cell_type": "code",
   "execution_count": 16,
   "metadata": {},
   "outputs": [
    {
     "data": {
      "text/plain": [
       "[<matplotlib.lines.Line2D at 0x10c4e48d0>]"
      ]
     },
     "execution_count": 16,
     "metadata": {},
     "output_type": "execute_result"
    },
    {
     "data": {
      "image/png": "[encoded data removed]",
      "text/plain": [
       "<Figure size 432x288 with 1 Axes>"
      ]
     },
     "metadata": {},
     "output_type": "display_data"
    }
   ],
   "source": [
    "# plt.loglog(time, -response_analytic_test, 'k.-')\n",
    "plt.loglog(time, -response_analytic)\n",
    "plt.loglog(time, -response_analytic_double)\n",
    "plt.loglog(TDsurvey.time, -d_true, 'rx')"
   ]
  },
  {
   "cell_type": "code",
   "execution_count": 17,
   "metadata": {},
   "outputs": [],
   "source": [
    "from scipy.interpolate import interp1d"
   ]
  },
  {
   "cell_type": "code",
   "execution_count": 19,
   "metadata": {},
   "outputs": [
    {
     "data": {
      "image/png": "[encoded data removed]",
      "text/plain": [
       "<Figure size 504x360 with 1 Axes>"
      ]
     },
     "metadata": {},
     "output_type": "display_data"
    }
   ],
   "source": [
    "fig, axes = plt.subplots(1,1, figsize = (7,5))\n",
    "axes.plot(TDsurvey.time, -d_true, 'b.-')\n",
    "axes.plot(TDsurvey.time, -TDsurvey.dobs, 'r.-')\n",
    "axes.set_xscale('log');\n",
    "axes.set_yscale('log');"
   ]
  },
  {
   "cell_type": "code",
   "execution_count": 23,
   "metadata": {},
   "outputs": [],
   "source": [
    "# fig, ax = plt.subplots(1,1, figsize=(5, 8))\n",
    "# Utils1D.plotLayer(sig, mesh1D)\n",
    "# Utils1D.plotLayer(expmap*mopt, mesh1D, showlayers=True, **{'color':'r'})"
   ]
  },
  {
   "cell_type": "code",
   "execution_count": 24,
   "metadata": {},
   "outputs": [],
   "source": [
    "# fig, axes = subplots(1,1, figsize = (7,5))\n",
    "# axes.plot(TDsurvey.time, -invProb.dpred, 'b-')\n",
    "# axes.plot(TDsurvey.time, -TDsurvey.dobs, 'bx')\n",
    "# axes.set_xscale('log');\n",
    "# axes.set_yscale('log');"
   ]
  },
  {
   "cell_type": "code",
   "execution_count": 25,
   "metadata": {},
   "outputs": [],
   "source": [
    "# %%time\n",
    "# dpredall = []\n",
    "# maxIter = len(xc)\n",
    "# prob.jacSwitch = False\n",
    "# for i in range(maxIter):\n",
    "#     dpredtemp = TDsurvey.dpred(xc[i])\n",
    "#     dpredall.append(dpredtemp)"
   ]
  },
  {
   "cell_type": "code",
   "execution_count": 26,
   "metadata": {},
   "outputs": [],
   "source": [
    "# from JSAnimation import IPython_display\n",
    "# from matplotlib import animation\n",
    "\n",
    "# fig, ax = subplots(1,2, figsize=(14, 8))\n",
    "# ax[0].plot(sig, LocSigZ,  'b.-', lw=2)\n",
    "# ax[0].grid(color='k', alpha=0.5, linestyle='dashed', linewidth=0.5)\n",
    "# ax[1].grid(color='k', alpha=0.5, linestyle='dashed', linewidth=0.5)\n",
    "\n",
    "# ax[1].plot(TDsurvey.time, -(TDsurvey.dobs), 'r.-', lw=2)\n",
    "# ax[0].set_xscale('log')\n",
    "# ax[1].set_xscale('log')\n",
    "# ax[1].set_yscale('log')\n",
    "# ax[0].set_xlim(1e-6, 1e-2)\n",
    "\n",
    "\n",
    "# frame1, = ax[0].plot([], [],  'r.-', lw=2)\n",
    "# frame2, = ax[1].plot([], [],  'b.-' , lw=2)\n",
    "\n",
    "# def animate(i_id):\n",
    "    \n",
    "#     frame1.set_data(expmap*xc[i_id], LocSigZ)\n",
    "#     frame2.set_data(TDsurvey.time, -(dpredall[i_id]))\n",
    "    \n",
    "#     ax[0].legend(('True', 'Pred'), loc=1, fontsize = 14)\n",
    "#     ax[1].legend(('True', 'Pred'), loc=1, fontsize = 14)\n",
    "    \n",
    "#     ax[0].set_title('$\\sigma$ model, Iter = ' + str(i_id+1), fontsize = 16)\n",
    "#     ax[1].set_title('Pred and Obs data, Iter = ' + str(i_id+1), fontsize = 16)\n",
    "#     return frame1, frame2\n",
    "\n",
    "# animation.FuncAnimation(fig, animate, frames=maxIter, interval=40, blit=True)"
   ]
  }
 ],
 "metadata": {
  "kernelspec": {
   "display_name": "Python 3",
   "language": "python",
   "name": "python3"
  },
  "language_info": {
   "codemirror_mode": {
    "name": "ipython",
    "version": 3
   },
   "file_extension": ".py",
   "mimetype": "text/x-python",
   "name": "python",
   "nbconvert_exporter": "python",
   "pygments_lexer": "ipython3",
   "version": "3.6.4"
  }
 },
 "nbformat": 4,
 "nbformat_minor": 1
}
