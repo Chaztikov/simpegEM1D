{
 "cells": [
  {
   "cell_type": "code",
   "execution_count": 1,
   "metadata": {},
   "outputs": [],
   "source": [
    "from SimPEG import *\n",
    "from simpegEM1D import *\n",
    "from scipy.constants import mu_0\n",
    "import numpy as np\n",
    "frequency = np.array([382, 1822, 7970, 35920, 130100], dtype=float)\n",
    "hz = get_vertical_discretization_frequency(frequency, sigma_background=0.01)\n",
    "mesh1D = set_mesh_1d(hz)\n",
    "depth = -mesh1D.gridN[:-1]\n",
    "LocSigZ = -mesh1D.gridCC\n",
    "\n",
    "FDsurvey = EM1DSurveyFD(\n",
    "    rx_location = np.array([0., 0., 100.+30.]),\n",
    "    src_location = np.array([0., 0., 100.+30.]),\n",
    "    field_type = 'secondary',\n",
    "    rx_type = 'Hz',\n",
    "    src_type = 'VMD',\n",
    "    offset = np.ones(5)*7.86,\n",
    "    topo = np.r_[0., 0., 100.],\n",
    "    depth = depth,\n",
    "    frequency = frequency\n",
    ")\n",
    "\n",
    "sig_half = 1e-3\n",
    "sig_blk = sig_half*50.\n",
    "chi_half = 0.\n",
    "expmap = Maps.ExpMap(mesh1D)\n",
    "sig  = np.ones(FDsurvey.n_layer)*sig_half\n",
    "blk_ind = (-50>LocSigZ) & (-80<LocSigZ)\n",
    "sig[blk_ind] = sig_blk\n",
    "# sig[-150>LocSigZ] = 0.1\n",
    "m_true = np.r_[np.log(sig)]"
   ]
  },
  {
   "cell_type": "code",
   "execution_count": 4,
   "metadata": {},
   "outputs": [],
   "source": [
    "prob = EM1D(\n",
    "    mesh1D, sigmaMap=expmap,\n",
    "    chi= np.zeros(FDsurvey.n_layer),\n",
    "    verbose=False\n",
    ")\n",
    "if prob.ispaired:\n",
    "    prob.unpair()\n",
    "if FDsurvey.ispaired:\n",
    "    FDsurvey.unpair()\n",
    "prob.pair(FDsurvey)     \n",
    "d_true = FDsurvey.dpred(m_true)\n",
    "m0 = np.ones_like(m_true) * np.log(sig_half)\n",
    "d_0 = FDsurvey.dpred(m0)"
   ]
  },
  {
   "cell_type": "code",
   "execution_count": 5,
   "metadata": {},
   "outputs": [],
   "source": [
    "FDsurvey.dtrue = d_true\n",
    "std = 0.05\n",
    "floor = 0.\n",
    "np.random.seed(1)\n",
    "uncert = std*abs(FDsurvey.dtrue)+floor\n",
    "noise = std*FDsurvey.dtrue*np.random.randn(FDsurvey.dtrue.size)\n",
    "FDsurvey.dobs = FDsurvey.dtrue+noise\n",
    "doi, _=prob.depth_of_investigation(uncert)\n",
    "delta = prob.get_threshold(uncert)"
   ]
  },
  {
   "cell_type": "code",
   "execution_count": 6,
   "metadata": {},
   "outputs": [
    {
     "name": "stdout",
     "output_type": "stream",
     "text": [
      "172.35910288100044 0.01595579499674474\n"
     ]
    }
   ],
   "source": [
    "print (doi, delta)"
   ]
  },
  {
   "cell_type": "code",
   "execution_count": 7,
   "metadata": {},
   "outputs": [],
   "source": [
    "from SimPEG import Regularization"
   ]
  },
  {
   "cell_type": "code",
   "execution_count": 8,
   "metadata": {
    "scrolled": false
   },
   "outputs": [
    {
     "name": "stdout",
     "output_type": "stream",
     "text": [
      "SimPEG.DataMisfit.l2_DataMisfit assigning default eps of 1e-5 * ||dobs||\n",
      "SimPEG.InvProblem will set Regularization.mref to m0.\n",
      "\n",
      "    SimPEG.InvProblem is setting bfgsH0 to the inverse of the eval2Deriv.\n",
      "    ***Done using same Solver and solverOpts as the problem***\n",
      "model has any nan: 0\n",
      "=============================== Projected GNCG ===============================\n",
      "  #     beta     phi_d     phi_m       f      |proj(x-g)-x|  LS    Comment   \n",
      "-----------------------------------------------------------------------------\n",
      "x0 has any nan: 0\n",
      "   0  1.70e+01  8.42e+02  0.00e+00  8.42e+02    6.45e+01      0              \n"
     ]
    },
    {
     "name": "stderr",
     "output_type": "stream",
     "text": [
      "/Users/sgkang/Projects/simpeg/SimPEG/Directives.py:903: UserWarning: Without a Linear preconditioner, convergence may be slow. Consider adding `Directives.UpdatePreconditioner` to your directives list\n",
      "  \"Without a Linear preconditioner, convergence may be slow. \"\n"
     ]
    },
    {
     "name": "stdout",
     "output_type": "stream",
     "text": [
      "   1  1.70e+01  6.82e+02  2.87e+00  7.31e+02    3.83e+01      0              \n",
      "   2  8.52e+00  5.82e+02  6.27e+00  6.35e+02    6.55e+01      0   Skip BFGS  \n",
      "   3  8.52e+00  2.59e+02  1.96e+01  4.26e+02    1.02e+02      0              \n",
      "   4  4.26e+00  1.91e+01  2.91e+01  1.43e+02    4.93e+01      0              \n",
      "Reached starting chifact with l2-norm regularization: Start IRLS steps...\n",
      "eps_p: 4.466130396693773 eps_q: 4.466130396693773\n",
      "Eps_p: 3.721775330578144\n",
      "Eps_q: 3.721775330578144\n",
      "delta phim:    inf\n",
      "   5  4.26e+00  6.01e+00  3.71e+01  1.64e+02    4.67e+01      0              \n",
      "Eps_p: 3.1014794421484533\n",
      "Eps_q: 3.1014794421484533\n",
      "delta phim: 7.944e-01\n",
      "   6  1.98e+00  1.16e+01  3.47e+01  8.03e+01    1.15e+02      0              \n",
      "Eps_p: 2.584566201790378\n",
      "Eps_q: 2.584566201790378\n",
      "delta phim: 5.088e-01\n",
      "   7  1.19e+00  7.09e+00  3.25e+01  4.59e+01    7.30e+00      0   Skip BFGS  \n",
      "Eps_p: 2.1538051681586485\n",
      "Eps_q: 2.1538051681586485\n",
      "delta phim: 9.502e-02\n",
      "   8  6.91e-01  7.60e+00  3.08e+01  2.89e+01    7.45e+00      0   Skip BFGS  \n",
      "Eps_p: 1.7948376401322073\n",
      "Eps_q: 1.7948376401322073\n",
      "delta phim: 2.039e-01\n",
      "   9  4.08e-01  7.33e+00  3.00e+01  1.96e+01    1.74e+00      0   Skip BFGS  \n",
      "Eps_p: 1.4956980334435062\n",
      "Eps_q: 1.4956980334435062\n",
      "delta phim: 7.076e-02\n",
      "  10  2.49e-01  6.96e+00  2.90e+01  1.42e+01    1.40e+00      0              \n",
      "Eps_p: 1.2464150278695885\n",
      "Eps_q: 1.2464150278695885\n",
      "delta phim: 4.622e-02\n",
      "  11  1.55e-01  6.71e+00  2.79e+01  1.10e+01    2.41e+00      0              \n",
      "Eps_p: 1.0386791898913237\n",
      "Eps_q: 1.0386791898913237\n",
      "delta phim: 4.055e-02\n",
      "  12  9.72e-02  6.62e+00  2.71e+01  9.25e+00    6.96e-01      0   Skip BFGS  \n",
      "Eps_p: 0.8655659915761031\n",
      "Eps_q: 0.8655659915761031\n",
      "delta phim: 4.307e-02\n",
      "  13  6.22e-02  6.41e+00  2.76e+01  8.13e+00    5.68e-01      0              \n",
      "Eps_p: 0.721304992980086\n",
      "Eps_q: 0.721304992980086\n",
      "delta phim: 5.131e-02\n",
      "  14  4.19e-02  5.90e+00  2.93e+01  7.12e+00    1.95e+00      0              \n",
      "Reach maximum number of IRLS cycles: 10\n",
      "------------------------- STOP! -------------------------\n",
      "1 : |fc-fOld| = 0.0000e+00 <= tolF*(1+|f0|) = 8.4267e+01\n",
      "1 : |xc-x_last| = 1.7214e+00 <= tolX*(1+|x0|) = 3.1110e+00\n",
      "0 : |proj(x-g)-x|    = 1.9528e+00 <= tolG          = 1.0000e-01\n",
      "0 : |proj(x-g)-x|    = 1.9528e+00 <= 1e3*eps       = 1.0000e-02\n",
      "0 : maxIter   =      30    <= iter          =     15\n",
      "------------------------- DONE! -------------------------\n"
     ]
    }
   ],
   "source": [
    "\n",
    "dmisfit = DataMisfit.l2_DataMisfit(FDsurvey)\n",
    "dmisfit.W = 1./(abs(FDsurvey.dobs)*std+floor)\n",
    "\n",
    "reg = Regularization.Sparse(\n",
    "    mesh1D, mapping=Maps.IdentityMap(mesh1D)\n",
    ")\n",
    "p=0.\n",
    "qx, qz = 2., 2.\n",
    "reg.norms = np.c_[p, qx, qz, 0.]\n",
    "IRLS = Directives.Update_IRLS(\n",
    "    maxIRLSiter=10, minGNiter=1, fix_Jmatrix=False, coolingRate=2, \n",
    "    betaSearch=False,\n",
    "    chifact_start = 2.\n",
    ")\n",
    "opt = Optimization.ProjectedGNCG(maxIter = 30)\n",
    "opt.maxIterLS = 5\n",
    "invProb = InvProblem.BaseInvProblem(dmisfit, reg, opt)\n",
    "beta = Directives.BetaSchedule(coolingFactor=2, coolingRate=2)\n",
    "betaest = Directives.BetaEstimate_ByEig(beta0_ratio=1.)\n",
    "target = Directives.TargetMisfit()\n",
    "sense = Directives.UpdateSensitivityWeights(threshold=delta)\n",
    "# inv = Inversion.BaseInversion(invProb, directiveList=[beta,betaest,target])\n",
    "inv = Inversion.BaseInversion(invProb, directiveList=[IRLS, betaest])\n",
    "\n",
    "prob.counter = opt.counter = Utils.Counter()\n",
    "opt.LSshorten = 0.5\n",
    "opt.remember('xc')\n",
    "mopt = inv.run(m0)"
   ]
  },
  {
   "cell_type": "code",
   "execution_count": 9,
   "metadata": {},
   "outputs": [],
   "source": [
    "doi, act_ind = prob.depth_of_investigation(uncert)"
   ]
  },
  {
   "cell_type": "code",
   "execution_count": 10,
   "metadata": {},
   "outputs": [
    {
     "name": "stdout",
     "output_type": "stream",
     "text": [
      "230.0630993146064\n"
     ]
    }
   ],
   "source": [
    "print (doi)"
   ]
  },
  {
   "cell_type": "code",
   "execution_count": 12,
   "metadata": {},
   "outputs": [
    {
     "name": "stdout",
     "output_type": "stream",
     "text": [
      "Populating the interactive namespace from numpy and matplotlib\n"
     ]
    },
    {
     "data": {
      "text/plain": [
       "[<matplotlib.lines.Line2D at 0x1a1d998f98>]"
      ]
     },
     "execution_count": 12,
     "metadata": {},
     "output_type": "execute_result"
    },
    {
     "data": {
      "image/png": "[encoded data removed]",
      "text/plain": [
       "<Figure size 360x576 with 1 Axes>"
      ]
     },
     "metadata": {},
     "output_type": "display_data"
    }
   ],
   "source": [
    "%pylab inline\n",
    "fig, ax = subplots(1,1, figsize=(5, 8))\n",
    "Utils1D.plotLayer(sig, mesh1D, showlayers=False)\n",
    "Utils1D.plotLayer(expmap*mopt, mesh1D, showlayers=False, **{'color':'r'})\n",
    "Utils1D.plotLayer(expmap*invProb.l2model, mesh1D, showlayers=False, **{'color':'b', 'lw':1})"
   ]
  },
  {
   "cell_type": "code",
   "execution_count": 13,
   "metadata": {},
   "outputs": [
    {
     "name": "stdout",
     "output_type": "stream",
     "text": [
      "230.0630993146064\n"
     ]
    }
   ],
   "source": [
    "print (doi)"
   ]
  },
  {
   "cell_type": "code",
   "execution_count": 14,
   "metadata": {},
   "outputs": [],
   "source": [
    "delta = prob.get_threshold(uncert)"
   ]
  },
  {
   "cell_type": "code",
   "execution_count": 15,
   "metadata": {},
   "outputs": [
    {
     "name": "stdout",
     "output_type": "stream",
     "text": [
      "0.01310619745771359\n"
     ]
    }
   ],
   "source": [
    "print (delta)"
   ]
  },
  {
   "cell_type": "code",
   "execution_count": 16,
   "metadata": {
    "scrolled": false
   },
   "outputs": [],
   "source": [
    "# !python run_em1d.py"
   ]
  },
  {
   "cell_type": "code",
   "execution_count": 17,
   "metadata": {},
   "outputs": [
    {
     "data": {
      "image/png": "[encoded data removed]",
      "text/plain": [
       "<Figure size 504x360 with 1 Axes>"
      ]
     },
     "metadata": {},
     "output_type": "display_data"
    }
   ],
   "source": [
    "fig, axes = subplots(1,1, figsize = (7,5))\n",
    "axes.plot(FDsurvey.frequency, -invProb.dpred[0:FDsurvey.n_frequency], 'k.-')\n",
    "axes.plot(FDsurvey.frequency, -invProb.dpred[FDsurvey.n_frequency:], 'b.-')\n",
    "axes.plot(FDsurvey.frequency, -FDsurvey.dobs[0:FDsurvey.n_frequency], 'ko')\n",
    "axes.plot(FDsurvey.frequency, -FDsurvey.dobs[FDsurvey.n_frequency:], 'bo')\n",
    "# axes.plot(FDsurvey.frequency, uncert[0:FDsurvey.n_frequency], 'k*')\n",
    "# axes.plot(FDsurvey.frequency, uncert[FDsurvey.n_frequency:], 'r*')\n",
    "axes.set_xscale('log')"
   ]
  },
  {
   "cell_type": "code",
   "execution_count": 18,
   "metadata": {},
   "outputs": [],
   "source": [
    "from scipy.linalg.blas import cgemm\n",
    "import numpy as np"
   ]
  },
  {
   "cell_type": "code",
   "execution_count": 20,
   "metadata": {},
   "outputs": [
    {
     "data": {
      "text/plain": [
       "[<matplotlib.lines.Line2D at 0x1a1de959b0>]"
      ]
     },
     "execution_count": 20,
     "metadata": {},
     "output_type": "execute_result"
    },
    {
     "data": {
      "image/png": "[encoded data removed]",
      "text/plain": [
       "<Figure size 360x576 with 1 Axes>"
      ]
     },
     "metadata": {},
     "output_type": "display_data"
    }
   ],
   "source": [
    "fig, ax = subplots(1,1, figsize=(5, 8))\n",
    "Utils1D.plotLayer(sig, mesh1D, showlayers=True)"
   ]
  }
 ],
 "metadata": {
  "kernelspec": {
   "display_name": "Python 3",
   "language": "python",
   "name": "python3"
  }
 },
 "nbformat": 4,
 "nbformat_minor": 1
}
