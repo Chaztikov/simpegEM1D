{
 "metadata": {
  "name": "",
  "signature": "sha256:01be0b6029cd9cee14ba6f2bee714ffd9b05922f75887723ee8f3efb043584b6"
 },
 "nbformat": 3,
 "nbformat_minor": 0,
 "worksheets": [
  {
   "cells": [
    {
     "cell_type": "code",
     "collapsed": false,
     "input": [
      "from SimPEG import Mesh\n",
      "from simpegem1d import *\n",
      "%pylab inline"
     ],
     "language": "python",
     "metadata": {},
     "outputs": [
      {
       "output_type": "stream",
       "stream": "stdout",
       "text": [
        "Populating the interactive namespace from numpy and matplotlib\n"
       ]
      }
     ],
     "prompt_number": 1
    },
    {
     "cell_type": "heading",
     "level": 1,
     "metadata": {},
     "source": [
      "Make it bit more efficient: Do not compute all 811 frequency components, but "
     ]
    },
    {
     "cell_type": "code",
     "collapsed": false,
     "input": [
      "TDsurvey = BaseEM1D.EM1DSurveyTD()\n",
      "TDsurvey.rxLoc = np.array([0., 0., 100.+30.])\n",
      "TDsurvey.txLoc = np.array([0., 0., 100.+80.])\n",
      "TDsurvey.fieldtype = 'secondary'\n",
      "TDsurvey.waveType = 'stepoff'\n",
      "TDsurvey.txType = 'VMD'\n",
      "TDsurvey.offset = 1e-5\n",
      "print TDsurvey.offset\n",
      "cs = 10.\n",
      "nearthick = np.logspace(-1, 1, 3)\n",
      "linthick = np.ones(10)*cs\n",
      "deepthick = np.logspace(1, 2, 3)\n",
      "hx = np.r_[nearthick, linthick, deepthick, deepthick[-1]]\n",
      "mesh1D = Mesh.TensorMesh([hx], [0.])\n",
      "depth = -mesh1D.gridN[:-1]\n",
      "LocSigZ = -mesh1D.gridCC\n",
      "nlay = depth.size\n",
      "topo = np.r_[0., 0., 100.]\n",
      "TDsurvey.depth = depth\n",
      "TDsurvey.topo = topo\n",
      "TDsurvey.LocSigZ = LocSigZ\n",
      "TDsurvey.time = np.logspace(-5, -2.5, 64)\n",
      "TDsurvey.setFrequency(TDsurvey.time)\n",
      "TDsurvey.Setup1Dsystem()\n",
      "sig_half = 1e-3\n",
      "sig_blk = 1e-2\n",
      "chi_half = 0.\n",
      "Expmap = BaseEM1D.BaseEM1DMap(mesh1D)"
     ],
     "language": "python",
     "metadata": {},
     "outputs": [
      {
       "output_type": "stream",
       "stream": "stdout",
       "text": [
        "1e-05\n"
       ]
      }
     ],
     "prompt_number": 2
    },
    {
     "cell_type": "code",
     "collapsed": false,
     "input": [
      "sig  = np.ones(nlay)*sig_half\n",
      "blk_ind = (-30>LocSigZ) & (-70<LocSigZ)\n",
      "sig[blk_ind] = sig_blk"
     ],
     "language": "python",
     "metadata": {},
     "outputs": [],
     "prompt_number": 3
    },
    {
     "cell_type": "code",
     "collapsed": false,
     "input": [
      "Utils1D.plotLayer(sig, LocSigZ)"
     ],
     "language": "python",
     "metadata": {},
     "outputs": [
      {
       "metadata": {},
       "output_type": "pyout",
       "prompt_number": 4,
       "text": [
        "[<matplotlib.lines.Line2D at 0xa728c50>]"
       ]
      },
      {
       "metadata": {},
       "output_type": "display_data",
       "png": "[encoded data removed]",
       "text": [
        "<matplotlib.figure.Figure at 0xa71b8d0>"
       ]
      }
     ],
     "prompt_number": 4
    },
    {
     "cell_type": "code",
     "collapsed": false,
     "input": [
      "WT0, WT1, YBASE = DigFilter.LoadWeights()\n",
      "options = {'WT0': WT0, 'WT1': WT1, 'YBASE': YBASE}\n",
      "prob = EM1D.EM1D(mesh1D, mapping = Expmap, **options)\n",
      "if prob.ispaired:\n",
      "    prob.unpair()\n",
      "if TDsurvey.ispaired:\n",
      "    TDsurvey.unpair()\n",
      "prob.pair(TDsurvey)\n",
      "prob.CondType = 'Real'\n",
      "prob.chi = np.zeros(TDsurvey.nlay)"
     ],
     "language": "python",
     "metadata": {},
     "outputs": [],
     "prompt_number": 5
    },
    {
     "cell_type": "code",
     "collapsed": false,
     "input": [
      "TDsurvey.rxType = 'Bz'"
     ],
     "language": "python",
     "metadata": {},
     "outputs": [],
     "prompt_number": 6
    },
    {
     "cell_type": "code",
     "collapsed": false,
     "input": [
      "%%time\n",
      "m_test = np.log(sig)\n",
      "d_test1 = TDsurvey.dpred(m_test)"
     ],
     "language": "python",
     "metadata": {},
     "outputs": [
      {
       "output_type": "stream",
       "stream": "stdout",
       "text": [
        "Wall time: 5.21 s\n"
       ]
      }
     ],
     "prompt_number": 7
    },
    {
     "cell_type": "code",
     "collapsed": false,
     "input": [
      "%%time\n",
      "TDsurvey.switchInterp = True\n",
      "TDsurvey.setFrequency(TDsurvey.time)\n",
      "d_test2 = TDsurvey.dpred(m_test)"
     ],
     "language": "python",
     "metadata": {},
     "outputs": [
      {
       "output_type": "stream",
       "stream": "stdout",
       "text": [
        "Wall time: 491 ms\n"
       ]
      }
     ],
     "prompt_number": 8
    },
    {
     "cell_type": "code",
     "collapsed": false,
     "input": [
      "TDsurvey.rxType = 'dBzdt'"
     ],
     "language": "python",
     "metadata": {},
     "outputs": [],
     "prompt_number": 9
    },
    {
     "cell_type": "code",
     "collapsed": false,
     "input": [
      "%%time\n",
      "TDsurvey.switchInterp = False\n",
      "TDsurvey.setFrequency(TDsurvey.time)\n",
      "m_test = np.log(sig)\n",
      "dt_test1 = TDsurvey.dpred(m_test)"
     ],
     "language": "python",
     "metadata": {},
     "outputs": [
      {
       "output_type": "stream",
       "stream": "stdout",
       "text": [
        "Wall time: 5.18 s\n"
       ]
      }
     ],
     "prompt_number": 10
    },
    {
     "cell_type": "code",
     "collapsed": false,
     "input": [
      "%%time\n",
      "TDsurvey.switchInterp = True\n",
      "TDsurvey.setFrequency(TDsurvey.time)\n",
      "dt_test2 = TDsurvey.dpred(m_test)"
     ],
     "language": "python",
     "metadata": {},
     "outputs": [
      {
       "output_type": "stream",
       "stream": "stdout",
       "text": [
        "Wall time: 900 ms\n"
       ]
      }
     ],
     "prompt_number": 11
    },
    {
     "cell_type": "code",
     "collapsed": false,
     "input": [
      "fig, axes = subplots(1,2, figsize = (12,5))\n",
      "axes[0].plot(TDsurvey.time, d_test1, 'b.-')\n",
      "axes[0].plot(TDsurvey.time[::2], d_test2[::2], 'ro')\n",
      "axes[0].set_xscale('log');\n",
      "axes[0].set_yscale('log');\n",
      "axes[1].plot(TDsurvey.time, -dt_test1, 'b.-')\n",
      "axes[1].plot(TDsurvey.time[::2], -dt_test2[::2], 'ro')\n",
      "axes[1].set_xscale('log');\n",
      "axes[1].set_yscale('log');\n",
      "axes[0].legend(('811-Filter', '81-Interpolation'))\n",
      "axes[1].legend(('811-Filter', '81-Interpolation'))"
     ],
     "language": "python",
     "metadata": {},
     "outputs": [
      {
       "metadata": {},
       "output_type": "pyout",
       "prompt_number": 12,
       "text": [
        "<matplotlib.legend.Legend at 0xaadc748>"
       ]
      },
      {
       "metadata": {},
       "output_type": "display_data",
       "png": "[encoded data removed]",
       "text": [
        "<matplotlib.figure.Figure at 0xa71b828>"
       ]
      }
     ],
     "prompt_number": 12
    },
    {
     "cell_type": "markdown",
     "metadata": {},
     "source": [
      "## Discussion\n",
      "### a. Compute frequency in logarthmic scale (81, from 1e-3 - 1e8 Hz), then interpolate back to filter frequencies\n",
      "### b. Put zero values for other filter frequencies beyond this range\n",
      "### c. Works well $\\sigma_{half}$ = $10^{-4}$ - $10^{2}$  S/m\n",
      "### d. A lot more efficient. Ten times faster than before. So inversion migth be durable\n",
      "### e. I can do same thing for spatial frequency, but not sure I need to do "
     ]
    }
   ],
   "metadata": {}
  }
 ]
}