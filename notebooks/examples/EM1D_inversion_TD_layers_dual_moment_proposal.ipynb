{
 "cells": [
  {
   "cell_type": "code",
   "execution_count": 584,
   "metadata": {},
   "outputs": [
    {
     "name": "stdout",
     "output_type": "stream",
     "text": [
      "Populating the interactive namespace from numpy and matplotlib\n"
     ]
    },
    {
     "name": "stderr",
     "output_type": "stream",
     "text": [
      "/Users/sgkang/anaconda2/envs/simpeg/lib/python3.6/site-packages/IPython/core/magics/pylab.py:160: UserWarning: pylab import has clobbered these variables: ['std', 'axes']\n",
      "`%matplotlib` prevents importing * from pylab and numpy\n",
      "  \"\\n`%matplotlib` prevents importing * from pylab and numpy\"\n"
     ]
    }
   ],
   "source": [
    "from SimPEG import *\n",
    "from simpegEM1D import EM1D, EM1DSurveyTD, Utils1D, get_vertical_discretization_time, set_mesh_1d, piecewise_pulse\n",
    "import numpy as np\n",
    "%pylab inline"
   ]
  },
  {
   "cell_type": "code",
   "execution_count": 585,
   "metadata": {},
   "outputs": [],
   "source": [
    "from simpegEM1D import skytem_HM_2015, skytem_LM_2015\n",
    "wave_HM = skytem_HM_2015()\n",
    "wave_LM = skytem_LM_2015()\n",
    "time_HM = wave_HM.time_gate_center\n",
    "time_LM = wave_LM.time_gate_center\n",
    "def get_problem_survey(hz):\n",
    "    mesh1D = set_mesh_1d(hz)\n",
    "    depth = -mesh1D.gridN[:-1]\n",
    "    LocSigZ = -mesh1D.gridCC\n",
    "    expmap = Maps.ExpMap(mesh1D)    \n",
    "    \n",
    "    time_input_currents_HM = wave_HM.current_times[-7:]\n",
    "    input_currents_HM = wave_HM.currents[-7:]\n",
    "    time_input_currents_LM = wave_LM.current_times[-13:]\n",
    "    input_currents_LM = wave_LM.currents[-13:]\n",
    "\n",
    "    TDsurvey = EM1DSurveyTD(\n",
    "        rx_location = np.array([0., 0., 100.+30.]),\n",
    "        src_location = np.array([0., 0., 100.+30.]),\n",
    "        topo = np.r_[0., 0., 100.],\n",
    "        depth = depth,\n",
    "        rx_type = 'dBzdt',\n",
    "        wave_type = 'general',\n",
    "        src_type = 'CircularLoop',\n",
    "        a = 13.,\n",
    "        I = 1.,\n",
    "        time = time_HM,\n",
    "        time_input_currents=time_input_currents_HM,\n",
    "        input_currents=input_currents_HM,\n",
    "        n_pulse = 2,\n",
    "        base_frequency = 25.,\n",
    "        use_lowpass_filter=True,\n",
    "        high_cut_frequency=210*1e3,\n",
    "        moment_type='dual',\n",
    "        time_dual_moment = time_HM,    \n",
    "        time_input_currents_dual_moment=time_input_currents_LM,\n",
    "        input_currents_dual_moment=input_currents_LM,\n",
    "        base_frequency_dual_moment=210,    \n",
    "    )\n",
    "    \n",
    "    prob = EM1D(mesh1D, sigmaMap=expmap, verbose=False)\n",
    "    if prob.ispaired:\n",
    "        prob.unpair()\n",
    "    if TDsurvey.ispaired:\n",
    "        TDsurvey.unpair()\n",
    "    prob.pair(TDsurvey)\n",
    "    prob.chi = np.zeros(TDsurvey.n_layer)\n",
    "    return TDsurvey, prob"
   ]
  },
  {
   "cell_type": "code",
   "execution_count": 637,
   "metadata": {},
   "outputs": [],
   "source": [
    "hz = np.r_[100, 30, 180, 1000.]\n",
    "sig = np.r_[1./50, 1./5, 1./30, 1./1.]\n",
    "mesh1D = set_mesh_1d(hz)\n",
    "depth = -mesh1D.gridN[:-1]\n",
    "LocSigZ = -mesh1D.gridCC"
   ]
  },
  {
   "cell_type": "code",
   "execution_count": 638,
   "metadata": {},
   "outputs": [],
   "source": [
    "TDsurvey, prob = get_problem_survey(hz)\n",
    "sig_half = 1./50.\n",
    "chi_half = 0.\n",
    "m_true = np.log(sig)\n",
    "std = 0.05\n",
    "dtrue = TDsurvey.dpred(m_true)\n",
    "np.random.seed(1)\n",
    "noise = std*abs(dtrue)*np.random.randn(*dtrue.shape)\n",
    "dobs = dtrue+noise"
   ]
  },
  {
   "cell_type": "code",
   "execution_count": 639,
   "metadata": {},
   "outputs": [],
   "source": [
    "import matplotlib\n",
    "matplotlib.rcParams['font.size'] = 14"
   ]
  },
  {
   "cell_type": "code",
   "execution_count": 640,
   "metadata": {},
   "outputs": [
    {
     "data": {
      "text/plain": [
       "(-600, 0)"
      ]
     },
     "execution_count": 640,
     "metadata": {},
     "output_type": "execute_result"
    },
    {
     "data": {
      "image/png": "[encoded data removed]",
      "text/plain": [
       "<Figure size 288x360 with 1 Axes>"
      ]
     },
     "metadata": {},
     "output_type": "display_data"
    }
   ],
   "source": [
    "fig, ax = subplots(1,1, figsize=(4, 5))\n",
    "Utils1D.plotLayer(1./sig, mesh1D, showlayers=False, ax=ax)\n",
    "ax.set_xlabel(\"Resistivity ($\\Omega$m)\")\n",
    "plt.tight_layout()\n",
    "fig.savefig('resistivity', dpi=200)\n",
    "ax.set_xlim(0.5, 100)\n",
    "ax.set_ylim(-600, 0)"
   ]
  },
  {
   "cell_type": "code",
   "execution_count": 641,
   "metadata": {},
   "outputs": [
    {
     "data": {
      "image/png": "[encoded data removed]",
      "text/plain": [
       "<Figure size 432x288 with 1 Axes>"
      ]
     },
     "metadata": {},
     "output_type": "display_data"
    }
   ],
   "source": [
    "fig, axes = subplots(1,1, figsize = (6,4))\n",
    "axes.plot(TDsurvey.time, -dobs[:TDsurvey.n_time], '-', lw=2)\n",
    "axes.plot(TDsurvey.time_dual_moment, -dobs[TDsurvey.n_time:], '-', lw=2)\n",
    "axes.set_xscale('log');\n",
    "axes.set_yscale('log');\n",
    "plt.legend((\"HM\", \"LM\"))\n",
    "plt.xlabel(\"Time (s)\")\n",
    "plt.ylabel(\"SkyTEM data (V/A-m$^2$)\")\n",
    "plt.tight_layout()\n",
    "fig.savefig('skytem_data', dpi=200)"
   ]
  },
  {
   "cell_type": "code",
   "execution_count": 642,
   "metadata": {},
   "outputs": [],
   "source": [
    "# std = 0.05\n",
    "# prob.getJ(m_true)\n",
    "# prob.depth_of_investigation_christiansen_2012(std, thres_hold=0.8)"
   ]
  },
  {
   "cell_type": "code",
   "execution_count": 643,
   "metadata": {},
   "outputs": [],
   "source": [
    "IRLS = Directives.Update_IRLS(\n",
    "        maxIRLSiter=40, minGNiter=1, fix_Jmatrix=True, coolingRate=1, coolingFactor=2, betaSearch=False,\n",
    "        chifact_start = 1.\n",
    "    )"
   ]
  },
  {
   "cell_type": "code",
   "execution_count": 644,
   "metadata": {},
   "outputs": [],
   "source": [
    "def run_inversion(m0, dobs, std, floor, is_sparse=True):\n",
    "    hz = get_vertical_discretization_time(\n",
    "        np.unique(np.r_[time_HM, time_LM]), facter_tmax=0.5, factor_tmin=10., n_layer=30\n",
    "    )    \n",
    "    mesh1D = set_mesh_1d(hz)\n",
    "    TDsurvey, prob = get_problem_survey(hz)\n",
    "    TDsurvey.dobs = dobs.copy()\n",
    "    uncert = abs(TDsurvey.dobs)*std+floor\n",
    "    dmisfit = DataMisfit.l2_DataMisfit(TDsurvey)\n",
    "    dmisfit.W = 1./ uncert\n",
    "    \n",
    "    \n",
    "    if is_sparse:\n",
    "        reg = Regularization.Sparse(\n",
    "            mesh1D,\n",
    "            mapping=Maps.IdentityMap(mesh1D),\n",
    "            alpha_s=1.,\n",
    "            alpha_x=1.,\n",
    "        )\n",
    "        p = 0\n",
    "        qx, qz = 1., 1.\n",
    "        reg.norms = np.c_[p, qx, qz, 0.]\n",
    "        IRLS = Directives.Update_IRLS(\n",
    "            maxIRLSiter=40, minGNiter=1, fix_Jmatrix=True, coolingRate=1, coolingFactor=5, betaSearch=False,\n",
    "            chifact_start = 1.,\n",
    "            f_min_change = 1e-3\n",
    "        )        \n",
    "    else:\n",
    "        reg = Regularization.Tikhonov(\n",
    "            mesh1D,\n",
    "            mapping=Maps.IdentityMap(mesh1D),\n",
    "            alpha_s=1.,\n",
    "            alpha_x=0.05,\n",
    "        )        \n",
    "    opt = Optimization.ProjectedGNCG(maxIter = 40)\n",
    "    invProb = InvProblem.BaseInvProblem(dmisfit, reg, opt)\n",
    "    beta = Directives.BetaSchedule(coolingFactor=2., coolingRate=1)\n",
    "    betaest = Directives.BetaEstimate_ByEig(beta0_ratio=10**1.5)\n",
    "    target = Directives.TargetMisfit()\n",
    "    save = Directives.SaveOutputEveryIteration()\n",
    "    if is_sparse:\n",
    "        directiveList=[IRLS, betaest]\n",
    "    else:\n",
    "        directiveList=[beta, betaest, target]\n",
    "    \n",
    "    inv = Inversion.BaseInversion(invProb, directiveList=directiveList)\n",
    "    prob.counter = opt.counter = Utils.Counter()\n",
    "    opt.LSshorten = 0.5\n",
    "    opt.remember('xc')\n",
    "    mopt = inv.run(m0)\n",
    "    return mopt, invProb"
   ]
  },
  {
   "cell_type": "code",
   "execution_count": 645,
   "metadata": {
    "scrolled": false
   },
   "outputs": [
    {
     "name": "stdout",
     "output_type": "stream",
     "text": [
      "SimPEG.DataMisfit.l2_DataMisfit assigning default eps of 1e-5 * ||dobs||\n",
      "SimPEG.InvProblem will set Regularization.mref to m0.\n",
      "\n",
      "    SimPEG.InvProblem is setting bfgsH0 to the inverse of the eval2Deriv.\n",
      "    ***Done using same Solver and solverOpts as the problem***\n",
      "model has any nan: 0\n",
      "=============================== Projected GNCG ===============================\n",
      "  #     beta     phi_d     phi_m       f      |proj(x-g)-x|  LS    Comment   \n",
      "-----------------------------------------------------------------------------\n",
      "x0 has any nan: 0\n",
      "   0  8.07e+01  5.09e+02  0.00e+00  5.09e+02    1.66e+02      0              \n",
      "   1  4.03e+01  4.88e+02  1.23e-01  4.93e+02    8.58e+01      0              \n",
      "   2  2.02e+01  4.67e+02  4.87e-01  4.77e+02    8.71e+01      0   Skip BFGS  \n",
      "   3  1.01e+01  4.28e+02  1.84e+00  4.46e+02    9.28e+01      0              \n",
      "   4  5.04e+00  3.51e+02  6.81e+00  3.85e+02    1.03e+02      0              \n",
      "   5  2.52e+00  2.15e+02  2.23e+01  2.71e+02    1.13e+02      0              \n",
      "   6  1.26e+00  7.10e+01  5.09e+01  1.35e+02    7.61e+01      0              \n",
      "------------------------- STOP! -------------------------\n",
      "1 : |fc-fOld| = 0.0000e+00 <= tolF*(1+|f0|) = 5.0964e+01\n",
      "1 : |xc-x_last| = 7.8209e-01 <= tolX*(1+|x0|) = 2.2427e+00\n",
      "0 : |proj(x-g)-x|    = 7.6076e+01 <= tolG          = 1.0000e-01\n",
      "0 : |proj(x-g)-x|    = 7.6076e+01 <= 1e3*eps       = 1.0000e-02\n",
      "0 : maxIter   =      40    <= iter          =      7\n",
      "------------------------- DONE! -------------------------\n",
      "CPU times: user 16.2 s, sys: 382 ms, total: 16.6 s\n",
      "Wall time: 16.6 s\n"
     ]
    }
   ],
   "source": [
    "%%time\n",
    "m0 = np.log(np.ones(30)*1./50)\n",
    "mopt, invProb = run_inversion(m0, dobs, 0.1, 0., is_sparse=False)"
   ]
  },
  {
   "cell_type": "code",
   "execution_count": 646,
   "metadata": {},
   "outputs": [
    {
     "name": "stdout",
     "output_type": "stream",
     "text": [
      "SimPEG.DataMisfit.l2_DataMisfit assigning default eps of 1e-5 * ||dobs||\n",
      "SimPEG.InvProblem will set Regularization.mref to m0.\n",
      "\n",
      "    SimPEG.InvProblem is setting bfgsH0 to the inverse of the eval2Deriv.\n",
      "    ***Done using same Solver and solverOpts as the problem***\n",
      "model has any nan: 0\n",
      "=============================== Projected GNCG ===============================\n",
      "  #     beta     phi_d     phi_m       f      |proj(x-g)-x|  LS    Comment   \n",
      "-----------------------------------------------------------------------------\n",
      "x0 has any nan: 0\n",
      "   0  2.13e+02  1.26e+03  0.00e+00  1.26e+03    1.65e+03      0              \n",
      "   1  1.06e+02  5.20e+02  1.24e+00  6.51e+02    3.13e+02      0              \n",
      "   2  5.32e+01  3.94e+02  2.14e+00  5.07e+02    2.33e+02      0   Skip BFGS  \n",
      "   3  2.66e+01  2.90e+02  3.62e+00  3.86e+02    1.54e+02      0   Skip BFGS  \n",
      "   4  1.33e+01  2.20e+02  5.60e+00  2.94e+02    1.08e+02      0   Skip BFGS  \n",
      "   5  6.64e+00  1.62e+02  8.73e+00  2.20e+02    8.16e+01      0   Skip BFGS  \n",
      "   6  3.32e+00  1.09e+02  1.42e+01  1.56e+02    6.36e+01      0   Skip BFGS  \n",
      "   7  1.66e+00  6.70e+01  2.22e+01  1.04e+02    4.20e+01      0   Skip BFGS  \n",
      "   8  8.30e-01  4.23e+01  3.13e+01  6.83e+01    2.17e+01      0   Skip BFGS  \n",
      "------------------------- STOP! -------------------------\n",
      "1 : |fc-fOld| = 0.0000e+00 <= tolF*(1+|f0|) = 1.2633e+02\n",
      "1 : |xc-x_last| = 5.5975e-01 <= tolX*(1+|x0|) = 1.9629e+00\n",
      "0 : |proj(x-g)-x|    = 2.1725e+01 <= tolG          = 1.0000e-01\n",
      "0 : |proj(x-g)-x|    = 2.1725e+01 <= 1e3*eps       = 1.0000e-02\n",
      "0 : maxIter   =      40    <= iter          =      9\n",
      "------------------------- DONE! -------------------------\n"
     ]
    }
   ],
   "source": [
    "m0_1 = np.log(np.ones(30)*1./30)\n",
    "mopt_1, invProb_1 = run_inversion(m0_1, dobs, 0.1, 0., is_sparse=False)"
   ]
  },
  {
   "cell_type": "code",
   "execution_count": 718,
   "metadata": {},
   "outputs": [],
   "source": [
    "def compute_doi_index_oldenburg_and_li_1999(m1, m2, m1r, m2r):\n",
    "    r = abs((m1-m2) / (m1r-m2r))\n",
    "    r[r>0.99] = 1.\n",
    "    return r"
   ]
  },
  {
   "cell_type": "code",
   "execution_count": 713,
   "metadata": {},
   "outputs": [],
   "source": [
    "# fig, ax = subplots(1,1, figsize=(4, 5))\n",
    "# Utils1D.plotLayer(1./sig, mesh1D, showlayers=False, ax=ax)\n",
    "# Utils1D.plotLayer(1./(expmap*invProb.l2model), mesh1D, showlayers=False, **{'color':'r', 'lw':3})\n",
    "# ax.set_xlabel(\"Resistivity ($\\Omega$m)\")\n",
    "# ax.set_xlim(0.5, 300)\n",
    "# plt.tight_layout()\n",
    "# fig.savefig('resistivity_l2', dpi=200)"
   ]
  },
  {
   "cell_type": "code",
   "execution_count": 714,
   "metadata": {},
   "outputs": [],
   "source": [
    "mesh1D_inv = invProb.dmisfit.prob.mesh"
   ]
  },
  {
   "cell_type": "code",
   "execution_count": 715,
   "metadata": {},
   "outputs": [
    {
     "data": {
      "image/png": "[encoded data removed]",
      "text/plain": [
       "<Figure size 288x360 with 1 Axes>"
      ]
     },
     "metadata": {},
     "output_type": "display_data"
    }
   ],
   "source": [
    "fig, ax = subplots(1,1, figsize=(4, 5))\n",
    "Utils1D.plotLayer(1./sig, mesh1D, showlayers=False, ax=ax)\n",
    "Utils1D.plotLayer(1./(expmap*mopt), mesh1D_inv, showlayers=False, **{'color':'r', 'lw':3})\n",
    "ax.set_xlabel(\"Resistivity ($\\Omega$m)\")\n",
    "ax.set_xlim(0.5, 300)\n",
    "ax.set_ylim(-600, 0)\n",
    "plt.tight_layout()\n",
    "fig.savefig('resistivity_l2', dpi=200)\n"
   ]
  },
  {
   "cell_type": "code",
   "execution_count": 763,
   "metadata": {},
   "outputs": [
    {
     "data": {
      "image/png": "[encoded data removed]",
      "text/plain": [
       "<Figure size 288x360 with 1 Axes>"
      ]
     },
     "metadata": {},
     "output_type": "display_data"
    }
   ],
   "source": [
    "fig, ax = subplots(1,1, figsize=(4, 5))\n",
    "Utils1D.plotLayer(1./(np.exp(mopt_1)), mesh1D_inv, showlayers=False, **{'color':'b', 'lw':3})\n",
    "Utils1D.plotLayer(1./(np.exp(mopt)), mesh1D_inv, showlayers=False, **{'color':'r', 'lw':3})\n",
    "# ax.legend((\"$m_0$=30 $\\Omega$m\", \"$m_0$=50 $\\Omega$m\"), bbox_to_anchor=(1,1))\n",
    "Utils1D.plotLayer(1./sig, mesh1D, showlayers=False, ax=ax)\n",
    "ax.set_xlabel(\"Resistivity ($\\Omega$m)\")\n",
    "ax.set_xlim(0.5, 300)\n",
    "ax.set_ylim(-600, 0)\n",
    "plt.tight_layout()\n",
    "fig.savefig('resistivity_l2_compare', dpi=200)\n"
   ]
  },
  {
   "cell_type": "code",
   "execution_count": 704,
   "metadata": {
    "scrolled": false
   },
   "outputs": [
    {
     "name": "stdout",
     "output_type": "stream",
     "text": [
      "SimPEG.DataMisfit.l2_DataMisfit assigning default eps of 1e-5 * ||dobs||\n",
      "SimPEG.InvProblem will set Regularization.mref to m0.\n",
      "\n",
      "    SimPEG.InvProblem is setting bfgsH0 to the inverse of the eval2Deriv.\n",
      "    ***Done using same Solver and solverOpts as the problem***\n"
     ]
    },
    {
     "name": "stderr",
     "output_type": "stream",
     "text": [
      "/Users/sgkang/Projects/simpeg/SimPEG/Directives.py:886: UserWarning: Without a Linear preconditioner, convergence may be slow. Consider adding `Directives.UpdatePreconditioner` to your directives list\n",
      "  \"Without a Linear preconditioner, convergence may be slow. \"\n"
     ]
    },
    {
     "name": "stdout",
     "output_type": "stream",
     "text": [
      "model has any nan: 0\n",
      "=============================== Projected GNCG ===============================\n",
      "  #     beta     phi_d     phi_m       f      |proj(x-g)-x|  LS    Comment   \n",
      "-----------------------------------------------------------------------------\n",
      "x0 has any nan: 0\n",
      "   0  1.37e+03  5.09e+02  0.00e+00  5.09e+02    1.66e+02      0              \n",
      "   1  2.75e+02  4.90e+02  6.60e-03  4.92e+02    1.34e+02      0              \n",
      "   2  5.49e+01  4.20e+02  1.44e-01  4.28e+02    1.41e+02      0   Skip BFGS  \n",
      "   3  1.10e+01  1.77e+02  1.99e+00  1.99e+02    1.36e+02      0              \n",
      "   4  2.20e+00  5.63e+01  6.12e+00  6.97e+01    1.34e+02      0              \n",
      "Reached starting chifact with l2-norm regularization: Start IRLS steps...\n",
      "eps_p: 1.9855896338405348 eps_q: 1.9855896338405348\n",
      ">> Fix Jmatrix\n",
      "Eps_p: 1.6546580282004457\n",
      "Eps_q: 1.6546580282004457\n",
      "delta phim:    inf\n",
      "   5  4.39e-01  2.86e+01  8.73e+00  3.24e+01    1.07e+02      0              \n",
      ">> Fix Jmatrix\n",
      "Eps_p: 1.3788816901670382\n",
      "Eps_q: 1.3788816901670382\n",
      "delta phim: 7.005e-01\n",
      "   6  7.95e-01  1.85e+01  8.56e+00  2.53e+01    8.11e+00      0   Skip BFGS  \n",
      ">> Fix Jmatrix\n",
      "Eps_p: 1.1490680751391986\n",
      "Eps_q: 1.1490680751391986\n",
      "delta phim: 2.035e-01\n",
      "   7  1.50e+00  1.69e+01  9.16e+00  3.07e+01    2.13e+01      1   Skip BFGS  \n",
      ">> Fix Jmatrix\n",
      "Eps_p: 0.9575567292826656\n",
      "Eps_q: 0.9575567292826656\n",
      "delta phim: 2.417e-01\n",
      "   8  2.80e+00  1.73e+01  8.28e+00  4.05e+01    3.79e+01      0              \n",
      ">> Fix Jmatrix\n",
      "Eps_p: 0.797963941068888\n",
      "Eps_q: 0.797963941068888\n",
      "delta phim: 6.417e-02\n",
      "   9  5.10e+00  1.83e+01  7.15e+00  5.47e+01    1.89e+01      0              \n",
      ">> Fix Jmatrix\n",
      "Eps_p: 0.6649699508907401\n",
      "Eps_q: 0.6649699508907401\n",
      "delta phim: 9.753e-03\n",
      "  10  9.30e+00  1.82e+01  6.86e+00  8.20e+01    4.02e+01      0              \n",
      ">> Fix Jmatrix\n",
      "Eps_p: 0.5541416257422834\n",
      "Eps_q: 0.5541416257422834\n",
      "delta phim: 5.521e-02\n",
      "  11  1.64e+01  1.96e+01  6.36e+00  1.24e+02    5.09e+01      0              \n",
      ">> Fix Jmatrix\n",
      "Eps_p: 0.46178468811856954\n",
      "Eps_q: 0.46178468811856954\n",
      "delta phim: 1.769e-02\n",
      "  12  2.76e+01  2.21e+01  5.79e+00  1.82e+02    6.63e+01      0              \n",
      ">> Fix Jmatrix\n",
      "Eps_p: 0.3848205734321413\n",
      "Eps_q: 0.3848205734321413\n",
      "delta phim: 4.324e-03\n",
      "  13  4.29e+01  2.69e+01  5.30e+00  2.55e+02    9.71e+01      0              \n",
      ">> Fix Jmatrix\n",
      "Eps_p: 0.32068381119345113\n",
      "Eps_q: 0.32068381119345113\n",
      "delta phim: 9.625e-03\n",
      "  14  3.37e+01  3.65e+01  4.81e+00  1.99e+02    5.70e+01      0              \n",
      ">> Fix Jmatrix\n",
      "Eps_p: 0.26723650932787596\n",
      "Eps_q: 0.26723650932787596\n",
      "delta phim: 1.503e-02\n",
      "  15  3.37e+01  3.13e+01  4.75e+00  1.91e+02    4.09e+01      0              \n",
      ">> Fix Jmatrix\n",
      "Eps_p: 0.2226970911065633\n",
      "Eps_q: 0.2226970911065633\n",
      "delta phim: 1.760e-02\n",
      "  16  3.37e+01  3.24e+01  4.59e+00  1.87e+02    3.62e+01      0              \n",
      ">> Fix Jmatrix\n",
      "Eps_p: 0.1855809092554694\n",
      "Eps_q: 0.1855809092554694\n",
      "delta phim: 6.050e-03\n",
      "  17  3.37e+01  3.21e+01  4.49e+00  1.84e+02    3.60e+01      0              \n",
      ">> Fix Jmatrix\n",
      "Eps_p: 0.1546507577128912\n",
      "Eps_q: 0.1546507577128912\n",
      "delta phim: 9.283e-03\n",
      "  18  3.37e+01  3.20e+01  4.41e+00  1.81e+02    3.93e+01      0              \n",
      ">> Fix Jmatrix\n",
      "Eps_p: 0.12887563142740932\n",
      "Eps_q: 0.12887563142740932\n",
      "delta phim: 8.258e-03\n",
      "  19  3.37e+01  3.15e+01  4.36e+00  1.79e+02    4.34e+01      0   Skip BFGS  \n",
      ">> Fix Jmatrix\n",
      "Eps_p: 0.1073963595228411\n",
      "Eps_q: 0.1073963595228411\n",
      "delta phim: 1.027e-02\n",
      "  20  3.37e+01  3.16e+01  4.30e+00  1.77e+02    4.94e+01      0              \n",
      ">> Fix Jmatrix\n",
      "Eps_p: 0.08949696626903425\n",
      "Eps_q: 0.08949696626903425\n",
      "delta phim: 1.116e-02\n",
      "  21  3.37e+01  3.11e+01  4.26e+00  1.75e+02    4.88e+01      0              \n",
      ">> Fix Jmatrix\n",
      "Eps_p: 0.07458080522419522\n",
      "Eps_q: 0.07458080522419522\n",
      "delta phim: 4.322e-03\n",
      "  22  3.37e+01  3.07e+01  4.23e+00  1.73e+02    4.38e+01      0              \n",
      ">> Fix Jmatrix\n",
      "Eps_p: 0.06215067102016268\n",
      "Eps_q: 0.06215067102016268\n",
      "delta phim: 6.481e-03\n",
      "  23  3.37e+01  3.06e+01  4.20e+00  1.72e+02    4.84e+01      0   Skip BFGS  \n",
      ">> Fix Jmatrix\n",
      "Eps_p: 0.05179222585013557\n",
      "Eps_q: 0.05179222585013557\n",
      "delta phim: 3.802e-03\n",
      "  24  3.37e+01  3.05e+01  4.18e+00  1.72e+02    5.59e+01      0   Skip BFGS  \n",
      ">> Fix Jmatrix\n",
      "Eps_p: 0.04316018820844631\n",
      "Eps_q: 0.04316018820844631\n",
      "delta phim: 5.717e-03\n",
      "  25  3.37e+01  3.05e+01  4.16e+00  1.71e+02    6.44e+01      0   Skip BFGS  \n",
      ">> Fix Jmatrix\n",
      "Eps_p: 0.035966823507038594\n",
      "Eps_q: 0.035966823507038594\n",
      "delta phim: 6.298e-03\n",
      "  26  3.37e+01  3.04e+01  4.14e+00  1.70e+02    7.55e+01      0              \n",
      ">> Fix Jmatrix\n",
      "Eps_p: 0.029972352922532162\n",
      "Eps_q: 0.029972352922532162\n",
      "delta phim: 1.910e-02\n",
      "  27  3.37e+01  3.04e+01  4.13e+00  1.70e+02    8.96e+01      0   Skip BFGS  \n",
      ">> Fix Jmatrix\n",
      "Eps_p: 0.024976960768776802\n",
      "Eps_q: 0.024976960768776802\n",
      "delta phim: 2.204e-02\n",
      "  28  3.37e+01  3.03e+01  4.12e+00  1.69e+02    1.07e+02      0              \n",
      ">> Fix Jmatrix\n",
      "Eps_p: 0.02081413397398067\n",
      "Eps_q: 0.02081413397398067\n",
      "delta phim: 2.992e-02\n",
      "  29  3.37e+01  3.03e+01  4.11e+00  1.69e+02    1.24e+02      0              \n",
      ">> Fix Jmatrix\n",
      "Eps_p: 0.017345111644983893\n",
      "Eps_q: 0.017345111644983893\n",
      "delta phim: 2.944e-02\n",
      "  30  3.37e+01  3.02e+01  4.11e+00  1.69e+02    1.43e+02      0              \n",
      ">> Fix Jmatrix\n",
      "Eps_p: 0.014454259704153245\n",
      "Eps_q: 0.014454259704153245\n",
      "delta phim: 4.687e-02\n",
      "  31  3.37e+01  3.02e+01  4.11e+00  1.69e+02    1.67e+02      0   Skip BFGS  \n",
      ">> Fix Jmatrix\n",
      "Eps_p: 0.012045216420127704\n",
      "Eps_q: 0.012045216420127704\n",
      "delta phim: 6.020e-02\n",
      "  32  3.37e+01  3.01e+01  4.11e+00  1.69e+02    1.92e+02      0   Skip BFGS  \n",
      ">> Fix Jmatrix\n",
      "Eps_p: 0.010037680350106421\n",
      "Eps_q: 0.010037680350106421\n",
      "delta phim: 7.396e-02\n",
      "  33  3.37e+01  3.01e+01  4.11e+00  1.69e+02    2.18e+02      0   Skip BFGS  \n",
      ">> Fix Jmatrix\n",
      "Eps_p: 0.008364733625088685\n",
      "Eps_q: 0.008364733625088685\n",
      "delta phim: 8.679e-02\n",
      "  34  3.37e+01  3.01e+01  4.11e+00  1.69e+02    2.42e+02      0   Skip BFGS  \n",
      ">> Fix Jmatrix\n",
      "Eps_p: 0.006970611354240571\n",
      "Eps_q: 0.006970611354240571\n",
      "delta phim: 9.821e-02\n",
      "  35  3.37e+01  3.00e+01  4.12e+00  1.69e+02    2.62e+02      0              \n",
      ">> Fix Jmatrix\n",
      "Eps_p: 0.005808842795200476\n",
      "Eps_q: 0.005808842795200476\n",
      "delta phim: 1.037e-01\n",
      "  36  3.37e+01  3.01e+01  4.11e+00  1.69e+02    2.80e+02      0              \n",
      ">> Fix Jmatrix\n",
      "Eps_p: 0.00484070232933373\n",
      "Eps_q: 0.00484070232933373\n",
      "delta phim: 1.044e-01\n",
      "  37  3.37e+01  2.99e+01  4.12e+00  1.69e+02    2.92e+02      0              \n",
      ">> Fix Jmatrix\n",
      "Eps_p: 0.004033918607778108\n",
      "Eps_q: 0.004033918607778108\n",
      "delta phim: 1.030e-01\n",
      "  38  3.37e+01  2.98e+01  4.12e+00  1.69e+02    3.02e+02      0   Skip BFGS  \n",
      ">> Fix Jmatrix\n",
      "Eps_p: 0.0033615988398150902\n",
      "Eps_q: 0.0033615988398150902\n",
      "delta phim: 9.595e-02\n",
      "  39  3.37e+01  2.97e+01  4.12e+00  1.69e+02    3.07e+02      0   Skip BFGS  \n",
      ">> Fix Jmatrix\n",
      "Eps_p: 0.002801332366512575\n",
      "Eps_q: 0.002801332366512575\n",
      "delta phim: 8.826e-02\n",
      "  40  3.37e+01  2.97e+01  4.12e+00  1.69e+02    3.09e+02      0              \n",
      "------------------------- STOP! -------------------------\n",
      "1 : |fc-fOld| = 1.1448e-01 <= tolF*(1+|f0|) = 5.0964e+01\n",
      "1 : |xc-x_last| = 8.8780e-04 <= tolX*(1+|x0|) = 2.2427e+00\n",
      "0 : |proj(x-g)-x|    = 3.0937e+02 <= tolG          = 1.0000e-01\n",
      "0 : |proj(x-g)-x|    = 3.0937e+02 <= 1e3*eps       = 1.0000e-02\n",
      "1 : maxIter   =      40    <= iter          =     40\n",
      "------------------------- DONE! -------------------------\n"
     ]
    }
   ],
   "source": [
    "m0 = np.log(np.ones(30)*1./50)\n",
    "mopt_sparse, invProb_sparse = run_inversion(m0, dobs, 0.1, 0., is_sparse=True)"
   ]
  },
  {
   "cell_type": "code",
   "execution_count": 657,
   "metadata": {},
   "outputs": [
    {
     "name": "stdout",
     "output_type": "stream",
     "text": [
      "SimPEG.DataMisfit.l2_DataMisfit assigning default eps of 1e-5 * ||dobs||\n",
      "SimPEG.InvProblem will set Regularization.mref to m0.\n",
      "\n",
      "    SimPEG.InvProblem is setting bfgsH0 to the inverse of the eval2Deriv.\n",
      "    ***Done using same Solver and solverOpts as the problem***\n"
     ]
    },
    {
     "name": "stderr",
     "output_type": "stream",
     "text": [
      "/Users/sgkang/Projects/simpeg/SimPEG/Directives.py:886: UserWarning: Without a Linear preconditioner, convergence may be slow. Consider adding `Directives.UpdatePreconditioner` to your directives list\n",
      "  \"Without a Linear preconditioner, convergence may be slow. \"\n"
     ]
    },
    {
     "name": "stdout",
     "output_type": "stream",
     "text": [
      "model has any nan: 0\n",
      "=============================== Projected GNCG ===============================\n",
      "  #     beta     phi_d     phi_m       f      |proj(x-g)-x|  LS    Comment   \n",
      "-----------------------------------------------------------------------------\n",
      "x0 has any nan: 0\n",
      "   0  3.62e+03  1.26e+03  0.00e+00  1.26e+03    1.65e+03      0              \n",
      "   1  7.24e+02  8.10e+02  5.65e-02  8.51e+02    8.49e+02      0              \n",
      "   2  1.45e+02  4.15e+02  3.52e-01  4.66e+02    4.21e+02      0   Skip BFGS  \n",
      "   3  2.90e+01  1.74e+02  1.14e+00  2.07e+02    1.67e+02      0   Skip BFGS  \n",
      "   4  5.79e+00  6.56e+01  2.68e+00  8.11e+01    5.92e+01      0   Skip BFGS  \n",
      "   5  1.16e+00  3.25e+01  5.32e+00  3.86e+01    8.90e+01      0   Skip BFGS  \n",
      "Reached starting chifact with l2-norm regularization: Start IRLS steps...\n",
      "eps_p: 1.3487735716438025 eps_q: 1.3487735716438025\n",
      ">> Fix Jmatrix\n",
      "Eps_p: 1.1239779763698354\n",
      "Eps_q: 1.1239779763698354\n",
      "delta phim:    inf\n",
      "   6  2.32e-01  1.86e+01  1.01e+01  2.10e+01    1.86e+01      0              \n",
      ">> Fix Jmatrix\n",
      "Eps_p: 0.9366483136415296\n",
      "Eps_q: 0.9366483136415296\n",
      "delta phim: 2.699e-01\n",
      "   7  4.63e-01  1.50e+01  1.43e+01  2.17e+01    3.60e+01      1   Skip BFGS  \n",
      ">> Fix Jmatrix\n",
      "Eps_p: 0.7805402613679413\n",
      "Eps_q: 0.7805402613679413\n",
      "delta phim: 4.835e-01\n",
      "   8  1.04e+00  1.20e+01  1.70e+01  2.97e+01    9.88e+00      0   Skip BFGS  \n",
      ">> Fix Jmatrix\n",
      "Eps_p: 0.6504502178066178\n",
      "Eps_q: 0.6504502178066178\n",
      "delta phim: 3.768e-01\n",
      "   9  2.09e+00  1.49e+01  1.37e+01  4.35e+01    2.33e+01      0              \n",
      ">> Fix Jmatrix\n",
      "Eps_p: 0.5420418481721816\n",
      "Eps_q: 0.5420418481721816\n",
      "delta phim: 1.294e-03\n",
      "  10  3.77e+00  1.87e+01  1.11e+01  6.04e+01    3.78e+01      0              \n",
      ">> Fix Jmatrix\n",
      "Eps_p: 0.4517015401434847\n",
      "Eps_q: 0.4517015401434847\n",
      "delta phim: 4.844e-03\n",
      "  11  6.33e+00  2.21e+01  9.33e+00  8.12e+01    5.77e+01      0              \n",
      ">> Fix Jmatrix\n",
      "Eps_p: 0.3764179501195706\n",
      "Eps_q: 0.3764179501195706\n",
      "delta phim: 3.630e-02\n",
      "  12  6.33e+00  2.82e+01  8.26e+00  8.05e+01    8.08e+01      0              \n",
      ">> Fix Jmatrix\n",
      "Eps_p: 0.31368162509964215\n",
      "Eps_q: 0.31368162509964215\n",
      "delta phim: 2.883e-02\n",
      "  13  6.33e+00  2.75e+01  7.95e+00  7.78e+01    7.92e+01      0              \n",
      ">> Fix Jmatrix\n",
      "Eps_p: 0.2614013542497018\n",
      "Eps_q: 0.2614013542497018\n",
      "delta phim: 9.277e-02\n",
      "  14  6.33e+00  2.91e+01  7.03e+00  7.36e+01    7.54e+01      0              \n",
      ">> Fix Jmatrix\n",
      "Eps_p: 0.2178344618747515\n",
      "Eps_q: 0.2178344618747515\n",
      "delta phim: 6.261e-02\n",
      "  15  6.33e+00  2.90e+01  6.45e+00  6.99e+01    7.54e+01      0              \n",
      ">> Fix Jmatrix\n",
      "Eps_p: 0.18152871822895958\n",
      "Eps_q: 0.18152871822895958\n",
      "delta phim: 6.033e-02\n",
      "  16  6.33e+00  2.91e+01  5.99e+00  6.70e+01    7.31e+01      0              \n",
      ">> Fix Jmatrix\n",
      "Eps_p: 0.15127393185746632\n",
      "Eps_q: 0.15127393185746632\n",
      "delta phim: 5.599e-02\n",
      "  17  6.33e+00  2.87e+01  5.42e+00  6.30e+01    7.10e+01      0              \n",
      ">> Fix Jmatrix\n",
      "Eps_p: 0.12606160988122195\n",
      "Eps_q: 0.12606160988122195\n",
      "delta phim: 4.020e-02\n",
      "  18  6.33e+00  2.81e+01  5.00e+00  5.97e+01    6.64e+01      0              \n",
      ">> Fix Jmatrix\n",
      "Eps_p: 0.10505134156768496\n",
      "Eps_q: 0.10505134156768496\n",
      "delta phim: 3.595e-02\n",
      "  19  9.96e+00  2.62e+01  4.80e+00  7.40e+01    5.11e+01      0   Skip BFGS  \n",
      ">> Fix Jmatrix\n",
      "Eps_p: 0.08754278463973747\n",
      "Eps_q: 0.08754278463973747\n",
      "delta phim: 6.754e-03\n",
      "  20  9.96e+00  3.01e+01  4.18e+00  7.17e+01    5.58e+01      0              \n",
      ">> Fix Jmatrix\n",
      "Eps_p: 0.07295232053311457\n",
      "Eps_q: 0.07295232053311457\n",
      "delta phim: 2.594e-02\n",
      "  21  9.96e+00  3.26e+01  3.65e+00  6.90e+01    4.80e+01      0              \n",
      ">> Fix Jmatrix\n",
      "Eps_p: 0.060793600444262144\n",
      "Eps_q: 0.060793600444262144\n",
      "delta phim: 2.672e-02\n",
      "  22  7.91e+00  3.57e+01  3.09e+00  6.02e+01    2.87e+01      0   Skip BFGS  \n",
      ">> Fix Jmatrix\n",
      "Eps_p: 0.05066133370355179\n",
      "Eps_q: 0.05066133370355179\n",
      "delta phim: 5.179e-02\n",
      "  23  6.22e+00  3.65e+01  2.85e+00  5.42e+01    2.12e+01      0   Skip BFGS  \n",
      ">> Fix Jmatrix\n",
      "Eps_p: 0.04221777808629316\n",
      "Eps_q: 0.04221777808629316\n",
      "delta phim: 2.130e-02\n",
      "  24  4.92e+00  3.60e+01  2.76e+00  4.96e+01    1.65e+01      0   Skip BFGS  \n",
      ">> Fix Jmatrix\n",
      "Eps_p: 0.03518148173857763\n",
      "Eps_q: 0.03518148173857763\n",
      "delta phim: 2.589e-02\n",
      "  25  3.96e+00  3.49e+01  2.77e+00  4.58e+01    1.42e+01      0              \n",
      ">> Fix Jmatrix\n",
      "Eps_p: 0.029317901448814694\n",
      "Eps_q: 0.029317901448814694\n",
      "delta phim: 6.165e-02\n",
      "  26  3.23e+00  3.40e+01  2.77e+00  4.30e+01    1.36e+01      0   Skip BFGS  \n",
      ">> Fix Jmatrix\n",
      "Eps_p: 0.024431584540678914\n",
      "Eps_q: 0.024431584540678914\n",
      "delta phim: 3.500e-02\n",
      "  27  2.66e+00  3.34e+01  2.72e+00  4.07e+01    1.55e+01      0   Skip BFGS  \n",
      ">> Fix Jmatrix\n",
      "Eps_p: 0.020359653783899097\n",
      "Eps_q: 0.020359653783899097\n",
      "delta phim: 2.637e-02\n",
      "  28  2.66e+00  3.26e+01  2.74e+00  3.99e+01    1.78e+01      0              \n",
      ">> Fix Jmatrix\n",
      "Eps_p: 0.016966378153249247\n",
      "Eps_q: 0.016966378153249247\n",
      "delta phim: 4.833e-02\n",
      "  29  2.66e+00  3.19e+01  2.71e+00  3.91e+01    1.98e+01      0              \n",
      ">> Fix Jmatrix\n",
      "Eps_p: 0.01413864846104104\n",
      "Eps_q: 0.01413864846104104\n",
      "delta phim: 2.010e-02\n",
      "  30  2.66e+00  3.09e+01  2.73e+00  3.82e+01    2.41e+01      0   Skip BFGS  \n",
      ">> Fix Jmatrix\n",
      "Eps_p: 0.011782207050867534\n",
      "Eps_q: 0.011782207050867534\n",
      "delta phim: 2.171e-02\n",
      "  31  2.66e+00  3.02e+01  2.75e+00  3.75e+01    2.46e+01      0              \n",
      ">> Fix Jmatrix\n",
      "Eps_p: 0.009818505875722945\n",
      "Eps_q: 0.009818505875722945\n",
      "delta phim: 1.980e-02\n",
      "  32  2.66e+00  2.89e+01  2.93e+00  3.66e+01    2.84e+01      0              \n",
      ">> Fix Jmatrix\n",
      "Eps_p: 0.008182088229769121\n",
      "Eps_q: 0.008182088229769121\n",
      "delta phim: 1.761e-02\n",
      "  33  2.66e+00  2.82e+01  2.98e+00  3.62e+01    3.23e+01      0   Skip BFGS  \n",
      ">> Fix Jmatrix\n",
      "Eps_p: 0.006818406858140934\n",
      "Eps_q: 0.006818406858140934\n",
      "delta phim: 1.017e-02\n",
      "  34  2.66e+00  2.82e+01  2.92e+00  3.60e+01    2.95e+01      0              \n",
      ">> Fix Jmatrix\n",
      "Eps_p: 0.005682005715117446\n",
      "Eps_q: 0.005682005715117446\n",
      "delta phim: 1.860e-04\n",
      "Minimum decrease in regularization. End of IRLS\n",
      "------------------------- STOP! -------------------------\n",
      "1 : |fc-fOld| = 0.0000e+00 <= tolF*(1+|f0|) = 1.2633e+02\n",
      "1 : |xc-x_last| = 2.3126e-02 <= tolX*(1+|x0|) = 1.9629e+00\n",
      "0 : |proj(x-g)-x|    = 2.9496e+01 <= tolG          = 1.0000e-01\n",
      "0 : |proj(x-g)-x|    = 2.9496e+01 <= 1e3*eps       = 1.0000e-02\n",
      "0 : maxIter   =      40    <= iter          =     35\n",
      "------------------------- DONE! -------------------------\n"
     ]
    }
   ],
   "source": [
    "m0_1 = np.log(np.ones(30)*1./30)\n",
    "mopt_sparse_1, invProb_sparse_1 = run_inversion(m0_1, dobs, 0.1, 0., is_sparse=True)"
   ]
  },
  {
   "cell_type": "code",
   "execution_count": 706,
   "metadata": {},
   "outputs": [
    {
     "data": {
      "image/png": "[encoded data removed]",
      "text/plain": [
       "<Figure size 288x360 with 1 Axes>"
      ]
     },
     "metadata": {},
     "output_type": "display_data"
    }
   ],
   "source": [
    "fig, ax = subplots(1,1, figsize=(4, 5))\n",
    "Utils1D.plotLayer(1./sig, mesh1D, showlayers=False, ax=ax)\n",
    "Utils1D.plotLayer(1./(expmap*mopt_sparse), mesh1D_inv, showlayers=False, **{'color':'r', 'lw':3})\n",
    "ax.set_xlabel(\"Resistivity ($\\Omega$m)\")\n",
    "ax.set_xlim(0.5, 300)\n",
    "ax.set_ylim(-600, 0)\n",
    "plt.tight_layout()\n",
    "fig.savefig('resistivity_l0', dpi=200)\n"
   ]
  },
  {
   "cell_type": "code",
   "execution_count": 707,
   "metadata": {},
   "outputs": [
    {
     "data": {
      "image/png": "[encoded data removed]",
      "text/plain": [
       "<Figure size 288x360 with 1 Axes>"
      ]
     },
     "metadata": {},
     "output_type": "display_data"
    }
   ],
   "source": [
    "fig, ax = subplots(1,1, figsize=(4, 5))\n",
    "Utils1D.plotLayer(1./sig, mesh1D, showlayers=False, ax=ax)\n",
    "Utils1D.plotLayer(1./(expmap*mopt_sparse_1), mesh1D_inv, showlayers=False, **{'color':'r', 'lw':3})\n",
    "ax.set_xlabel(\"Resistivity ($\\Omega$m)\")\n",
    "ax.set_xlim(0.5, 300)\n",
    "ax.set_ylim(-600, 0)\n",
    "plt.tight_layout()\n",
    "fig.savefig('resistivity_l0', dpi=200)\n"
   ]
  },
  {
   "cell_type": "code",
   "execution_count": 769,
   "metadata": {},
   "outputs": [
    {
     "data": {
      "image/png": "[encoded data removed]",
      "text/plain": [
       "<Figure size 288x360 with 1 Axes>"
      ]
     },
     "metadata": {},
     "output_type": "display_data"
    }
   ],
   "source": [
    "fig, ax = subplots(1,1, figsize=(4, 5))\n",
    "Utils1D.plotLayer(1./(np.exp(mopt_sparse_1)), mesh1D_inv, showlayers=False, **{'color':'b', 'lw':3})\n",
    "Utils1D.plotLayer(1./(np.exp(mopt_sparse)), mesh1D_inv, showlayers=False, **{'color':'r', 'lw':3})\n",
    "ax.legend((\"$m_{ref}$=30 $\\Omega$m\", \"$m_{ref}$=50 $\\Omega$m\"), bbox_to_anchor=(1,1))\n",
    "Utils1D.plotLayer(1./sig, mesh1D, showlayers=False, ax=ax)\n",
    "ax.set_xlabel(\"Resistivity ($\\Omega$m)\")\n",
    "ax.set_xlim(0.5, 300)\n",
    "ax.set_ylim(-600, 0)\n",
    "plt.tight_layout()\n",
    "fig.savefig('resistivity_l0_compare', dpi=200)\n"
   ]
  },
  {
   "cell_type": "code",
   "execution_count": 766,
   "metadata": {},
   "outputs": [
    {
     "data": {
      "image/png": "[encoded data removed]",
      "text/plain": [
       "<Figure size 288x360 with 1 Axes>"
      ]
     },
     "metadata": {},
     "output_type": "display_data"
    }
   ],
   "source": [
    "fig, ax = subplots(1,1, figsize=(4, 5))\n",
    "doi = compute_doi_index_oldenburg_and_li_1999(mopt, mopt_1, m0, m0_1)\n",
    "Utils1D.plotLayer(doi, mesh1D_inv, showlayers=False, xscale='linear', ax=ax)\n",
    "Utils1D.plotLayer(doi_sparse, mesh1D_inv, showlayers=False, xscale='linear', **{'linestyle':'--', 'color':'k'})\n",
    "ax.set_xticks(np.arange(20)*0.1, minor=True)\n",
    "ax.set_xlabel(\"DOI index\")\n",
    "ax.legend((\"L2\", \"L0\"))\n",
    "ax.set_ylim(-600, 0)\n",
    "plt.tight_layout()\n",
    "fig.savefig('doi_index', dpi=200)"
   ]
  },
  {
   "cell_type": "code",
   "execution_count": 732,
   "metadata": {},
   "outputs": [
    {
     "data": {
      "image/png": "[encoded data removed]",
      "text/plain": [
       "<Figure size 432x288 with 1 Axes>"
      ]
     },
     "metadata": {},
     "output_type": "display_data"
    }
   ],
   "source": [
    "majorLocator = MultipleLocator(20)\n",
    "majorFormatter = FormatStrFormatter('%d')\n",
    "minorLocator = MultipleLocator(5)\n",
    "ax.xaxis.set_major_locator(majorLocator)\n",
    "ax.xaxis.set_major_formatter(majorFormatter)\n",
    "# for the minor ticks, use no labels; default NullFormatter\n",
    "ax.xaxis.set_minor_locator(minorLocator)"
   ]
  },
  {
   "cell_type": "code",
   "execution_count": 719,
   "metadata": {},
   "outputs": [
    {
     "data": {
      "text/plain": [
       "[<matplotlib.lines.Line2D at 0x118dfb160>]"
      ]
     },
     "execution_count": 719,
     "metadata": {},
     "output_type": "execute_result"
    },
    {
     "data": {
      "image/png": "[encoded data removed]",
      "text/plain": [
       "<Figure size 432x288 with 1 Axes>"
      ]
     },
     "metadata": {},
     "output_type": "display_data"
    }
   ],
   "source": [
    "doi_sparse = compute_doi_index_oldenburg_and_li_1999(mopt_sparse, mopt_sparse_1, m0, m0_1)\n"
   ]
  },
  {
   "cell_type": "code",
   "execution_count": 711,
   "metadata": {},
   "outputs": [
    {
     "data": {
      "text/plain": [
       "array([ 0.05995581,  0.06270161,  0.06043333,  0.03152822, -0.06894506,\n",
       "       -0.19037729, -0.26253323, -0.28956682, -0.28484674, -0.27410856,\n",
       "       -0.26178366,  1.05977935,  0.98591186, -0.34108015, -0.35094573,\n",
       "        2.02869894,  0.98994558,  0.98033542,  0.54059936,  0.55051647,\n",
       "        0.56730828,  0.58770533,  0.69061336,  0.98243134,  1.        ,\n",
       "        1.        ,  0.98822796,  0.98290827,  1.03937674,  1.18322866])"
      ]
     },
     "execution_count": 711,
     "metadata": {},
     "output_type": "execute_result"
    }
   ],
   "source": [
    "doi_sparse"
   ]
  },
  {
   "cell_type": "code",
   "execution_count": 312,
   "metadata": {},
   "outputs": [
    {
     "data": {
      "image/png": "[encoded data removed]",
      "text/plain": [
       "<Figure size 504x360 with 1 Axes>"
      ]
     },
     "metadata": {},
     "output_type": "display_data"
    }
   ],
   "source": [
    "fig, axes = subplots(1,1, figsize = (7,5))\n",
    "axes.plot(TDsurvey.time, -invProb.dpred[:TDsurvey.n_time], 'x')\n",
    "axes.plot(TDsurvey.time_dual_moment, -invProb.dpred[TDsurvey.n_time:], 'x')\n",
    "axes.plot(TDsurvey.time, -dobs[:TDsurvey.n_time])\n",
    "axes.plot(TDsurvey.time_dual_moment, -dobs[TDsurvey.n_time:])\n",
    "\n",
    "axes.set_xscale('log');\n",
    "axes.set_yscale('log');"
   ]
  }
 ],
 "metadata": {
  "kernelspec": {
   "display_name": "Python 3",
   "language": "python",
   "name": "python3"
  }
 },
 "nbformat": 4,
 "nbformat_minor": 1
}
