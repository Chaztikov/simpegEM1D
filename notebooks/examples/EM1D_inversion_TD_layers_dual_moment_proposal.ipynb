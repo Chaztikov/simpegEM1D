{
 "cells": [
  {
   "cell_type": "code",
   "execution_count": 1,
   "metadata": {},
   "outputs": [
    {
     "name": "stdout",
     "output_type": "stream",
     "text": [
      "Populating the interactive namespace from numpy and matplotlib\n"
     ]
    }
   ],
   "source": [
    "from SimPEG import *\n",
    "from simpegEM1D import EM1D, EM1DSurveyTD, Utils1D, get_vertical_discretization_time, set_mesh_1d, piecewise_pulse\n",
    "import numpy as np\n",
    "%pylab inline"
   ]
  },
  {
   "cell_type": "code",
   "execution_count": 2,
   "metadata": {},
   "outputs": [],
   "source": [
    "from simpegEM1D import skytem_HM_2015, skytem_LM_2015\n",
    "wave_HM = skytem_HM_2015()\n",
    "wave_LM = skytem_LM_2015()\n",
    "time_HM = wave_HM.time_gate_center\n",
    "time_LM = wave_LM.time_gate_center\n",
    "\n",
    "hz = get_vertical_discretization_time(\n",
    "    np.unique(np.r_[time_HM, time_LM]), facter_tmax=0.5, factor_tmin=10., n_layer=20\n",
    ")\n",
    "mesh1D = set_mesh_1d(hz)\n",
    "depth = -mesh1D.gridN[:-1]\n",
    "LocSigZ = -mesh1D.gridCC\n",
    "\n",
    "time_input_currents_HM = wave_HM.current_times[-7:]\n",
    "input_currents_HM = wave_HM.currents[-7:]\n",
    "time_input_currents_LM = wave_LM.current_times[-13:]\n",
    "input_currents_LM = wave_LM.currents[-13:]\n",
    "\n",
    "TDsurvey = EM1DSurveyTD(\n",
    "    rx_location = np.array([0., 0., 100.+30.]),\n",
    "    src_location = np.array([0., 0., 100.+30.]),\n",
    "    topo = np.r_[0., 0., 100.],\n",
    "    depth = depth,\n",
    "    rx_type = 'dBzdt',\n",
    "    wave_type = 'general',\n",
    "    src_type = 'CircularLoop',\n",
    "    a = 13.,\n",
    "    I = 1.,\n",
    "    time = time_HM,\n",
    "    time_input_currents=time_input_currents_HM,\n",
    "    input_currents=input_currents_HM,\n",
    "    n_pulse = 2,\n",
    "    base_frequency = 25.,\n",
    "    use_lowpass_filter=True,\n",
    "    high_cut_frequency=210*1e3,\n",
    "    moment_type='dual',\n",
    "    time_dual_moment = time_HM,    \n",
    "    time_input_currents_dual_moment=time_input_currents_LM,\n",
    "    input_currents_dual_moment=input_currents_LM,\n",
    "    base_frequency_dual_moment=210,    \n",
    ")\n",
    "sig_half = 1./30.\n",
    "chi_half = 0.\n",
    "expmap = Maps.ExpMap(mesh1D)"
   ]
  },
  {
   "cell_type": "code",
   "execution_count": null,
   "metadata": {},
   "outputs": [],
   "source": []
  },
  {
   "cell_type": "code",
   "execution_count": 3,
   "metadata": {},
   "outputs": [],
   "source": [
    "sig  = np.ones(TDsurvey.n_layer)*sig_half\n",
    "blk_ind = (-100>LocSigZ) & (-120<LocSigZ)\n",
    "sig[blk_ind] = 1./5.\n",
    "blk_ind = (-120>LocSigZ) & (-300<LocSigZ)\n",
    "sig[blk_ind] = 1./30.\n",
    "blk_ind = -300>LocSigZ\n",
    "sig[blk_ind] = 1.\n",
    "m_true = np.log(sig)"
   ]
  },
  {
   "cell_type": "code",
   "execution_count": 4,
   "metadata": {},
   "outputs": [],
   "source": [
    "import matplotlib\n",
    "matplotlib.rcParams['font.size'] = 14"
   ]
  },
  {
   "cell_type": "code",
   "execution_count": 5,
   "metadata": {},
   "outputs": [
    {
     "data": {
      "text/plain": [
       "(0.5, 100)"
      ]
     },
     "execution_count": 5,
     "metadata": {},
     "output_type": "execute_result"
    },
    {
     "data": {
      "image/png": "[encoded data removed]",
      "text/plain": [
       "<Figure size 288x360 with 1 Axes>"
      ]
     },
     "metadata": {},
     "output_type": "display_data"
    }
   ],
   "source": [
    "fig, ax = subplots(1,1, figsize=(4, 5))\n",
    "Utils1D.plotLayer(1./sig, mesh1D, showlayers=False, ax=ax)\n",
    "ax.set_xlabel(\"Resistivity ($\\Omega$m)\")\n",
    "plt.tight_layout()\n",
    "fig.savefig('resistivity', dpi=200)\n",
    "ax.set_xlim(0.5, 100)"
   ]
  },
  {
   "cell_type": "code",
   "execution_count": 6,
   "metadata": {},
   "outputs": [
    {
     "name": "stdout",
     "output_type": "stream",
     "text": [
      "CPU times: user 172 ms, sys: 20.4 ms, total: 193 ms\n",
      "Wall time: 214 ms\n"
     ]
    }
   ],
   "source": [
    "%%time\n",
    "prob = EM1D(mesh1D, sigmaMap=expmap, verbose=False)\n",
    "if prob.ispaired:\n",
    "    prob.unpair()\n",
    "if TDsurvey.ispaired:\n",
    "    TDsurvey.unpair()\n",
    "prob.pair(TDsurvey)\n",
    "prob.chi = np.zeros(TDsurvey.n_layer)\n",
    "d_true = TDsurvey.dpred(m_true)\n",
    "# J = prob.getJ_sigma(m_true)"
   ]
  },
  {
   "cell_type": "code",
   "execution_count": 7,
   "metadata": {},
   "outputs": [],
   "source": [
    "np.random.seed(1)\n",
    "TDsurvey.dtrue = d_true\n",
    "std = 0.05\n",
    "noise = std*abs(TDsurvey.dtrue)*np.random.randn(*TDsurvey.dtrue.shape)\n",
    "floor = 0.\n",
    "std = 0.1\n",
    "TDsurvey.dobs = TDsurvey.dtrue+noise\n",
    "uncert = abs(TDsurvey.dobs)*std+floor"
   ]
  },
  {
   "cell_type": "code",
   "execution_count": 8,
   "metadata": {},
   "outputs": [
    {
     "name": "stdout",
     "output_type": "stream",
     "text": [
      "SimPEG.DataMisfit.l2_DataMisfit assigning default eps of 1e-5 * ||dobs||\n"
     ]
    }
   ],
   "source": [
    "dmisfit = DataMisfit.l2_DataMisfit(TDsurvey)\n",
    "uncert = (abs(TDsurvey.dobs)*std+floor)\n",
    "dmisfit.W = 1./ uncert"
   ]
  },
  {
   "cell_type": "code",
   "execution_count": 9,
   "metadata": {},
   "outputs": [
    {
     "data": {
      "image/png": "[encoded data removed]",
      "text/plain": [
       "<Figure size 432x288 with 1 Axes>"
      ]
     },
     "metadata": {},
     "output_type": "display_data"
    }
   ],
   "source": [
    "fig, axes = subplots(1,1, figsize = (6,4))\n",
    "axes.plot(TDsurvey.time, -TDsurvey.dobs[:TDsurvey.n_time], '-', lw=2)\n",
    "axes.plot(TDsurvey.time_dual_moment, -TDsurvey.dobs[TDsurvey.n_time:], '-', lw=2)\n",
    "axes.set_xscale('log');\n",
    "axes.set_yscale('log');\n",
    "plt.legend((\"HM\", \"LM\"))\n",
    "plt.xlabel(\"Time (s)\")\n",
    "plt.ylabel(\"SkyTEM data (V/A-m$^2$)\")\n",
    "plt.tight_layout()\n",
    "fig.savefig('skytem_data', dpi=200)"
   ]
  },
  {
   "cell_type": "code",
   "execution_count": 16,
   "metadata": {},
   "outputs": [
    {
     "data": {
      "text/plain": [
       "(326.95993174205154,\n",
       " array([ True,  True,  True,  True,  True,  True,  True,  True,  True,\n",
       "         True,  True,  True,  True,  True,  True,  True,  True, False,\n",
       "        False, False]))"
      ]
     },
     "execution_count": 16,
     "metadata": {},
     "output_type": "execute_result"
    }
   ],
   "source": [
    "prob.depth_of_investigation(std, thres_hold=0.8)"
   ]
  },
  {
   "cell_type": "code",
   "execution_count": 11,
   "metadata": {},
   "outputs": [],
   "source": [
    "e = np.ones((3,3))"
   ]
  },
  {
   "cell_type": "code",
   "execution_count": 12,
   "metadata": {},
   "outputs": [
    {
     "data": {
      "text/plain": [
       "array([[1., 1., 1.],\n",
       "       [1., 1., 1.],\n",
       "       [1., 1., 1.]])"
      ]
     },
     "execution_count": 12,
     "metadata": {},
     "output_type": "execute_result"
    }
   ],
   "source": [
    "np.power(e, 2)"
   ]
  },
  {
   "cell_type": "code",
   "execution_count": null,
   "metadata": {},
   "outputs": [],
   "source": [
    "reg = Regularization.Sparse(\n",
    "    mesh1D,\n",
    "    mapping=Maps.IdentityMap(mesh1D),\n",
    "    alpha_s=1.,\n",
    "    alpha_x=1.\n",
    ")\n",
    "p = 0\n",
    "qx, qz = 1., 1.\n",
    "reg.norms = np.c_[p, qx, qz, 0.]\n",
    "IRLS = Directives.Update_IRLS(\n",
    "    maxIRLSiter=20, minGNiter=1, fix_Jmatrix=True, coolingRate=2, betaSearch=False,\n",
    "    chifact_start = 1.\n",
    ")\n",
    "opt = Optimization.ProjectedGNCG(maxIter = 40)\n",
    "invProb = InvProblem.BaseInvProblem(dmisfit, reg, opt)\n",
    "beta = Directives.BetaSchedule(coolingFactor=2., coolingRate=1)\n",
    "betaest = Directives.BetaEstimate_ByEig(beta0_ratio=1e0)\n",
    "target = Directives.TargetMisfit()\n",
    "save = Directives.SaveOutputEveryIteration()\n",
    "inv = Inversion.BaseInversion(invProb, directiveList=[IRLS, betaest])\n",
    "# inv = Inversion.BaseInversion(invProb, directiveList=[beta, betaest, save])\n",
    "prob.counter = opt.counter = Utils.Counter()\n",
    "opt.LSshorten = 0.5\n",
    "opt.remember('xc')"
   ]
  },
  {
   "cell_type": "code",
   "execution_count": null,
   "metadata": {
    "scrolled": false
   },
   "outputs": [],
   "source": [
    "%%time\n",
    "mopt = inv.run(m0)"
   ]
  },
  {
   "cell_type": "code",
   "execution_count": 13,
   "metadata": {},
   "outputs": [],
   "source": [
    "# save.plot_misfit_curves()\n",
    "# save.plot_tikhonov_curves()"
   ]
  },
  {
   "cell_type": "code",
   "execution_count": 15,
   "metadata": {},
   "outputs": [],
   "source": [
    "# figsize(5,5)\n",
    "# plt.plot(save.phi_m, save.phi_d)\n",
    "# plt.plot(save.phi_m[save.i_target], save.phi_d[save.i_target], 'k*', ms=10)"
   ]
  },
  {
   "cell_type": "code",
   "execution_count": 16,
   "metadata": {},
   "outputs": [
    {
     "name": "stdout",
     "output_type": "stream",
     "text": [
      "Counters:\n",
      "  ProjectedGNCG.activeSet                 :       26\n",
      "  ProjectedGNCG.doEndIteration            :       26\n",
      "  ProjectedGNCG.doStartIteration          :       26\n",
      "  ProjectedGNCG.projection                :      108\n",
      "  ProjectedGNCG.scaleSearchDirection      :       26\n",
      "\n",
      "Times:                                        mean      sum\n",
      "  EM1D.Jtvec_approx                       : 5.37e-04, 6.87e-02,  128x\n",
      "  EM1D.Jvec_approx                        : 8.35e-04, 1.07e-01,  128x\n",
      "  ProjectedGNCG.findSearchDirection       : 3.89e-02, 1.01e+00,   26x\n",
      "  ProjectedGNCG.minimize                  : 1.94e+01, 1.94e+01,    1x\n",
      "  ProjectedGNCG.modifySearchDirection     : 2.34e-01, 6.08e+00,   26x\n"
     ]
    }
   ],
   "source": [
    "opt.counter.summary()\n",
    "xc = opt.recall('xc')"
   ]
  },
  {
   "cell_type": "code",
   "execution_count": 17,
   "metadata": {},
   "outputs": [
    {
     "data": {
      "image/png": "[encoded data removed]",
      "text/plain": [
       "<Figure size 288x360 with 1 Axes>"
      ]
     },
     "metadata": {},
     "output_type": "display_data"
    }
   ],
   "source": [
    "fig, ax = subplots(1,1, figsize=(4, 5))\n",
    "Utils1D.plotLayer(1./sig, mesh1D, showlayers=False, ax=ax)\n",
    "Utils1D.plotLayer(1./(expmap*invProb.l2model), mesh1D, showlayers=False, **{'color':'r', 'lw':3})\n",
    "ax.set_xlabel(\"Resistivity ($\\Omega$m)\")\n",
    "ax.set_xlim(0.5, 300)\n",
    "plt.tight_layout()\n",
    "fig.savefig('resistivity_l2', dpi=200)\n"
   ]
  },
  {
   "cell_type": "code",
   "execution_count": 18,
   "metadata": {},
   "outputs": [
    {
     "data": {
      "image/png": "[encoded data removed]",
      "text/plain": [
       "<Figure size 288x360 with 1 Axes>"
      ]
     },
     "metadata": {},
     "output_type": "display_data"
    }
   ],
   "source": [
    "fig, ax = subplots(1,1, figsize=(4, 5))\n",
    "Utils1D.plotLayer(1./sig, mesh1D, showlayers=False, ax=ax)\n",
    "\n",
    "Utils1D.plotLayer(1./(expmap*mopt), mesh1D, showlayers=False, **{'color':'r', 'lw':3})\n",
    "# Utils1D.plotLayer(1./(expmap*invProb.l2model), mesh1D, showlayers=False, **{'color':'b', 'lw':3})\n",
    "ax.set_xlabel(\"Resistivity ($\\Omega$m)\")\n",
    "ax.set_xlim(0.5, 300)\n",
    "plt.tight_layout()\n",
    "fig.savefig('resistivity_l0', dpi=200)\n"
   ]
  },
  {
   "cell_type": "code",
   "execution_count": 19,
   "metadata": {},
   "outputs": [
    {
     "data": {
      "image/png": "[encoded data removed]",
      "text/plain": [
       "<Figure size 504x360 with 1 Axes>"
      ]
     },
     "metadata": {},
     "output_type": "display_data"
    }
   ],
   "source": [
    "fig, axes = subplots(1,1, figsize = (7,5))\n",
    "axes.plot(TDsurvey.time, -invProb.dpred[:TDsurvey.n_time], 'x')\n",
    "axes.plot(TDsurvey.time_dual_moment, -invProb.dpred[TDsurvey.n_time:], 'x')\n",
    "axes.plot(TDsurvey.time, -TDsurvey.dobs[:TDsurvey.n_time])\n",
    "axes.plot(TDsurvey.time_dual_moment, -TDsurvey.dobs[TDsurvey.n_time:])\n",
    "\n",
    "axes.set_xscale('log');\n",
    "axes.set_yscale('log');"
   ]
  }
 ],
 "metadata": {
  "kernelspec": {
   "display_name": "Python 3",
   "language": "python",
   "name": "python3"
  },
  "language_info": {
   "codemirror_mode": {
    "name": "ipython",
    "version": 3
   },
   "file_extension": ".py",
   "mimetype": "text/x-python",
   "name": "python",
   "nbconvert_exporter": "python",
   "pygments_lexer": "ipython3",
   "version": "3.6.4"
  }
 },
 "nbformat": 4,
 "nbformat_minor": 1
}
