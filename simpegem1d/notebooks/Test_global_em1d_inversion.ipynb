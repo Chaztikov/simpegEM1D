{
 "cells": [
  {
   "cell_type": "code",
   "execution_count": 27,
   "metadata": {},
   "outputs": [
    {
     "name": "stdout",
     "output_type": "stream",
     "text": [
      "Populating the interactive namespace from numpy and matplotlib\n"
     ]
    }
   ],
   "source": [
    "from SimPEG import Mesh, Maps\n",
    "import numpy as np\n",
    "from matplotlib.colors import LogNorm\n",
    "from simpegem1d import (\n",
    "    GlobalEM1DProblemFD, GlobalEM1DSurveyFD, get_vertical_discretization_frequency\n",
    ")\n",
    "from pymatsolver import PardisoSolver\n",
    "%pylab inline"
   ]
  },
  {
   "cell_type": "markdown",
   "metadata": {},
   "source": [
    "# Seting up a 2D mesh and model"
   ]
  },
  {
   "cell_type": "code",
   "execution_count": 28,
   "metadata": {},
   "outputs": [],
   "source": [
    "frequency = np.array([382, 1822, 7970, 35920, 130100], dtype=float)\n",
    "hz = get_vertical_discretization_frequency(frequency, sigma_background=0.01)"
   ]
  },
  {
   "cell_type": "code",
   "execution_count": 29,
   "metadata": {},
   "outputs": [],
   "source": [
    "from scipy.spatial import Delaunay\n",
    "def PolygonInd(mesh, pts):\n",
    "    hull = Delaunay(pts)\n",
    "    inds = hull.find_simplex(mesh.gridCC)>=0\n",
    "    return inds"
   ]
  },
  {
   "cell_type": "code",
   "execution_count": 30,
   "metadata": {},
   "outputs": [],
   "source": [
    "n_sounding = 20\n",
    "dx = 20.\n",
    "hx = np.ones(n_sounding) * dx\n",
    "mesh = Mesh.TensorMesh([hx, hz], x0='00')\n",
    "inds =  mesh.gridCC[:,1]<25\n",
    "sigma = np.ones(mesh.nC) * 1./100.\n",
    "sigma[inds] = 1./50.\n",
    "x0 = np.r_[0., 75.]\n",
    "x1 = np.r_[dx*n_sounding, 75.]\n",
    "x2 = np.r_[dx*n_sounding, 90.]\n",
    "x3 = np.r_[0., 200.]\n",
    "pts = np.vstack((x0, x1, x2, x3, x0))\n",
    "poly_inds = PolygonInd(mesh, pts)\n",
    "sigma[poly_inds] = 0.1\n",
    "sigma_em1d = sigma.reshape(mesh.vnC, order='F').flatten()"
   ]
  },
  {
   "cell_type": "code",
   "execution_count": 31,
   "metadata": {},
   "outputs": [
    {
     "data": {
      "image/png": "[encoded data removed]",
      "text/plain": [
       "<matplotlib.figure.Figure at 0x123e0d5c0>"
      ]
     },
     "metadata": {},
     "output_type": "display_data"
    }
   ],
   "source": [
    "cb = plt.colorbar(\n",
    "    mesh.plotImage(sigma, grid=False, clim=(1e-2, 1e-1),pcolorOpts={\"norm\":LogNorm()})[0],\n",
    "    fraction=0.03, pad=0.04\n",
    ")\n",
    "\n",
    "plt.ylim(mesh.vectorNy.max(), mesh.vectorNy.min())\n",
    "plt.gca().set_aspect(1)"
   ]
  },
  {
   "cell_type": "code",
   "execution_count": 32,
   "metadata": {},
   "outputs": [],
   "source": [
    "x = mesh.vectorCCx\n",
    "y = np.zeros_like(x)\n",
    "z = np.ones_like(x) * 30.\n",
    "rx_locations = np.c_[x, y, z]\n",
    "src_locations = np.c_[x, y, z]\n",
    "topo = np.c_[x, y, z-30.].astype(float)"
   ]
  },
  {
   "cell_type": "code",
   "execution_count": 33,
   "metadata": {},
   "outputs": [],
   "source": [
    "mapping = Maps.ExpMap(mesh)"
   ]
  },
  {
   "cell_type": "code",
   "execution_count": 34,
   "metadata": {},
   "outputs": [
    {
     "name": "stdout",
     "output_type": "stream",
     "text": [
      ">> Use multiprocessing for parallelization\n",
      ">> n_cpu: 2\n"
     ]
    }
   ],
   "source": [
    "survey = GlobalEM1DSurveyFD(\n",
    "    rx_locations = rx_locations,\n",
    "    src_locations = src_locations,    \n",
    "    frequency = frequency,\n",
    "    offset = np.ones_like(frequency) * 7.86,\n",
    "    src_type = \"VMD\",\n",
    "    rx_type = \"Hz\",\n",
    "    field_type = 'secondary',\n",
    "    topo = topo    \n",
    ")\n",
    "prob = GlobalEM1DProblemFD(\n",
    "    [], sigmaMap=mapping, hz=hz, parallel=True, n_cpu=2, verbose=True,\n",
    "    Solver=PardisoSolver\n",
    ")\n",
    "prob.pair(survey)"
   ]
  },
  {
   "cell_type": "code",
   "execution_count": 35,
   "metadata": {},
   "outputs": [],
   "source": [
    "m = np.log(sigma_em1d)"
   ]
  },
  {
   "cell_type": "code",
   "execution_count": 36,
   "metadata": {},
   "outputs": [
    {
     "name": "stdout",
     "output_type": "stream",
     "text": [
      "CPU times: user 9.82 ms, sys: 23.1 ms, total: 32.9 ms\n",
      "Wall time: 334 ms\n"
     ]
    }
   ],
   "source": [
    "%%time\n",
    "dobs = survey.dpred(m)"
   ]
  },
  {
   "cell_type": "code",
   "execution_count": 37,
   "metadata": {},
   "outputs": [],
   "source": [
    "DOBS = dobs.reshape(( prob.n_sounding, 2, survey.n_frequency))"
   ]
  },
  {
   "cell_type": "code",
   "execution_count": 38,
   "metadata": {},
   "outputs": [
    {
     "data": {
      "image/png": "[encoded data removed]",
      "text/plain": [
       "<matplotlib.figure.Figure at 0x11a2f54e0>"
      ]
     },
     "metadata": {},
     "output_type": "display_data"
    }
   ],
   "source": [
    "for i_freq in range(survey.n_frequency):\n",
    "    plt.semilogy(mesh.vectorCCx, -DOBS[:,0,i_freq], 'k')\n",
    "for i_freq in range(survey.n_frequency):\n",
    "    plt.semilogy(mesh.vectorCCx, -DOBS[:,1,i_freq], 'r')    "
   ]
  },
  {
   "cell_type": "code",
   "execution_count": 39,
   "metadata": {},
   "outputs": [],
   "source": [
    "from SimPEG import (\n",
    "    Regularization, Directives, Inversion, InvProblem, Optimization, DataMisfit, Utils\n",
    ")"
   ]
  },
  {
   "cell_type": "code",
   "execution_count": 40,
   "metadata": {},
   "outputs": [],
   "source": [
    "mesh_reg = Mesh.TensorMesh([mesh.hy, mesh.hx])"
   ]
  },
  {
   "cell_type": "code",
   "execution_count": 41,
   "metadata": {},
   "outputs": [
    {
     "name": "stdout",
     "output_type": "stream",
     "text": [
      "SimPEG.DataMisfit.l2_DataMisfit assigning default eps of 1e-5 * ||dobs||\n",
      "SimPEG.InvProblem will set Regularization.mref to m0.\n",
      "\n",
      "    SimPEG.InvProblem is setting bfgsH0 to the inverse of the eval2Deriv.\n",
      "    ***Done using same Solver and solverOpts as the problem***\n",
      ">> Compute J\n"
     ]
    },
    {
     "name": "stderr",
     "output_type": "stream",
     "text": [
      "/Users/sgkang/Projects/simpeg/SimPEG/Directives.py:881: UserWarning: Without a Linear preconditioner, convergence may be slow. Consider adding `Directives.UpdatePreconditioner` to your directives list\n",
      "  \"Without a Linear preconditioner, convergence may be slow. \"\n"
     ]
    },
    {
     "name": "stdout",
     "output_type": "stream",
     "text": [
      "model has any nan: 0\n",
      "============================ Inexact Gauss Newton ============================\n",
      "  #     beta     phi_d     phi_m       f      |proj(x-g)-x|  LS    Comment   \n",
      "-----------------------------------------------------------------------------\n",
      "x0 has any nan: 0\n",
      "   0  1.11e+01  5.26e+03  0.00e+00  5.26e+03    8.27e+02      0              \n",
      ">> Compute J\n",
      "   1  3.41e+00  8.58e+02  5.05e+01  1.03e+03    1.82e+02      0              \n",
      ">> Compute J\n",
      "   2  1.26e+00  4.19e+02  8.70e+01  5.28e+02    5.37e+01      0              \n",
      ">> Compute J\n",
      "   3  8.21e-01  1.25e+02  1.74e+02  2.68e+02    9.46e+01      0              \n",
      ">> Compute J\n",
      "   4  1.39e+00  7.24e+01  1.94e+02  3.41e+02    5.13e+01      0              \n",
      ">> Compute J\n",
      "   5  2.36e+00  7.15e+01  1.85e+02  5.07e+02    6.13e+01      0              \n",
      "Reached starting chifact with l2-norm regularization: Start IRLS steps...\n",
      "eps_p: 1.8550537843835175 eps_q: 1.8550537843835175\n",
      ">> Fix Jmatrix\n",
      "Eps_p: 1.5458781536529314\n",
      "Eps_q: 1.5458781536529314\n",
      "delta phim:    inf\n",
      ">> Compute J\n",
      "   6  2.36e+00  1.02e+02  2.34e+02  6.54e+02    8.50e+01      0              \n",
      ">> Fix Jmatrix\n",
      "Eps_p: 1.2882317947107762\n",
      "Eps_q: 1.2882317947107762\n",
      "delta phim: 7.504e-01\n",
      "   7  2.36e+00  1.07e+02  2.44e+02  6.83e+02    1.21e+02      0              \n",
      "Beta search step\n",
      "   8  1.55e+00  1.07e+02  2.44e+02  4.85e+02    1.05e+02      0              \n",
      ">> Fix Jmatrix\n",
      "Eps_p: 1.0735264955923136\n",
      "Eps_q: 1.0735264955923136\n",
      "delta phim: 2.006e-01\n",
      "   9  1.55e+00  9.50e+01  2.57e+02  4.92e+02    9.87e+01      0              \n",
      "Beta search step\n",
      "  10  2.41e+00  9.50e+01  2.57e+02  7.14e+02    1.19e+02      0   Skip BFGS  \n",
      "Beta search step\n",
      "  11  1.60e+00  9.50e+01  2.57e+02  5.06e+02    9.99e+01      0              \n",
      "Beta search step\n",
      "  12  2.52e+00  9.50e+01  2.57e+02  7.41e+02    1.22e+02      0   Skip BFGS  \n",
      ">> Fix Jmatrix\n",
      "Eps_p: 0.8946054129935948\n",
      "Eps_q: 0.8946054129935948\n",
      "delta phim: 2.228e-01\n",
      "  13  2.52e+00  9.57e+01  2.64e+02  7.61e+02    1.36e+02      0              \n",
      ">> Fix Jmatrix\n",
      "Eps_p: 0.7455045108279956\n",
      "Eps_q: 0.7455045108279956\n",
      "delta phim: 1.858e-01\n",
      "  14  2.52e+00  1.01e+02  2.58e+02  7.51e+02    1.39e+02      0              \n",
      "Beta search step\n",
      "  15  3.98e+00  1.01e+02  2.58e+02  1.13e+03    1.82e+02      0              \n",
      ">> Fix Jmatrix\n",
      "Eps_p: 0.6212537590233297\n",
      "Eps_q: 0.6212537590233297\n",
      "delta phim: 1.552e-01\n",
      "  16  3.98e+00  9.52e+01  2.51e+02  1.10e+03    1.12e+02      0              \n",
      "Beta search step\n",
      "  17  6.33e+00  9.52e+01  2.51e+02  1.69e+03    1.84e+02      0              \n",
      "Beta search step\n",
      "  18  3.66e+00  9.52e+01  2.51e+02  1.01e+03    1.04e+02      0              \n",
      "Beta search step\n",
      "  19  5.85e+00  9.52e+01  2.51e+02  1.56e+03    1.68e+02      0   Skip BFGS  \n",
      ">> Fix Jmatrix\n",
      "Eps_p: 0.5177114658527747\n",
      "Eps_q: 0.5177114658527747\n",
      "delta phim: 9.813e-02\n",
      "  20  5.85e+00  9.28e+01  2.39e+02  1.49e+03    1.51e+02      0              \n",
      "------------------------- STOP! -------------------------\n",
      "1 : |fc-fOld| = 7.6110e+01 <= tolF*(1+|f0|) = 5.2640e+02\n",
      "1 : |xc-x_last| = 9.5318e-01 <= tolX*(1+|x0|) = 9.0771e+00\n",
      "0 : |proj(x-g)-x|    = 1.5082e+02 <= tolG          = 1.0000e-01\n",
      "0 : |proj(x-g)-x|    = 1.5082e+02 <= 1e3*eps       = 1.0000e-02\n",
      "1 : maxIter   =      20    <= iter          =     20\n",
      "------------------------- DONE! -------------------------\n",
      "CPU times: user 4.89 s, sys: 5.56 s, total: 10.4 s\n",
      "Wall time: 57.2 s\n"
     ]
    }
   ],
   "source": [
    "%%time\n",
    "std = 0.05\n",
    "floor = 0.\n",
    "np.random.seed(1)\n",
    "uncert = std*abs(dobs)+floor\n",
    "survey.dobs = dobs.copy()\n",
    "m0 = np.ones(mesh.nC) * np.log(1./100.)\n",
    "dmisfit = DataMisfit.l2_DataMisfit(survey)\n",
    "regmap = Maps.IdentityMap(mesh)\n",
    "# mapping is required ... for IRLS\n",
    "reg = Regularization.Sparse(\n",
    "    mesh_reg, mapping=regmap,\n",
    "    alpha_s=1.,\n",
    "    alpha_x = 2.,\n",
    "    alpha_y = 2.,    \n",
    ")\n",
    "p = 0\n",
    "qx, qz = 1., 1.\n",
    "reg.norms = np.c_[p, qx, qz, 0.]\n",
    "IRLS = Directives.Update_IRLS(maxIRLSiter=10, minGNiter=1, fix_Jmatrix=True)\n",
    "opt = Optimization.InexactGaussNewton(maxIter = 20)\n",
    "invProb = InvProblem.BaseInvProblem(dmisfit, reg, opt)\n",
    "beta = Directives.BetaSchedule(coolingFactor=2, coolingRate=1)\n",
    "betaest = Directives.BetaEstimate_ByEig(beta0_ratio=1.)\n",
    "target = Directives.TargetMisfit()\n",
    "# inv = Inversion.BaseInversion(invProb, directiveList=[beta,betaest,target])\n",
    "inv = Inversion.BaseInversion(invProb, directiveList=[IRLS,betaest])\n",
    "prob.counter = opt.counter = Utils.Counter()\n",
    "opt.LSshorten = 0.5\n",
    "opt.remember('xc')\n",
    "mopt = inv.run(m0)"
   ]
  },
  {
   "cell_type": "code",
   "execution_count": 42,
   "metadata": {},
   "outputs": [],
   "source": [
    "sigma_est = Utils.mkvc((np.exp(mopt)).reshape((prob.n_sounding, prob.n_layer)))\n",
    "sigma_est_l2 = Utils.mkvc((np.exp(invProb.l2model)).reshape((prob.n_sounding, prob.n_layer)))"
   ]
  },
  {
   "cell_type": "code",
   "execution_count": 43,
   "metadata": {},
   "outputs": [],
   "source": [
    "import matplotlib\n",
    "matplotlib.rcParams['font.size'] = 14"
   ]
  },
  {
   "cell_type": "code",
   "execution_count": 45,
   "metadata": {},
   "outputs": [
    {
     "data": {
      "text/plain": [
       "Text(0.5,1,'Laterally-contrained model: L0 L2')"
      ]
     },
     "execution_count": 45,
     "metadata": {},
     "output_type": "execute_result"
    },
    {
     "data": {
      "image/png": "[encoded data removed]",
      "text/plain": [
       "<matplotlib.figure.Figure at 0x11a28d240>"
      ]
     },
     "metadata": {},
     "output_type": "display_data"
    },
    {
     "data": {
      "image/png": "[encoded data removed]",
      "text/plain": [
       "<matplotlib.figure.Figure at 0x1241f3e48>"
      ]
     },
     "metadata": {},
     "output_type": "display_data"
    },
    {
     "data": {
      "image/png": "[encoded data removed]",
      "text/plain": [
       "<matplotlib.figure.Figure at 0x123f9e4a8>"
      ]
     },
     "metadata": {},
     "output_type": "display_data"
    }
   ],
   "source": [
    "cb = plt.colorbar(\n",
    "    mesh.plotImage(\n",
    "        sigma, grid=True, clim=(1e-2, 1e-1),pcolorOpts={\"norm\":LogNorm()},\n",
    "        gridOpts={'alpha':0.2, 'color':'grey'}\n",
    "    )[0],\n",
    "    fraction=0.02, pad=0.04\n",
    ")\n",
    "\n",
    "plt.ylim(mesh.vectorNy.max(), mesh.vectorNy.min())\n",
    "plt.gca().set_aspect(0.5)\n",
    "\n",
    "plt.title(\"True model\")\n",
    "\n",
    "cb = plt.colorbar(\n",
    "    mesh.plotImage(\n",
    "        sigma_est_l2, grid=True, clim=(1e-2, 1e-1),pcolorOpts={\"norm\":LogNorm()},\n",
    "        gridOpts={'alpha':0.2, 'color':'grey'}\n",
    "    )[0],\n",
    "    fraction=0.02, pad=0.04\n",
    ")\n",
    "plt.title(\"Laterally-contrained model: L2 L2\")\n",
    "plt.ylim(mesh.vectorNy.max(), mesh.vectorNy.min())\n",
    "plt.gca().set_aspect(0.5)\n",
    "\n",
    "\n",
    "cb = plt.colorbar(\n",
    "    mesh.plotImage(\n",
    "        sigma_est, grid=True, clim=(1e-2, 1e-1), pcolorOpts={\"norm\":LogNorm()},\n",
    "        gridOpts={'alpha':0.2, 'color':'grey'}\n",
    "    )[0],\n",
    "    fraction=0.02, pad=0.04\n",
    ")\n",
    "plt.ylim(mesh.vectorNy.max(), mesh.vectorNy.min())\n",
    "plt.gca().set_aspect(0.5)\n",
    "plt.title(\"Laterally-contrained model: L0 L2\")"
   ]
  },
  {
   "cell_type": "code",
   "execution_count": null,
   "metadata": {},
   "outputs": [],
   "source": []
  }
 ],
 "metadata": {
  "kernelspec": {
   "display_name": "Python 3",
   "language": "python",
   "name": "python3"
  },
  "language_info": {
   "codemirror_mode": {
    "name": "ipython",
    "version": 3
   },
   "file_extension": ".py",
   "mimetype": "text/x-python",
   "name": "python",
   "nbconvert_exporter": "python",
   "pygments_lexer": "ipython3",
   "version": "3.6.4"
  }
 },
 "nbformat": 4,
 "nbformat_minor": 2
}
