{
 "metadata": {
  "name": ""
 },
 "nbformat": 3,
 "nbformat_minor": 0,
 "worksheets": [
  {
   "cells": [
    {
     "cell_type": "code",
     "collapsed": false,
     "input": [
      "from SimPEG import *\n",
      "from simpegem1d import EM1D, EM1DAnal, Kernels, RTEfun, DigFilter, BaseEM1D\n",
      "%pylab inline"
     ],
     "language": "python",
     "metadata": {},
     "outputs": [
      {
       "output_type": "stream",
       "stream": "stdout",
       "text": [
        "Populating the interactive namespace from numpy and matplotlib\n"
       ]
      }
     ],
     "prompt_number": 1
    },
    {
     "cell_type": "markdown",
     "metadata": {},
     "source": [
      "## Set up for EM1D program"
     ]
    },
    {
     "cell_type": "markdown",
     "metadata": {},
     "source": [
      "### Step1: Generate mesh"
     ]
    },
    {
     "cell_type": "markdown",
     "metadata": {},
     "source": [
      "### Step2: Initiate general survey"
     ]
    },
    {
     "cell_type": "code",
     "collapsed": false,
     "input": [
      "# survey = BaseEM1D.BaseEM1DSurvey()\n",
      "FDsurvey = BaseEM1D.EM1DSurveyFD()"
     ],
     "language": "python",
     "metadata": {},
     "outputs": [],
     "prompt_number": 2
    },
    {
     "cell_type": "code",
     "collapsed": false,
     "input": [
      "FDsurvey.rxLoc = np.array([0., 0., 100.+1e-5])\n",
      "FDsurvey.txLoc = np.array([0., 0., 100.+1e-5])\n",
      "FDsurvey.fieldtype = 'secondary'\n",
      "FDsurvey.rxType = 'Hz'\n",
      "# FDsurvey.txType = 'CircularLoop'\n",
      "FDsurvey.txType = 'VMD'\n",
      "# FDsurvey.a = 10.\n",
      "FDsurvey.offset = 8.\n",
      "nearthick = np.logspace(-1, 1, 5)\n",
      "deepthick = np.logspace(1, 2, 10)\n",
      "hx = np.r_[nearthick, deepthick]\n",
      "mesh1D = Mesh.TensorMesh([hx], [0.])\n",
      "depth = -mesh1D.gridN\n",
      "LocSigZ = -mesh1D.gridCC\n",
      "\n",
      "nlay = depth.size\n",
      "topo = np.r_[0., 0., 100.]\n",
      "FDsurvey.depth = depth\n",
      "FDsurvey.topo = topo\n",
      "FDsurvey.LocSigZ = LocSigZ"
     ],
     "language": "python",
     "metadata": {},
     "outputs": [],
     "prompt_number": 13
    },
    {
     "cell_type": "code",
     "collapsed": false,
     "input": [
      "print LocSigZ.size"
     ],
     "language": "python",
     "metadata": {},
     "outputs": [
      {
       "output_type": "stream",
       "stream": "stdout",
       "text": [
        "15\n"
       ]
      }
     ],
     "prompt_number": 14
    },
    {
     "cell_type": "code",
     "collapsed": false,
     "input": [
      "fig, ax = subplots(1,1, figsize=(12, 3))\n",
      "ax.plot(depth, np.ones(mesh1D.nN), 'o--')\n",
      "ax.plot(LocSigZ, np.ones(mesh1D.nC), 'r*')\n",
      "ax.grid(color='b', alpha=0.5, linestyle='dashed', linewidth=0.5)\n",
      "ax.invert_xaxis()"
     ],
     "language": "python",
     "metadata": {},
     "outputs": [
      {
       "metadata": {},
       "output_type": "display_data",
       "png": "[encoded data removed]",
       "text": [
        "<matplotlib.figure.Figure at 0x3365390>"
       ]
      }
     ],
     "prompt_number": 15
    },
    {
     "cell_type": "markdown",
     "metadata": {},
     "source": [
      "### Step3: Frequecy or Time domain EM survey"
     ]
    },
    {
     "cell_type": "code",
     "collapsed": false,
     "input": [
      "FDsurvey.frequency = np.logspace(-2, 8, 61)\n",
      "FDsurvey.Nfreq = FDsurvey.frequency.size\n",
      "FDsurvey.Setup1Dsystem()\n",
      "sig_half = 1e0\n",
      "chi_half = 0."
     ],
     "language": "python",
     "metadata": {},
     "outputs": [],
     "prompt_number": 16
    },
    {
     "cell_type": "code",
     "collapsed": false,
     "input": [
      "Logmodel = BaseEM1D.BaseEM1DModel(mesh1D)\n",
      "options = {'Frequency': FDsurvey.frequency, 'tau': np.ones(nlay)*1e-1, 'eta':np.ones(nlay)*0.5, 'c':np.ones(nlay)*0.88}\n",
      "Colemodel = BaseEM1D.BaseColeColeModel(mesh1D, **options)\n",
      "modelCole = Model.ComboModel(mesh1D, [Colemodel, Logmodel])\n",
      "model = Model.ComboModel(mesh1D, [Logmodel])"
     ],
     "language": "python",
     "metadata": {},
     "outputs": [],
     "prompt_number": 17
    },
    {
     "cell_type": "code",
     "collapsed": false,
     "input": [
      "m_1D = np.log(np.ones(nlay)*sig_half)\n",
      "sig = model.transform(m_1D)\n",
      "# plt.semilogx(FDsurvey.frequency, sig[:,0].real)\n",
      "# plt.semilogx(FDsurvey.frequency, sig[:,0].imag)"
     ],
     "language": "python",
     "metadata": {},
     "outputs": [],
     "prompt_number": 18
    },
    {
     "cell_type": "code",
     "collapsed": false,
     "input": [
      "%%time\n",
      "WT0 = np.load('../WT0.npy')\n",
      "WT1 = np.load('../WT1.npy')\n",
      "YBASE = np.load('../YBASE.npy')\n",
      "options = {'WT0': WT0, 'WT1': WT1, 'YBASE': YBASE}\n",
      "prob = EM1D.EM1D(model, **options)\n",
      "\n",
      "if prob.ispaired:\n",
      "    prob.unpair()\n",
      "if FDsurvey.ispaired:\n",
      "    FDsurvey.unpair()\n",
      "prob.pair(FDsurvey)\n",
      "prob.CondType = 'Real'\n",
      "prob.chi = np.zeros(FDsurvey.nlay)\n",
      "Hz = prob.fields(m_1D)"
     ],
     "language": "python",
     "metadata": {},
     "outputs": [
      {
       "output_type": "stream",
       "stream": "stdout",
       "text": [
        "CPU times: user 525 ms, sys: 38 \u00b5s, total: 525 ms\n",
        "Wall time: 524 ms\n"
       ]
      }
     ],
     "prompt_number": 19
    },
    {
     "cell_type": "code",
     "collapsed": false,
     "input": [
      "%%time\n",
      "prob = EM1D.EM1D(modelCole, **options)\n",
      "if prob.ispaired:\n",
      "    prob.unpair()\n",
      "if FDsurvey.ispaired:\n",
      "    FDsurvey.unpair()\n",
      "prob.pair(FDsurvey)\n",
      "prob.CondType = 'Real'\n",
      "prob.chi = np.zeros(FDsurvey.nlay)\n",
      "prob.CondType = 'Complex'\n",
      "HzCole = prob.fields(m_1D)\n",
      "Hzanal = EM1DAnal.Hzanal(sig_half, FDsurvey.frequency, FDsurvey.offset, 'secondary')"
     ],
     "language": "python",
     "metadata": {},
     "outputs": [
      {
       "output_type": "stream",
       "stream": "stdout",
       "text": [
        "CPU times: user 527 ms, sys: 71 \u00b5s, total: 527 ms\n",
        "Wall time: 526 ms\n"
       ]
      }
     ],
     "prompt_number": 20
    },
    {
     "cell_type": "code",
     "collapsed": false,
     "input": [
      "fig, ax = plt.subplots(1,1, figsize = (8, 5))\n",
      "ax.loglog(FDsurvey.frequency, abs(Hz.real), 'b')\n",
      "ax.loglog(FDsurvey.frequency, abs(Hz.imag), 'r')\n",
      "ax.loglog(FDsurvey.frequency, abs(HzCole.real), 'b*')\n",
      "ax.loglog(FDsurvey.frequency, abs(HzCole.imag), 'r*')\n",
      "# ax.loglog(np.ones(FDsurvey.Nfreq)*900, np.logspace(-14, -7, FDsurvey.Nfreq), ':')\n",
      "# ax.loglog(np.ones(FDsurvey.Nfreq)*7200, np.logspace(-14, -7, FDsurvey.Nfreq), ':')\n",
      "# ax.loglog(np.ones(FDsurvey.Nfreq)*56000, np.logspace(-14, -7, FDsurvey.Nfreq), ':')\n",
      "\n",
      "# ax.loglog(FDsurvey.frequency, abs(Hzanal.real), 'b*')\n",
      "# ax.loglog(FDsurvey.frequency, abs(Hzanal.imag), 'r*')\n",
      "legend(('Real $H_{z FHT}$', 'Real $H_{z anal}$', 'Imag $H_{z FHT}$', 'Imag $H_{z anal}$'))"
     ],
     "language": "python",
     "metadata": {},
     "outputs": [
      {
       "metadata": {},
       "output_type": "pyout",
       "prompt_number": 22,
       "text": [
        "<matplotlib.legend.Legend at 0x3ed4e50>"
       ]
      },
      {
       "metadata": {},
       "output_type": "display_data",
       "png": "[encoded data removed]",
       "text": [
        "<matplotlib.figure.Figure at 0x3eaff10>"
       ]
      }
     ],
     "prompt_number": 22
    },
    {
     "cell_type": "code",
     "collapsed": false,
     "input": [
      "fig, ax = plt.subplots(1,1, figsize = (8, 5))\n",
      "ax.loglog(FDsurvey.frequency, abs(Hz), 'b')\n",
      "# ax.loglog(FDsurvey.frequency, abs(HzCole), 'r*')\n",
      "ax.loglog(np.ones(FDsurvey.Nfreq)*900, np.logspace(-14, -7, FDsurvey.Nfreq), ':')\n",
      "ax.loglog(np.ones(FDsurvey.Nfreq)*7200, np.logspace(-14, -7, FDsurvey.Nfreq), ':')\n",
      "ax.loglog(np.ones(FDsurvey.Nfreq)*56000, np.logspace(-14, -7, FDsurvey.Nfreq), ':')\n"
     ],
     "language": "python",
     "metadata": {},
     "outputs": [
      {
       "metadata": {},
       "output_type": "pyout",
       "prompt_number": 12,
       "text": [
        "[<matplotlib.lines.Line2D at 0x42ea650>]"
       ]
      },
      {
       "metadata": {},
       "output_type": "display_data",
       "png": "[encoded data removed]",
       "text": [
        "<matplotlib.figure.Figure at 0x42e28d0>"
       ]
      }
     ],
     "prompt_number": 12
    },
    {
     "cell_type": "code",
     "collapsed": false,
     "input": [
      "fig, ax = plt.subplots(1,1, figsize = (8, 5))\n",
      "ax.semilogx(FDsurvey.frequency, np.angle(Hz), 'b')\n",
      "ax.semilogx(FDsurvey.frequency, np.angle(HzCole), 'b*')"
     ],
     "language": "python",
     "metadata": {},
     "outputs": [
      {
       "metadata": {},
       "output_type": "pyout",
       "prompt_number": 104,
       "text": [
        "[<matplotlib.lines.Line2D at 0x4718790>]"
       ]
      },
      {
       "metadata": {},
       "output_type": "display_data",
       "png": "[encoded data removed]",
       "text": [
        "<matplotlib.figure.Figure at 0x5707310>"
       ]
      }
     ],
     "prompt_number": 104
    },
    {
     "cell_type": "code",
     "collapsed": false,
     "input": [
      "\n"
     ],
     "language": "python",
     "metadata": {},
     "outputs": []
    },
    {
     "cell_type": "code",
     "collapsed": false,
     "input": [
      "# TDsurvey = BaseEM1D.EM1DSurveyTD()\n",
      "# TDsurvey.Nch = 10\n",
      "# TDsurvey.time = np.logspace(-5, 4, TDsurvey.Nch)\n",
      "# TDsurvey.setFrequency()"
     ],
     "language": "python",
     "metadata": {},
     "outputs": [],
     "prompt_number": 11
    },
    {
     "cell_type": "markdown",
     "metadata": {},
     "source": [
      "## Why is that?"
     ]
    },
    {
     "cell_type": "code",
     "collapsed": false,
     "input": [
      "class ParentSurvey(Survey.BaseSurvey):\n",
      "    \"\"\"Parent Magnetics Survey\"\"\"\n",
      "\n",
      "    rxLoc = None #: receiver locations\n",
      "    rxType = None #: receiver type\n",
      "\n",
      "    def __init__(self, **kwargs):\n",
      "        Survey.BaseSurvey.__init__(self, **kwargs)\n",
      "\n",
      "class ChildSurvey(ParentSurvey):\n",
      "    \"\"\"Parent Magnetics Survey\"\"\"\n",
      "    def __init__(self, **kwargs):\n",
      "        ParentSurvey.__init__(self, **kwargs)        \n",
      "        \n",
      "    def myMethod(self):\n",
      "        print self.rxLoc"
     ],
     "language": "python",
     "metadata": {},
     "outputs": [],
     "prompt_number": 11
    },
    {
     "cell_type": "code",
     "collapsed": false,
     "input": [
      "# P1 = ParentSurvey\n",
      "P2 = ParentSurvey()\n",
      "# P1.rxLoc = 1.\n",
      "P2.rxLoc = 1.\n",
      "ParentSurvey.rxLoc = 1.\n",
      "trial = ChildSurvey()\n",
      "trial.myMethod()"
     ],
     "language": "python",
     "metadata": {},
     "outputs": [
      {
       "output_type": "stream",
       "stream": "stdout",
       "text": [
        "1.0\n"
       ]
      }
     ],
     "prompt_number": 12
    },
    {
     "cell_type": "code",
     "collapsed": false,
     "input": [
      "class Vector(object):\n",
      "    def __init__(self, x,y,z):\n",
      "        self.x = x\n",
      "        self.y = y\n",
      "        self.z = z\n",
      "        \n",
      "class Plane(Vector):\n",
      "    def __init__(self, x,y,z, V):\n",
      "        Vector.__init__(self, x,y,z)\n",
      "        self.V = V\n",
      "        \n",
      "vec = Vector(1,2,3)\n",
      "print vec.x\n",
      "vec2 = Vector(2,3,4)\n",
      "print vec2.x\n",
      "\n",
      "Vector.x = 99\n",
      "Vector.y = 5\n",
      "Vector.t = [10,2]\n",
      "\n",
      "p = Plane(4,5,6,[1,2,3])\n",
      "\n",
      "p.t[1] = 13"
     ],
     "language": "python",
     "metadata": {},
     "outputs": [
      {
       "output_type": "stream",
       "stream": "stdout",
       "text": [
        "1\n",
        "2\n"
       ]
      }
     ],
     "prompt_number": 13
    },
    {
     "cell_type": "code",
     "collapsed": false,
     "input": [
      "a = np.zeros(10, dtype=complex)"
     ],
     "language": "python",
     "metadata": {},
     "outputs": [],
     "prompt_number": 18
    },
    {
     "cell_type": "code",
     "collapsed": false,
     "input": [
      "a = np.ones(10)+np.ones(10)*1j"
     ],
     "language": "python",
     "metadata": {},
     "outputs": [],
     "prompt_number": 21
    },
    {
     "cell_type": "code",
     "collapsed": false,
     "input": [
      "print a"
     ],
     "language": "python",
     "metadata": {},
     "outputs": [
      {
       "output_type": "stream",
       "stream": "stdout",
       "text": [
        "[ 1.+1.j  1.+1.j  1.+1.j  1.+1.j  1.+1.j  1.+1.j  1.+1.j  1.+1.j  1.+1.j\n",
        "  1.+1.j]\n"
       ]
      }
     ],
     "prompt_number": 22
    },
    {
     "cell_type": "code",
     "collapsed": false,
     "input": [
      "np.linalg.norm(1+1j)"
     ],
     "language": "python",
     "metadata": {},
     "outputs": [
      {
       "metadata": {},
       "output_type": "pyout",
       "prompt_number": 24,
       "text": [
        "1.4142135623730951"
       ]
      }
     ],
     "prompt_number": 24
    },
    {
     "cell_type": "code",
     "collapsed": false,
     "input": [
      "isscalar(0.01)"
     ],
     "language": "python",
     "metadata": {},
     "outputs": [
      {
       "metadata": {},
       "output_type": "pyout",
       "prompt_number": 27,
       "text": [
        "True"
       ]
      }
     ],
     "prompt_number": 27
    },
    {
     "cell_type": "code",
     "collapsed": false,
     "input": [],
     "language": "python",
     "metadata": {},
     "outputs": []
    }
   ],
   "metadata": {}
  }
 ]
}