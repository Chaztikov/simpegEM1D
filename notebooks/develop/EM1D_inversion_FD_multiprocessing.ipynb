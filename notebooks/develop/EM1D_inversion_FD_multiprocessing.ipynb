{
 "cells": [
  {
   "cell_type": "code",
   "execution_count": 23,
   "metadata": {},
   "outputs": [],
   "source": [
    "# %%writefile run_em1d_multiprocessing.py\n",
    "try:\n",
    "    from multiprocessing import Pool\n",
    "except ImportError:\n",
    "    PARALLEL = False\n",
    "else:\n",
    "    PARALLEL = True\n",
    "    \n",
    "from SimPEG import Mesh, Maps, Utils, Survey, Problem, Props\n",
    "from simpegem1d import *\n",
    "from scipy.constants import mu_0\n",
    "import numpy as np\n",
    "from multiprocessing import Pool   \n",
    "import multiprocessing\n",
    "import scipy.sparse as sp\n",
    "# from schwimmbad import MPIPool as Pool\n",
    "\n",
    "import time \n",
    "\n",
    "def set_mesh_1d():        \n",
    "    cs = 10.\n",
    "    nearthick = np.logspace(-1, 1, 3)\n",
    "    linthick = np.ones(15)*cs\n",
    "    deepthick = np.logspace(1, 2, 3)\n",
    "    hx = np.r_[nearthick, linthick, deepthick, deepthick[-1]]\n",
    "    return Mesh.TensorMesh([hx], [0.])\n",
    "\n",
    "def run_simulation_FD(args):\n",
    "    \"\"\"\n",
    "        rxLoc, SrcLoc, mesh_1d, offset, frequency,\n",
    "        field_type = 'secondary',\n",
    "        rxType = 'Hz',\n",
    "        srcType = 'VMD'\n",
    "\n",
    "    \"\"\"    \n",
    "    sigma, jacSwitch = args\n",
    "    mesh_1d = set_mesh_1d()\n",
    "    # Todo: require input args\n",
    "#     rxLoc, SrcLoc, mesh_1d, offset, frequency, field_type, rxType, srcType = args            \n",
    "    FDsurvey = EM1DSurveyFD()\n",
    "    FDsurvey.rxLoc = np.array([0., 0., 100.+30.])\n",
    "    FDsurvey.srcLoc = np.array([0., 0., 100.+30.])\n",
    "    FDsurvey.fieldtype = 'secondary'\n",
    "    FDsurvey.rxType = 'Hz'\n",
    "    FDsurvey.srcType = 'VMD'\n",
    "    FDsurvey.offset = np.r_[8., 8., 8.]        \n",
    "    nlay = depth.size\n",
    "    topo = np.r_[0., 0., 100.]\n",
    "    FDsurvey.depth = depth\n",
    "    FDsurvey.topo = topo\n",
    "    FDsurvey.LocSigZ = LocSigZ\n",
    "    FDsurvey.frequency = np.r_[900., 7200., 56000]\n",
    "    FDsurvey.Nfreq = FDsurvey.frequency.size\n",
    "    FDsurvey.Setup1Dsystem()\n",
    "    FDsurvey.SetOffset()\n",
    "    imap = Maps.IdentityMap(mesh_1d)\n",
    "    blk_ind = (-50>LocSigZ) & (-100<LocSigZ)\n",
    "\n",
    "    prob = EM1D(\n",
    "        mesh_1d, sigmaMap=imap, filter_type='key_101',\n",
    "        jacSwitch=jacSwitch\n",
    "    )\n",
    "    if prob.ispaired:\n",
    "        prob.unpair()\n",
    "    if FDsurvey.ispaired:\n",
    "        FDsurvey.unpair()\n",
    "    prob.pair(FDsurvey)    \n",
    "    if jacSwitch:\n",
    "        u, dudsig = prob.fields(sigma)\n",
    "        drespdsig = FDsurvey.projectFields(dudsig)\n",
    "        return drespdsig\n",
    "    else:\n",
    "        u = prob.fields(sigma)\n",
    "        resp = FDsurvey.projectFields(u)                \n",
    "        return resp\n",
    "\n",
    "class GlobalEM1DProblem(Problem.BaseProblem):\n",
    "    \"\"\"\n",
    "        The GlobalProblem allows you to run a whole bunch of SubProblems,\n",
    "        potentially in parallel, potentially of different meshes.\n",
    "        This is handy for working with lots of sources,\n",
    "    \"\"\"\n",
    "    sigma, sigmaMap, sigmaDeriv = Props.Invertible(\n",
    "        \"Electrical conductivity (S/m)\"\n",
    "    )    \n",
    "    \n",
    "    _Jmatrix = None\n",
    "    n_cpu = None\n",
    "    n_sounding = None    \n",
    "    n_layer = None\n",
    "    \n",
    "    def __init__(self, mesh, **kwargs):\n",
    "        Utils.setKwargs(self, **kwargs)\n",
    "        if self.n_cpu is None:\n",
    "            self.n_cpu = multiprocessing.cpu_count()\n",
    "        self.sigmaMap = Maps.IdentityMap(mesh)\n",
    "        # temporary\n",
    "        self.n_sounding = mesh.nCx\n",
    "        self.n_layer = mesh.nCy\n",
    "        \n",
    "    def forward(self, m, f=None):          \n",
    "        self.model = m\n",
    "        pool = Pool(self.n_cpu)\n",
    "        Sigma = self.sigma.reshape((self.n_layer, self.n_sounding), order=\"F\")\n",
    "        if PARALLEL:\n",
    "            result = pool.map(run_simulation_FD, [(Sigma[:,i], False) for i in range(self.n_sounding)])\n",
    "            pool.close()\n",
    "            pool.join()\n",
    "        else:\n",
    "            result = [run_simulation_FD((Sigma[:,i], False)) for i in range(self.n_sounding)]\n",
    "        return np.hstack(result)\n",
    "    \n",
    "    def getJ(self, m):\n",
    "        if self._Jmatrix is not None:\n",
    "            return self._Jmatrix     \n",
    "        self.model = m\n",
    "        pool = Pool(self.n_cpu)\n",
    "        Sigma = self.sigma.reshape((self.n_layer, self.n_sounding), order=\"F\")\n",
    "        # _Jmatrix is sparse matrix\n",
    "        if PARALLEL:\n",
    "#             self._Jmatrix = sp.block_diag(\n",
    "#                 pool.map(run_simulation_FD, [(Sigma[:,i], True) for i in range(self.n_sounding)])\n",
    "#             ).tocsr()\n",
    "            # Possibility for parallel Jvec and Jtvec\n",
    "            self._Jmatrix = pool.map(run_simulation_FD, [(Sigma[:,i], True) for i in range(self.n_sounding)])            \n",
    "            pool.close()\n",
    "            pool.join()                    \n",
    "            \n",
    "        else:\n",
    "            self._Jmatrix = sp.block_diag(\n",
    "                [run_simulation_FD((Sigma[:,i], True)) for i in range(self.n_sounding)]\n",
    "            ).tocsr()            \n",
    "        return self._Jmatrix\n",
    "    \n",
    "    def Jvec(self, m, v, f=None):\n",
    "        J = self.getJ(m)\n",
    "        if PARALLEL:\n",
    "            V = v.reshape((self.n_sounding, self.n_layer))        \n",
    "\n",
    "            pool = Pool(self.n_cpu)\n",
    "\n",
    "            Jv = np.hstack(\n",
    "                pool.map(dot, [(J[i], V[i, :]) for i in range(self.n_sounding)])\n",
    "            )\n",
    "            pool.close()\n",
    "            pool.join()                \n",
    "        else:\n",
    "            return J*v                    \n",
    "        return Jv\n",
    "\n",
    "    def Jtvec(self, m, v, f=None):\n",
    "        J = self.getJ(m)\n",
    "        if PARALLEL:\n",
    "            V = v.reshape((self.n_sounding, 6))\n",
    "\n",
    "            pool = Pool(self.n_cpu)\n",
    "\n",
    "            Jtv = np.hstack(\n",
    "                pool.map(dot, [(J[i].T, V[i, :]) for i in range(self.n_sounding)])     \n",
    "            )\n",
    "            pool.close()\n",
    "            pool.join()                \n",
    "        else:\n",
    "            return J.T*v\n",
    "        return Jtv\n",
    "\n",
    "\n",
    "# class GlobalEM1DSurveyFD(Survey.BaseSurvey):\n",
    "    \n",
    "#     rxlocs = None\n",
    "#     srclocs = None\n",
    "#     frequency = None\n",
    "    \n",
    "#     @Utils.count\n",
    "#     @Utils.requires('prob')\n",
    "#     def dpred(self, m=None, f=None):\n",
    "#         \"\"\"dpred(m, f=None)\n",
    "\n",
    "#             Create the projected data from a model.\n",
    "#             The fields, f, (if provided) will be used for the predicted data\n",
    "#             instead of recalculating the fields (which may be expensive!).\n",
    "\n",
    "#             .. math::\n",
    "\n",
    "#                 d_\\\\text{pred} = P(f(m))\n",
    "\n",
    "#             Where P is a projection of the fields onto the data space.\n",
    "#         \"\"\"\n",
    "#         return self.prob.forward(m)\n",
    "    \n",
    "#     @property\n",
    "#     def nD(self):\n",
    "#         return self.prob.G.shape[0]   \n",
    "    \n",
    "#     def read_xyz_data(self, fname):\n",
    "        "
   ]
  },
  {
   "cell_type": "code",
   "execution_count": 73,
   "metadata": {},
   "outputs": [],
   "source": [
    "from simpegem1d.EM1DAnal import SkinDepth"
   ]
  },
  {
   "cell_type": "code",
   "execution_count": 200,
   "metadata": {},
   "outputs": [],
   "source": [
    "def get_vertical_discretization(\n",
    "    frequency, sigma_background=0.01, factor_fmin=4, facter_fmax=1., n_layer=19,\n",
    "    hz_min=None, z_max=None\n",
    "):        \n",
    "    if hz_min is None:\n",
    "        hz_min = SkinDepth(frequency.max(), sigma_background) / factor_fmin\n",
    "    if z_max is None:\n",
    "        z_max = SkinDepth(frequency.min(), sigma_background) * facter_fmax\n",
    "    i = 4\n",
    "    hz = np.logspace(np.log10(hz_min), np.log10(hz_min*i), n_layer)\n",
    "    z_sum = hz.sum()        \n",
    "    while z_sum<z_max:\n",
    "        i+=1        \n",
    "        hz = np.logspace(np.log10(hz_min), np.log10(hz_min*i), n_layer)\n",
    "        z_sum = hz.sum()            \n",
    "    print (z_max)    \n",
    "    return hz\n",
    "\n",
    "def set_mesh_1d(hz):        \n",
    "    return Mesh.TensorMesh([hz], x0=[0])\n",
    "\n",
    "#     cs = 10.\n",
    "#     nearthick = np.logspace(-1, 1, 3)\n",
    "#     linthick = np.ones(15)*cs\n",
    "#     deepthick = np.logspace(1, 2, 3)\n",
    "#     hx = np.r_[nearthick, linthick, deepthick, deepthick[-1]]\n",
    "#     return Mesh.TensorMesh([hx], [0.])"
   ]
  },
  {
   "cell_type": "code",
   "execution_count": 204,
   "metadata": {},
   "outputs": [
    {
     "name": "stdout",
     "output_type": "stream",
     "text": [
      "167.7640403482901\n"
     ]
    }
   ],
   "source": [
    "hz = get_vertical_discretization(frequency)"
   ]
  },
  {
   "cell_type": "code",
   "execution_count": 205,
   "metadata": {},
   "outputs": [],
   "source": [
    "mesh_1d = set_mesh_1d(hz)"
   ]
  },
  {
   "cell_type": "code",
   "execution_count": 206,
   "metadata": {},
   "outputs": [
    {
     "data": {
      "text/plain": [
       "array([  0.        ,   5.31699347,  11.05966405,  17.26209133,\n",
       "        23.96108332,  31.19639487,  39.01096356,  47.45116459,\n",
       "        56.5670859 ,  66.4128255 ,  77.04681243,  88.53215359,\n",
       "       100.93700816, 114.33499214, 128.80561523, 144.43475262,\n",
       "       161.31515467, 179.5469973 , 199.23847649, 220.50645037])"
      ]
     },
     "execution_count": 206,
     "metadata": {},
     "output_type": "execute_result"
    }
   ],
   "source": [
    "mesh_1d.vectorNx"
   ]
  },
  {
   "cell_type": "code",
   "execution_count": 207,
   "metadata": {},
   "outputs": [
    {
     "data": {
      "image/png": "[encoded data removed]",
      "text/plain": [
       "<matplotlib.figure.Figure at 0x11a24df98>"
      ]
     },
     "metadata": {},
     "output_type": "display_data"
    }
   ],
   "source": [
    "mesh_1d.plotGrid()"
   ]
  },
  {
   "cell_type": "code",
   "execution_count": 208,
   "metadata": {},
   "outputs": [
    {
     "name": "stdout",
     "output_type": "stream",
     "text": [
      "  ---- 1-D TensorMesh ----  \n",
      "   x0: 0.00\n",
      "  nCx: 19\n",
      "   hx: 5.32,  5.74,  6.20,  6.70,  7.24,  7.81,  8.44,  9.12,  9.85,  10.63,  11.49,  12.40,  13.40,  14.47,  15.63,  16.88,  18.23,  19.69,  21.27,\n"
     ]
    }
   ],
   "source": [
    "print (mesh_1d)"
   ]
  },
  {
   "cell_type": "code",
   "execution_count": 209,
   "metadata": {},
   "outputs": [],
   "source": [
    "# hz_min = 5.\n",
    "# n_layer = 5\n",
    "# hz = np.logspace(np.log10(hz_min), np.log10(hz_min*2), n_layer)\n",
    "# hz.sum()"
   ]
  },
  {
   "cell_type": "code",
   "execution_count": 210,
   "metadata": {},
   "outputs": [],
   "source": [
    "frequency = np.r_[900, 7200, 56000]"
   ]
  },
  {
   "cell_type": "code",
   "execution_count": 214,
   "metadata": {},
   "outputs": [
    {
     "data": {
      "text/plain": [
       "<discretize.TensorMesh.TensorMesh at 0x11a1bd908>"
      ]
     },
     "execution_count": 214,
     "metadata": {},
     "output_type": "execute_result"
    }
   ],
   "source": [
    "set_mesh_1d(frequency)"
   ]
  },
  {
   "cell_type": "code",
   "execution_count": null,
   "metadata": {},
   "outputs": [],
   "source": []
  },
  {
   "cell_type": "code",
   "execution_count": 24,
   "metadata": {},
   "outputs": [],
   "source": [
    "# %%time\n",
    "# from SimPEG import Mesh\n",
    "# import numpy as np\n",
    "# n = [4, 40, 400]\n",
    "# t = []\n",
    "# for n_sounding in n:\n",
    "# # n_sounding = 4\n",
    "#     start = time.time()\n",
    "#     n_layer = 22\n",
    "#     mesh = Mesh.TensorMesh([n_sounding, n_layer])\n",
    "#     m = np.ones(mesh.nC)\n",
    "#     prob = GlobalEM1DProblem(mesh, n_cpu=3)\n",
    "#     pred = prob.forward(m)\n",
    "#     J = prob.getJ(m)\n",
    "#     end = time.time()\n",
    "#     t.append(end-start)"
   ]
  },
  {
   "cell_type": "code",
   "execution_count": 25,
   "metadata": {},
   "outputs": [],
   "source": [
    "from simpegem1d import EM1DAnal"
   ]
  },
  {
   "cell_type": "code",
   "execution_count": 20,
   "metadata": {},
   "outputs": [
    {
     "name": "stdout",
     "output_type": "stream",
     "text": [
      "3.978873577297384\n"
     ]
    }
   ],
   "source": [
    "print (EM1DAnal.SkinDepth(1e5, 1e-2)/4.)"
   ]
  },
  {
   "cell_type": "code",
   "execution_count": 21,
   "metadata": {},
   "outputs": [
    {
     "name": "stdout",
     "output_type": "stream",
     "text": [
      "167.7640403482901\n"
     ]
    }
   ],
   "source": [
    "print (EM1DAnal.SkinDepth(900, 1e-2))"
   ]
  },
  {
   "cell_type": "code",
   "execution_count": 19,
   "metadata": {},
   "outputs": [
    {
     "data": {
      "text/plain": [
       "4.460310290381927"
      ]
     },
     "execution_count": 19,
     "metadata": {},
     "output_type": "execute_result"
    }
   ],
   "source": [
    "EM1DAnal.DiffusionDistnace(2e-6, 1e-2)/4."
   ]
  },
  {
   "cell_type": "code",
   "execution_count": 22,
   "metadata": {},
   "outputs": [
    {
     "data": {
      "text/plain": [
       "1261.56626101008"
      ]
     },
     "execution_count": 22,
     "metadata": {},
     "output_type": "execute_result"
    }
   ],
   "source": [
    "EM1DAnal.DiffusionDistnace(1e-2, 1e-2)"
   ]
  },
  {
   "cell_type": "code",
   "execution_count": 8,
   "metadata": {},
   "outputs": [
    {
     "data": {
      "text/plain": [
       "array([  0.        ,   5.        ,   5.86051149,   6.86911898,\n",
       "         8.05131014,   9.43695911,  11.06108146,  12.96471899,\n",
       "        15.19597691,  17.81123945,  20.87659468,  24.46950459,\n",
       "        28.68076255,  33.61678768,  39.40231408,  46.18354286,\n",
       "        54.13183669,  63.44805016,  74.36760536,  87.16644111,\n",
       "       102.16798589, 119.751331  , 140.3608102 , 164.51722812,\n",
       "       192.83102106, 226.01768282, 264.91584531, 310.50847095,\n",
       "       363.9476922 , 426.58392621, 500.        ])"
      ]
     },
     "execution_count": 8,
     "metadata": {},
     "output_type": "execute_result"
    }
   ],
   "source": [
    "np.r_[0., np.logspace(np.log10(5.), np.log10(500), 30)]"
   ]
  },
  {
   "cell_type": "code",
   "execution_count": 85,
   "metadata": {},
   "outputs": [
    {
     "data": {
      "text/plain": [
       "array([ 5. ,  5.4,  5.8,  6.3,  6.7,  7.3,  7.8,  8.4,  9.1,  9.8, 10.6,\n",
       "       11.4, 12.3, 13.2, 14.3, 15.4, 16.6, 17.9, 19.3, 20.8, 22.4, 24.1,\n",
       "       26. , 28. , 30.2, 32.5, 35.1, 37.8, 40.7])"
      ]
     },
     "execution_count": 85,
     "metadata": {},
     "output_type": "execute_result"
    }
   ],
   "source": [
    "np.r_[5, 5.4, 5.8, 6.3, 6.7, 7.3, 7.8, 8.4, 9.1, 9.8, 10.6, 11.4, 12.3, 13.2, 14.3, 15.4, 16.6, 17.9, 19.3, 20.8, 22.4, 24.1, 26, 28, 30.2, 32.5, 35.1, 37.8, 40.7]"
   ]
  },
  {
   "cell_type": "code",
   "execution_count": 89,
   "metadata": {},
   "outputs": [
    {
     "data": {
      "text/plain": [
       "array([ 5.        ,  5.37490566,  5.77792217,  6.21115731,  6.67687692,\n",
       "        7.17751671,  7.71569503,  8.29422658,  8.91613708,  9.58467913,\n",
       "       10.30334922, 11.075906  , 11.90638997, 12.79914457, 13.75883891,\n",
       "       14.79049223, 15.89950008, 17.09166259, 18.37321479, 19.75085923,\n",
       "       21.23180101, 22.82378548, 24.53513875, 26.37481123, 28.35242443,\n",
       "       30.4783213 , 32.76362033, 35.22027366, 37.86112965, 40.7       ])"
      ]
     },
     "execution_count": 89,
     "metadata": {},
     "output_type": "execute_result"
    }
   ],
   "source": [
    "np.logspace(np.log10(5), np.log10(40.7), 30)"
   ]
  },
  {
   "cell_type": "code",
   "execution_count": null,
   "metadata": {},
   "outputs": [],
   "source": [
    "n_sounding = 100000\n",
    "start = time.time()\n",
    "n_layer = 22\n",
    "mesh = Mesh.TensorMesh([n_sounding, n_layer])\n",
    "m = np.ones(mesh.nC)\n",
    "prob = GlobalEM1DProblem(mesh, sigmaMap=Maps.IdentityMap(mesh))\n",
    "pred = prob.forward(m)\n",
    "J = prob.getJ(m)\n",
    "Jtv = prob.Jtvec(m, np.ones(int(6*n_sounding)))\n",
    "Jv = prob.Jvec(m, m)\n",
    "end = time.time()\n",
    "print(end-start)"
   ]
  },
  {
   "cell_type": "code",
   "execution_count": 36,
   "metadata": {},
   "outputs": [
    {
     "data": {
      "text/plain": [
       "(60,)"
      ]
     },
     "execution_count": 36,
     "metadata": {},
     "output_type": "execute_result"
    }
   ],
   "source": [
    "Jv.shape"
   ]
  },
  {
   "cell_type": "code",
   "execution_count": 37,
   "metadata": {},
   "outputs": [
    {
     "data": {
      "text/plain": [
       "(220,)"
      ]
     },
     "execution_count": 37,
     "metadata": {},
     "output_type": "execute_result"
    }
   ],
   "source": [
    "Jtv.shape"
   ]
  },
  {
   "cell_type": "code",
   "execution_count": 38,
   "metadata": {},
   "outputs": [
    {
     "data": {
      "text/plain": [
       "12"
      ]
     },
     "execution_count": 38,
     "metadata": {},
     "output_type": "execute_result"
    }
   ],
   "source": [
    "prob.n_cpu"
   ]
  },
  {
   "cell_type": "code",
   "execution_count": 4,
   "metadata": {
    "collapsed": true
   },
   "outputs": [],
   "source": [
    "# def run_simulation(\n",
    "#     rxLoc, SrcLoc, mesh_1d, offset, frequency,\n",
    "#     field_type = 'secondary',\n",
    "#     rxType = 'Hz',\n",
    "#     srcType = 'VMD'\n",
    "# ):\n",
    "#     FDsurvey = EM1DSurveyFD()\n",
    "#     depth = -mesh1D.gridN[:-1]\n",
    "#     LocSigZ = -mesh1D.gridCC\n",
    "#     nlay = depth.size\n",
    "#     topo = np.r_[0., 0., 100.]\n",
    "#     FDsurvey.depth = depth\n",
    "#     FDsurvey.topo = topo\n",
    "#     FDsurvey.LocSigZ = LocSigZ\n",
    "#     FDsurvey.Nfreq = FDsurvey.frequency.size\n",
    "#     FDsurvey.Setup1Dsystem()\n",
    "#     FDsurvey.SetOffset()\n",
    "#     sig_half = 1e-4\n",
    "#     sig_blk = 1e-2\n",
    "#     chi_half = 0.\n",
    "#     expmap = Maps.ExpMap(mesh1D)\n",
    "#     sig  = np.ones(nlay)*sig_half\n",
    "#     blk_ind = (-50>LocSigZ) & (-100<LocSigZ)\n",
    "#     sig[blk_ind] = sig_blk\n",
    "#     m_true = np.log(sig)\n",
    "\n",
    "#     WT0, WT1, YBASE = DigFilter.LoadWeights()\n",
    "#     prob = EM1D(\n",
    "#         mesh1D, sigmaMap=expmap, filter_type='key_101',\n",
    "#         jacSwitch=True,\n",
    "#         chi= np.zeros(FDsurvey.nlay)\n",
    "#     )\n",
    "#     if prob.ispaired:\n",
    "#         prob.unpair()\n",
    "#     if FDsurvey.ispaired:\n",
    "#         FDsurvey.unpair()\n",
    "#     prob.pair(FDsurvey)    \n",
    "#     u, dudsig = prob.fields(m_true)\n",
    "#     resp = FDsurvey.projectFields(u)\n",
    "#     drespdsig = FDsurvey.projectFields(dudsig)\n",
    "#     return resp, drespdsig\n",
    "# !python run_em1d_multiprocessing.py"
   ]
  },
  {
   "cell_type": "code",
   "execution_count": null,
   "metadata": {
    "collapsed": true
   },
   "outputs": [],
   "source": []
  }
 ],
 "metadata": {
  "kernelspec": {
   "display_name": "Python 3",
   "language": "python",
   "name": "python3"
  },
  "language_info": {
   "codemirror_mode": {
    "name": "ipython",
    "version": 3
   },
   "file_extension": ".py",
   "mimetype": "text/x-python",
   "name": "python",
   "nbconvert_exporter": "python",
   "pygments_lexer": "ipython3",
   "version": "3.6.4"
  }
 },
 "nbformat": 4,
 "nbformat_minor": 1
}
