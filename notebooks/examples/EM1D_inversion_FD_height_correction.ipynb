{
 "cells": [
  {
   "cell_type": "code",
   "execution_count": 1,
   "metadata": {},
   "outputs": [],
   "source": [
    "from SimPEG import *\n",
    "from simpegEM1D import *\n",
    "from scipy.constants import mu_0\n",
    "import numpy as np\n",
    "\n",
    "sig_half = 1e-1\n",
    "sig_blk = 1e0\n",
    "\n",
    "# frequency = np.array([382, 1822, 7970, 35920, 130100], dtype=float)\n",
    "frequency = np.logspace(np.log10(382), np.log10(130100), 5)\n",
    "hz = get_vertical_discretization_frequency(frequency, sigma_background=sig_half)\n",
    "mesh1D = set_mesh_1d(hz)\n",
    "depth = -mesh1D.gridN[:-1]\n",
    "LocSigZ = -mesh1D.gridCC\n",
    "\n",
    "FDsurvey = EM1DSurveyFD(\n",
    "    rx_location = np.array([0., 0., 100.+30.]),\n",
    "    src_location = np.array([0., 0., 100.+30.]),\n",
    "    field_type = 'secondary',\n",
    "    rx_type = 'Hz',\n",
    "    src_type = 'VMD',\n",
    "    offset = np.ones(frequency.size)*7.86,\n",
    "    topo = np.r_[0., 0., 100.],\n",
    "    depth = depth,\n",
    "    frequency = frequency\n",
    ")\n",
    "\n",
    "chi_half = 0.\n",
    "wires = Maps.Wires(('sigma', mesh1D.nC),('h', 1))\n",
    "expmap = Maps.ExpMap(mesh1D)\n",
    "# expmap_h = Maps.ExpMap(nP=1)\n",
    "sigmaMap = expmap * wires.sigma\n",
    "# hMap = expmap_h*wires.h\n",
    "sig  = np.ones(FDsurvey.n_layer)*sig_half\n",
    "blk_ind = (-20>LocSigZ) & (-40<LocSigZ)\n",
    "sig[blk_ind] = sig_blk\n",
    "m_true = np.r_[np.log(sig), FDsurvey.h]\n",
    "m_true_dh = np.r_[np.log(sig), FDsurvey.h + 5.]\n",
    "dh = 0.01\n",
    "m_dx_p = np.r_[np.log(sig), FDsurvey.h+dh/2]\n",
    "m_dx_n = np.r_[np.log(sig), FDsurvey.h-dh/2]"
   ]
  },
  {
   "cell_type": "code",
   "execution_count": 2,
   "metadata": {},
   "outputs": [],
   "source": [
    "prob = EM1D(\n",
    "    mesh1D, sigmaMap=sigmaMap, hMap=wires.h,\n",
    "    chi= np.zeros(FDsurvey.n_layer)\n",
    ")\n",
    "if prob.ispaired:\n",
    "    prob.unpair()\n",
    "if FDsurvey.ispaired:\n",
    "    FDsurvey.unpair()\n",
    "prob.pair(FDsurvey)     \n",
    "d_true = FDsurvey.dpred(m_true)\n",
    "d_p = FDsurvey.dpred(m_dx_p)\n",
    "d_n = FDsurvey.dpred(m_dx_n)\n",
    "d_dh = FDsurvey.dpred(m_true_dh)"
   ]
  },
  {
   "cell_type": "code",
   "execution_count": 3,
   "metadata": {},
   "outputs": [
    {
     "data": {
      "text/plain": [
       "[<matplotlib.lines.Line2D at 0x1a16b62b38>]"
      ]
     },
     "execution_count": 3,
     "metadata": {},
     "output_type": "execute_result"
    },
    {
     "data": {
      "image/png": "[encoded data removed]",
      "text/plain": [
       "<Figure size 432x288 with 1 Axes>"
      ]
     },
     "metadata": {},
     "output_type": "display_data"
    }
   ],
   "source": [
    "J_h_diff = (d_p-d_n) / (dh)\n",
    "plt.plot(J_h_diff, 'k')\n",
    "plt.plot(prob.getJ_height(m_true), 'bx')"
   ]
  },
  {
   "cell_type": "code",
   "execution_count": 4,
   "metadata": {},
   "outputs": [
    {
     "data": {
      "image/png": "[encoded data removed]",
      "text/plain": [
       "<Figure size 504x360 with 1 Axes>"
      ]
     },
     "metadata": {},
     "output_type": "display_data"
    }
   ],
   "source": [
    "fig, axes = plt.subplots(1,1, figsize = (7,5))\n",
    "axes.plot(FDsurvey.frequency, -d_true[0:FDsurvey.n_frequency], 'k.-')\n",
    "axes.plot(FDsurvey.frequency, -d_true[FDsurvey.n_frequency:], 'b.-')\n",
    "axes.plot(FDsurvey.frequency, -d_dh[0:FDsurvey.n_frequency], 'kx')\n",
    "axes.plot(FDsurvey.frequency, -d_dh[FDsurvey.n_frequency:], 'bx')\n",
    "axes.set_xscale('log')"
   ]
  },
  {
   "cell_type": "code",
   "execution_count": 5,
   "metadata": {},
   "outputs": [],
   "source": [
    "# prob.get_threshold(uncert)"
   ]
  },
  {
   "cell_type": "code",
   "execution_count": 6,
   "metadata": {},
   "outputs": [],
   "source": [
    "from SimPEG import Regularization"
   ]
  },
  {
   "cell_type": "code",
   "execution_count": 7,
   "metadata": {
    "scrolled": false
   },
   "outputs": [
    {
     "name": "stdout",
     "output_type": "stream",
     "text": [
      "SimPEG.DataMisfit.l2_DataMisfit assigning default eps of 1e-5 * ||dobs||\n",
      "SimPEG.InvProblem will set Regularization.mref to m0.\n",
      "SimPEG.InvProblem will set Regularization.mref to m0.\n",
      "\n",
      "    SimPEG.InvProblem is setting bfgsH0 to the inverse of the eval2Deriv.\n",
      "    ***Done using same Solver and solverOpts as the problem***\n",
      "model has any nan: 0\n",
      "=============================== Projected GNCG ===============================\n",
      "  #     beta     phi_d     phi_m       f      |proj(x-g)-x|  LS    Comment   \n",
      "-----------------------------------------------------------------------------\n",
      "x0 has any nan: 0\n",
      "   0  2.46e+00  1.49e+02  0.00e+00  1.49e+02    4.34e+01      0              \n"
     ]
    },
    {
     "name": "stderr",
     "output_type": "stream",
     "text": [
      "/Users/sgkang/Projects/simpeg/SimPEG/Directives.py:903: UserWarning: Without a Linear preconditioner, convergence may be slow. Consider adding `Directives.UpdatePreconditioner` to your directives list\n",
      "  \"Without a Linear preconditioner, convergence may be slow. \"\n"
     ]
    },
    {
     "name": "stdout",
     "output_type": "stream",
     "text": [
      "   1  2.46e+00  3.02e+01  5.25e+00  4.31e+01    5.67e+01      0              \n",
      "   2  2.46e+00  5.07e+00  8.48e+00  2.59e+01    8.40e+00      0              \n",
      "Reached starting chifact with l2-norm regularization: Start IRLS steps...\n",
      "eps_p: 3.891050683436088 eps_q: 3.891050683436088\n",
      "eps_p: 3.891050683436088 eps_q: 3.891050683436088\n",
      ">> Fix Jmatrix\n",
      "Eps_p: 3.24254223619674\n",
      "Eps_q: 3.24254223619674\n",
      "Eps_p: 3.24254223619674\n",
      "Eps_q: 3.24254223619674\n",
      "delta phim:    inf\n",
      "   3  2.46e+00  3.97e+00  8.79e+00  2.56e+01    2.27e+00      0   Skip BFGS  \n",
      ">> Fix Jmatrix\n",
      "Eps_p: 2.70211853016395\n",
      "Eps_q: 2.70211853016395\n",
      "Eps_p: 2.70211853016395\n",
      "Eps_q: 2.70211853016395\n",
      "delta phim: 6.735e-01\n",
      "   4  3.84e+00  4.47e+00  9.20e+00  3.98e+01    8.65e+00      0              \n",
      ">> Fix Jmatrix\n",
      "Eps_p: 2.251765441803292\n",
      "Eps_q: 2.251765441803292\n",
      "Eps_p: 2.251765441803292\n",
      "Eps_q: 2.251765441803292\n",
      "delta phim: 5.948e-02\n",
      "   5  2.14e+00  8.13e+00  8.80e+00  2.70e+01    4.77e+00      0              \n",
      ">> Fix Jmatrix\n",
      "Eps_p: 1.8764712015027434\n",
      "Eps_q: 1.8764712015027434\n",
      "Eps_p: 1.8764712015027434\n",
      "Eps_q: 1.8764712015027434\n",
      "delta phim: 6.839e-02\n",
      "   6  1.50e+00  5.52e+00  1.05e+01  2.13e+01    2.20e+00      0              \n",
      ">> Fix Jmatrix\n",
      "Eps_p: 1.5637260012522862\n",
      "Eps_q: 1.5637260012522862\n",
      "Eps_p: 1.5637260012522862\n",
      "Eps_q: 1.5637260012522862\n",
      "delta phim: 1.465e-01\n",
      "   7  2.43e+00  4.04e+00  1.29e+01  3.55e+01    4.69e+00      0   Skip BFGS  \n",
      ">> Fix Jmatrix\n",
      "Eps_p: 1.3031050010435719\n",
      "Eps_q: 1.3031050010435719\n",
      "Eps_p: 1.3031050010435719\n",
      "Eps_q: 1.3031050010435719\n",
      "delta phim: 1.389e-01\n",
      "   8  1.54e+00  6.49e+00  1.01e+01  2.21e+01    3.87e+00      0              \n",
      ">> Fix Jmatrix\n",
      "Eps_p: 1.0859208342029767\n",
      "Eps_q: 1.0859208342029767\n",
      "Eps_p: 1.0859208342029767\n",
      "Eps_q: 1.0859208342029767\n",
      "delta phim: 5.765e-02\n",
      "   9  2.47e+00  4.17e+00  1.31e+01  3.65e+01    5.52e+00      0              \n",
      ">> Fix Jmatrix\n",
      "Eps_p: 0.9049340285024806\n",
      "Eps_q: 0.9049340285024806\n",
      "Eps_p: 0.9049340285024806\n",
      "Eps_q: 0.9049340285024806\n",
      "delta phim: 1.586e-01\n",
      "  10  1.54e+00  6.71e+00  1.06e+01  2.31e+01    4.40e+00      0              \n",
      ">> Fix Jmatrix\n",
      "Eps_p: 0.7541116904187338\n",
      "Eps_q: 0.7541116904187338\n",
      "Eps_p: 0.7541116904187338\n",
      "Eps_q: 0.7541116904187338\n",
      "delta phim: 5.127e-02\n",
      "  11  2.40e+00  4.48e+00  1.33e+01  3.63e+01    5.48e+00      0              \n",
      ">> Fix Jmatrix\n",
      "Eps_p: 0.6284264086822782\n",
      "Eps_q: 0.6284264086822782\n",
      "Eps_p: 0.6284264086822782\n",
      "Eps_q: 0.6284264086822782\n",
      "delta phim: 1.391e-01\n",
      "  12  1.50e+00  6.64e+00  1.09e+01  2.30e+01    4.14e+00      0              \n",
      ">> Fix Jmatrix\n",
      "Eps_p: 0.5236886739018985\n",
      "Eps_q: 0.5236886739018985\n",
      "Eps_p: 0.5236886739018985\n",
      "Eps_q: 0.5236886739018985\n",
      "delta phim: 3.559e-02\n",
      "  13  1.50e+00  4.68e+00  1.27e+01  2.37e+01    1.12e+00      0              \n",
      ">> Fix Jmatrix\n",
      "Eps_p: 0.4364072282515821\n",
      "Eps_q: 0.4364072282515821\n",
      "Eps_p: 0.4364072282515821\n",
      "Eps_q: 0.4364072282515821\n",
      "delta phim: 1.010e-01\n",
      "  14  1.50e+00  4.65e+00  1.23e+01  2.32e+01    1.43e+00      2   Skip BFGS  \n",
      ">> Fix Jmatrix\n",
      "Eps_p: 0.36367269020965176\n",
      "Eps_q: 0.36367269020965176\n",
      "Eps_p: 0.36367269020965176\n",
      "Eps_q: 0.36367269020965176\n",
      "delta phim: 3.061e-02\n",
      "  15  2.34e+00  4.49e+00  1.21e+01  3.27e+01    5.01e+00      0              \n",
      ">> Fix Jmatrix\n",
      "Eps_p: 0.3030605751747098\n",
      "Eps_q: 0.3030605751747098\n",
      "Eps_p: 0.3030605751747098\n",
      "Eps_q: 0.3030605751747098\n",
      "delta phim: 2.959e-02\n",
      "  16  1.46e+00  6.67e+00  1.04e+01  2.19e+01    2.95e+00      0              \n",
      ">> Fix Jmatrix\n",
      "Eps_p: 0.25255047931225816\n",
      "Eps_q: 0.25255047931225816\n",
      "Eps_p: 0.25255047931225816\n",
      "Eps_q: 0.25255047931225816\n",
      "delta phim: 5.246e-02\n",
      "  17  1.46e+00  4.57e+00  1.14e+01  2.13e+01    1.09e+00      0              \n",
      ">> Fix Jmatrix\n",
      "Eps_p: 0.21045873276021515\n",
      "Eps_q: 0.21045873276021515\n",
      "Eps_p: 0.21045873276021515\n",
      "Eps_q: 0.21045873276021515\n",
      "delta phim: 8.401e-02\n",
      "  18  2.29e+00  4.39e+00  1.12e+01  3.02e+01    4.03e+00      0              \n",
      ">> Fix Jmatrix\n",
      "Eps_p: 0.1753822773001793\n",
      "Eps_q: 0.1753822773001793\n",
      "Eps_p: 0.1753822773001793\n",
      "Eps_q: 0.1753822773001793\n",
      "delta phim: 1.771e-02\n",
      "  19  2.29e+00  4.78e+00  1.08e+01  2.97e+01    2.97e+00      0              \n",
      ">> Fix Jmatrix\n",
      "Eps_p: 0.14615189775014942\n",
      "Eps_q: 0.14615189775014942\n",
      "Eps_p: 0.14615189775014942\n",
      "Eps_q: 0.14615189775014942\n",
      "delta phim: 1.693e-03\n",
      "Minimum decrease in regularization. End of IRLS\n",
      "------------------------- STOP! -------------------------\n",
      "1 : |fc-fOld| = 0.0000e+00 <= tolF*(1+|f0|) = 1.5048e+01\n",
      "1 : |xc-x_last| = 1.7408e-01 <= tolX*(1+|x0|) = 3.7411e+00\n",
      "0 : |proj(x-g)-x|    = 2.9652e+00 <= tolG          = 1.0000e-01\n",
      "0 : |proj(x-g)-x|    = 2.9652e+00 <= 1e3*eps       = 1.0000e-02\n",
      "0 : maxIter   =      40    <= iter          =     20\n",
      "------------------------- DONE! -------------------------\n"
     ]
    }
   ],
   "source": [
    "FDsurvey.dtrue = d_true\n",
    "std = 0.07\n",
    "floor = 0.\n",
    "np.random.seed(1)\n",
    "uncert = std*abs(FDsurvey.dtrue)+floor\n",
    "noise = std*FDsurvey.dtrue*np.random.randn(FDsurvey.dtrue.size)\n",
    "FDsurvey.dobs = FDsurvey.dtrue+noise\n",
    "dmisfit = DataMisfit.l2_DataMisfit(FDsurvey)\n",
    "dmisfit.W = 1./(abs(FDsurvey.dobs)*std+floor)\n",
    "m0 = np.r_[np.log(np.ones_like(sig)*sig_half), 35.]\n",
    "reg_sigma = Regularization.Sparse(\n",
    "    mesh1D, mapping=wires.sigma\n",
    ")\n",
    "p=0.\n",
    "qx, qz = 1., 1.\n",
    "reg_sigma.norms = np.c_[p, qx, qz, 0.]\n",
    "IRLS = Directives.Update_IRLS(\n",
    "    maxIRLSiter=20, minGNiter=1, fix_Jmatrix=True, coolingRate=2, \n",
    "    betaSearch=False,\n",
    "    chifact_start = 1.\n",
    ")\n",
    "mesh_h = Mesh.TensorMesh([1])\n",
    "reg_h = Regularization.Sparse(\n",
    "    mesh_h, mapping=wires.h, \n",
    "    alpha_s = 1.\n",
    ")\n",
    "reg = reg_sigma + reg_h\n",
    "opt = Optimization.ProjectedGNCG(maxIter = 40)\n",
    "opt.maxIterLS = 5\n",
    "invProb = InvProblem.BaseInvProblem(dmisfit, reg, opt)\n",
    "beta = Directives.BetaSchedule(coolingFactor=2, coolingRate=2)\n",
    "betaest = Directives.BetaEstimate_ByEig(beta0_ratio=1.)\n",
    "target = Directives.TargetMisfit()\n",
    "update_sense = Directives.UpdateSensitivityWeights()\n",
    "# inv = Inversion.BaseInversion(invProb, directiveList=[beta,betaest,target,update_sense])\n",
    "inv = Inversion.BaseInversion(invProb, directiveList=[IRLS,betaest,update_sense])\n",
    "# inv = Inversion.BaseInversion(invProb, directiveList=[IRLS])\n",
    "\n",
    "prob.counter = opt.counter = Utils.Counter()\n",
    "opt.LSshorten = 0.5\n",
    "opt.remember('xc')\n",
    "mopt = inv.run(m0)"
   ]
  },
  {
   "cell_type": "code",
   "execution_count": 8,
   "metadata": {},
   "outputs": [
    {
     "name": "stdout",
     "output_type": "stream",
     "text": [
      "[35.]\n",
      "[30.73028161]\n",
      "30.0\n"
     ]
    }
   ],
   "source": [
    "print (wires.h*m0)\n",
    "print (wires.h*mopt)\n",
    "print (FDsurvey.h)"
   ]
  },
  {
   "cell_type": "code",
   "execution_count": 10,
   "metadata": {},
   "outputs": [
    {
     "name": "stdout",
     "output_type": "stream",
     "text": [
      "Populating the interactive namespace from numpy and matplotlib\n"
     ]
    },
    {
     "data": {
      "text/plain": [
       "[<matplotlib.lines.Line2D at 0x1a16cec7b8>]"
      ]
     },
     "execution_count": 10,
     "metadata": {},
     "output_type": "execute_result"
    },
    {
     "data": {
      "image/png": "[encoded data removed]",
      "text/plain": [
       "<Figure size 360x576 with 1 Axes>"
      ]
     },
     "metadata": {},
     "output_type": "display_data"
    }
   ],
   "source": [
    "%pylab inline\n",
    "fig, ax = subplots(1,1, figsize=(5, 8))\n",
    "Utils1D.plotLayer(sig, mesh1D, showlayers=False)\n",
    "Utils1D.plotLayer(sigmaMap*mopt, mesh1D, showlayers=True, **{'color':'r'})\n",
    "# Utils1D.plotLayer(sigmaMap*invProb.l2model, LocSigZ, showlayers=True,**{'color':'g'})"
   ]
  },
  {
   "cell_type": "code",
   "execution_count": 11,
   "metadata": {},
   "outputs": [
    {
     "data": {
      "image/png": "[encoded data removed]",
      "text/plain": [
       "<Figure size 504x360 with 1 Axes>"
      ]
     },
     "metadata": {},
     "output_type": "display_data"
    }
   ],
   "source": [
    "fig, axes = subplots(1,1, figsize = (7,5))\n",
    "axes.plot(FDsurvey.frequency, -d_true[0:FDsurvey.n_frequency], 'k.-')\n",
    "axes.plot(FDsurvey.frequency, -d_true[FDsurvey.n_frequency:], 'b.-')\n",
    "axes.plot(FDsurvey.frequency, -FDsurvey.dobs[0:FDsurvey.n_frequency], 'ko')\n",
    "axes.plot(FDsurvey.frequency, -FDsurvey.dobs[FDsurvey.n_frequency:], 'bo')\n",
    "# axes.plot(FDsurvey.frequency, uncert[0:FDsurvey.n_frequency], 'k*')\n",
    "# axes.plot(FDsurvey.frequency, uncert[FDsurvey.n_frequency:], 'r*')\n",
    "axes.set_xscale('log')"
   ]
  }
 ],
 "metadata": {
  "kernelspec": {
   "display_name": "Python 3",
   "language": "python",
   "name": "python3"
  }
 },
 "nbformat": 4,
 "nbformat_minor": 1
}
