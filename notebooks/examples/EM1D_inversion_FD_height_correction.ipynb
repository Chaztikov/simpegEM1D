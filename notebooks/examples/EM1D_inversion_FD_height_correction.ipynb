{
 "cells": [
  {
   "cell_type": "code",
   "execution_count": 1,
   "metadata": {},
   "outputs": [],
   "source": [
    "from SimPEG import *\n",
    "from simpegEM1D import *\n",
    "from scipy.constants import mu_0\n",
    "import numpy as np\n",
    "\n",
    "sig_half = 1e-1\n",
    "sig_blk = 1e0\n",
    "\n",
    "# frequency = np.array([382, 1822, 7970, 35920, 130100], dtype=float)\n",
    "frequency = np.logspace(np.log10(382), np.log10(130100), 5)\n",
    "hz = get_vertical_discretization_frequency(frequency, sigma_background=sig_half)\n",
    "mesh1D = set_mesh_1d(hz)\n",
    "depth = -mesh1D.gridN[:-1]\n",
    "LocSigZ = -mesh1D.gridCC\n",
    "\n",
    "FDsurvey = EM1DSurveyFD(\n",
    "    rx_location = np.array([0., 0., 100.+30.]),\n",
    "    src_location = np.array([0., 0., 100.+30.]),\n",
    "    field_type = 'secondary',\n",
    "    rx_type = 'ppm',\n",
    "    src_type = 'VMD',\n",
    "    offset = np.ones(frequency.size)*7.86,\n",
    "    topo = np.r_[0., 0., 100.],\n",
    "    depth = depth,\n",
    "    frequency = frequency\n",
    ")\n",
    "\n",
    "chi_half = 0.\n",
    "wires = Maps.Wires(('sigma', mesh1D.nC),('h', 1))\n",
    "expmap = Maps.ExpMap(mesh1D)\n",
    "# expmap_h = Maps.ExpMap(nP=1)\n",
    "sigmaMap = expmap * wires.sigma\n",
    "# hMap = expmap_h*wires.h\n",
    "sig  = np.ones(FDsurvey.n_layer)*sig_half\n",
    "blk_ind = (-20>LocSigZ) & (-40<LocSigZ)\n",
    "sig[blk_ind] = sig_blk\n",
    "m_true = np.r_[np.log(sig), FDsurvey.h]\n",
    "m_true_dh = np.r_[np.log(sig), FDsurvey.h + 5.]\n",
    "dh = 0.01\n",
    "m_dx_p = np.r_[np.log(sig), FDsurvey.h+dh/2]\n",
    "m_dx_n = np.r_[np.log(sig), FDsurvey.h-dh/2]"
   ]
  },
  {
   "cell_type": "code",
   "execution_count": 2,
   "metadata": {},
   "outputs": [],
   "source": [
    "prob = EM1D(\n",
    "    mesh1D, sigmaMap=sigmaMap, hMap=wires.h,\n",
    "    chi= np.zeros(FDsurvey.n_layer)\n",
    ")\n",
    "if prob.ispaired:\n",
    "    prob.unpair()\n",
    "if FDsurvey.ispaired:\n",
    "    FDsurvey.unpair()\n",
    "prob.pair(FDsurvey)     \n",
    "d_true = FDsurvey.dpred(m_true)\n",
    "d_p = FDsurvey.dpred(m_dx_p)\n",
    "d_n = FDsurvey.dpred(m_dx_n)\n",
    "d_dh = FDsurvey.dpred(m_true_dh)"
   ]
  },
  {
   "cell_type": "code",
   "execution_count": 3,
   "metadata": {},
   "outputs": [
    {
     "data": {
      "text/plain": [
       "[<matplotlib.lines.Line2D at 0x1a1f4b0f60>]"
      ]
     },
     "execution_count": 3,
     "metadata": {},
     "output_type": "execute_result"
    },
    {
     "data": {
      "image/png": "[encoded data removed]",
      "text/plain": [
       "<Figure size 432x288 with 1 Axes>"
      ]
     },
     "metadata": {
      "needs_background": "light"
     },
     "output_type": "display_data"
    }
   ],
   "source": [
    "J_h_diff = (d_p-d_n) / (dh)\n",
    "plt.plot(J_h_diff, 'k')\n",
    "plt.plot(prob.getJ_height(m_true), 'bx')"
   ]
  },
  {
   "cell_type": "code",
   "execution_count": 4,
   "metadata": {},
   "outputs": [
    {
     "data": {
      "text/plain": [
       "(10, 1)"
      ]
     },
     "execution_count": 4,
     "metadata": {},
     "output_type": "execute_result"
    }
   ],
   "source": [
    "prob.getJ_height(m_true).shape"
   ]
  },
  {
   "cell_type": "code",
   "execution_count": 5,
   "metadata": {},
   "outputs": [],
   "source": [
    "a = np.random.randn(4,3)"
   ]
  },
  {
   "cell_type": "code",
   "execution_count": 6,
   "metadata": {},
   "outputs": [],
   "source": [
    "b = np.r_[1, 2, 3, 4]"
   ]
  },
  {
   "cell_type": "code",
   "execution_count": 7,
   "metadata": {},
   "outputs": [
    {
     "data": {
      "text/plain": [
       "array([[-0.22516865,  0.14661764, -0.50833186],\n",
       "       [-1.39144161, -4.84008682,  0.81623902],\n",
       "       [-6.87023951,  0.91386257,  0.97795281],\n",
       "       [-7.16957708, -9.69295809,  8.22588396]])"
      ]
     },
     "execution_count": 7,
     "metadata": {},
     "output_type": "execute_result"
    }
   ],
   "source": [
    "Utils.sdiag(b) * a"
   ]
  },
  {
   "cell_type": "code",
   "execution_count": 8,
   "metadata": {},
   "outputs": [
    {
     "data": {
      "text/plain": [
       "array([-0.00016388, -0.00016388, -0.00016388, -0.00016388, -0.00016388])"
      ]
     },
     "execution_count": 8,
     "metadata": {},
     "output_type": "execute_result"
    }
   ],
   "source": [
    "FDsurvey.hz_primary"
   ]
  },
  {
   "cell_type": "code",
   "execution_count": 9,
   "metadata": {},
   "outputs": [],
   "source": [
    "bp = -1/(4*np.pi*7.86**3)  # primary magnetic field"
   ]
  },
  {
   "cell_type": "code",
   "execution_count": 10,
   "metadata": {},
   "outputs": [
    {
     "data": {
      "image/png": "[encoded data removed]",
      "text/plain": [
       "<Figure size 504x360 with 1 Axes>"
      ]
     },
     "metadata": {
      "needs_background": "light"
     },
     "output_type": "display_data"
    }
   ],
   "source": [
    "fig, axes = plt.subplots(1,1, figsize = (7,5))\n",
    "axes.plot(FDsurvey.frequency, d_true[0:FDsurvey.n_frequency], 'k.-')\n",
    "axes.plot(FDsurvey.frequency, d_true[FDsurvey.n_frequency:], 'b.-')\n",
    "axes.plot(FDsurvey.frequency, d_dh[0:FDsurvey.n_frequency], 'kx')\n",
    "axes.plot(FDsurvey.frequency, d_dh[FDsurvey.n_frequency:], 'bx')\n",
    "axes.set_xscale('log')"
   ]
  },
  {
   "cell_type": "code",
   "execution_count": 11,
   "metadata": {},
   "outputs": [
    {
     "data": {
      "text/plain": [
       "array([ 410.6240368 ,  761.99150109, 1385.3320077 , 2560.0056476 ,\n",
       "       3383.10707969,  381.79766691,  516.81177846,  934.45613198,\n",
       "       1008.70205215,  677.02365692])"
      ]
     },
     "execution_count": 11,
     "metadata": {},
     "output_type": "execute_result"
    }
   ],
   "source": [
    "d_true"
   ]
  },
  {
   "cell_type": "code",
   "execution_count": 12,
   "metadata": {},
   "outputs": [
    {
     "data": {
      "text/plain": [
       "[<matplotlib.lines.Line2D at 0x1a1f6de048>]"
      ]
     },
     "execution_count": 12,
     "metadata": {},
     "output_type": "execute_result"
    },
    {
     "data": {
      "image/png": "[encoded data removed]",
      "text/plain": [
       "<Figure size 504x360 with 1 Axes>"
      ]
     },
     "metadata": {
      "needs_background": "light"
     },
     "output_type": "display_data"
    }
   ],
   "source": [
    "fig, axes = plt.subplots(1,1, figsize = (7,5))\n",
    "axes.plot(FDsurvey.frequency, d_true[0:FDsurvey.n_frequency]/bp *1e6, 'k.-')"
   ]
  },
  {
   "cell_type": "code",
   "execution_count": 13,
   "metadata": {},
   "outputs": [],
   "source": [
    "# prob.get_threshold(uncert)"
   ]
  },
  {
   "cell_type": "code",
   "execution_count": 14,
   "metadata": {},
   "outputs": [],
   "source": [
    "from SimPEG import Regularization"
   ]
  },
  {
   "cell_type": "code",
   "execution_count": 15,
   "metadata": {
    "scrolled": false
   },
   "outputs": [
    {
     "name": "stdout",
     "output_type": "stream",
     "text": [
      "SimPEG.DataMisfit.l2_DataMisfit assigning default eps of 1e-5 * ||dobs||\n",
      "SimPEG.InvProblem will set Regularization.mref to m0.\n",
      "SimPEG.InvProblem will set Regularization.mref to m0.\n",
      "\n",
      "    SimPEG.InvProblem is setting bfgsH0 to the inverse of the eval2Deriv.\n",
      "    ***Done using same Solver and solverOpts as the problem***\n",
      "model has any nan: 0\n",
      "=============================== Projected GNCG ===============================\n",
      "  #     beta     phi_d     phi_m       f      |proj(x-g)-x|  LS    Comment   \n",
      "-----------------------------------------------------------------------------\n",
      "x0 has any nan: 0\n",
      "   0  2.46e+00  1.49e+02  0.00e+00  1.49e+02    4.34e+01      0              \n",
      "   1  2.46e+00  3.86e+01  1.05e+01  6.44e+01    3.45e+01      0              \n",
      "   2  1.23e+00  2.53e+01  1.16e+01  3.96e+01    8.63e+00      0              \n",
      "   3  1.23e+00  1.17e+01  1.73e+01  3.30e+01    3.38e+00      0              \n",
      "   4  6.15e-01  8.84e+00  1.90e+01  2.06e+01    4.88e+00      0   Skip BFGS  \n",
      "------------------------- STOP! -------------------------\n",
      "1 : |fc-fOld| = 0.0000e+00 <= tolF*(1+|f0|) = 1.5048e+01\n",
      "1 : |xc-x_last| = 8.2422e-01 <= tolX*(1+|x0|) = 3.7411e+00\n",
      "0 : |proj(x-g)-x|    = 4.8801e+00 <= tolG          = 1.0000e-01\n",
      "0 : |proj(x-g)-x|    = 4.8801e+00 <= 1e3*eps       = 1.0000e-02\n",
      "0 : maxIter   =      40    <= iter          =      5\n",
      "------------------------- DONE! -------------------------\n"
     ]
    }
   ],
   "source": [
    "FDsurvey.dtrue = d_true\n",
    "std = 0.07\n",
    "floor = 0.\n",
    "np.random.seed(1)\n",
    "uncert = std*abs(FDsurvey.dtrue)+floor\n",
    "noise = std*FDsurvey.dtrue*np.random.randn(FDsurvey.dtrue.size)\n",
    "FDsurvey.dobs = FDsurvey.dtrue+noise\n",
    "dmisfit = DataMisfit.l2_DataMisfit(FDsurvey)\n",
    "dmisfit.W = 1./(abs(FDsurvey.dobs)*std+floor)\n",
    "m0 = np.r_[np.log(np.ones_like(sig)*sig_half), 35.]\n",
    "reg_sigma = Regularization.Sparse(\n",
    "    mesh1D, mapping=wires.sigma\n",
    ")\n",
    "p=0.\n",
    "qx, qz = 1., 1.\n",
    "reg_sigma.norms = np.c_[p, qx, qz, 0.]\n",
    "IRLS = Directives.Update_IRLS(\n",
    "    maxIRLSiter=20, minGNiter=1, fix_Jmatrix=True, coolingRate=2, \n",
    "    betaSearch=False,\n",
    "    chifact_start = 1.\n",
    ")\n",
    "mesh_h = Mesh.TensorMesh([1])\n",
    "reg_h = Regularization.Sparse(\n",
    "    mesh_h, mapping=wires.h, \n",
    "    alpha_s = 1.\n",
    ")\n",
    "reg = reg_sigma + reg_h\n",
    "opt = Optimization.ProjectedGNCG(maxIter = 40)\n",
    "opt.maxIterLS = 5\n",
    "invProb = InvProblem.BaseInvProblem(dmisfit, reg, opt)\n",
    "beta = Directives.BetaSchedule(coolingFactor=2, coolingRate=2)\n",
    "betaest = Directives.BetaEstimate_ByEig(beta0_ratio=1.)\n",
    "target = Directives.TargetMisfit()\n",
    "update_sense = Directives.UpdateSensitivityWeights()\n",
    "inv = Inversion.BaseInversion(invProb, directiveList=[beta,betaest,target])\n",
    "# inv = Inversion.BaseInversion(invProb, directiveList=[IRLS,betaest])\n",
    "# inv = Inversion.BaseInversion(invProb, directiveList=[IRLS])\n",
    "\n",
    "prob.counter = opt.counter = Utils.Counter()\n",
    "opt.LSshorten = 0.5\n",
    "opt.remember('xc')\n",
    "mopt = inv.run(m0)"
   ]
  },
  {
   "cell_type": "code",
   "execution_count": 16,
   "metadata": {},
   "outputs": [
    {
     "name": "stdout",
     "output_type": "stream",
     "text": [
      "[35.]\n",
      "[30.94085356]\n",
      "30.0\n"
     ]
    }
   ],
   "source": [
    "print (wires.h*m0)\n",
    "print (wires.h*mopt)\n",
    "print (FDsurvey.h)"
   ]
  },
  {
   "cell_type": "code",
   "execution_count": 17,
   "metadata": {},
   "outputs": [
    {
     "name": "stdout",
     "output_type": "stream",
     "text": [
      "Populating the interactive namespace from numpy and matplotlib\n"
     ]
    },
    {
     "name": "stderr",
     "output_type": "stream",
     "text": [
      "/Users/sgkang/anaconda3/lib/python3.6/site-packages/IPython/core/magics/pylab.py:160: UserWarning: pylab import has clobbered these variables: ['axes', 'inv', 'erf', 'std', 'floor', 'beta', 'pi']\n",
      "`%matplotlib` prevents importing * from pylab and numpy\n",
      "  \"\\n`%matplotlib` prevents importing * from pylab and numpy\"\n"
     ]
    },
    {
     "data": {
      "text/plain": [
       "[<matplotlib.lines.Line2D at 0xb1dd3fba8>]"
      ]
     },
     "execution_count": 17,
     "metadata": {},
     "output_type": "execute_result"
    },
    {
     "data": {
      "image/png": "[encoded data removed]",
      "text/plain": [
       "<Figure size 360x576 with 1 Axes>"
      ]
     },
     "metadata": {
      "needs_background": "light"
     },
     "output_type": "display_data"
    }
   ],
   "source": [
    "%pylab inline\n",
    "fig, ax = subplots(1,1, figsize=(5, 8))\n",
    "Utils1D.plotLayer(sig, mesh1D, showlayers=False)\n",
    "Utils1D.plotLayer(sigmaMap*mopt, mesh1D, showlayers=True, **{'color':'r'})\n",
    "# Utils1D.plotLayer(sigmaMap*invProb.l2model, LocSigZ, showlayers=True,**{'color':'g'})"
   ]
  },
  {
   "cell_type": "code",
   "execution_count": 18,
   "metadata": {},
   "outputs": [
    {
     "data": {
      "text/plain": [
       "<bound method Axes.set_xlabel of <matplotlib.axes._subplots.AxesSubplot object at 0x1a1f5e61d0>>"
      ]
     },
     "execution_count": 18,
     "metadata": {},
     "output_type": "execute_result"
    },
    {
     "data": {
      "image/png": "[encoded data removed]",
      "text/plain": [
       "<Figure size 504x360 with 1 Axes>"
      ]
     },
     "metadata": {
      "needs_background": "light"
     },
     "output_type": "display_data"
    }
   ],
   "source": [
    "fig, axes = subplots(1,1, figsize = (7,5))\n",
    "axes.plot(FDsurvey.frequency, d_true[0:FDsurvey.n_frequency], 'k.-')\n",
    "axes.plot(FDsurvey.frequency, d_true[FDsurvey.n_frequency:], 'b.-')\n",
    "# axes.plot(FDsurvey.frequency, FDsurvey.dobs[0:FDsurvey.n_frequency], 'ko')\n",
    "# axes.plot(FDsurvey.frequency, FDsurvey.dobs[FDsurvey.n_frequency:], 'bo')\n",
    "axes.set_xscale('log')\n",
    "axes.set_xlabel"
   ]
  },
  {
   "cell_type": "code",
   "execution_count": null,
   "metadata": {},
   "outputs": [],
   "source": []
  },
  {
   "cell_type": "code",
   "execution_count": null,
   "metadata": {},
   "outputs": [],
   "source": []
  }
 ],
 "metadata": {
  "kernelspec": {
   "display_name": "Python 3",
   "language": "python",
   "name": "python3"
  },
  "language_info": {
   "codemirror_mode": {
    "name": "ipython",
    "version": 3
   },
   "file_extension": ".py",
   "mimetype": "text/x-python",
   "name": "python",
   "nbconvert_exporter": "python",
   "pygments_lexer": "ipython3",
   "version": "3.6.6"
  }
 },
 "nbformat": 4,
 "nbformat_minor": 1
}
