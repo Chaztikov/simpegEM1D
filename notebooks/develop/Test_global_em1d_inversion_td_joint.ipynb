{
 "cells": [
  {
   "cell_type": "code",
   "execution_count": 1,
   "metadata": {},
   "outputs": [],
   "source": [
    "from SimPEG import Mesh, Maps\n",
    "import numpy as np\n",
    "from matplotlib.colors import LogNorm\n",
    "from simpegem1d import (\n",
    "    GlobalEM1DProblemTD, GlobalEM1DSurveyTD, get_vertical_discretization_time, EM1DSurveyTD\n",
    ")\n",
    "from pymatsolver import PardisoSolver\n",
    "def get_geotem_wave(pulse_period, n_segment=3):\n",
    "    t = 0.\n",
    "    T = pulse_period\n",
    "    time_input_currents = np.r_[0., T/2., np.linspace(3*T/4., T, n_segment)]\n",
    "    input_currents = np.sin(np.pi/T*time_input_currents)\n",
    "    return time_input_currents, input_currents\n",
    "\n",
    "def get_nanotem_wave(ramp_off_time, ntime=None):\n",
    "    time_input_currents = np.r_[0, ramp_off_time]\n",
    "    input_currents = np.r_[1, 0.]    \n",
    "    return time_input_currents, input_currents\n",
    "\n",
    "time_input_currents_geotem, input_currents_geotem = get_geotem_wave(4096*1e-6)\n",
    "ramp_off_time = 5e-6\n",
    "time_input_currents_nanotem, input_currents_nanotem = get_nanotem_wave(ramp_off_time)\n",
    "time_geotem = np.logspace(-4, -2, 10)\n",
    "time_nanotem = np.logspace(-6, -4, 15)\n",
    "hz = get_vertical_discretization_time(np.r_[time_geotem, time_nanotem], facter_tmax=0.5, factor_tmin=10., sigma_background=1./15.)"
   ]
  },
  {
   "cell_type": "code",
   "execution_count": 2,
   "metadata": {},
   "outputs": [],
   "source": [
    "from scipy.spatial import Delaunay\n",
    "def PolygonInd(mesh, pts):\n",
    "    hull = Delaunay(pts)\n",
    "    inds = hull.find_simplex(mesh.gridCC)>=0\n",
    "    return inds\n",
    "\n",
    "n_sounding = 10\n",
    "n_sounding_geotem = 9\n",
    "n_sounding_nanotem = n_sounding - n_sounding_geotem\n",
    "dx = 20.\n",
    "hx = np.ones(n_sounding) * dx\n",
    "mesh = Mesh.TensorMesh([hx, hz], x0='00')\n",
    "inds = np.logical_and(mesh.gridCC[:,1]>10, mesh.gridCC[:,1]<30.) \n",
    "sigma = np.ones(mesh.nC) * 1./15.\n",
    "sigma[inds] = 1./100.\n",
    "x0 = np.r_[0., 75.]\n",
    "x1 = np.r_[dx*n_sounding, 90.]\n",
    "x2 = np.r_[dx*n_sounding, 90.]\n",
    "x3 = np.r_[0., 200.]\n",
    "pts = np.vstack((x0, x1, x2, x3, x0))\n",
    "poly_inds = PolygonInd(mesh, pts)\n",
    "sigma[poly_inds] = 1./15.\n",
    "sigma_em1d = sigma.reshape(mesh.vnC, order='F').flatten()\n",
    "\n",
    "x = mesh.vectorCCx[:n_sounding_geotem]\n",
    "y = np.zeros_like(x)\n",
    "z = np.ones_like(x) * 120.\n",
    "rx_locations_geotem = np.c_[x, y, z-45.]\n",
    "src_locations_geotem = np.c_[x, y, z]\n",
    "topo_geotem = np.c_[x, y, z-120.].astype(float)\n",
    "\n",
    "x = mesh.vectorCCx[n_sounding_geotem:]\n",
    "y = np.zeros_like(x)\n",
    "z = np.ones_like(x) * 0.\n",
    "rx_locations_nanotem = np.c_[x, y, z]\n",
    "src_locations_nanotem = np.c_[x, y, z]\n",
    "topo_nanotem = np.c_[x, y, z].astype(float)\n",
    "\n",
    "src_locations = np.vstack((src_locations_geotem, src_locations_nanotem))\n",
    "rx_locations = np.vstack((rx_locations_geotem, rx_locations_nanotem))\n",
    "topo = np.vstack((topo_geotem, topo_nanotem))"
   ]
  },
  {
   "cell_type": "code",
   "execution_count": 3,
   "metadata": {},
   "outputs": [],
   "source": [
    "n_sounding_geotem=rx_locations_geotem.shape[0]\n",
    "n_sounding_nanotem=rx_locations_nanotem.shape[0]\n",
    "n_sounding = n_sounding_geotem + n_sounding_nanotem"
   ]
  },
  {
   "cell_type": "code",
   "execution_count": 4,
   "metadata": {},
   "outputs": [
    {
     "name": "stdout",
     "output_type": "stream",
     "text": [
      ">> Set parameters\n",
      ">> Use multiprocessing for parallelization\n",
      ">> n_cpu: 2\n"
     ]
    }
   ],
   "source": [
    "mapping = Maps.ExpMap(mesh)\n",
    "rx_type_global = np.array([\"dBzdt\"], dtype=str).repeat(n_sounding, axis=0)\n",
    "field_type_global = np.array(['secondary'], dtype=str).repeat(n_sounding, axis=0)\n",
    "wave_type_global = np.array(['general'], dtype=str).repeat(n_sounding, axis=0)\n",
    "\n",
    "time_geotem_all = [time_geotem for i in range(n_sounding_geotem)]\n",
    "time_nanotem_all = [time_nanotem for i in range(n_sounding_nanotem)]\n",
    "time_global = time_geotem_all + time_nanotem_all\n",
    "\n",
    "src_type_geotem_all = np.array([\"VMD\"], dtype=str).repeat(n_sounding_geotem, axis=0)\n",
    "src_type_nanotem_all = np.array([\"CircularLoop\"], dtype=str).repeat(n_sounding_nanotem, axis=0)\n",
    "src_type_global = np.r_[src_type_geotem_all, src_type_nanotem_all]\n",
    "\n",
    "a_global = np.array([13.], dtype=float).repeat(n_sounding, axis=0)\n",
    "offset_global = np.array([120.], dtype=float).repeat(n_sounding, axis=0)\n",
    "\n",
    "input_currents_geotem_all = [input_currents_geotem for i in range(n_sounding_geotem)]\n",
    "input_currents_nanotem_all = [input_currents_nanotem for i in range(n_sounding_nanotem)]\n",
    "input_currents_global = input_currents_geotem_all + input_currents_nanotem_all\n",
    "\n",
    "time_input_currents_geotem_all = [time_input_currents_geotem for i in range(n_sounding_geotem)]\n",
    "time_input_currents_nanotem_all = [time_input_currents_nanotem for i in range(n_sounding_nanotem)]\n",
    "time_input_currents_global = time_input_currents_geotem_all + time_input_currents_nanotem_all\n",
    "\n",
    "survey = GlobalEM1DSurveyTD(\n",
    "    rx_locations = rx_locations,\n",
    "    src_locations = src_locations,    \n",
    "    topo = topo,\n",
    "    time = time_global,\n",
    "    src_type = src_type_global,\n",
    "    rx_type = rx_type_global,    \n",
    "    field_type = field_type_global,\n",
    "    wave_type = wave_type_global,    \n",
    "    a = a_global,\n",
    "    input_currents=input_currents_global,\n",
    "    time_input_currents=time_input_currents_global\n",
    ")\n",
    "\n",
    "prob = GlobalEM1DProblemTD(\n",
    "    [], sigmaMap=mapping, hz=hz, parallel=True,n_cpu=2,verbose=True,\n",
    "    Solver=PardisoSolver\n",
    ")\n",
    "prob.pair(survey)"
   ]
  },
  {
   "cell_type": "markdown",
   "metadata": {},
   "source": [
    "# Seting up a 2D mesh and model"
   ]
  },
  {
   "cell_type": "code",
   "execution_count": 5,
   "metadata": {},
   "outputs": [
    {
     "name": "stdout",
     "output_type": "stream",
     "text": [
      "Compute fields\n",
      "CPU times: user 14.7 ms, sys: 17.5 ms, total: 32.2 ms\n",
      "Wall time: 1.55 s\n"
     ]
    }
   ],
   "source": [
    "%%time\n",
    "m = np.log(sigma_em1d)\n",
    "dobs = survey.makeSyntheticData(m, std=0.05, force=True)"
   ]
  },
  {
   "cell_type": "code",
   "execution_count": 6,
   "metadata": {},
   "outputs": [
    {
     "name": "stdout",
     "output_type": "stream",
     "text": [
      "Populating the interactive namespace from numpy and matplotlib\n"
     ]
    },
    {
     "data": {
      "image/png": "[encoded data removed]",
      "text/plain": [
       "<matplotlib.figure.Figure at 0x1132ecef0>"
      ]
     },
     "metadata": {},
     "output_type": "display_data"
    }
   ],
   "source": [
    "%pylab inline\n",
    "cb = plt.colorbar(\n",
    "    mesh.plotImage(1./sigma, grid=False, clim=(10., 100.),pcolorOpts={\"norm\":LogNorm()})[0],\n",
    "    fraction=0.03, pad=0.04\n",
    ")\n",
    "\n",
    "plt.ylim(mesh.vectorNy.max(), mesh.vectorNy.min())\n",
    "plt.gca().set_aspect(1)"
   ]
  },
  {
   "cell_type": "code",
   "execution_count": 7,
   "metadata": {},
   "outputs": [],
   "source": [
    "from SimPEG import (\n",
    "    Regularization, Directives, Inversion, InvProblem, Optimization, DataMisfit, Utils\n",
    ")"
   ]
  },
  {
   "cell_type": "code",
   "execution_count": 8,
   "metadata": {},
   "outputs": [],
   "source": [
    "mesh_reg = Mesh.TensorMesh([mesh.hy, mesh.hx])"
   ]
  },
  {
   "cell_type": "code",
   "execution_count": 9,
   "metadata": {
    "scrolled": false
   },
   "outputs": [
    {
     "name": "stdout",
     "output_type": "stream",
     "text": [
      "SimPEG.DataMisfit.l2_DataMisfit assigning default eps of 1e-5 * ||dobs||\n",
      "SimPEG.InvProblem will set Regularization.mref to m0.\n",
      "\n",
      "    SimPEG.InvProblem is setting bfgsH0 to the inverse of the eval2Deriv.\n",
      "    ***Done using same Solver and solverOpts as the problem***\n",
      "Compute fields\n"
     ]
    },
    {
     "name": "stderr",
     "output_type": "stream",
     "text": [
      "/Users/sgkang/Projects/simpeg/SimPEG/Directives.py:896: UserWarning: Without a Linear preconditioner, convergence may be slow. Consider adding `Directives.UpdatePreconditioner` to your directives list\n",
      "  \"Without a Linear preconditioner, convergence may be slow. \"\n"
     ]
    },
    {
     "name": "stdout",
     "output_type": "stream",
     "text": [
      ">> Compute J\n",
      "model has any nan: 0\n",
      "============================ Inexact Gauss Newton ============================\n",
      "  #     beta     phi_d     phi_m       f      |proj(x-g)-x|  LS    Comment   \n",
      "-----------------------------------------------------------------------------\n",
      "x0 has any nan: 0\n",
      "   0  1.72e+01  1.38e+03  0.00e+00  1.38e+03    1.52e+03      0              \n",
      "Compute fields\n",
      ">> Compute J\n",
      "   1  8.60e+00  1.50e+02  4.31e+00  1.87e+02    1.70e+02      0              \n",
      "Compute fields\n",
      "Reached starting chifact with l2-norm regularization: Start IRLS steps...\n",
      "eps_p: 0.8333691397830068 eps_q: 0.8333691397830068\n",
      ">> Fix Jmatrix\n",
      "Eps_p: 0.6944742831525057\n",
      "Eps_q: 0.6944742831525057\n",
      "delta phim:    inf\n",
      ">> Compute J\n",
      "   2  4.30e+00  4.55e+01  1.33e+01  1.03e+02    3.37e+01      0   Skip BFGS  \n",
      "Compute fields\n",
      ">> Fix Jmatrix\n",
      "Eps_p: 0.5787285692937548\n",
      "Eps_q: 0.5787285692937548\n",
      "delta phim: 1.866e+00\n",
      "   3  7.62e+00  3.39e+01  1.79e+01  1.70e+02    3.84e+01      0   Skip BFGS  \n",
      "Compute fields\n",
      ">> Fix Jmatrix\n",
      "Eps_p: 0.4822738077447957\n",
      "Eps_q: 0.4822738077447957\n",
      "delta phim: 3.479e-01\n",
      "   4  7.62e+00  5.76e+01  1.43e+01  1.66e+02    5.52e+00      0              \n",
      "Compute fields\n",
      "Compute fields\n",
      "Compute fields\n",
      ">> Fix Jmatrix\n",
      "Eps_p: 0.40189483978732976\n",
      "Eps_q: 0.40189483978732976\n",
      "delta phim: 1.457e-02\n",
      "   5  5.36e+00  5.79e+01  1.48e+01  1.37e+02    1.37e+01      2   Skip BFGS  \n",
      "Compute fields\n",
      ">> Fix Jmatrix\n",
      "Eps_p: 0.3349123664894415\n",
      "Eps_q: 0.3349123664894415\n",
      "delta phim: 2.314e-01\n",
      "   6  5.36e+00  5.43e+01  1.55e+01  1.37e+02    1.31e+01      0              \n",
      "Compute fields\n",
      ">> Fix Jmatrix\n",
      "Eps_p: 0.27909363874120124\n",
      "Eps_q: 0.27909363874120124\n",
      "delta phim: 2.173e-01\n",
      "   7  5.36e+00  5.38e+01  1.55e+01  1.37e+02    1.16e+01      0              \n",
      "Compute fields\n",
      "Compute fields\n",
      ">> Fix Jmatrix\n",
      "Eps_p: 0.23257803228433438\n",
      "Eps_q: 0.23257803228433438\n",
      "delta phim: 1.453e-01\n",
      "   8  5.36e+00  5.32e+01  1.51e+01  1.34e+02    1.27e+01      1              \n",
      "Compute fields\n",
      ">> Fix Jmatrix\n",
      "Eps_p: 0.193815026903612\n",
      "Eps_q: 0.193815026903612\n",
      "delta phim: 1.340e-01\n",
      "   9  5.36e+00  5.24e+01  1.41e+01  1.28e+02    1.61e+01      0              \n",
      "Compute fields\n",
      ">> Fix Jmatrix\n",
      "Eps_p: 0.16151252241967667\n",
      "Eps_q: 0.16151252241967667\n",
      "delta phim: 8.406e-02\n",
      "  10  5.36e+00  5.08e+01  1.32e+01  1.22e+02    1.82e+01      0              \n",
      "Compute fields\n",
      ">> Fix Jmatrix\n",
      "Eps_p: 0.1345937686830639\n",
      "Eps_q: 0.1345937686830639\n",
      "delta phim: 6.541e-02\n",
      "  11  5.36e+00  4.89e+01  1.21e+01  1.14e+02    2.14e+01      0              \n",
      "Compute fields\n",
      "Compute fields\n",
      ">> Fix Jmatrix\n",
      "Reach maximum number of IRLS cycles: 10\n",
      "------------------------- STOP! -------------------------\n",
      "1 : |fc-fOld| = 0.0000e+00 <= tolF*(1+|f0|) = 1.3811e+02\n",
      "1 : |xc-x_last| = 1.7219e-01 <= tolX*(1+|x0|) = 3.8328e+00\n",
      "0 : |proj(x-g)-x|    = 2.1368e+01 <= tolG          = 1.0000e-01\n",
      "0 : |proj(x-g)-x|    = 2.1368e+01 <= 1e3*eps       = 1.0000e-02\n",
      "0 : maxIter   =      20    <= iter          =     12\n",
      "------------------------- DONE! -------------------------\n",
      "CPU times: user 2.24 s, sys: 478 ms, total: 2.72 s\n",
      "Wall time: 54 s\n"
     ]
    }
   ],
   "source": [
    "%%time\n",
    "std = 0.07\n",
    "floor = 0.\n",
    "np.random.seed(1)\n",
    "uncert = std*abs(dobs)+floor\n",
    "survey.dobs = dobs.copy()\n",
    "m0 = np.ones(mesh.nC) * np.log(1./15.)\n",
    "dmisfit = DataMisfit.l2_DataMisfit(survey)\n",
    "dmisfit.W = 1./uncert\n",
    "regmap = Maps.IdentityMap(mesh)\n",
    "# mapping is required ... for IRLS\n",
    "reg = Regularization.Sparse(\n",
    "    mesh_reg, mapping=regmap,\n",
    "    alpha_s=1.,\n",
    "    alpha_x = 1.,\n",
    "    alpha_y = 10.,    \n",
    ")\n",
    "p = 0\n",
    "qx, qz = 1., 1.\n",
    "reg.norms = np.c_[p, qx, qz, 0.]\n",
    "IRLS = Directives.Update_IRLS(\n",
    "    maxIRLSiter=10, minGNiter=1, fix_Jmatrix=True,\n",
    "    betaSearch=False\n",
    ")\n",
    "opt = Optimization.InexactGaussNewton(maxIter = 20)\n",
    "invProb = InvProblem.BaseInvProblem(dmisfit, reg, opt)\n",
    "beta = Directives.BetaSchedule(coolingFactor=2, coolingRate=1)\n",
    "betaest = Directives.BetaEstimate_ByEig(beta0_ratio=1.)\n",
    "target = Directives.TargetMisfit()\n",
    "update_sense = Directives.UpdateSensitivityWeights()\n",
    "# inv = Inversion.BaseInversion(invProb, directiveList=[beta,betaest,target])\n",
    "inv = Inversion.BaseInversion(invProb, directiveList=[IRLS,betaest])\n",
    "prob.counter = opt.counter = Utils.Counter()\n",
    "opt.LSshorten = 0.5\n",
    "opt.remember('xc')\n",
    "mopt = inv.run(m0)"
   ]
  },
  {
   "cell_type": "code",
   "execution_count": 10,
   "metadata": {},
   "outputs": [],
   "source": [
    "sigma_est = Utils.mkvc((np.exp(mopt)).reshape((prob.n_sounding, prob.n_layer)))\n",
    "sigma_est_l2 = Utils.mkvc((np.exp(invProb.l2model)).reshape((prob.n_sounding, prob.n_layer)))"
   ]
  },
  {
   "cell_type": "code",
   "execution_count": 11,
   "metadata": {},
   "outputs": [],
   "source": [
    "import matplotlib\n",
    "matplotlib.rcParams['font.size'] = 14"
   ]
  },
  {
   "cell_type": "code",
   "execution_count": 12,
   "metadata": {},
   "outputs": [
    {
     "data": {
      "text/plain": [
       "Text(0.5,1,'Laterally-contrained model: L0 L2')"
      ]
     },
     "execution_count": 12,
     "metadata": {},
     "output_type": "execute_result"
    },
    {
     "data": {
      "image/png": "[encoded data removed]",
      "text/plain": [
       "<matplotlib.figure.Figure at 0x120fee780>"
      ]
     },
     "metadata": {},
     "output_type": "display_data"
    },
    {
     "data": {
      "image/png": "[encoded data removed]",
      "text/plain": [
       "<matplotlib.figure.Figure at 0x121001e10>"
      ]
     },
     "metadata": {},
     "output_type": "display_data"
    },
    {
     "data": {
      "image/png": "[encoded data removed]",
      "text/plain": [
       "<matplotlib.figure.Figure at 0x12a836c18>"
      ]
     },
     "metadata": {},
     "output_type": "display_data"
    }
   ],
   "source": [
    "cb = plt.colorbar(\n",
    "    mesh.plotImage(\n",
    "        sigma, grid=True, clim=(1e-2, 1e-1),pcolorOpts={\"norm\":LogNorm()},\n",
    "        gridOpts={'alpha':0.2, 'color':'grey'}\n",
    "    )[0],\n",
    "    fraction=0.02, pad=0.04\n",
    ")\n",
    "\n",
    "plt.ylim(mesh.vectorNy.max(), mesh.vectorNy.min())\n",
    "plt.gca().set_aspect(1)\n",
    "\n",
    "plt.title(\"True model\")\n",
    "\n",
    "cb = plt.colorbar(\n",
    "    mesh.plotImage(\n",
    "        sigma_est_l2, grid=True, clim=(1e-2, 1e-1),pcolorOpts={\"norm\":LogNorm()},\n",
    "        gridOpts={'alpha':0.2, 'color':'grey'}\n",
    "    )[0],\n",
    "    fraction=0.02, pad=0.04\n",
    ")\n",
    "plt.title(\"Laterally-contrained model: L2 L2\")\n",
    "plt.ylim(mesh.vectorNy.max(), mesh.vectorNy.min())\n",
    "plt.gca().set_aspect(1)\n",
    "\n",
    "\n",
    "cb = plt.colorbar(\n",
    "    mesh.plotImage(\n",
    "        sigma_est, grid=True, clim=(1e-2, 1e-1), pcolorOpts={\"norm\":LogNorm()},\n",
    "        gridOpts={'alpha':0.2, 'color':'grey'}\n",
    "    )[0],\n",
    "    fraction=0.02, pad=0.04\n",
    ")\n",
    "plt.ylim(mesh.vectorNy.max(), mesh.vectorNy.min())\n",
    "plt.gca().set_aspect(1)\n",
    "plt.title(\"Laterally-contrained model: L0 L2\")"
   ]
  },
  {
   "cell_type": "code",
   "execution_count": 13,
   "metadata": {},
   "outputs": [
    {
     "data": {
      "text/plain": [
       "[<matplotlib.lines.Line2D at 0x120e3b358>]"
      ]
     },
     "execution_count": 13,
     "metadata": {},
     "output_type": "execute_result"
    },
    {
     "data": {
      "image/png": "[encoded data removed]",
      "text/plain": [
       "<matplotlib.figure.Figure at 0x12aa2c400>"
      ]
     },
     "metadata": {},
     "output_type": "display_data"
    }
   ],
   "source": [
    "plt.semilogy(-dobs[survey.data_index[0]])\n",
    "plt.semilogy(-invProb.dpred[survey.data_index[0]])"
   ]
  },
  {
   "cell_type": "code",
   "execution_count": 14,
   "metadata": {},
   "outputs": [
    {
     "data": {
      "text/plain": [
       "[<matplotlib.lines.Line2D at 0x118cd4ac8>]"
      ]
     },
     "execution_count": 14,
     "metadata": {},
     "output_type": "execute_result"
    },
    {
     "data": {
      "image/png": "[encoded data removed]",
      "text/plain": [
       "<matplotlib.figure.Figure at 0x110edc978>"
      ]
     },
     "metadata": {},
     "output_type": "display_data"
    }
   ],
   "source": [
    "plt.semilogy(-dobs[survey.data_index[-1]])\n",
    "plt.semilogy(-invProb.dpred[survey.data_index[-1]])"
   ]
  }
 ],
 "metadata": {
  "kernelspec": {
   "display_name": "Python 3",
   "language": "python",
   "name": "python3"
  },
  "language_info": {
   "codemirror_mode": {
    "name": "ipython",
    "version": 3
   },
   "file_extension": ".py",
   "mimetype": "text/x-python",
   "name": "python",
   "nbconvert_exporter": "python",
   "pygments_lexer": "ipython3",
   "version": "3.6.4"
  }
 },
 "nbformat": 4,
 "nbformat_minor": 2
}
