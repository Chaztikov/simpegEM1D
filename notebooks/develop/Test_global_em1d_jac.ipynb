{
 "cells": [
  {
   "cell_type": "code",
   "execution_count": 1,
   "metadata": {},
   "outputs": [
    {
     "name": "stdout",
     "output_type": "stream",
     "text": [
      "Populating the interactive namespace from numpy and matplotlib\n"
     ]
    }
   ],
   "source": [
    "from SimPEG import Mesh, Maps\n",
    "import numpy as np\n",
    "from matplotlib.colors import LogNorm\n",
    "from simpegem1d import (\n",
    "    GlobalEM1DProblem, GlobalEM1DSurveyFD, get_vertical_discretization\n",
    ")\n",
    "%pylab inline"
   ]
  },
  {
   "cell_type": "markdown",
   "metadata": {},
   "source": [
    "# Seting up a 2D mesh and model"
   ]
  },
  {
   "cell_type": "code",
   "execution_count": 2,
   "metadata": {},
   "outputs": [
    {
     "name": "stdout",
     "output_type": "stream",
     "text": [
      "167.7640403482901\n"
     ]
    }
   ],
   "source": [
    "frequency = np.array([900, 7200, 56000], dtype=float)\n",
    "hz = get_vertical_discretization(frequency, sigma_background=0.01)"
   ]
  },
  {
   "cell_type": "code",
   "execution_count": 3,
   "metadata": {},
   "outputs": [],
   "source": [
    "from scipy.spatial import Delaunay\n",
    "def PolygonInd(mesh, pts):\n",
    "    hull = Delaunay(pts)\n",
    "    inds = hull.find_simplex(mesh.gridCC)>=0\n",
    "    return inds"
   ]
  },
  {
   "cell_type": "code",
   "execution_count": 4,
   "metadata": {},
   "outputs": [],
   "source": [
    "n_sounding = 20\n",
    "dx = 20.\n",
    "hx = np.ones(n_sounding) * dx\n",
    "mesh = Mesh.TensorMesh([hx, hz], x0='00')\n",
    "inds =  mesh.gridCC[:,1]<25\n",
    "inds_1 =  mesh.gridCC[:,1]<50\n",
    "sigma = np.ones(mesh.nC) * 1./100.\n",
    "sigma[inds_1] = 1./10.\n",
    "sigma[inds] = 1./50.\n",
    "x0 = np.r_[0., 75.]\n",
    "x1 = np.r_[400., 75.]\n",
    "x2 = np.r_[400., 90.]\n",
    "x3 = np.r_[0., 125.]\n",
    "pts = np.vstack((x0, x1, x2, x3, x0))\n",
    "# poly_inds = PolygonInd(mesh, pts)\n",
    "# sigma[poly_inds] = 0.1\n",
    "sigma_em1d = sigma.reshape(mesh.vnC, order='F').flatten()"
   ]
  },
  {
   "cell_type": "code",
   "execution_count": 23,
   "metadata": {},
   "outputs": [
    {
     "data": {
      "text/plain": [
       "(20, 19)"
      ]
     },
     "execution_count": 23,
     "metadata": {},
     "output_type": "execute_result"
    }
   ],
   "source": [
    "sigma_em1d.reshape((n_sounding, FDsurvey.n_layer)).shape"
   ]
  },
  {
   "cell_type": "code",
   "execution_count": 5,
   "metadata": {},
   "outputs": [
    {
     "data": {
      "image/png": "[encoded data removed]",
      "text/plain": [
       "<matplotlib.figure.Figure at 0x110397438>"
      ]
     },
     "metadata": {},
     "output_type": "display_data"
    }
   ],
   "source": [
    "cb = plt.colorbar(\n",
    "    mesh.plotImage(sigma, grid=True, pcolorOpts={\"norm\":LogNorm()})[0],\n",
    "    fraction=0.025, pad=0.04    \n",
    ")\n",
    "\n",
    "plt.ylim(mesh.vectorNy.max(), mesh.vectorNy.min())\n",
    "plt.gca().set_aspect('equal')"
   ]
  },
  {
   "cell_type": "code",
   "execution_count": 6,
   "metadata": {},
   "outputs": [],
   "source": [
    "x = mesh.vectorCCx\n",
    "y = np.zeros_like(x)\n",
    "z = np.ones_like(x) * 30.\n",
    "rx_locations = np.c_[x, y, z]\n",
    "src_locations = np.c_[x, y, z]\n",
    "topo = np.c_[x, y, z-30.].astype(float)"
   ]
  },
  {
   "cell_type": "code",
   "execution_count": 7,
   "metadata": {},
   "outputs": [],
   "source": [
    "mapping = Maps.ExpMap(mesh)\n",
    "# mapping = Maps.IdentityMap(mesh)"
   ]
  },
  {
   "cell_type": "code",
   "execution_count": 8,
   "metadata": {},
   "outputs": [],
   "source": [
    "survey = GlobalEM1DSurveyFD(\n",
    "    rx_locations = rx_locations,\n",
    "    src_locations = src_locations,    \n",
    "    frequency = frequency,\n",
    "    offset = np.ones_like(frequency) * 8.,\n",
    "    src_type = \"VMD\",\n",
    "    rx_type = \"Hz\",\n",
    "    field_type = 'secondary',\n",
    "    topo = topo\n",
    ")\n",
    "prob = GlobalEM1DProblem([], sigmaMap=mapping, hz=hz)\n",
    "prob.pair(survey)"
   ]
  },
  {
   "cell_type": "code",
   "execution_count": 9,
   "metadata": {},
   "outputs": [],
   "source": [
    "m = np.log(sigma_em1d)\n",
    "pred = survey.dpred(m)"
   ]
  },
  {
   "cell_type": "code",
   "execution_count": 10,
   "metadata": {},
   "outputs": [
    {
     "data": {
      "text/plain": [
       "array([0.02, 0.02, 0.02, 0.02, 0.1 , 0.1 , 0.1 , 0.01, 0.01, 0.01, 0.01,\n",
       "       0.01, 0.01, 0.01, 0.01, 0.01, 0.01, 0.01, 0.01])"
      ]
     },
     "execution_count": 10,
     "metadata": {},
     "output_type": "execute_result"
    }
   ],
   "source": [
    "sigma_em1d.reshape((prob.n_sounding, prob.n_layer))[0,:]"
   ]
  },
  {
   "cell_type": "code",
   "execution_count": 11,
   "metadata": {},
   "outputs": [],
   "source": [
    "# m = sigma.copy()"
   ]
  },
  {
   "cell_type": "code",
   "execution_count": 12,
   "metadata": {},
   "outputs": [],
   "source": [
    "J = prob.getJ(m)"
   ]
  },
  {
   "cell_type": "code",
   "execution_count": 13,
   "metadata": {},
   "outputs": [],
   "source": [
    "from SimPEG import Utils"
   ]
  },
  {
   "cell_type": "code",
   "execution_count": 14,
   "metadata": {},
   "outputs": [],
   "source": [
    "Jv = prob.Jvec(m, m)"
   ]
  },
  {
   "cell_type": "code",
   "execution_count": 15,
   "metadata": {},
   "outputs": [],
   "source": [
    "Jtv = prob.Jtvec(m, pred)"
   ]
  },
  {
   "cell_type": "code",
   "execution_count": 16,
   "metadata": {},
   "outputs": [
    {
     "data": {
      "text/plain": [
       "array([ 5.69131087e-26,  2.09763469e-26,  4.09790308e-27, -1.57323912e-28,\n",
       "        3.66072056e-29, -2.20979409e-29, -4.41160057e-28, -2.96291123e-29,\n",
       "       -1.60399868e-29, -7.10866084e-30, -2.02619294e-30,  2.21398767e-31,\n",
       "        6.41628482e-31,  1.29820319e-31, -6.28723551e-31, -1.21725903e-30,\n",
       "       -1.47486881e-30, -1.42477770e-30, -3.04189433e-30])"
      ]
     },
     "execution_count": 16,
     "metadata": {},
     "output_type": "execute_result"
    }
   ],
   "source": [
    "Jtv[:19]"
   ]
  },
  {
   "cell_type": "code",
   "execution_count": 17,
   "metadata": {},
   "outputs": [
    {
     "data": {
      "text/plain": [
       "array([8.50782132e-14, 2.15298878e-13, 6.79208051e-13, 9.56066705e-14,\n",
       "       1.90867062e-13, 6.85574939e-14])"
      ]
     },
     "execution_count": 17,
     "metadata": {},
     "output_type": "execute_result"
    }
   ],
   "source": [
    "Jv[:6]"
   ]
  },
  {
   "cell_type": "code",
   "execution_count": 18,
   "metadata": {},
   "outputs": [],
   "source": [
    "pred = survey.dpred(m)"
   ]
  },
  {
   "cell_type": "code",
   "execution_count": 19,
   "metadata": {},
   "outputs": [],
   "source": [
    "from simpegem1d import EM1DSurveyFD, EM1D, run_simulation_FD\n",
    "mesh_1d = Mesh.TensorMesh([mesh.hy], x0=[0.])\n",
    "depth = -mesh_1d.gridN[:-1]\n",
    "m_1d = np.log(prob.Sigma[0,:])\n",
    "# m_1d = prob.Sigma[0,:]\n",
    "FDsurvey = EM1DSurveyFD(\n",
    "    rx_location = np.array([0., 0., 30.]),\n",
    "    src_location = np.array([0., 0., 30.]),\n",
    "    field_type = 'secondary',\n",
    "    rx_type = 'Hz',\n",
    "    src_type = 'VMD',\n",
    "    depth = depth,\n",
    "    topo = np.r_[0., 0., 0.],\n",
    "    frequency = survey.frequency.copy(),\n",
    "    offset = 8. * np.ones(3)\n",
    ")\n",
    "prob_1d = EM1D(\n",
    "    mesh_1d, sigmaMap=Maps.ExpMap(mesh_1d), jacSwitch=True\n",
    ")\n",
    "if prob_1d.ispaired:\n",
    "    prob_1d.unpair()\n",
    "if FDsurvey.ispaired:\n",
    "    FDsurvey.unpair()\n",
    "prob_1d.pair(FDsurvey)\n",
    "Hz = FDsurvey.dpred(m_1d)\n",
    "dummy, dHzdsig = prob_1d.fields(m_1d)\n",
    "J_Hz = FDsurvey.projectFields(dHzdsig)\n",
    "Jv_Hz = prob_1d.Jvec(m_1d, m_1d)\n",
    "Jtv_Hz = prob_1d.Jtvec(m_1d, Hz)"
   ]
  },
  {
   "cell_type": "code",
   "execution_count": 31,
   "metadata": {},
   "outputs": [
    {
     "data": {
      "text/plain": [
       "array([-3.30988368e-14, -2.27058991e-14,  6.11879760e-15, -2.09520415e-14,\n",
       "        2.87870176e-14, -5.09716465e-17])"
      ]
     },
     "execution_count": 31,
     "metadata": {},
     "output_type": "execute_result"
    }
   ],
   "source": [
    "Jv_Hz-Jv[:6]"
   ]
  },
  {
   "cell_type": "code",
   "execution_count": 32,
   "metadata": {},
   "outputs": [
    {
     "data": {
      "text/plain": [
       "array([ 1.14794370e-41,  0.00000000e+00,  7.17464814e-43,  4.48415509e-44,\n",
       "        7.84727140e-44, -6.72623263e-44,  0.00000000e+00, -5.60519386e-45,\n",
       "       -2.80259693e-45, -2.80259693e-45, -3.50324616e-46,  2.18952885e-46,\n",
       "        3.50324616e-46, -9.19602117e-46,  1.75162308e-46, -1.75162308e-46,\n",
       "        0.00000000e+00, -3.50324616e-46,  0.00000000e+00])"
      ]
     },
     "execution_count": 32,
     "metadata": {},
     "output_type": "execute_result"
    }
   ],
   "source": [
    "istart = 38\n",
    "Jtv_Hz-Jtv[istart:istart+19]"
   ]
  },
  {
   "cell_type": "code",
   "execution_count": 21,
   "metadata": {},
   "outputs": [],
   "source": [
    "test_jvec = prob.Jvec(m, np.ones(mesh.nC))"
   ]
  },
  {
   "cell_type": "code",
   "execution_count": 22,
   "metadata": {},
   "outputs": [
    {
     "data": {
      "text/plain": [
       "array([-3.02086797e-14, -6.08393092e-14, -1.72056568e-13, -2.97949966e-14,\n",
       "       -4.14312605e-14, -1.75378482e-14])"
      ]
     },
     "execution_count": 22,
     "metadata": {},
     "output_type": "execute_result"
    }
   ],
   "source": [
    "test_jvec[:6]"
   ]
  },
  {
   "cell_type": "code",
   "execution_count": 35,
   "metadata": {},
   "outputs": [
    {
     "data": {
      "text/plain": [
       "array([-3.17569233e-15, -2.14758363e-15, -8.59951910e-16, -3.11806113e-16,\n",
       "        9.48058005e-16,  6.54531680e-16])"
      ]
     },
     "execution_count": 35,
     "metadata": {},
     "output_type": "execute_result"
    }
   ],
   "source": [
    "test_jvec[6:12]"
   ]
  },
  {
   "cell_type": "code",
   "execution_count": 34,
   "metadata": {},
   "outputs": [
    {
     "data": {
      "text/plain": [
       "array([-3.02086797e-14, -6.08393092e-14, -1.72056568e-13, -2.97949966e-14,\n",
       "       -4.14312605e-14, -1.75378482e-14])"
      ]
     },
     "execution_count": 34,
     "metadata": {},
     "output_type": "execute_result"
    }
   ],
   "source": [
    "test"
   ]
  },
  {
   "cell_type": "code",
   "execution_count": 18,
   "metadata": {},
   "outputs": [],
   "source": [
    "# Hz_r = Hz.reshape((2, survey.n_frequency))[0,:]\n",
    "# Hz_i = Hz.reshape((2, survey.n_frequency))[1,:]"
   ]
  },
  {
   "cell_type": "code",
   "execution_count": 17,
   "metadata": {},
   "outputs": [],
   "source": [
    "PRED = pred.reshape(( prob.n_sounding, 2, survey.n_frequency))\n",
    "Hz_pred_r = PRED[0,0,:]\n",
    "Hz_pred_i = PRED[0,1,:]"
   ]
  },
  {
   "cell_type": "code",
   "execution_count": 14,
   "metadata": {},
   "outputs": [
    {
     "name": "stdout",
     "output_type": "stream",
     "text": [
      "[-2.68337265e-14 -1.27714505e-13 -3.64089249e-13]\n",
      "[-2.68337265e-14 -1.27714505e-13 -3.64089249e-13]\n"
     ]
    }
   ],
   "source": [
    "print (Hz_pred_r)\n",
    "print (Hz_r)"
   ]
  },
  {
   "cell_type": "code",
   "execution_count": 15,
   "metadata": {},
   "outputs": [
    {
     "name": "stdout",
     "output_type": "stream",
     "text": [
      "[-5.10077483e-14 -1.14085681e-13 -2.20704132e-13]\n",
      "[-5.10077483e-14 -1.14085681e-13 -2.20704132e-13]\n"
     ]
    }
   ],
   "source": [
    "print (Hz_pred_i)\n",
    "print (Hz_i)"
   ]
  },
  {
   "cell_type": "code",
   "execution_count": 16,
   "metadata": {},
   "outputs": [],
   "source": [
    "rx_location = FDsurvey.rx_location\n",
    "src_location = FDsurvey.src_location\n",
    "topo = FDsurvey.topo\n",
    "hz = mesh.hy\n",
    "offset = FDsurvey.offset\n",
    "frequency = FDsurvey.frequency\n",
    "field_type = FDsurvey.field_type\n",
    "rx_type = FDsurvey.rx_type\n",
    "src_type = FDsurvey.src_type\n",
    "sigma = prob_1d.sigma\n",
    "jacSwitch = False\n",
    "args = rx_location, src_location, topo, hz, offset, frequency, field_type, rx_type, src_type, sigma, jacSwitch\n",
    "Hz_sim = run_simulation_FD(args)"
   ]
  },
  {
   "cell_type": "code",
   "execution_count": 17,
   "metadata": {},
   "outputs": [
    {
     "data": {
      "text/plain": [
       "array([  -0.        ,   -5.31699347,  -11.05966405,  -17.26209133,\n",
       "        -23.96108332,  -31.19639487,  -39.01096356,  -47.45116459,\n",
       "        -56.5670859 ,  -66.4128255 ,  -77.04681243,  -88.53215359,\n",
       "       -100.93700816, -114.33499214, -128.80561523, -144.43475262,\n",
       "       -161.31515467, -179.5469973 , -199.23847649])"
      ]
     },
     "execution_count": 17,
     "metadata": {},
     "output_type": "execute_result"
    }
   ],
   "source": [
    "FDsurvey.depth"
   ]
  },
  {
   "cell_type": "code",
   "execution_count": 18,
   "metadata": {},
   "outputs": [
    {
     "data": {
      "text/plain": [
       "(array([ 0.,  0., 30.]),\n",
       " array([ 0.,  0., 30.]),\n",
       " array([0., 0., 0.]),\n",
       " array([ 5.31699347,  5.74267058,  6.20242728,  6.69899199,  7.23531154,\n",
       "         7.8145687 ,  8.44020103,  9.11592132,  9.8457396 , 10.63398694,\n",
       "        11.48534115, 12.40485457, 13.39798399, 14.47062309, 15.62913739,\n",
       "        16.88040205, 18.23184263, 19.69147919, 21.26797387]),\n",
       " array([8., 8., 8.]),\n",
       " array([  900.,  7200., 56000.]),\n",
       " 'secondary',\n",
       " 'Hz',\n",
       " 'VMD',\n",
       " array([0.02, 0.02, 0.02, 0.02, 0.1 , 0.1 , 0.1 , 0.01, 0.01, 0.01, 0.01,\n",
       "        0.01, 0.01, 0.01, 0.01, 0.01, 0.01, 0.01, 0.01]),\n",
       " False)"
      ]
     },
     "execution_count": 18,
     "metadata": {},
     "output_type": "execute_result"
    }
   ],
   "source": [
    "args"
   ]
  },
  {
   "cell_type": "code",
   "execution_count": 19,
   "metadata": {},
   "outputs": [],
   "source": [
    "Hz_sim_r = Hz_sim.reshape((2, survey.n_frequency))[0,:]\n",
    "Hz_sim_i = Hz_sim.reshape((2, survey.n_frequency))[1,:]"
   ]
  },
  {
   "cell_type": "code",
   "execution_count": 20,
   "metadata": {},
   "outputs": [
    {
     "name": "stdout",
     "output_type": "stream",
     "text": [
      "[-2.68337265e-14 -1.27714505e-13 -3.64089249e-13]\n",
      "[-5.10077483e-14 -1.14085681e-13 -2.20704132e-13]\n"
     ]
    }
   ],
   "source": [
    "print (Hz_sim_r)\n",
    "print (Hz_sim_i)"
   ]
  },
  {
   "cell_type": "code",
   "execution_count": 21,
   "metadata": {},
   "outputs": [],
   "source": [
    "# plt.loglog(FDsurvey.frequency, -hz.reshape((2, 3))[0,:])\n",
    "# plt.loglog(FDsurvey.frequency, -hz.reshape((2, 3))[1,:])\n",
    "# plt.loglog(FDsurvey.frequency, -hz_pred_r)\n",
    "# plt.loglog(FDsurvey.frequency, -hz_pred_i)"
   ]
  }
 ],
 "metadata": {
  "kernelspec": {
   "display_name": "Python 3",
   "language": "python",
   "name": "python3"
  },
  "language_info": {
   "codemirror_mode": {
    "name": "ipython",
    "version": 3
   },
   "file_extension": ".py",
   "mimetype": "text/x-python",
   "name": "python",
   "nbconvert_exporter": "python",
   "pygments_lexer": "ipython3",
   "version": "3.6.4"
  }
 },
 "nbformat": 4,
 "nbformat_minor": 2
}
