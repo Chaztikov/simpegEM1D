{
 "cells": [
  {
   "cell_type": "code",
   "execution_count": 1,
   "metadata": {},
   "outputs": [],
   "source": [
    "from SimPEG import *\n",
    "from simpegem1d import *\n",
    "from scipy.constants import mu_0\n",
    "import numpy as np\n",
    "\n",
    "frequency = np.array([382, 1822, 7970, 35920, 130100], dtype=float)\n",
    "hz = get_vertical_discretization_frequency(frequency, sigma_background=0.01)\n",
    "mesh1D = set_mesh_1d(hz)\n",
    "depth = -mesh1D.gridN[:-1]\n",
    "LocSigZ = -mesh1D.gridCC\n",
    "\n",
    "FDsurvey = EM1DSurveyFD(\n",
    "    rx_location = np.array([0., 0., 100.+30.]),\n",
    "    src_location = np.array([0., 0., 100.+30.]),\n",
    "    field_type = 'secondary',\n",
    "    rx_type = 'Hz',\n",
    "    src_type = 'VMD',\n",
    "    offset = np.ones(5)*7.86,\n",
    "    topo = np.r_[0., 0., 100.],\n",
    "    depth = depth,\n",
    "    frequency = np.array([382, 1822, 7970, 35920, 130100], dtype=float)\n",
    ")\n",
    "\n",
    "sig_half = 1e-2\n",
    "sig_blk = 1e0\n",
    "chi_half = 0.\n",
    "wires = Maps.Wires(('sigma', mesh1D.nC),('h', 1))\n",
    "expmap = Maps.ExpMap(mesh1D)\n",
    "# expmap_h = Maps.ExpMap(nP=1)\n",
    "sigmaMap = expmap * wires.sigma\n",
    "# hMap = expmap_h*wires.h\n",
    "sig  = np.ones(FDsurvey.n_layer)*sig_half\n",
    "blk_ind = (-50>LocSigZ) & (-100<LocSigZ)\n",
    "sig[blk_ind] = sig_blk\n",
    "m_true = np.r_[np.log(sig), FDsurvey.h]\n",
    "m_true_dh = np.r_[np.log(sig), FDsurvey.h + 5.]\n",
    "dh = 0.01\n",
    "m_dx_p = np.r_[np.log(sig), FDsurvey.h+dh/2]\n",
    "m_dx_n = np.r_[np.log(sig), FDsurvey.h-dh/2]"
   ]
  },
  {
   "cell_type": "code",
   "execution_count": 2,
   "metadata": {},
   "outputs": [
    {
     "name": "stdout",
     "output_type": "stream",
     "text": [
      ">> Use Key 101 filter for Hankel Tranform\n",
      ">> Compute response\n",
      ">> Compute response\n",
      ">> Compute response\n",
      ">> Compute response\n"
     ]
    }
   ],
   "source": [
    "prob = EM1D(\n",
    "    mesh1D, sigmaMap=sigmaMap, hMap=wires.h, filter_type='key_101',\n",
    "    jacSwitch=True,\n",
    "    chi= np.zeros(FDsurvey.n_layer),\n",
    "    verbose=True\n",
    ")\n",
    "if prob.ispaired:\n",
    "    prob.unpair()\n",
    "if FDsurvey.ispaired:\n",
    "    FDsurvey.unpair()\n",
    "prob.pair(FDsurvey)     \n",
    "d_true = FDsurvey.dpred(m_true)\n",
    "d_p = FDsurvey.dpred(m_dx_p)\n",
    "d_n = FDsurvey.dpred(m_dx_n)\n",
    "d_dh = FDsurvey.dpred(m_true_dh)"
   ]
  },
  {
   "cell_type": "code",
   "execution_count": 3,
   "metadata": {},
   "outputs": [
    {
     "name": "stdout",
     "output_type": "stream",
     "text": [
      ">> Compute J height \n"
     ]
    },
    {
     "data": {
      "text/plain": [
       "[<matplotlib.lines.Line2D at 0x11aeac588>]"
      ]
     },
     "execution_count": 3,
     "metadata": {},
     "output_type": "execute_result"
    },
    {
     "data": {
      "image/png": "[encoded data removed]",
      "text/plain": [
       "<matplotlib.figure.Figure at 0x10e1de390>"
      ]
     },
     "metadata": {},
     "output_type": "display_data"
    }
   ],
   "source": [
    "J_h_diff = (d_p-d_n) / (dh)\n",
    "plt.plot(J_h_diff, 'k')\n",
    "plt.plot(prob.getJ_height(m_true), 'bx')"
   ]
  },
  {
   "cell_type": "code",
   "execution_count": 4,
   "metadata": {},
   "outputs": [
    {
     "data": {
      "image/png": "[encoded data removed]",
      "text/plain": [
       "<matplotlib.figure.Figure at 0x10e1de2e8>"
      ]
     },
     "metadata": {},
     "output_type": "display_data"
    }
   ],
   "source": [
    "fig, axes = plt.subplots(1,1, figsize = (7,5))\n",
    "axes.plot(FDsurvey.frequency, -d_true[0:FDsurvey.n_frequency], 'k.-')\n",
    "axes.plot(FDsurvey.frequency, -d_true[FDsurvey.n_frequency:], 'b.-')\n",
    "axes.plot(FDsurvey.frequency, -d_dh[0:FDsurvey.n_frequency], 'kx')\n",
    "axes.plot(FDsurvey.frequency, -d_dh[FDsurvey.n_frequency:], 'bx')\n",
    "\n",
    "axes.set_xscale('log')"
   ]
  },
  {
   "cell_type": "code",
   "execution_count": 5,
   "metadata": {},
   "outputs": [],
   "source": [
    "from SimPEG import Regularization"
   ]
  },
  {
   "cell_type": "code",
   "execution_count": 6,
   "metadata": {
    "scrolled": false
   },
   "outputs": [
    {
     "name": "stdout",
     "output_type": "stream",
     "text": [
      "SimPEG.DataMisfit.l2_DataMisfit assigning default eps of 1e-5 * ||dobs||\n",
      "SimPEG.InvProblem will set Regularization.mref to m0.\n",
      "SimPEG.InvProblem will set Regularization.mref to m0.\n",
      "\n",
      "    SimPEG.InvProblem is setting bfgsH0 to the inverse of the eval2Deriv.\n",
      "    ***Done using same Solver and solverOpts as the problem***\n",
      ">> Compute response\n",
      ">> Compute J sigma\n",
      ">> Compute J height \n",
      "model has any nan: 0\n",
      "=============================== Projected GNCG ===============================\n",
      "  #     beta     phi_d     phi_m       f      |proj(x-g)-x|  LS    Comment   \n",
      "-----------------------------------------------------------------------------\n",
      "x0 has any nan: 0\n",
      ">> Compute response\n",
      "   0  5.62e+00  2.19e+02  0.00e+00  2.19e+02    6.25e+01      0              \n"
     ]
    },
    {
     "name": "stderr",
     "output_type": "stream",
     "text": [
      "/Users/sgkang/Projects/simpeg/SimPEG/Directives.py:896: UserWarning: Without a Linear preconditioner, convergence may be slow. Consider adding `Directives.UpdatePreconditioner` to your directives list\n",
      "  \"Without a Linear preconditioner, convergence may be slow. \"\n"
     ]
    },
    {
     "name": "stdout",
     "output_type": "stream",
     "text": [
      ">> Compute response\n",
      ">> Compute J sigma\n",
      ">> Compute J height \n",
      "   1  5.62e+00  1.55e+02  2.74e+00  1.70e+02    3.90e+01      0              \n",
      ">> Compute response\n",
      ">> Compute J sigma\n",
      ">> Compute J height \n",
      "   2  2.81e+00  1.35e+02  4.32e+00  1.47e+02    1.55e+01      0              \n",
      ">> Compute response\n",
      ">> Compute J sigma\n",
      ">> Compute J height \n",
      "   3  2.81e+00  9.24e+01  1.18e+01  1.26e+02    1.40e+01      0              \n",
      ">> Compute response\n",
      ">> Compute J sigma\n",
      ">> Compute J height \n",
      "   4  1.41e+00  7.74e+01  1.47e+01  9.80e+01    1.39e+01      0              \n",
      ">> Compute response\n",
      ">> Compute J sigma\n",
      ">> Compute J height \n",
      "   5  1.41e+00  5.57e+01  2.17e+01  8.63e+01    9.59e+00      0              \n",
      ">> Compute response\n",
      ">> Compute J sigma\n",
      ">> Compute J height \n",
      "   6  7.03e-01  4.29e+01  2.63e+01  6.14e+01    1.58e+01      0   Skip BFGS  \n",
      ">> Compute response\n",
      ">> Compute J sigma\n",
      ">> Compute J height \n",
      "   7  7.03e-01  1.52e+01  3.84e+01  4.22e+01    9.45e+00      0              \n",
      ">> Compute response\n",
      ">> Compute J sigma\n",
      ">> Compute J height \n",
      "   8  3.51e-01  5.56e+00  4.47e+01  2.12e+01    6.70e+00      0              \n",
      ">> Compute response\n",
      "Reached starting chifact with l2-norm regularization: Start IRLS steps...\n",
      "eps_p: 5.65666909541573 eps_q: 5.65666909541573\n",
      "eps_p: 5.65666909541573 eps_q: 5.65666909541573\n",
      ">> Fix Jmatrix\n",
      "Eps_p: 4.713890912846442\n",
      "Eps_q: 4.713890912846442\n",
      "Eps_p: 4.713890912846442\n",
      "Eps_q: 4.713890912846442\n",
      "delta phim:    inf\n",
      ">> Compute J sigma\n",
      ">> Compute J height \n",
      "   9  3.51e-01  2.76e+00  5.96e+01  2.37e+01    1.87e+00      0   Skip BFGS  \n",
      ">> Compute response\n",
      ">> Fix Jmatrix\n",
      "Eps_p: 3.928242427372035\n",
      "Eps_q: 3.928242427372035\n",
      "Eps_p: 3.928242427372035\n",
      "Eps_q: 3.928242427372035\n",
      "delta phim: 6.267e-01\n",
      "  10  5.89e-01  3.69e+00  5.66e+01  3.70e+01    3.90e+00      0              \n",
      ">> Compute response\n",
      ">> Fix Jmatrix\n",
      "Eps_p: 3.2735353561433627\n",
      "Eps_q: 3.2735353561433627\n",
      "Eps_p: 3.2735353561433627\n",
      "Eps_q: 3.2735353561433627\n",
      "delta phim: 1.518e-01\n",
      "  11  3.65e-01  6.77e+00  5.13e+01  2.55e+01    2.18e+00      0              \n",
      ">> Compute response\n",
      ">> Fix Jmatrix\n",
      "Eps_p: 2.727946130119469\n",
      "Eps_q: 2.727946130119469\n",
      "Eps_p: 2.727946130119469\n",
      "Eps_q: 2.727946130119469\n",
      "delta phim: 3.482e-02\n",
      "  12  2.28e-01  6.67e+00  5.11e+01  1.83e+01    3.72e+00      0              \n",
      ">> Compute response\n",
      ">> Fix Jmatrix\n",
      "Eps_p: 2.2732884417662245\n",
      "Eps_q: 2.2732884417662245\n",
      "Eps_p: 2.2732884417662245\n",
      "Eps_q: 2.2732884417662245\n",
      "delta phim: 1.865e-01\n",
      "  13  2.28e-01  5.12e+00  5.32e+01  1.72e+01    2.90e+00      0              \n",
      ">> Compute response\n",
      ">> Fix Jmatrix\n",
      "Eps_p: 1.8944070348051871\n",
      "Eps_q: 1.8944070348051871\n",
      "Eps_p: 1.8944070348051871\n",
      "Eps_q: 1.8944070348051871\n",
      "delta phim: 1.244e-01\n",
      "  14  2.28e-01  5.25e+00  5.09e+01  1.69e+01    3.39e+00      0              \n",
      ">> Compute response\n",
      ">> Fix Jmatrix\n",
      "Eps_p: 1.5786725290043226\n",
      "Eps_q: 1.5786725290043226\n",
      "Eps_p: 1.5786725290043226\n",
      "Eps_q: 1.5786725290043226\n",
      "delta phim: 5.437e-02\n",
      "  15  2.28e-01  5.02e+00  4.98e+01  1.64e+01    1.02e+00      0              \n",
      ">> Compute response\n",
      ">> Fix Jmatrix\n",
      "Eps_p: 1.3155604408369357\n",
      "Eps_q: 1.3155604408369357\n",
      "Eps_p: 1.3155604408369357\n",
      "Eps_q: 1.3155604408369357\n",
      "delta phim: 3.872e-02\n",
      "  16  2.28e-01  4.92e+00  4.80e+01  1.59e+01    9.01e-01      0              \n",
      ">> Compute response\n",
      ">> Fix Jmatrix\n",
      "Eps_p: 1.0963003673641132\n",
      "Eps_q: 1.0963003673641132\n",
      "Eps_p: 1.0963003673641132\n",
      "Eps_q: 1.0963003673641132\n",
      "delta phim: 3.532e-02\n",
      "  17  2.28e-01  4.71e+00  4.63e+01  1.53e+01    1.07e+00      0              \n",
      ">> Compute response\n",
      ">> Fix Jmatrix\n",
      "Eps_p: 0.9135836394700944\n",
      "Eps_q: 0.9135836394700944\n",
      "Eps_p: 0.9135836394700944\n",
      "Eps_q: 0.9135836394700944\n",
      "delta phim: 3.033e-02\n",
      "  18  3.57e-01  4.41e+00  4.51e+01  2.05e+01    1.78e+00      0              \n",
      ">> Compute response\n",
      ">> Fix Jmatrix\n",
      "Reach maximum number of IRLS cycles: 10\n",
      "------------------------- STOP! -------------------------\n",
      "1 : |fc-fOld| = 0.0000e+00 <= tolF*(1+|f0|) = 2.1970e+01\n",
      "1 : |xc-x_last| = 2.0359e-01 <= tolX*(1+|x0|) = 4.1348e+00\n",
      "0 : |proj(x-g)-x|    = 1.7849e+00 <= tolG          = 1.0000e-01\n",
      "0 : |proj(x-g)-x|    = 1.7849e+00 <= 1e3*eps       = 1.0000e-02\n",
      "0 : maxIter   =      20    <= iter          =     19\n",
      "------------------------- DONE! -------------------------\n"
     ]
    }
   ],
   "source": [
    "FDsurvey.dtrue = d_true\n",
    "std = 0.07\n",
    "floor = 0.\n",
    "np.random.seed(1)\n",
    "uncert = std*abs(FDsurvey.dtrue)+floor\n",
    "noise = std*FDsurvey.dtrue*np.random.randn(FDsurvey.dtrue.size)\n",
    "FDsurvey.dobs = FDsurvey.dtrue+noise\n",
    "dmisfit = DataMisfit.l2_DataMisfit(FDsurvey)\n",
    "dmisfit.W = 1./(abs(FDsurvey.dobs)*std+floor)\n",
    "m0 = np.r_[np.log(np.ones_like(sig)*sig_half), 35.]\n",
    "reg_sigma = Regularization.Sparse(\n",
    "    mesh1D, mapping=wires.sigma\n",
    ")\n",
    "p=0.\n",
    "qx, qz = 2., 2.\n",
    "reg_sigma.norms = np.c_[p, qx, qz, 0.]\n",
    "IRLS = Directives.Update_IRLS(\n",
    "    maxIRLSiter=10, minGNiter=1, fix_Jmatrix=True, coolingRate=2, \n",
    "    betaSearch=False,\n",
    "    chifact_start = 1.\n",
    ")\n",
    "mesh_h = Mesh.TensorMesh([1])\n",
    "reg_h = Regularization.Sparse(\n",
    "    mesh_h, mapping=wires.h, \n",
    "    alpha_s = 1.\n",
    ")\n",
    "reg = reg_sigma + reg_h\n",
    "opt = Optimization.ProjectedGNCG(maxIter = 20)\n",
    "opt.maxIterLS = 5\n",
    "invProb = InvProblem.BaseInvProblem(dmisfit, reg, opt)\n",
    "beta = Directives.BetaSchedule(coolingFactor=2, coolingRate=2)\n",
    "betaest = Directives.BetaEstimate_ByEig(beta0_ratio=1.)\n",
    "target = Directives.TargetMisfit()\n",
    "# inv = Inversion.BaseInversion(invProb, directiveList=[beta,betaest, target])\n",
    "inv = Inversion.BaseInversion(invProb, directiveList=[IRLS,betaest])\n",
    "\n",
    "prob.counter = opt.counter = Utils.Counter()\n",
    "opt.LSshorten = 0.5\n",
    "opt.remember('xc')\n",
    "mopt = inv.run(m0)"
   ]
  },
  {
   "cell_type": "code",
   "execution_count": 7,
   "metadata": {},
   "outputs": [
    {
     "name": "stdout",
     "output_type": "stream",
     "text": [
      "[35.]\n",
      "[30.62228625]\n",
      "30.0\n"
     ]
    }
   ],
   "source": [
    "print (wires.h*m0)\n",
    "print (wires.h*mopt)\n",
    "print (FDsurvey.h)"
   ]
  },
  {
   "cell_type": "code",
   "execution_count": 8,
   "metadata": {},
   "outputs": [
    {
     "name": "stdout",
     "output_type": "stream",
     "text": [
      "Populating the interactive namespace from numpy and matplotlib\n"
     ]
    },
    {
     "name": "stderr",
     "output_type": "stream",
     "text": [
      "/Users/sgkang/anaconda2/envs/simpeg/lib/python3.6/site-packages/IPython/core/magics/pylab.py:160: UserWarning: pylab import has clobbered these variables: ['std', 'beta', 'inv', 'floor', 'pi', 'axes']\n",
      "`%matplotlib` prevents importing * from pylab and numpy\n",
      "  \"\\n`%matplotlib` prevents importing * from pylab and numpy\"\n"
     ]
    },
    {
     "data": {
      "text/plain": [
       "[<matplotlib.lines.Line2D at 0x118326f98>]"
      ]
     },
     "execution_count": 8,
     "metadata": {},
     "output_type": "execute_result"
    },
    {
     "data": {
      "image/png": "[encoded data removed]",
      "text/plain": [
       "<matplotlib.figure.Figure at 0x11b08cc88>"
      ]
     },
     "metadata": {},
     "output_type": "display_data"
    }
   ],
   "source": [
    "%pylab inline\n",
    "fig, ax = subplots(1,1, figsize=(5, 8))\n",
    "Utils1D.plotLayer(sig, LocSigZ, showlayers=False)\n",
    "Utils1D.plotLayer(sigmaMap*mopt, LocSigZ, showlayers=True,xlim=(1e-6, 1e0), **{'color':'r'})\n",
    "# Utils1D.plotLayer(expmap*invProb.l2model, LocSigZ, showlayers=True,xlim=(1e-6, 1e0), **{'color':'r'})"
   ]
  },
  {
   "cell_type": "code",
   "execution_count": 9,
   "metadata": {
    "scrolled": false
   },
   "outputs": [],
   "source": [
    "# !python run_em1d.py"
   ]
  },
  {
   "cell_type": "code",
   "execution_count": 10,
   "metadata": {},
   "outputs": [
    {
     "data": {
      "image/png": "[encoded data removed]",
      "text/plain": [
       "<matplotlib.figure.Figure at 0x11b39a518>"
      ]
     },
     "metadata": {},
     "output_type": "display_data"
    }
   ],
   "source": [
    "fig, axes = subplots(1,1, figsize = (7,5))\n",
    "axes.plot(FDsurvey.frequency, -d_true[0:FDsurvey.n_frequency], 'k.-')\n",
    "axes.plot(FDsurvey.frequency, -d_true[FDsurvey.n_frequency:], 'b.-')\n",
    "axes.plot(FDsurvey.frequency, -FDsurvey.dobs[0:FDsurvey.n_frequency], 'ko')\n",
    "axes.plot(FDsurvey.frequency, -FDsurvey.dobs[FDsurvey.n_frequency:], 'bo')\n",
    "# axes.plot(FDsurvey.frequency, uncert[0:FDsurvey.n_frequency], 'k*')\n",
    "# axes.plot(FDsurvey.frequency, uncert[FDsurvey.n_frequency:], 'r*')\n",
    "axes.set_xscale('log')"
   ]
  }
 ],
 "metadata": {
  "kernelspec": {
   "display_name": "Python 3",
   "language": "python",
   "name": "python3"
  },
  "language_info": {
   "codemirror_mode": {
    "name": "ipython",
    "version": 3
   },
   "file_extension": ".py",
   "mimetype": "text/x-python",
   "name": "python",
   "nbconvert_exporter": "python",
   "pygments_lexer": "ipython3",
   "version": "3.6.4"
  }
 },
 "nbformat": 4,
 "nbformat_minor": 1
}
