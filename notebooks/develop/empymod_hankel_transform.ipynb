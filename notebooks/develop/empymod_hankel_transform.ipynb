{
 "cells": [
  {
   "cell_type": "code",
   "execution_count": 20,
   "metadata": {},
   "outputs": [
    {
     "name": "stdout",
     "output_type": "stream",
     "text": [
      "Populating the interactive namespace from numpy and matplotlib\n"
     ]
    },
    {
     "name": "stderr",
     "output_type": "stream",
     "text": [
      "/Users/sgkang/anaconda2/envs/simpeg/lib/python3.6/site-packages/IPython/core/magics/pylab.py:160: UserWarning: pylab import has clobbered these variables: ['pi', 'ioff']\n",
      "`%matplotlib` prevents importing * from pylab and numpy\n",
      "  \"\\n`%matplotlib` prevents importing * from pylab and numpy\"\n"
     ]
    }
   ],
   "source": [
    "from SimPEG import Mesh, Maps\n",
    "from simpegEM1D import *\n",
    "import numpy as np\n",
    "%pylab inline\n",
    "\n",
    "nearthick = np.logspace(-1, 1, 5)\n",
    "deepthick = np.logspace(1, 2, 10)\n",
    "hx = np.r_[nearthick, deepthick]\n",
    "mesh1D = Mesh.TensorMesh([hx], [0.])\n",
    "depth = -mesh1D.gridN[:-1]\n",
    "LocSigZ = -mesh1D.gridCC\n",
    "nlay = depth.size\n",
    "topo = np.r_[0., 0., 30.]\n",
    "\n",
    "FDsurvey = EM1DSurveyFD(\n",
    "    rx_location = np.array([0., 0., 30.]),\n",
    "    src_location = np.array([0., 0., 30.]),\n",
    "    field_type = 'secondary',\n",
    "    rx_type = 'Hz',\n",
    "    src_type = 'VMD',\n",
    "    depth = depth,\n",
    "    topo = topo,\n",
    "    frequency = np.r_[100.],\n",
    "    offset = np.r_[8.]\n",
    ")\n",
    "\n",
    "sig_half = 1e-2\n",
    "chi_half = 0.\n",
    "Expmap = Maps.ExpMap(mesh1D)\n",
    "\n",
    "# Conductivity\n",
    "prob = EM1D(\n",
    "    mesh1D, sigmaMap=Expmap, jacSwitch=False,\n",
    "    chi=np.zeros(FDsurvey.n_layer)\n",
    ")\n",
    "if prob.ispaired:\n",
    "    prob.unpair()\n",
    "if FDsurvey.ispaired:\n",
    "    FDsurvey.unpair()\n",
    "prob.pair(FDsurvey)\n",
    "m_1D = np.log(np.ones(nlay)*sig_half)\n",
    "Hz = FDsurvey.dpred(m_1D)"
   ]
  },
  {
   "cell_type": "code",
   "execution_count": 21,
   "metadata": {},
   "outputs": [
    {
     "name": "stdout",
     "output_type": "stream",
     "text": [
      "204 4\n"
     ]
    }
   ],
   "source": [
    "import numpy as np\n",
    "from scipy.interpolate import InterpolatedUnivariateSpline as iuSpline\n",
    "from empymod.filters import key_201_2009 as fhtfilt  # Chance this to your choice\n",
    "\n",
    "\n",
    "def get_spline_values(filt, inp):\n",
    "    \"\"\"Return required calculation points.\"\"\"\n",
    "\n",
    "    # Number per decade from filter.factor\n",
    "    nr_per_dec = 1/np.log(filt.factor)\n",
    "\n",
    "    # Get min and max required out-values (depends on filter and inp-value)\n",
    "    outmax = filt.base[-1]/inp.min()\n",
    "    outmin = filt.base[0]/inp.max()\n",
    "\n",
    "    # Number of out-values\n",
    "    nout = int(np.ceil(np.log(outmax/outmin)*nr_per_dec) + 1)\n",
    "    # The cubic InterpolatedUnivariateSpline needs at least 4 points\n",
    "    if nout-filt.base.size < 3:\n",
    "        nout = filt.base.size+3\n",
    "\n",
    "    # Calculate output values\n",
    "    out = np.exp(np.arange(np.log(outmin), np.log(outmin) + nout/nr_per_dec,\n",
    "                           1/nr_per_dec))\n",
    "\n",
    "    # Only necessary if standard spline is used. We need to calculate the new\n",
    "    # input values, as spline is carried out in the input domain. Else spline\n",
    "    # is carried out in output domain and the new input values are not used.\n",
    "    new_inp = inp.max()*np.exp(-np.arange(nout - filt.base.size + 1) /\n",
    "                               nr_per_dec)\n",
    "\n",
    "    # Return output values\n",
    "    return np.atleast_2d(out), new_inp\n",
    "\n",
    "# 1. COMPUTE REQUIRED LAMBDAS for given hankel-filter-base\n",
    "\n",
    "from empymod.filters import key_201_2009\n",
    "fht_filter = key_201_2009()\n",
    "off = FDsurvey.offset\n",
    "lambd, ioff = get_spline_values(fht_filter, off)\n",
    "print (lambd.size, ioff.size)"
   ]
  },
  {
   "cell_type": "code",
   "execution_count": 22,
   "metadata": {},
   "outputs": [
    {
     "data": {
      "text/plain": [
       "array([8.        , 7.42937355, 6.89944892, 6.40732291])"
      ]
     },
     "execution_count": 22,
     "metadata": {},
     "output_type": "execute_result"
    }
   ],
   "source": [
    "ioff"
   ]
  },
  {
   "cell_type": "code",
   "execution_count": 23,
   "metadata": {},
   "outputs": [],
   "source": [
    "PJ0 = prob.hz_kernel_vertical_magnetic_dipole(\n",
    "    lambd/FDsurvey.offset, FDsurvey.frequency, FDsurvey.n_layer,\n",
    "    prob.sigma, prob.chi, FDsurvey.depth, FDsurvey.h, FDsurvey.z,\n",
    "    'secondary', output_type='response'\n",
    ")"
   ]
  },
  {
   "cell_type": "code",
   "execution_count": 24,
   "metadata": {},
   "outputs": [],
   "source": [
    "# PJ0 = np.empty((off.size, lambd.size), dtype=complex)\n",
    "# PJ1 = np.empty((off.size, lambd.size), dtype=complex)"
   ]
  },
  {
   "cell_type": "code",
   "execution_count": 25,
   "metadata": {},
   "outputs": [],
   "source": [
    "# 2. CALL THE KERNEL\n",
    "# Here comes your PJ0, PJ1 calculation\n",
    "\n",
    "def rearrange_PJ(PJ, noff, nfilt):\n",
    "    \"\"\"Return re-arranged PJ with shape (noff, nlambd).\n",
    "        Each row starts one 'lambda' higher.\"\"\"\n",
    "    outarr = np.concatenate((np.tile(PJ, noff).squeeze(), np.zeros(noff)))\n",
    "    return outarr.reshape(noff, -1)[:, :nfilt]\n",
    "\n",
    "PJ0 = rearrange_PJ(PJ0, ioff.size, fht_filter.base.size)\n",
    "# PJ1 = rearrange_PJ(PJ1, ioff.size, fht_filter.base.size)\n",
    "\n",
    "# 3. DLF\n",
    "# EM_int = np.dot(PJ1, fht_filter.j1)/ioff + np.dot(PJ0, fht_filter.j0)\n",
    "EM_int = np.dot(PJ0, fht_filter.j0)\n",
    "\n",
    "# 4. Interpolation\n",
    "real_EM = iuSpline(np.log10(ioff[::-1]), EM_int.real[::-1])\n",
    "imag_EM = iuSpline(np.log10(ioff[::-1]), EM_int.imag[::-1])\n",
    "fEM = real_EM(np.log10(off)) + 1j*imag_EM(np.log10(off))\n",
    "\n",
    "# Normalize by offset\n",
    "\n",
    "fEM /= off"
   ]
  },
  {
   "cell_type": "code",
   "execution_count": 26,
   "metadata": {},
   "outputs": [
    {
     "name": "stdout",
     "output_type": "stream",
     "text": [
      "[-3.27993936e-10 -1.93020685e-08]\n",
      "[-2.35807444e-09-1.69832723e-08j]\n"
     ]
    }
   ],
   "source": [
    "print (Hz)\n",
    "print (fEM)"
   ]
  },
  {
   "cell_type": "code",
   "execution_count": 27,
   "metadata": {},
   "outputs": [],
   "source": [
    "iuSpline??"
   ]
  },
  {
   "cell_type": "code",
   "execution_count": null,
   "metadata": {},
   "outputs": [],
   "source": []
  }
 ],
 "metadata": {
  "kernelspec": {
   "display_name": "Python 3",
   "language": "python",
   "name": "python3"
  },
  "language_info": {
   "codemirror_mode": {
    "name": "ipython",
    "version": 3
   },
   "file_extension": ".py",
   "mimetype": "text/x-python",
   "name": "python",
   "nbconvert_exporter": "python",
   "pygments_lexer": "ipython3",
   "version": "3.6.4"
  }
 },
 "nbformat": 4,
 "nbformat_minor": 2
}
