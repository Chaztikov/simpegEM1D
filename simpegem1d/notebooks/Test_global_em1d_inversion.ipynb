{
 "cells": [
  {
   "cell_type": "code",
   "execution_count": 1,
   "metadata": {},
   "outputs": [
    {
     "name": "stdout",
     "output_type": "stream",
     "text": [
      "Populating the interactive namespace from numpy and matplotlib\n"
     ]
    }
   ],
   "source": [
    "from SimPEG import Mesh, Maps\n",
    "import numpy as np\n",
    "from matplotlib.colors import LogNorm\n",
    "from simpegem1d import (\n",
    "    GlobalEM1DProblemFD, GlobalEM1DSurveyFD, get_vertical_discretization_frequency\n",
    ")\n",
    "from pymatsolver import PardisoSolver\n",
    "%pylab inline"
   ]
  },
  {
   "cell_type": "markdown",
   "metadata": {},
   "source": [
    "# Seting up a 2D mesh and model"
   ]
  },
  {
   "cell_type": "code",
   "execution_count": 2,
   "metadata": {},
   "outputs": [],
   "source": [
    "frequency = np.array([382, 1822, 7970, 35920, 130100], dtype=float)\n",
    "hz = get_vertical_discretization_frequency(frequency, sigma_background=0.01)"
   ]
  },
  {
   "cell_type": "code",
   "execution_count": 3,
   "metadata": {},
   "outputs": [],
   "source": [
    "from scipy.spatial import Delaunay\n",
    "def PolygonInd(mesh, pts):\n",
    "    hull = Delaunay(pts)\n",
    "    inds = hull.find_simplex(mesh.gridCC)>=0\n",
    "    return inds"
   ]
  },
  {
   "cell_type": "code",
   "execution_count": 4,
   "metadata": {},
   "outputs": [],
   "source": [
    "n_sounding = 20\n",
    "dx = 20.\n",
    "hx = np.ones(n_sounding) * dx\n",
    "mesh = Mesh.TensorMesh([hx, hz], x0='00')\n",
    "inds =  mesh.gridCC[:,1]<25\n",
    "sigma = np.ones(mesh.nC) * 1./100.\n",
    "sigma[inds] = 1./50.\n",
    "x0 = np.r_[0., 75.]\n",
    "x1 = np.r_[dx*n_sounding, 75.]\n",
    "x2 = np.r_[dx*n_sounding, 90.]\n",
    "x3 = np.r_[0., 200.]\n",
    "pts = np.vstack((x0, x1, x2, x3, x0))\n",
    "poly_inds = PolygonInd(mesh, pts)\n",
    "sigma[poly_inds] = 0.1\n",
    "sigma_em1d = sigma.reshape(mesh.vnC, order='F').flatten()"
   ]
  },
  {
   "cell_type": "code",
   "execution_count": 5,
   "metadata": {},
   "outputs": [
    {
     "data": {
      "image/png": "[encoded data removed]",
      "text/plain": [
       "<matplotlib.figure.Figure at 0x115c552e8>"
      ]
     },
     "metadata": {},
     "output_type": "display_data"
    }
   ],
   "source": [
    "cb = plt.colorbar(\n",
    "    mesh.plotImage(sigma, grid=False, clim=(1e-2, 1e-1),pcolorOpts={\"norm\":LogNorm()})[0],\n",
    "    fraction=0.03, pad=0.04\n",
    ")\n",
    "\n",
    "plt.ylim(mesh.vectorNy.max(), mesh.vectorNy.min())\n",
    "plt.gca().set_aspect(1)"
   ]
  },
  {
   "cell_type": "code",
   "execution_count": 6,
   "metadata": {},
   "outputs": [],
   "source": [
    "x = mesh.vectorCCx\n",
    "y = np.zeros_like(x)\n",
    "z = np.ones_like(x) * 30.\n",
    "rx_locations = np.c_[x, y, z]\n",
    "src_locations = np.c_[x, y, z]\n",
    "topo = np.c_[x, y, z-30.].astype(float)"
   ]
  },
  {
   "cell_type": "code",
   "execution_count": 7,
   "metadata": {},
   "outputs": [],
   "source": [
    "mapping = Maps.ExpMap(mesh)"
   ]
  },
  {
   "cell_type": "code",
   "execution_count": 8,
   "metadata": {},
   "outputs": [
    {
     "name": "stdout",
     "output_type": "stream",
     "text": [
      ">> Use multiprocessing for parallelization\n",
      ">> n_cpu: 2\n"
     ]
    }
   ],
   "source": [
    "survey = GlobalEM1DSurveyFD(\n",
    "    rx_locations = rx_locations,\n",
    "    src_locations = src_locations,    \n",
    "    frequency = frequency,\n",
    "    offset = np.ones_like(frequency) * 7.86,\n",
    "    src_type = \"VMD\",\n",
    "    rx_type = \"Hz\",\n",
    "    field_type = 'secondary',\n",
    "    topo = topo    \n",
    ")\n",
    "prob = GlobalEM1DProblemFD(\n",
    "    [], sigmaMap=mapping, hz=hz, parallel=True, n_cpu=2, verbose=True,\n",
    "    Solver=PardisoSolver\n",
    ")\n",
    "prob.pair(survey)"
   ]
  },
  {
   "cell_type": "code",
   "execution_count": 9,
   "metadata": {},
   "outputs": [],
   "source": [
    "m = np.log(sigma_em1d)"
   ]
  },
  {
   "cell_type": "code",
   "execution_count": 10,
   "metadata": {},
   "outputs": [
    {
     "name": "stdout",
     "output_type": "stream",
     "text": [
      "Compute fields\n",
      ">> Compute response\n",
      "CPU times: user 14.1 ms, sys: 17.7 ms, total: 31.8 ms\n",
      "Wall time: 226 ms\n"
     ]
    }
   ],
   "source": [
    "%%time\n",
    "dobs = survey.dpred(m)"
   ]
  },
  {
   "cell_type": "code",
   "execution_count": null,
   "metadata": {},
   "outputs": [],
   "source": []
  },
  {
   "cell_type": "code",
   "execution_count": 11,
   "metadata": {},
   "outputs": [
    {
     "data": {
      "text/plain": [
       "(200,)"
      ]
     },
     "execution_count": 11,
     "metadata": {},
     "output_type": "execute_result"
    }
   ],
   "source": [
    "dobs.shape"
   ]
  },
  {
   "cell_type": "code",
   "execution_count": 12,
   "metadata": {},
   "outputs": [
    {
     "data": {
      "text/plain": [
       "200"
      ]
     },
     "execution_count": 12,
     "metadata": {},
     "output_type": "execute_result"
    }
   ],
   "source": [
    "prob.n_sounding * survey.n_frequency * 2"
   ]
  },
  {
   "cell_type": "code",
   "execution_count": 13,
   "metadata": {},
   "outputs": [],
   "source": [
    "DOBS = dobs.reshape(( prob.n_sounding, 2, survey.n_frequency))"
   ]
  },
  {
   "cell_type": "code",
   "execution_count": 14,
   "metadata": {},
   "outputs": [
    {
     "data": {
      "image/png": "[encoded data removed]",
      "text/plain": [
       "<matplotlib.figure.Figure at 0x117e149e8>"
      ]
     },
     "metadata": {},
     "output_type": "display_data"
    }
   ],
   "source": [
    "for i_freq in range(survey.n_frequency):\n",
    "    plt.semilogy(mesh.vectorCCx, -DOBS[:,0,i_freq], 'k')\n",
    "for i_freq in range(survey.n_frequency):\n",
    "    plt.semilogy(mesh.vectorCCx, -DOBS[:,1,i_freq], 'r')    "
   ]
  },
  {
   "cell_type": "code",
   "execution_count": 15,
   "metadata": {},
   "outputs": [],
   "source": [
    "from SimPEG import (\n",
    "    Regularization, Directives, Inversion, InvProblem, Optimization, DataMisfit, Utils\n",
    ")"
   ]
  },
  {
   "cell_type": "code",
   "execution_count": 16,
   "metadata": {},
   "outputs": [],
   "source": [
    "mesh_reg = Mesh.TensorMesh([mesh.hy, mesh.hx])"
   ]
  },
  {
   "cell_type": "code",
   "execution_count": 17,
   "metadata": {
    "scrolled": false
   },
   "outputs": [
    {
     "name": "stdout",
     "output_type": "stream",
     "text": [
      "SimPEG.DataMisfit.l2_DataMisfit assigning default eps of 1e-5 * ||dobs||\n",
      "SimPEG.InvProblem will set Regularization.mref to m0.\n",
      "\n",
      "    SimPEG.InvProblem is setting bfgsH0 to the inverse of the eval2Deriv.\n",
      "    ***Done using same Solver and solverOpts as the problem***\n",
      "Compute fields\n",
      ">> Compute response\n"
     ]
    },
    {
     "name": "stderr",
     "output_type": "stream",
     "text": [
      "/Users/sgkang/Projects/simpeg/SimPEG/Directives.py:896: UserWarning: Without a Linear preconditioner, convergence may be slow. Consider adding `Directives.UpdatePreconditioner` to your directives list\n",
      "  \"Without a Linear preconditioner, convergence may be slow. \"\n"
     ]
    },
    {
     "name": "stdout",
     "output_type": "stream",
     "text": [
      ">> Compute J\n",
      "model has any nan: 0\n",
      "============================ Inexact Gauss Newton ============================\n",
      "  #     beta     phi_d     phi_m       f      |proj(x-g)-x|  LS    Comment   \n",
      "-----------------------------------------------------------------------------\n",
      "x0 has any nan: 0\n",
      "   0  1.11e+01  5.26e+03  0.00e+00  5.26e+03    8.27e+02      0              \n",
      "Compute fields\n",
      ">> Compute response\n",
      ">> Compute J\n",
      "   1  5.54e+00  8.58e+02  5.05e+01  1.14e+03    1.99e+02      0              \n",
      "Compute fields\n",
      ">> Compute response\n",
      ">> Compute J\n",
      "   2  2.77e+00  5.27e+02  6.69e+01  7.12e+02    4.16e+01      0              \n",
      "Compute fields\n",
      ">> Compute response\n",
      ">> Compute J\n",
      "   3  1.38e+00  2.55e+02  1.16e+02  4.15e+02    3.45e+01      0   Skip BFGS  \n",
      "Compute fields\n",
      ">> Compute response\n",
      "Reached starting chifact with l2-norm regularization: Start IRLS steps...\n",
      "eps_p: 1.8116878613055976 eps_q: 1.8116878613055976\n",
      ">> Fix Jmatrix\n",
      "Eps_p: 1.5097398844213314\n",
      "Eps_q: 1.5097398844213314\n",
      "delta phim:    inf\n",
      ">> Compute J\n",
      "   4  6.92e-01  8.77e+01  2.40e+02  2.54e+02    4.92e+01      0   Skip BFGS  \n",
      "Compute fields\n",
      ">> Compute response\n",
      ">> Fix Jmatrix\n",
      "Eps_p: 1.2581165703511097\n",
      "Eps_q: 1.2581165703511097\n",
      "delta phim: 5.788e-01\n",
      "   5  1.44e+00  4.65e+01  3.01e+02  4.78e+02    6.06e+01      0              \n",
      "Compute fields\n",
      ">> Compute response\n",
      ">> Fix Jmatrix\n",
      "Eps_p: 1.0484304752925915\n",
      "Eps_q: 1.0484304752925915\n",
      "delta phim: 2.865e-01\n",
      "   6  2.40e+00  7.47e+01  2.64e+02  7.08e+02    8.50e+01      0              \n",
      "Compute fields\n",
      ">> Compute response\n",
      ">> Fix Jmatrix\n",
      "Eps_p: 0.8736920627438263\n",
      "Eps_q: 0.8736920627438263\n",
      "delta phim: 1.026e-01\n",
      "   7  2.40e+00  9.22e+01  2.51e+02  6.94e+02    1.00e+02      0              \n",
      "Compute fields\n",
      ">> Compute response\n",
      ">> Fix Jmatrix\n",
      "Eps_p: 0.7280767189531886\n",
      "Eps_q: 0.7280767189531886\n",
      "delta phim: 1.423e-01\n",
      "   8  2.40e+00  9.78e+01  2.47e+02  6.89e+02    8.50e+01      0   Skip BFGS  \n",
      "Compute fields\n",
      ">> Compute response\n",
      ">> Fix Jmatrix\n",
      "Eps_p: 0.6067305991276571\n",
      "Eps_q: 0.6067305991276571\n",
      "delta phim: 1.479e-01\n",
      "   9  2.40e+00  9.46e+01  2.44e+02  6.79e+02    9.47e+01      0              \n",
      "Compute fields\n",
      ">> Compute response\n",
      ">> Fix Jmatrix\n",
      "Eps_p: 0.505608832606381\n",
      "Eps_q: 0.505608832606381\n",
      "delta phim: 1.434e-01\n",
      "  10  2.40e+00  1.01e+02  2.30e+02  6.52e+02    1.02e+02      0   Skip BFGS  \n",
      "Compute fields\n",
      ">> Compute response\n",
      ">> Fix Jmatrix\n",
      "Eps_p: 0.42134069383865086\n",
      "Eps_q: 0.42134069383865086\n",
      "delta phim: 1.082e-01\n",
      "  11  2.40e+00  9.67e+01  2.19e+02  6.22e+02    1.05e+02      0   Skip BFGS  \n",
      "Compute fields\n",
      ">> Compute response\n",
      ">> Fix Jmatrix\n",
      "Eps_p: 0.3511172448655424\n",
      "Eps_q: 0.3511172448655424\n",
      "delta phim: 9.828e-02\n",
      "  12  2.40e+00  9.01e+01  2.06e+02  5.84e+02    1.06e+02      0              \n",
      "Compute fields\n",
      ">> Compute response\n",
      ">> Fix Jmatrix\n",
      "Eps_p: 0.2925977040546187\n",
      "Eps_q: 0.2925977040546187\n",
      "delta phim: 7.926e-02\n",
      "  13  3.83e+00  8.37e+01  1.91e+02  8.17e+02    1.42e+02      0              \n",
      "Compute fields\n",
      ">> Compute response\n",
      ">> Fix Jmatrix\n",
      "Reach maximum number of IRLS cycles: 10\n",
      "------------------------- STOP! -------------------------\n",
      "1 : |fc-fOld| = 0.0000e+00 <= tolF*(1+|f0|) = 5.2640e+02\n",
      "1 : |xc-x_last| = 6.8684e-01 <= tolX*(1+|x0|) = 9.0771e+00\n",
      "0 : |proj(x-g)-x|    = 1.4243e+02 <= tolG          = 1.0000e-01\n",
      "0 : |proj(x-g)-x|    = 1.4243e+02 <= 1e3*eps       = 1.0000e-02\n",
      "0 : maxIter   =      20    <= iter          =     14\n",
      "------------------------- DONE! -------------------------\n",
      "CPU times: user 2.34 s, sys: 490 ms, total: 2.83 s\n",
      "Wall time: 10.4 s\n"
     ]
    }
   ],
   "source": [
    "%%time\n",
    "std = 0.05\n",
    "floor = 0.\n",
    "np.random.seed(1)\n",
    "uncert = std*abs(dobs)+floor\n",
    "survey.dobs = dobs.copy()\n",
    "m0 = np.ones(mesh.nC) * np.log(1./100.)\n",
    "dmisfit = DataMisfit.l2_DataMisfit(survey)\n",
    "regmap = Maps.IdentityMap(mesh)\n",
    "# mapping is required ... for IRLS\n",
    "reg = Regularization.Sparse(\n",
    "    mesh_reg, mapping=regmap,\n",
    "    alpha_s=1.,\n",
    "    alpha_x = 2.,\n",
    "    alpha_y = 2.,    \n",
    ")\n",
    "p = 0\n",
    "qx, qz = 1., 1.\n",
    "reg.norms = np.c_[p, qx, qz, 0.]\n",
    "IRLS = Directives.Update_IRLS(\n",
    "    maxIRLSiter=10, minGNiter=1, fix_Jmatrix=True, betaSearch=False\n",
    ")\n",
    "opt = Optimization.InexactGaussNewton(maxIter = 20)\n",
    "invProb = InvProblem.BaseInvProblem(dmisfit, reg, opt)\n",
    "beta = Directives.BetaSchedule(coolingFactor=2, coolingRate=1)\n",
    "betaest = Directives.BetaEstimate_ByEig(beta0_ratio=1.)\n",
    "target = Directives.TargetMisfit()\n",
    "# inv = Inversion.BaseInversion(invProb, directiveList=[beta,betaest,target])\n",
    "inv = Inversion.BaseInversion(invProb, directiveList=[IRLS,betaest])\n",
    "prob.counter = opt.counter = Utils.Counter()\n",
    "opt.LSshorten = 0.5\n",
    "opt.remember('xc')\n",
    "mopt = inv.run(m0)"
   ]
  },
  {
   "cell_type": "code",
   "execution_count": 18,
   "metadata": {},
   "outputs": [],
   "source": [
    "sigma_est = Utils.mkvc((np.exp(mopt)).reshape((prob.n_sounding, prob.n_layer)))\n",
    "sigma_est_l2 = Utils.mkvc((np.exp(invProb.l2model)).reshape((prob.n_sounding, prob.n_layer)))"
   ]
  },
  {
   "cell_type": "code",
   "execution_count": 19,
   "metadata": {},
   "outputs": [],
   "source": [
    "import matplotlib\n",
    "matplotlib.rcParams['font.size'] = 14"
   ]
  },
  {
   "cell_type": "code",
   "execution_count": 20,
   "metadata": {},
   "outputs": [
    {
     "data": {
      "text/plain": [
       "Text(0.5,1,'Laterally-contrained model: L0 L2')"
      ]
     },
     "execution_count": 20,
     "metadata": {},
     "output_type": "execute_result"
    },
    {
     "data": {
      "image/png": "[encoded data removed]",
      "text/plain": [
       "<matplotlib.figure.Figure at 0x117f56a58>"
      ]
     },
     "metadata": {},
     "output_type": "display_data"
    },
    {
     "data": {
      "image/png": "[encoded data removed]",
      "text/plain": [
       "<matplotlib.figure.Figure at 0x118069a20>"
      ]
     },
     "metadata": {},
     "output_type": "display_data"
    },
    {
     "data": {
      "image/png": "[encoded data removed]",
      "text/plain": [
       "<matplotlib.figure.Figure at 0x117ee6b70>"
      ]
     },
     "metadata": {},
     "output_type": "display_data"
    }
   ],
   "source": [
    "cb = plt.colorbar(\n",
    "    mesh.plotImage(\n",
    "        sigma, grid=True, clim=(1e-2, 1e-1),pcolorOpts={\"norm\":LogNorm()},\n",
    "        gridOpts={'alpha':0.2, 'color':'grey'}\n",
    "    )[0],\n",
    "    fraction=0.02, pad=0.04\n",
    ")\n",
    "\n",
    "plt.ylim(mesh.vectorNy.max(), mesh.vectorNy.min())\n",
    "plt.gca().set_aspect(0.5)\n",
    "\n",
    "plt.title(\"True model\")\n",
    "\n",
    "cb = plt.colorbar(\n",
    "    mesh.plotImage(\n",
    "        sigma_est_l2, grid=True, clim=(1e-2, 1e-1),pcolorOpts={\"norm\":LogNorm()},\n",
    "        gridOpts={'alpha':0.2, 'color':'grey'}\n",
    "    )[0],\n",
    "    fraction=0.02, pad=0.04\n",
    ")\n",
    "plt.title(\"Laterally-contrained model: L2 L2\")\n",
    "plt.ylim(mesh.vectorNy.max(), mesh.vectorNy.min())\n",
    "plt.gca().set_aspect(0.5)\n",
    "\n",
    "\n",
    "cb = plt.colorbar(\n",
    "    mesh.plotImage(\n",
    "        sigma_est, grid=True, clim=(1e-2, 1e-1), pcolorOpts={\"norm\":LogNorm()},\n",
    "        gridOpts={'alpha':0.2, 'color':'grey'}\n",
    "    )[0],\n",
    "    fraction=0.02, pad=0.04\n",
    ")\n",
    "plt.ylim(mesh.vectorNy.max(), mesh.vectorNy.min())\n",
    "plt.gca().set_aspect(0.5)\n",
    "plt.title(\"Laterally-contrained model: L0 L2\")"
   ]
  }
 ],
 "metadata": {
  "kernelspec": {
   "display_name": "Python 3",
   "language": "python",
   "name": "python3"
  },
  "language_info": {
   "codemirror_mode": {
    "name": "ipython",
    "version": 3
   },
   "file_extension": ".py",
   "mimetype": "text/x-python",
   "name": "python",
   "nbconvert_exporter": "python",
   "pygments_lexer": "ipython3",
   "version": "3.6.4"
  }
 },
 "nbformat": 4,
 "nbformat_minor": 2
}
